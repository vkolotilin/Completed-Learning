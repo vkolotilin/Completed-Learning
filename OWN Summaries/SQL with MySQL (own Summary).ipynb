{
 "cells": [
  {
   "cell_type": "markdown",
   "id": "73c46589-ced9-476e-a003-c41e3851b3e7",
   "metadata": {},
   "source": [
    "# 1. Data Types (and associated expressions)"
   ]
  },
  {
   "cell_type": "markdown",
   "id": "86c98b62-ae58-45cc-8bfb-3a5e4543fd90",
   "metadata": {},
   "source": [
    "## 1.1 Numeric Data"
   ]
  },
  {
   "cell_type": "markdown",
   "id": "ec973028-7803-41d6-9237-80a3b61fb1e2",
   "metadata": {},
   "source": [
    "| Data Type     | Storage | Signed Range                       | Unsigned Range                     |\n",
    "|---------------|---------|------------------------------------|------------------------------------|\n",
    "| `TINYINT`     | 1 byte  | -128 to 127                        | 0 to 255                           |\n",
    "| `SMALLINT`    | 2 bytes | -32,768 to 32,767                  | 0 to 65,535                        |\n",
    "| `MEDIUMINT`   | 3 bytes | -8,388,608 to 8,388,607            | 0 to 16,777,215                    |\n",
    "| `INT`         | 4 bytes | -2,147,483,648 to 2,147,483,647    | 0 to 4,294,967,295                 |\n",
    "| `BIGINT`      | 8 bytes | -9,223,372,036,854,775,808 to   9,223,372,036,854,775,807     | 0 to 18,446,744,073,709,551,615    |\n",
    "| `DECIMAL`     | Varies  | Depends on precision and scale     | Depends on precision and scale     |\n",
    "| `NUMERIC`     | Varies  | Depends on precision and scale     | Depends on precision and scale     |\n",
    "| `FLOAT(p, s)`       | 4 bytes | ~-3.402823466E+38 to ~3.402823466E+38 | 0 to ~3.402823466E+38             |\n",
    "| `DOUBLE(p, s)`      | 8 bytes | ~-1.7976931348623157E+308 to ~1.7976931348623157E+308      | 0 to ~1.7976931348623157E+308      |\n",
    "| `BIT`         | Varies  | 0 to 2^n-1 (n = number of bits)    | 0 to 2^n-1 (n = number of bits)    |\n",
    "\n",
    "__Precision__ (p) - total number of allowable digits (sum of digits before and after the decimal point)  \n",
    "__Scale__ (s) - total number of allowable digits to the right of decimal point  \n",
    "__p__ ans __s__ are optional, not required\n",
    "\n",
    "To shift from **Signed Range** to **Unsigned range** you need to specify its type:\n",
    "- **While Creating Table**:\n",
    "```sql\n",
    "CREATE TABLE table_name (\n",
    "    column_name INT UNSIGNED);\n",
    "```\n",
    "- **Change existing column type with `MODIFY` Clause**:\n",
    "```sql\n",
    "ALTER TABLE table_name\n",
    "MODIFY COLUMN column_name INT UNSIGNED;\n",
    "```\n",
    "- **Change existing column type and its name with `CHANGE` Clause**:\n",
    "```sql\n",
    "ALTER TABLE table_name\n",
    "CHANGE column_name new_column_name INT UNSIGNED;\n",
    "```"
   ]
  },
  {
   "cell_type": "markdown",
   "id": "17612574-65ce-46d9-83a5-10c10f4a5ffa",
   "metadata": {},
   "source": [
    "### 1.1.1 Numeric Operations on Numeric Data"
   ]
  },
  {
   "cell_type": "markdown",
   "id": "34620282-1d96-4dbd-a5fa-f0301353e06f",
   "metadata": {},
   "source": [
    "#### 1.1.1.1 Arithmetic Operations"
   ]
  },
  {
   "cell_type": "markdown",
   "id": "f318b043-461b-4373-bbbd-f980746df086",
   "metadata": {},
   "source": [
    "| Operation | Symbol | Example SQL Query                                       | Description                                    |\n",
    "|-----------|--------|---------------------------------------------------------|------------------------------------------------|\n",
    "| Addition  | `+`    | `SELECT price + 10 AS new_price FROM products;`         | Adds two numbers.                              |\n",
    "| Subtraction | `-`  | `SELECT price - 5 AS discounted_price FROM products;`   | Subtracts one number from another.             |\n",
    "| Multiplication | `*`| `SELECT price * 1.2 AS increased_price FROM products;`  | Multiplies two numbers.                        |\n",
    "| Division   | `/`   | `SELECT price / 2 AS half_price FROM products;`         | Divides one number by another.                 |\n",
    "| Modulus    | `%`   | `SELECT price % 3 AS remainder FROM products;`          | Finds the remainder of division.               |"
   ]
  },
  {
   "cell_type": "markdown",
   "id": "c4c71d3c-f65c-4bf0-ae26-36947cc76df6",
   "metadata": {},
   "source": [
    "#### 1.1.1.2 Comparison Operations"
   ]
  },
  {
   "cell_type": "markdown",
   "id": "9551c70e-bc3e-4078-bbfd-8fc692f35786",
   "metadata": {},
   "source": [
    "| Operation        | Symbol | Example SQL Query                                 | Description                                  |\n",
    "|------------------|--------|---------------------------------------------------|----------------------------------------------|\n",
    "| Equal to         | `=`    | `SELECT * FROM products WHERE price = 100;`       | Checks if two values are equal.              |\n",
    "| Not equal to     | `!=` or `<>` | `SELECT * FROM products WHERE price != 100;` | Checks if two values are not equal.          |\n",
    "| Greater than     | `>`    | `SELECT * FROM products WHERE price > 100;`       | Checks if one value is greater than another. |\n",
    "| Less than        | `<`    | `SELECT * FROM products WHERE price < 100;`       | Checks if one value is less than another.    |\n",
    "| Greater than or equal to | `>=` | `SELECT * FROM products WHERE price >= 100;` | Checks if one value is greater than or equal to another. |\n",
    "| Less than or equal to | `<=` | `SELECT * FROM products WHERE price <= 100;`   | Checks if one value is less than or equal to another. |"
   ]
  },
  {
   "cell_type": "markdown",
   "id": "0a67ca44-c424-437d-ab16-a4e14cf0d958",
   "metadata": {},
   "source": [
    "#### 1.1.1.3 Aggregate Functions"
   ]
  },
  {
   "cell_type": "markdown",
   "id": "81c3bdd4-fbd2-48d6-b7ee-c369db58cb4c",
   "metadata": {},
   "source": [
    "| Function | Example SQL Query                             | Description                              |\n",
    "|----------|-----------------------------------------------|------------------------------------------|\n",
    "| SUM()    | `SELECT SUM(price) AS total_price FROM products;`  | Calculates the total sum of a column.    |\n",
    "| AVG()    | `SELECT AVG(price) AS average_price FROM products;`| Calculates the average value of a column.|\n",
    "| MIN()    | `SELECT MIN(price) AS minimum_price FROM products;`| Finds the minimum value in a column.     |\n",
    "| MAX()    | `SELECT MAX(price) AS maximum_price FROM products;`| Finds the maximum value in a column.     |\n",
    "| COUNT()  | `SELECT COUNT(*) AS product_count FROM products;`  | Counts the number of rows.               |"
   ]
  },
  {
   "cell_type": "markdown",
   "id": "edb4800f-de95-4829-81fc-6bb14326b21b",
   "metadata": {},
   "source": [
    "#### 1.1.1.4 Mathematical Functions"
   ]
  },
  {
   "cell_type": "markdown",
   "id": "bbacf828-2c00-43a6-b3e3-a4969e513e2b",
   "metadata": {},
   "source": [
    "| Function   | Example SQL Query                               | Description                                  |\n",
    "|------------|-------------------------------------------------|----------------------------------------------|\n",
    "| ABS()      | `SELECT ABS(-1) AS absolute_value;`             | Returns the absolute value.                  |\n",
    "| CEILING()  | `SELECT CEILING(1.5) AS ceiling_value;`         | Returns the smallest integer greater than or equal to a value. |\n",
    "| FLOOR()    | `SELECT FLOOR(1.5) AS floor_value;`             | Returns the largest integer less than or equal to a value. |\n",
    "| ROUND()    | `SELECT ROUND(1.2345, 2) AS rounded_value;`     | Rounds a number to a specified number of decimal places. |\n",
    "| POWER()    | `SELECT POWER(2, 3) AS power_value;`            | Returns a number raised to the power of another number. |\n",
    "| SQRT()     | `SELECT SQRT(16) AS square_root;`               | Returns the square root of a number.         |\n",
    "| MOD()      | `SELECT MOD(10, 3) AS remainder;`               | Returns the remainder of a division.         |"
   ]
  },
  {
   "cell_type": "markdown",
   "id": "03729b96-e8b5-4f2f-b714-f7d8f64eccb5",
   "metadata": {},
   "source": [
    "#### 1.1.1.5 Bitwise Operations"
   ]
  },
  {
   "cell_type": "markdown",
   "id": "a73e860c-7918-4643-a2e9-b071ef4ed2a6",
   "metadata": {},
   "source": [
    "| Operation     | Symbol | Example SQL Query                       | Description                              |\n",
    "|---------------|--------|-----------------------------------------|------------------------------------------|\n",
    "| AND           | `&`    | `SELECT 5 & 3 AS bitwise_and;`          | Performs a bitwise AND operation.        |\n",
    "| OR            | `\\|`    | `SELECT 5 \\| 3 AS bitwise_or;`           | Performs a bitwise OR operation.         |\n",
    "| XOR           | `^`    | `SELECT 5 ^ 3 AS bitwise_xor;`          | Performs a bitwise XOR operation.        |\n",
    "| NOT           | `~`    | `SELECT ~5 AS bitwise_not;`             | Performs a bitwise NOT operation.        |\n",
    "| Shift Left    | `<<`   | `SELECT 1 << 2 AS shift_left;`          | Shifts bits to the left.                 |\n",
    "| Shift Right   | `>>`   | `SELECT 4 >> 1 AS shift_right;`         | Shifts bits to the right.                |"
   ]
  },
  {
   "cell_type": "markdown",
   "id": "6b683b9a-dfb8-40ff-a729-2bd88fb8cdc9",
   "metadata": {},
   "source": [
    "#### 1.1.1.6 Examples"
   ]
  },
  {
   "cell_type": "markdown",
   "id": "d35660d7-aeca-402e-9811-0412f2864365",
   "metadata": {},
   "source": [
    "1. **Calculating Total and Average Prices**\n",
    "   ```sql\n",
    "   SELECT SUM(price) AS total_price, AVG(price) AS average_price FROM products;\n",
    "   ```\n",
    "\n",
    "2. **Discount Calculation**\n",
    "   ```sql\n",
    "   SELECT product_name, price, price * 0.9 AS discounted_price FROM products;\n",
    "   ```\n",
    "\n",
    "3. **Finding Maximum and Minimum Prices**\n",
    "   ```sql\n",
    "   SELECT MAX(price) AS max_price, MIN(price) AS min_price FROM products;\n",
    "   ```\n",
    "\n",
    "4. **Filtering by Price Range**\n",
    "   ```sql\n",
    "   SELECT * FROM products WHERE price BETWEEN 100 AND 200;\n",
    "   ```\n",
    "\n",
    "5. **Bitwise Operations for Permissions**\n",
    "   ```sql\n",
    "   SELECT user_id, permissions & 1 AS can_read, permissions & 2 AS can_write FROM users;\n",
    "   ```"
   ]
  },
  {
   "cell_type": "markdown",
   "id": "c1b48194-826f-442c-ad57-6df987bbaee1",
   "metadata": {},
   "source": [
    "### 1.1.2  Converting Numeric Data Types to Other Types"
   ]
  },
  {
   "cell_type": "markdown",
   "id": "ae451506-c11e-4e3f-9adb-88f790a1b7e0",
   "metadata": {},
   "source": [
    "| **Function** | **Purpose**                          | **Syntax**                                        | **Example**                                          |\n",
    "|--------------|--------------------------------------|---------------------------------------------------|------------------------------------------------------|\n",
    "| `CAST()`     | Convert numeric to specified type    | `CAST(expression AS target_type)`                 | `SELECT CAST(price AS CHAR) AS price_text FROM products;` |\n",
    "| `CONVERT()`  | Convert numeric to specified type    | `CONVERT(expression, target_type)`                | `SELECT CONVERT(price, CHAR) AS price_text FROM products;` |\n",
    "| `FORMAT()`   | Format numeric values as strings     | `FORMAT(number, decimal_places)`                  | `SELECT FORMAT(price, 2) AS formatted_price FROM products;` |\n",
    "| `ROUND()`    | Round numeric value to specified places | `ROUND(number, decimal_places)`                   | `SELECT ROUND(price, 2) AS rounded_price FROM products;` |"
   ]
  },
  {
   "cell_type": "markdown",
   "id": "3f260d24-6308-4cde-9d8e-6492a12e62c0",
   "metadata": {
    "jp-MarkdownHeadingCollapsed": true
   },
   "source": [
    "### 1.1.3  Converting Numeric Data Types to Other Types"
   ]
  },
  {
   "cell_type": "markdown",
   "id": "b4604d73-b10f-43bc-9b6e-993dffde5df8",
   "metadata": {},
   "source": [
    "ta Types**\r\n",
    "\r\n",
    "| **Function**          | **Purpose**                        | **Syntax**                                          | **Example**                                             |\r\n",
    "|-----------------------|------------------------------------|-----------------------------------------------------|---------------------------------------------------------|\r\n",
    "| `CAST()`              | Convert non-numeric to numeric type | `CAST(expression AS target_type)`                   | `SELECT CAST(some_string AS DECIMAL(10,2)) AS numeric_value FROM table_name;` |\r\n",
    "| `CONVERT()`           | Convert non-numeric to numeric type | `CONVERT(expression, target_type)`                  | `SELECT CONVERT(some_string, DECIMAL(10,2)) AS numeric_value FROM table_name;` |\r\n",
    "| `UNIX_TIMESTAMP()`    | Convert date/time to UNIX timestamp | `UNIX_TIMESTAMP(date_time_value)`                   | `SELECT UNIX_TIMESTAMP(NOW()) AS current_timestamp;` |\r\n",
    "| `CONVERT_TZ()`        | Convert datetime to another timezone | `CONVERT_TZ(date_time_value, from_timezone, to_timezone)` | `SELECT UNIX_TIMESTAMP(CONVERT_TZ(NOW(), 'UTC', 'America/New_York')) Asyntax and examples."
   ]
  },
  {
   "cell_type": "markdown",
   "id": "9da4f48f-5c3c-4a77-b023-cc748b4d582a",
   "metadata": {
    "jp-MarkdownHeadingCollapsed": true
   },
   "source": [
    "### 1.1.4  Date and Time Calculations"
   ]
  },
  {
   "cell_type": "markdown",
   "id": "f2e1b2d9-c608-4d90-84d8-f913ca94dedd",
   "metadata": {},
   "source": [
    "| **Function**       | **Purpose**                                      | **Syntax**                                                | **Example**                                            |\n",
    "|--------------------|--------------------------------------------------|-----------------------------------------------------------|--------------------------------------------------------|\n",
    "| `DATE_ADD()`       | Adds a time interval to a date                  | `DATE_ADD(date, INTERVAL value unit)`                     | `SELECT DATE_ADD(NOW(), INTERVAL 10 DAY) AS future_date;` |\n",
    "| `DATE_SUB()`       | Subtracts a time interval from a date            | `DATE_SUB(date, INTERVAL value unit)`                     | `SELECT DATE_SUB(NOW(), INTERVAL 1 MONTH) AS past_date;` |\n",
    "| `DATEDIFF()`       | Calculates the difference between two dates in days | `DATEDIFF(date1, date2)`                                 | `SELECT DATEDIFF(NOW(), '2024-01-01') AS days_difference;` |\n",
    "| `TIMESTAMPDIFF()`  | Calculates the difference between two dates in various units | `TIMESTAMPDIFF(unit, date1, date2)`                      | `SELECT TIMESTAMPDIFF(DAY, '2024-01-01', NOW()) AS days_difference;` |\n",
    "| `NOW()`            | Returns the current date and time                | `NOW()`                                                   | `SELECT NOW() AS current_datetime;`                    |\n",
    "| `CURDATE()`        | Returns the current date                        | `CURDATE()`                                               | `SELECT CURDATE() AS current_date;`                    |\n",
    "| `CURTIME()`        | Returns the current time                        | `CURTIME()`                                               | `SELECT CURTIME() AS current_time;`                    |\n",
    "| `ADDDATE()`        | Adds a time interval to a date (similar to `DATE_ADD()`) | `ADDDATE(date, INTERVAL value unit)`                      | `SELECT ADDDATE(NOW(), INTERVAL 10 DAY) AS future_date;` |\n",
    "| `SUBDATE()`        | Subtracts a time interval from a date (similar to `DATE_SUB()`) | `SUBDATE(date, INTERVAL value unit)`                      | `SELECT SUBDATE(NOW(), INTERVAL 1 MONTH) AS past_date;` |\n",
    "| `EXTRACT()`        | Extracts a specific part of a date or time       | `EXTRACT(unit FROM date)`                                | `SELECT EXTRACT(YEAR FROM NOW()) AS current_year;`     |"
   ]
  },
  {
   "cell_type": "markdown",
   "id": "ec1b6728-dc5e-48f9-99c5-95830784e426",
   "metadata": {},
   "source": [
    "## 1.2 Character and String Data"
   ]
  },
  {
   "cell_type": "markdown",
   "id": "fbb189bb-bd7d-40a8-93be-3ec3e17f7234",
   "metadata": {},
   "source": [
    "character and string data types are used to store textual data. These data types include various methods for manipulation, conversion, and querying of string data."
   ]
  },
  {
   "cell_type": "markdown",
   "id": "d03d4120-39b8-48d5-8e2e-5b80abcbed5f",
   "metadata": {},
   "source": [
    "| **Data Type** | **Description**                                  | **Examples**                        |\n",
    "|---------------|--------------------------------------------------|-------------------------------------|\n",
    "| `CHAR(n)`     | Fixed-length string with `n` characters         | `CHAR(10)`                          |\n",
    "| `VARCHAR(n)`  | Variable-length string with a maximum of `n` characters | `VARCHAR(255)`                      |\n",
    "| `TEXT`        | Large text field, up to 65,535 bytes            | `TEXT`                               |\n",
    "| `MEDIUMTEXT`  | Medium-sized text field, up to 16,777,215 bytes | `MEDIUMTEXT`                         |\n",
    "| `LONGTEXT`    | Very large text field, up to 4,294,967,295 bytes | `LONGTEXT`                           |\n",
    "| `TINYBLOB`    | Very small binary large object, up to 255 bytes  | `TINYBLOB`                           |\n",
    "| `BLOB`        | Binary large object, up to 65,535 bytes          | `BLOB`                               |\n",
    "| `MEDIUMBLOB`  | Medium-sized binary large object, up to 16,777,215 bytes | `MEDIUMBLOB`                         |\n",
    "| `LONGBLOB`    | Very large binary large object, up to 4,294,967,295 bytes | `LONGBLOB`                           |\n",
    "| `BINARY(n)`   | Fixed-length binary string with `n` bytes        | `BINARY(10)`                         |\n",
    "| `VARBINARY(n)`| Variable-length binary string with a maximum of `n` bytes | `VARBINARY(255)`                    |"
   ]
  },
  {
   "cell_type": "markdown",
   "id": "d5ab98bb-8fb4-477e-bdf7-90ce24868919",
   "metadata": {},
   "source": [
    "### 1.2.1 String Operations"
   ]
  },
  {
   "cell_type": "markdown",
   "id": "ca1e5227-8e48-40af-8968-bff98a890576",
   "metadata": {
    "jp-MarkdownHeadingCollapsed": true
   },
   "source": [
    "#### 1.2.1.1 String Functions"
   ]
  },
  {
   "cell_type": "markdown",
   "id": "6332a850-9257-43bf-8983-5d33ebcb478e",
   "metadata": {},
   "source": [
    "| **Function**          | **Purpose**                                | **Syntax**                                                | **Example**                                            |\n",
    "|-----------------------|--------------------------------------------|-----------------------------------------------------------|--------------------------------------------------------|\n",
    "| `CHAR_LENGTH()`       | Returns the number of characters in a string | `CHAR_LENGTH(string)`                                    | `SELECT CHAR_LENGTH('Hello') AS length;`             |\n",
    "| `CONCAT()`            | Concatenates two or more strings            | `CONCAT(string1, string2, ...)`                           | `SELECT CONCAT('Hello', ' ', 'World') AS greeting;`  |\n",
    "| `SUBSTRING()`         | Extracts a substring from a string          | `SUBSTRING(string, start, length)`                       | `SELECT SUBSTRING('Hello World', 1, 5) AS part;`     |\n",
    "| `LEFT()`              | Returns the left part of a string           | `LEFT(string, length)`                                   | `SELECT LEFT('Hello World', 5) AS left_part;`        |\n",
    "| `RIGHT()`             | Returns the right part of a string          | `RIGHT(string, length)`                                  | `SELECT RIGHT('Hello World', 5) AS right_part;`      |\n",
    "| `REPLACE()`           | Replaces occurrences of a substring         | `REPLACE(string, old_substring, new_substring)`           | `SELECT REPLACE('Hello World', 'World', 'MySQL') AS replaced;` |\n",
    "| `TRIM()`              | Removes leading and trailing spaces          | `TRIM(string)`                                           | `SELECT TRIM('   Hello World   ') AS trimmed;`      |\n",
    "| `UPPER()`             | Converts a string to uppercase               | `UPPER(string)`                                          | `SELECT UPPER('Hello') AS upper_case;`               |\n",
    "| `LOWER()`             | Converts a string to lowercase               | `LOWER(string)`                                          | `SELECT LOWER('HELLO') AS lower_case;`               |\n",
    "| `LENGTH()`            | Returns the length of a string in bytes      | `LENGTH(string)`                                         | `SELECT LENGTH('Hello') AS byte_length;`             |"
   ]
  },
  {
   "cell_type": "markdown",
   "id": "b995b158-2cc5-4af7-8c5d-bbca12bde840",
   "metadata": {
    "jp-MarkdownHeadingCollapsed": true
   },
   "source": [
    "#### 1.2.1.2 Pattern Matching"
   ]
  },
  {
   "cell_type": "markdown",
   "id": "d5b9f635-b99c-413b-839b-cb0a60e05ef6",
   "metadata": {},
   "source": [
    "| **Function**        | **Purpose**                                 | **Syntax**                              | **Example**                                           |\n",
    "|---------------------|---------------------------------------------|-----------------------------------------|-------------------------------------------------------|\n",
    "| `LIKE`              | Performs pattern matching with wildcards    | `column LIKE pattern`                   | `SELECT * FROM users WHERE name LIKE 'A%';`         |\n",
    "| `REGEXP`            | Performs pattern matching with regular expressions | `column REGEXP pattern`                 | `SELECT * FROM users WHERE name REGEXP '^[A-Za-z]';` |\n",
    "| `RLIKE`             | Synonym for `REGEXP`                        | `column RLIKE pattern`                  | `SELECT * FROM users WHERE name RLIKE '[0-9]';`     |"
   ]
  },
  {
   "cell_type": "markdown",
   "id": "7706fe7d-a97f-4d74-b850-1f386abc5bc7",
   "metadata": {},
   "source": [
    "**LIKE** Expressions"
   ]
  },
  {
   "cell_type": "markdown",
   "id": "ed23d659-62e1-485e-b1ad-f5970162792d",
   "metadata": {},
   "source": [
    "| **Wildcard** | **Description**                              | **Example**               | **Matches**                                              | **Does Not Match**                                      |\n",
    "|--------------|----------------------------------------------|---------------------------|----------------------------------------------------------|---------------------------------------------------------|\n",
    "| `%`          | Represents zero or more characters           | `a%`                      | `a`, `abc`, `alphabet`                                   | `b`, `cab`                                              |\n",
    "| `_`          | Represents a single character                | `a_`                      | `ab`, `ac`, `ad`                                         | `a`, `abc`           "
   ]
  },
  {
   "cell_type": "markdown",
   "id": "ce7c8f6b-0652-476e-b69f-8c6bf641d240",
   "metadata": {},
   "source": [
    "Syntax:  \n",
    "```sql\n",
    "SELECT column_name\n",
    "FROM table_name\n",
    "WHERE column_name LIKE pattern;\n",
    "```"
   ]
  },
  {
   "cell_type": "markdown",
   "id": "834e426b-5262-441a-8875-8b7816bf9c37",
   "metadata": {},
   "source": [
    "Examples:  \n",
    "| **Pattern**  | **Description**                        | **Example Query**                                         | **Matches**                                      |\n",
    "|--------------|----------------------------------------|-----------------------------------------------------------|--------------------------------------------------|\n",
    "| `a%`         | Strings starting with 'a'              | `SELECT * FROM users WHERE name LIKE 'a%';`               | `a`, `alice`, `apple`                            |\n",
    "| `%a`         | Strings ending with 'a'                | `SELECT * FROM users WHERE name LIKE '%a';`               | `a`, `anna`, `pa`                                |\n",
    "| `%or%`       | Strings containing 'or'                | `SELECT * FROM users WHERE name LIKE '%or%';`             | `dora`, `forest`, `borrow`                       |\n",
    "| `_a%`        | Strings with 'a' as the second character | `SELECT * FROM users WHERE name LIKE '_a%';`             | `marie`, `carry`, `back`                         |\n",
    "| `__n%`       | Strings with 'n' as the third character | `SELECT * FROM users WHERE name LIKE '__n%';`             | `anna`, `king`, `benny`                          |\n",
    "| `%a_b%`      | Strings with 'a', any character, then 'b' | `SELECT * FROM users WHERE name LIKE '%a_b%';`           | `caleb`, `rabbit`, `table`                       |\n",
    "| `a%o`        | Strings starting "
   ]
  },
  {
   "cell_type": "markdown",
   "id": "55f80970-895f-45ac-b429-e5224709372a",
   "metadata": {},
   "source": [
    "If you need to search for actual `%` or `_` characters in a string, you can use the escape character `\\` or define an escape character using the `ESCAPE` clause.\n",
    "\n",
    "**Example with Escaping:**\n",
    "\n",
    "```sql\n",
    "-- Find strings containing '100%'\n",
    "SELECT * FROM discounts WHERE description LIKE '%100\\%%' ESCAPE '\\';\n",
    "\n",
    "-- Define a custom escape character (e.g., '!')\n",
    "SELECT * FROM discounts WHERE description LIKE '%100!%%' ESCAPE '!';\n",
    "```"
   ]
  },
  {
   "cell_type": "markdown",
   "id": "7c9282bb-83be-4a64-ae4e-c935006cad4b",
   "metadata": {
    "jp-MarkdownHeadingCollapsed": true
   },
   "source": [
    "#### 1.2.1.3 String Comparison and Searching"
   ]
  },
  {
   "cell_type": "markdown",
   "id": "b8d5ea6c-d704-4d87-8d31-751c111b0c02",
   "metadata": {},
   "source": [
    "| **Function**        | **Purpose**                                      | **Syntax**                                | **Example**                                         |\n",
    "|---------------------|--------------------------------------------------|-------------------------------------------|-----------------------------------------------------|\n",
    "| `INSTR()`           | Returns the position of the first occurrence of a substring | `INSTR(string, substring)`                | `SELECT INSTR('Hello World', 'World') AS position;`|\n",
    "| `LOCATE()`          | Returns the position of the first occurrence of a substring | `LOCATE(substring, string)`               | `SELECT LOCATE('World', 'Hello World') AS position;`|\n",
    "| `POSITION()`        | Synonym for `LOCATE()`                          | `POSITION(substring IN string)`           | `SELECT POSITION('World' IN 'Hello World') AS position;`|\n",
    "| `STRCMP()`          | Compares two strings                            | `STRCMP(string1, string2)`                | `SELECT STRCMP('Hello', 'World') AS comparison;`   |"
   ]
  },
  {
   "cell_type": "markdown",
   "id": "25b1d375-6e21-45c7-9bff-75129839097b",
   "metadata": {
    "jp-MarkdownHeadingCollapsed": true
   },
   "source": [
    "### 1.2.2 Regular Expressions in MySQL"
   ]
  },
  {
   "cell_type": "markdown",
   "id": "542ce707-d014-4555-9501-33102c740f8d",
   "metadata": {},
   "source": [
    "`REGEXP` (or its synonym `RLIKE`) allows you to use regular expressions for string matching.\n",
    "\n",
    "| **Function** | **Purpose**                                  | **Syntax**                | **Example**                                        |\n",
    "|--------------|----------------------------------------------|---------------------------|----------------------------------------------------|\n",
    "| `REGEXP`     | Pattern matching using regular expressions  | `column REGEXP pattern`   | `SELECT * FROM users WHERE name REGEXP '^A';`      |\n",
    "| `RLIKE`      | Synonym for `REGEXP`                        | `column RLIKE pattern`    | `SELECT * FROM users WHERE name RLIKE '[0-9]';`    |"
   ]
  },
  {
   "cell_type": "markdown",
   "id": "4c1f497f-c0f2-49f3-8c80-25eb8d09ed9c",
   "metadata": {},
   "source": [
    "**Main Regular Expressions**\n",
    "\n",
    "| **Expression** | **Description**                                          | **Example**                                | **Matches**                                 |\n",
    "|----------------|----------------------------------------------------------|--------------------------------------------|---------------------------------------------|\n",
    "| `.`            | Any single character except newline                      | `a.b`                                      | `aab`, `acb`, `a1b`                         |\n",
    "| `^`            | Start of string                                          | `^abc`                                     | `abc`, `abcdef` (not `xabc`)                |\n",
    "| `$`            | End of string                                            | `abc$`                                     | `abc`, `xyzabc` (not `abcf`)                |\n",
    "| `*`            | Zero or more occurrences of the previous character       | `ab*c`                                     | `ac`, `abc`, `abbc`, `abbbc`                |\n",
    "| `+`            | One or more occurrences of the previous character        | `ab+c`                                     | `abc`, `abbc`, `abbbc` (not `ac`)           |\n",
    "| `?`            | Zero or one occurrence of the previous character         | `ab?c`                                     | `ac`, `abc` (not `abbc`)                    |\n",
    "| `[]`           | Any single character within the brackets                 | `[aeiou]`                                  | `a`, `e`, `i`, `o`, `u`                     |\n",
    "| `[^]`          | Any single character not within the brackets             | `[^aeiou]`                                 | Any consonant                               |\n",
    "| `{}`           | Exactly `n` occurrences of the previous character        | `a{3}`                                     | `aaa`                                       |\n",
    "| `{n,}`         | `n` or more occurrences of the previous character        | `a{2,}`                                    | `aa`, `aaa`, `aaaa`, etc.                   |\n",
    "| `{n,m}`        | Between `n` and `m` occurrences of the previous character | `a{2,4}`                                   | `aa`, `aaa`, `aaaa`                         |\n",
    "| `\\|`            | Alternation (OR)                                         | `abc\\|def`                                  | `abc`, `def`                                |\n",
    "| `()`           | Grouping                                                 | `(abc)+`                                   | `abc`, `abcabc`, `abcabcabc`                |\n",
    "| `\\d`           | Any digit (equivalent to `[0-9]`)                        | `\\d`                                       | `0`, `1`, `2`, ..., `9`                     |\n",
    "| `\\D`           | Any non-digit (equivalent to `[^0-9]`)                   | `\\D`                                       | Any non-digit character                     |\n",
    "| `\\w`           | Any word character (equivalent to `[A-Za-z0-9_]`)        | `\\w`                                       | `a`, `A`, `1`, `_`, etc.                    |\n",
    "| `\\W`           | Any non-word character (equivalent to `[^A-Za-z0-9_]`)   | `\\W`                                       | Any punctuation or special character        |\n",
    "| `\\s`           | Any whitespace character                                 | `\\s`                                       | Space, tab, newline                         |\n",
    "| `\\S`           | Any non-whitespace character                             | `\\S`                                       | Any character except whitespace             |"
   ]
  },
  {
   "cell_type": "markdown",
   "id": "314a0c8c-3d01-4f1e-b2f2-15be2c4d4381",
   "metadata": {},
   "source": [
    "**Example Queries Using Regular Expressions**\n",
    "\n",
    "```sql\n",
    "-- Find all users whose names start with 'A'\n",
    "SELECT * FROM users WHERE name REGEXP '^A';\n",
    "\n",
    "-- Find all users whose names end with 'son'\n",
    "SELECT * FROM users WHERE name REGEXP 'son$';\n",
    "\n",
    "-- Find all users whose names contain any digit\n",
    "SELECT * FROM users WHERE name REGEXP '[0-9]';\n",
    "\n",
    "-- Find all users whose names have exactly three letters followed by 'son'\n",
    "SELECT * FROM users WHERE name REGEXP '^.{3}son$';\n",
    "```"
   ]
  },
  {
   "cell_type": "markdown",
   "id": "3912570a-7e0c-492d-9bb6-390c13fc0ea0",
   "metadata": {
    "jp-MarkdownHeadingCollapsed": true
   },
   "source": [
    "### 1.2.3 Converting String to Other Data Types"
   ]
  },
  {
   "cell_type": "markdown",
   "id": "c60c59b1-0f6f-4b03-b77e-0abd4a4ff876",
   "metadata": {},
   "source": [
    "Integer Conversion\n",
    "\n",
    "| Function                      | Description                               | Example                          | Result  |\n",
    "|-------------------------------|-------------------------------------------|----------------------------------|---------|\n",
    "| `CAST(expression AS SIGNED)`  | Converts a string to an integer           | `CAST('123' AS SIGNED)`          | 123     |\n",
    "| `CONVERT(expression, SIGNED)` | Converts a string to an integer           | `CONVERT('123', SIGNED)`         | 123     |\n",
    "\n",
    "Floating-Point Conversion\n",
    "\n",
    "| Function                          | Description                               | Example                            | Result  |\n",
    "|-----------------------------------|-------------------------------------------|------------------------------------|---------|\n",
    "| `CAST(expression AS DECIMAL(m, d))` | Converts a string to a floating-point number | `CAST('123.45' AS DECIMAL(10, 2))` | 123.45  |\n",
    "| `CONVERT(expression, DECIMAL(m, d))`| Converts a string to a floating-point number | `CONVERT('123.45', DECIMAL(10, 2))`| 123.45  |\n",
    "\n",
    "Date Conversion\n",
    "\n",
    "| Function                            | Description                                    | Example                                     | Result      |\n",
    "|-------------------------------------|------------------------------------------------|---------------------------------------------|-------------|\n",
    "| `STR_TO_DATE(string, format)`       | Converts a string to a date based on the format| `STR_TO_DATE('08/07/2024', '%d/%m/%Y')`     | '2024-07-08'|"
   ]
  },
  {
   "cell_type": "markdown",
   "id": "2f466a7f-91d1-43a3-b14b-6683721560ff",
   "metadata": {
    "jp-MarkdownHeadingCollapsed": true
   },
   "source": [
    "### 1.2.4 Converting Other Data Types to String"
   ]
  },
  {
   "cell_type": "markdown",
   "id": "6a4400a6-0498-4d81-aa1d-3c2acdceb035",
   "metadata": {},
   "source": [
    "Converting String to Other Data Types\n",
    "\n",
    "| Function                      | Description                               | Example                          | Result  |\n",
    "|-------------------------------|-------------------------------------------|----------------------------------|---------|\n",
    "| `CAST(expression AS CHAR)`    | Converts an integer to a string           | `CAST(123 AS CHAR)`              | '123'   |\n",
    "| `CONVERT(expression, CHAR)`   | Converts an integer to a string           | `CONVERT(123, CHAR)`             | '123'   |\n",
    "\n",
    "Floating-Point to String\n",
    "\n",
    "| Function                      | Description                               | Example                          | Result  |\n",
    "|-------------------------------|-------------------------------------------|----------------------------------|---------|\n",
    "| `CAST(expression AS CHAR)`    | Converts a floating-point number to a string | `CAST(123.45 AS CHAR)`           | '123.45'|\n",
    "| `CONVERT(expression, CHAR)`   | Converts a floating-point number to a string | `CONVERT(123.45, CHAR)`          | '123.45'|\n",
    "\n",
    "Date to String\n",
    "\n",
    "| Function                       | Description                               | Example                                           | Result                 |\n",
    "|--------------------------------|-------------------------------------------|---------------------------------------------------|------------------------|\n",
    "| `CAST(expression AS CHAR)`     | Converts a date to a string               | `CAST(NOW() AS CHAR)`                             | '2024-07-08 12:34:56'  |\n",
    "| `CONVERT(expression, CHAR)`    | Converts a date to a string               | `CONVERT(NOW(), CHAR)`                            | '2024-07-08 12:34:56'  |\n",
    "| `DATE_FORMAT(date, format)`    | Converts a date to a string based on format | `DATE_FORMAT('2024-07-08', '%d/%m/%Y')`           | '08/07/2024'           |\n",
    "\n",
    "Summary Table of Conversion Functions\n",
    "\n",
    "| Function                          | Description                                         | Example                                           |\n",
    "|-----------------------------------|-----------------------------------------------------|---------------------------------------------------|\n",
    "| `CAST(expression AS type)`        | Converts `expression` to the specified `type`       | `CAST('123' AS SIGNED)`                           |\n",
    "| `CONVERT(expression, type)`       | Converts `expression` to the specified `type`       | `CONVERT('123', SIGNED)`                          |\n",
    "| `STR_TO_DATE(string, format)`     | Converts `string` to a date based on `format`       | `STR_TO_DATE('08/07/2024', '%d/%m/%Y')`           |\n",
    "| `DATE_FORMAT(date, format)`       | Converts `date` to a string based on `format`       | `DATE_FORMAT('2024-07-08', '%d/%m/%Y')`           |"
   ]
  },
  {
   "cell_type": "markdown",
   "id": "bbe50954-d93f-4c0c-8a6d-3183d5897b6c",
   "metadata": {},
   "source": [
    "## 1.3 Date/Time Data"
   ]
  },
  {
   "cell_type": "markdown",
   "id": "c3f2ff6e-d9b3-4457-ba27-ada31603cca9",
   "metadata": {},
   "source": [
    "| Data Type  | Description                             | Format                | Range                              |\n",
    "|------------|-----------------------------------------|-----------------------|------------------------------------|\n",
    "| DATE       | Date value                              | 'YYYY-MM-DD'          | '1000-01-01' to '9999-12-31'       |\n",
    "| DATETIME   | Date and time value                     | 'YYYY-MM-DD HH:MM:SS' | '1000-01-01 00:00:00' to '9999-12-31 23:59:59' |\n",
    "| TIMESTAMP  | Timestamp value                         | 'YYYY-MM-DD HH:MM:SS' | '1970-01-01 00:00:01' UTC to '2038-01-19 03:14:07' UTC |\n",
    "| TIME       | Time value                              | 'HH:MM:SS'            | '-838:59:59' to '838:59:59'        |\n",
    "| YEAR       | Year value                              | 'YYYY'                | 1901 to 2155                       |"
   ]
  },
  {
   "cell_type": "markdown",
   "id": "b7a20a5c-a236-4fa5-aa87-9135156c1bb4",
   "metadata": {},
   "source": [
    "In general, it is always a good idea to explicitly specify the format string with `str_to_date` function:\n",
    "\n",
    "```sql\n",
    "UPDATE person\n",
    "    SET birth_date = str_to_date('DEC-21-1980' , '%b-%d-%Y')\n",
    "    WHERE person_id = 1;\n",
    "```"
   ]
  },
  {
   "cell_type": "markdown",
   "id": "6a6d33f7-e156-47af-b8ea-96acc3204652",
   "metadata": {},
   "source": [
    "### 1.3.1 Functions for Date and Time"
   ]
  },
  {
   "cell_type": "markdown",
   "id": "4a536607-378e-4b58-8996-b150f80d1471",
   "metadata": {},
   "source": [
    "| Function                | Description                                                      | Example                       |\n",
    "|-------------------------|------------------------------------------------------------------|-------------------------------|\n",
    "| `CURDATE()`             | Returns the current date                                         | `SELECT CURDATE();`           |\n",
    "| `CURTIME()`             | Returns the current time                                         | `SELECT CURTIME();`           |\n",
    "| `NOW()`                 | Returns the current date and time                                | `SELECT NOW();`               |\n",
    "| `DATE()`                | Extracts the date part of a date or datetime expression          | `SELECT DATE('2024-07-08 12:34:56');` |\n",
    "| `TIME()`                | Extracts the time part of a date or datetime expression          | `SELECT TIME('2024-07-08 12:34:56');` |\n",
    "| `YEAR()`                | Extracts the year                                                | `SELECT YEAR('2024-07-08');`  |\n",
    "| `MONTH()`               | Extracts the month                                               | `SELECT MONTH('2024-07-08');` |\n",
    "| `DAY()`                 | Extracts the day of the month                                    | `SELECT DAY('2024-07-08');`   |\n",
    "| `HOUR()`                | Extracts the hour                                                | `SELECT HOUR('12:34:56');`    |\n",
    "| `MINUTE()`              | Extracts the minute                                              | `SELECT MINUTE('12:34:56');`  |\n",
    "| `SECOND()`              | Extracts the second                                              | `SELECT SECOND('12:34:56');`  |\n",
    "| `DATEDIFF()`            | Returns the number of days between two dates                     | `SELECT DATEDIFF('2024-07-08', '2024-07-01');` |\n",
    "| `TIMEDIFF()`            | Returns the difference between two time or datetime expressions  | `SELECT TIMEDIFF('12:34:56', '11:22:33');` |\n",
    "| `DATE_ADD()`            | Adds a time interval to a date                                   | `SELECT DATE_ADD('2024-07-08', INTERVAL 10 DAY);` |\n",
    "| `DATE_SUB()`            | Subtracts a time interval from a date                            | `SELECT DATE_SUB('2024-07-08', INTERVAL 10 DAY);` |\n",
    "| `STR_TO_DATE()`         | Converts a string to a date                                      | `SELECT STR_TO_DATE('01,5,2024','%d,%m,%Y');` |\n",
    "| `DATE_FORMAT()`         | Formats a date according to a specified format                   | `SELECT DATE_FORMAT('2024-07-08', '%W %M %Y');` |\n",
    "| `UNIX_TIMESTAMP()`      | Returns the current timestamp as an integer                      | `SELECT UNIX_TIMESTAMP();`    |\n",
    "| `FROM_UNIXTIME()`       | Converts an integer timestamp to a date                          | `SELECT FROM_UNIXTIME(1625140800);` |"
   ]
  },
  {
   "cell_type": "markdown",
   "id": "f15ed68a-17b9-4d47-a465-c2881255253d",
   "metadata": {
    "jp-MarkdownHeadingCollapsed": true
   },
   "source": [
    "### 1.3.2 Expressions and Formatting"
   ]
  },
  {
   "cell_type": "markdown",
   "id": "1809422d-9706-4906-96eb-cc37285b2e0d",
   "metadata": {},
   "source": [
    "| Specifier | Description             | Example              |\n",
    "|-----------|-------------------------|----------------------|\n",
    "| `%Y`      | Year (4 digits)         | `2024`               |\n",
    "| `%y`      | Year (2 digits)         | `24`                 |\n",
    "| `%m`      | Month (01-12)           | `07`                 |\n",
    "| `%d`      | Day of the month (01-31)| `08`                 |\n",
    "| `%H`      | Hour (00-23)            | `12`                 |\n",
    "| `%i`      | Minutes (00-59)         | `34`                 |\n",
    "| `%s`      | Seconds (00-59)         | `56`                 |\n",
    "| `%W`      | Weekday name            | `Monday`             |\n",
    "| `%M`      | Month name              | `July`               |"
   ]
  },
  {
   "cell_type": "markdown",
   "id": "94e3449a-fb84-428c-b6dd-4fd292c8e098",
   "metadata": {},
   "source": [
    "### 1.3.3 Examples"
   ]
  },
  {
   "cell_type": "markdown",
   "id": "5cedc6cb-2abc-490a-acf1-9bb2480ccec1",
   "metadata": {},
   "source": [
    "1. **Current Date and Time:**\n",
    "    ```sql\n",
    "    SELECT CURDATE();          -- '2024-07-08'\n",
    "    SELECT CURTIME();          -- '12:34:56'\n",
    "    SELECT NOW();              -- '2024-07-08 12:34:56'\n",
    "    ```\n",
    "\n",
    "2. **Extracting Parts of a Date:**\n",
    "    ```sql\n",
    "    SELECT YEAR('2024-07-08'); -- 2024\n",
    "    SELECT MONTH('2024-07-08');-- 7\n",
    "    SELECT DAY('2024-07-08');  -- 8\n",
    "    ```\n",
    "\n",
    "3. **Date Arithmetic:**\n",
    "    ```sql\n",
    "    SELECT DATE_ADD('2024-07-08', INTERVAL 10 DAY); -- '2024-07-18'\n",
    "    SELECT DATE_SUB('2024-07-08', INTERVAL 10 DAY); -- '2024-06-28'\n",
    "    ```\n",
    "\n",
    "4. **Formatting Dates:**\n",
    "    ```sql\n",
    "    SELECT DATE_FORMAT('2024-07-08', '%W %M %Y'); -- 'Monday July 2024'\n",
    "    ```"
   ]
  },
  {
   "cell_type": "markdown",
   "id": "1cd3b832-92e9-4ba1-9432-a0f096ca36a0",
   "metadata": {
    "jp-MarkdownHeadingCollapsed": true
   },
   "source": [
    "## 1.4 Binary Data `INCOMPLETE`"
   ]
  },
  {
   "cell_type": "markdown",
   "id": "2ecf6b9c-9dcf-4ee1-9a30-d104fd2862f6",
   "metadata": {},
   "source": [
    "1.**`BINARY(n)`**:\n",
    "  - **Purpose**: Stores fixed-length binary data.\n",
    "  - **Size**: `n` bytes.\n",
    "  - **Usage**: Ideal for storing binary data such as hashes or binary-encoded values where the length is consistent.\n",
    "  - **Example**:\n",
    "    ```sql\n",
    "    CREATE TABLE files (\n",
    "        file_signature BINARY(16)\n",
    "    );\n",
    "    ```\n",
    "\n",
    "2.**`VARBINARY(n)`**:\n",
    "  - **Purpose**: Stores variable-length binary data.\n",
    "  - **Size**: Up to `n` bytes.\n",
    "  - **Usage**: Suitable for binary data where the length can vary, such as images or files.\n",
    "  - **Example**:\n",
    "    ```sql\n",
    "    CREATE TABLE files (\n",
    "        file_data VARBINARY(255)\n",
    "    );\n",
    "    ```\n",
    "\n",
    "3.**`BLOB`**:\n",
    "  - **Purpose**: Stores large binary objects.\n",
    "  - **Size**: Typically up to 65,535 bytes.\n",
    "  - **Usage**: Used for storing large binary data like files or images.\n",
    "  - **Example**:\n",
    "    ```sql\n",
    "    CREATE TABLE files (\n",
    "        file_content BLOB\n",
    "    );\n",
    "    ```\n",
    "\n",
    "4.**`MEDIUMBLOB`**:\n",
    "  - **Purpose**: Stores medium-sized binary objects.\n",
    "  - **Size**: Up to 16,777,215 bytes.\n",
    "  - **Usage**: For larger binary data where `BLOB` might be insufficient.\n",
    "  - **Example**:\n",
    "    ```sql\n",
    "    CREATE TABLE files (\n",
    "        image MEDIUMBLOB\n",
    "    );\n",
    "    ```\n",
    "\n",
    "5.**`LONGBLOB`**:\n",
    "  - **Purpose**: Stores very large binary objects.\n",
    "  - **Size**: Up to 4,294,967,295 bytes.\n",
    "  - **Usage**: For very large binary data, such as large media files.\n",
    "  - **Example**:\n",
    "    ```sql\n",
    "    CREATE TABLE files (\n",
    "        video LONGBLOB\n",
    "    );\n",
    "    ```"
   ]
  },
  {
   "cell_type": "markdown",
   "id": "73c1c48a-15db-4ba6-9057-994d6416972c",
   "metadata": {
    "jp-MarkdownHeadingCollapsed": true
   },
   "source": [
    "## 1.5 Special Data `INCOMPLETE`"
   ]
  },
  {
   "cell_type": "markdown",
   "id": "ce424258-7c8f-4453-a14a-1e03e6eedc3e",
   "metadata": {},
   "source": [
    "1.**`ENUM`**:\n",
    "  - **Purpose**: Defines a column that can store one value from a predefined list of values.\n",
    "  - **Usage**: Restricts the column to a set of predefined values, useful for enumerated types.\n",
    "  - **Example**:\n",
    "    ```sql\n",
    "    CREATE TABLE orders (\n",
    "        status ENUM('pending', 'shipped', 'delivered', 'cancelled')\n",
    "    );\n",
    "    ```\n",
    "\n",
    "2.**`SET`**:\n",
    "  - **Purpose**: Stores zero or more values from a predefined list. Each value is stored as a bit in a set.\n",
    "  - **Usage**: Allows multiple values from a predefined list, suitable for flags or options.\n",
    "  - **Example**:\n",
    "    ```sql\n",
    "    CREATE TABLE preferences (\n",
    "        contact_methods SET('email', 'sms', 'phone')\n",
    "    );\n",
    "    ```"
   ]
  },
  {
   "cell_type": "markdown",
   "id": "def9ba90-9015-42fb-bdcd-c0cb53da11f2",
   "metadata": {
    "jp-MarkdownHeadingCollapsed": true
   },
   "source": [
    "# 2. Data Definition Language (DDL)"
   ]
  },
  {
   "cell_type": "markdown",
   "id": "275d5eb4-bd58-4dbc-8440-5332ade3875a",
   "metadata": {
    "jp-MarkdownHeadingCollapsed": true
   },
   "source": [
    "## 2.1 Creating Databases"
   ]
  },
  {
   "cell_type": "markdown",
   "id": "7f70e07c-807e-421c-939a-5b93fc7783ba",
   "metadata": {},
   "source": [
    "```sql\n",
    "CREATE DATABASE database_name"
   ]
  },
  {
   "cell_type": "markdown",
   "id": "dfbeed6b-3c8e-4bb5-b67d-feabcce32ea0",
   "metadata": {},
   "source": [
    "```sql\n",
    "USE database_name"
   ]
  },
  {
   "cell_type": "markdown",
   "id": "0226a44d-428a-4033-bdfd-38538d5f005e",
   "metadata": {
    "jp-MarkdownHeadingCollapsed": true
   },
   "source": [
    "## 2.2 Creating Tables"
   ]
  },
  {
   "cell_type": "markdown",
   "id": "f26e5e62-ab0d-4b1c-920a-af0d2682e876",
   "metadata": {
    "jp-MarkdownHeadingCollapsed": true
   },
   "source": [
    "### 2.2.1 `CREATE TABLE` Statement and its structure"
   ]
  },
  {
   "cell_type": "markdown",
   "id": "59f1bc76-2c5a-4cca-915e-24cda9dd9e71",
   "metadata": {},
   "source": [
    "```sql\n",
    "CREATE TABLE table_name (\n",
    "    column1 datatype [constraints] [modifiers],\n",
    "    column2 datatype [constraints] [modifiers],\n",
    "    ...\n",
    "    table_constraints\n",
    ");"
   ]
  },
  {
   "cell_type": "markdown",
   "id": "04eb540f-b5f9-4caf-a95f-6a2afd96d507",
   "metadata": {
    "jp-MarkdownHeadingCollapsed": true
   },
   "source": [
    "### 2.2.2 Column Constraints"
   ]
  },
  {
   "cell_type": "markdown",
   "id": "66c5bd85-bf2e-4c4a-a63c-102c398571d8",
   "metadata": {},
   "source": [
    "Constraints are rules that restrict the types of data that can be inserted into a column. They ensure that the data in the database adheres to specific rules or conditions.\n",
    "\n",
    "Types of **Constraints**:\n",
    "1. `NOT NULL`:\n",
    "   - Ensures that a column cannot have a NULL value.\n",
    "   - Example: \n",
    "     ```sql\n",
    "     column_name datatype NOT NULL\n",
    "     ```\n",
    "\n",
    "2. `UNIQUE`:\n",
    "   - Ensures that all values in a column are unique across the table.\n",
    "   - Example:\n",
    "     ```sql\n",
    "     column_name datatype UNIQUE\n",
    "     ```\n",
    "\n",
    "3. `PRIMARY KEY`:\n",
    "   - Uniquely identifies each record in a table. A primary key column cannot have NULL values and must be unique.\n",
    "   - Example:\n",
    "     ```sql\n",
    "     column_name datatype PRIMARY KEY\n",
    "     ```\n",
    "\n",
    "4. `FOREIGN KEY`:\n",
    "   - Establishes a relationship between columns in different tables. It enforces referential integrity by ensuring that values in the foreign key column(s) match values in the referenced column(s) of another table.\n",
    "   - Example:\n",
    "     ```sql\n",
    "     column_name datatype,\n",
    "     FOREIGN KEY (column_name) REFERENCES other_table (column_name)\n",
    "     ```\n",
    "\n",
    "5. `CHECK`:\n",
    "   - Ensures that all values in a column satisfy a specific condition.\n",
    "   - Example:\n",
    "     ```sql\n",
    "     column_name datatype CHECK (condition)\n",
    "     ```\n",
    "\n",
    "6. `DEFAULT`:\n",
    "   - Provides a default value for a column when no value is specified.\n",
    "   - Example:\n",
    "     ```sql\n",
    "     column_name datatype DEFAULT default_value\n",
    "     ```"
   ]
  },
  {
   "cell_type": "markdown",
   "id": "dc8bdf19-678f-4077-9bb6-2eb0f24d6f5f",
   "metadata": {
    "jp-MarkdownHeadingCollapsed": true
   },
   "source": [
    "### 2.2.3 Table Constraints"
   ]
  },
  {
   "cell_type": "markdown",
   "id": "c387e3d7-b9aa-4816-bd72-53c5ff2b1d91",
   "metadata": {},
   "source": [
    "Table constraints are rules applied to the entire table and can involve multiple columns. They ensure data integrity at the table level. Some common table constraints include:\n",
    "\n",
    "1. **PRIMARY KEY Constraint**:\n",
    "   - Ensures that a combination of one or more columns is unique across the table and identifies each row uniquely.\n",
    "   - Example:\n",
    "     ```sql\n",
    "     CONSTRAINT constraint_name PRIMARY KEY (column1, column2)\n",
    "     ```\n",
    "\n",
    "2. **FOREIGN KEY Constraint**:\n",
    "   - Ensures that values in one or more columns match values in columns of another table, enforcing referential integrity.\n",
    "   - Example:\n",
    "     ```sql\n",
    "     CONSTRAINT constraint_name FOREIGN KEY (column1) REFERENCES other_table (column2)\n",
    "     ```\n",
    "\n",
    "3. **UNIQUE Constraint**:\n",
    "   - Ensures that all values in one or more columns are unique across the table.\n",
    "   - Example:\n",
    "     ```sql\n",
    "     CONSTRAINT constraint_name UNIQUE (column1, column2)\n",
    "     ```\n",
    "\n",
    "4. **CHECK Constraint**:\n",
    "   - Ensures that values in one or more columns meet a specified condition.\n",
    "   - Example:\n",
    "     ```sql\n",
    "     CONSTRAINT constraint_name CHECK (condition)\n",
    "     ```"
   ]
  },
  {
   "cell_type": "markdown",
   "id": "18b74799-79f9-4221-b2f8-9358186d9f06",
   "metadata": {
    "jp-MarkdownHeadingCollapsed": true
   },
   "source": [
    "### 2.2.4 Column Modififers"
   ]
  },
  {
   "cell_type": "markdown",
   "id": "b4a515b9-7f74-46cd-b6c8-defd163757a2",
   "metadata": {},
   "source": [
    "Column modifiers in SQL are attributes that further define the characteristics and behavior of columns in a table. They are used to customize how data is stored, presented, or managed.\n",
    "\n",
    "Types of modifiers:  \n",
    "1. `AUTO_INCREMENT`\n",
    "\n",
    "- **Purpose**: Automatically generates a unique value for the column with each new row inserted. Commonly used for primary keys.\n",
    "- **Usage**: Works with integer types.\n",
    "- **Example**:\n",
    "  ```sql\n",
    "  CREATE TABLE users (\n",
    "      user_id INT AUTO_INCREMENT,\n",
    "      username VARCHAR(50),\n",
    "      PRIMARY KEY (user_id)\n",
    "  );\n",
    "  ```\n",
    "\n",
    "2. `ZEROFILL`\n",
    "\n",
    "- **Purpose**: Pads numeric values with leading zeros up to the specified width. The column must also be defined as `UNSIGNED`.\n",
    "- **Usage**: Works with numeric types.\n",
    "- **Example**:\n",
    "  ```sql\n",
    "  CREATE TABLE products (\n",
    "      product_code INT(6) ZEROFILL\n",
    "  );\n",
    "  ```\n",
    "\n",
    "\n",
    "3. `UNSIGNED`\n",
    "\n",
    "- **Purpose**: Indicates that the column can only store non-negative numbers.\n",
    "- **Usage**: Works with numeric types (`INT`, `BIGINT`, etc.).\n",
    "- **Example**:\n",
    "  ```sql\n",
    "  CREATE TABLE items (\n",
    "      quantity INT UNSIGNED\n",
    "      );\n",
    "  ```"
   ]
  },
  {
   "cell_type": "markdown",
   "id": "9cbb7061-187f-4e0c-a186-a019a755d0b6",
   "metadata": {
    "jp-MarkdownHeadingCollapsed": true
   },
   "source": [
    "### 2.2.5 Table Commands"
   ]
  },
  {
   "cell_type": "markdown",
   "id": "be28814f-bbfb-48bb-9dad-2015f9388f6b",
   "metadata": {},
   "source": [
    "1. `DESC` (or `DESCRIBE`) Command  \n",
    "- **Purpose**: Provides a description of the table’s structure, including column names, data types, and constraints.\n",
    "- **Example**:\n",
    "  ```sql\n",
    "  DESC employees;\n",
    "  ```\n",
    "\n",
    "2. `SHOW TABLES` Command  \n",
    "- **Purpose**: Lists all tables in the current database.\n",
    "- **Example**:\n",
    "  ```sql\n",
    "  SHOW TABLES;\n",
    "  ```\n",
    "\n",
    "3. `SHOW CREATE TABLE` Command\n",
    "- **Purpose**: Displays the `CREATE TABLE` statement used to create the specified table, including all its constraints and options.\n",
    "- **Example**:\n",
    "  ```sql\n",
    "  SHOW CREATE TABLE employees;\n",
    "  ```\n",
    "\n",
    "\n",
    "\n",
    "4. `SHOW COLUMNS FROM` Command\n",
    "\n",
    "- **Purpose**: Provides detailed information about the columns of a specified table, similar to `DESC`.\n",
    "- **Example**:\n",
    "  ```sql\n",
    "  SHOW COLUMNS FROM employees;\n",
    "  ```"
   ]
  },
  {
   "cell_type": "code",
   "execution_count": null,
   "id": "19d04261-8e6f-4b0d-a1c8-e9ead2d776aa",
   "metadata": {},
   "outputs": [],
   "source": []
  },
  {
   "cell_type": "markdown",
   "id": "1fd642c4-77d3-4eae-8582-55cad55a0240",
   "metadata": {
    "jp-MarkdownHeadingCollapsed": true
   },
   "source": [
    "### 2.2.6 Example"
   ]
  },
  {
   "attachments": {},
   "cell_type": "markdown",
   "id": "983c0937-ffb3-4c6f-a510-ceb1551017da",
   "metadata": {},
   "source": [
    "```sql\n",
    "CREATE TABLE person\n",
    "    (person_id SMALLINT UNSIGNED,\n",
    "    fname VARCHAR(20),\n",
    "    lname VARCHAR(20),\n",
    "    gender ENUM('M', 'F'),\n",
    "    birth_date DATE,\n",
    "    street VARCHAR(30),\n",
    "    city VARCHAR(20),\n",
    "    state VARCHAR(20),\n",
    "    country VARCHAR(20),\n",
    "    postal_code VARCHAR(20),\n",
    "    CONSTRAINT pk_person PRIMARY KEY (person_id)\n",
    " );\n",
    " ```"
   ]
  },
  {
   "cell_type": "markdown",
   "id": "bed6712b-27e9-4e72-ad6b-ebcb74a9bd80",
   "metadata": {},
   "source": [
    "```sql\n",
    "CREATE TABLE favorite_food (\n",
    "    person_id SMALLINT UNSIGNED,\n",
    "    food VARCHAR(20),\n",
    "    CONSTRAINT pk_favorite_food PRIMARY KEY (person_id, food),\n",
    "    CONSTRAINT fk_fav_food_person_id FOREIGN KEY (person_id) REFERENCES person (person_id)\n",
    ");\n",
    " ```\n",
    "\n",
    "PRIMARY KEY (person_id, food) -> This means that each combination of person_id and food must be unique across the table. Together, they uniquely identify each row in the favorite_food table."
   ]
  },
  {
   "cell_type": "markdown",
   "id": "cb189ea4-0c4c-4a89-90a5-7939033fcca5",
   "metadata": {
    "jp-MarkdownHeadingCollapsed": true
   },
   "source": [
    "## 2.3 Editing Tables"
   ]
  },
  {
   "cell_type": "markdown",
   "id": "a8400aa7-407e-4869-a556-b566d140cfa8",
   "metadata": {
    "jp-MarkdownHeadingCollapsed": true
   },
   "source": [
    "### 2.3.1 Columns"
   ]
  },
  {
   "cell_type": "markdown",
   "id": "71765c84-79bc-487d-b9b7-1a2b84253cea",
   "metadata": {},
   "source": [
    "1. **Adding Columns**  \n",
    "Adding new columns to an existing table.\n",
    "- **syntax**:\n",
    "```sql\n",
    "ALTER TABLE table_name ADD column_name datatype [constraints];\n",
    "```\n",
    "- **example**:\n",
    "```sql\n",
    "ALTER TABLE employees ADD hire_date DATE;\n",
    "```\n",
    "\n",
    "2. **Moddifying Columns**  \n",
    "Changes the definition of an existing column, such as its data type or size.\n",
    "- **syntax**:\n",
    "```sql\n",
    "ALTER TABLE table_name MODIFY column_name new_datatype [constraints];\n",
    "```\n",
    "- **example**:\n",
    "```sql\n",
    "ALTER TABLE employees MODIFY hire_date DATETIME;\n",
    "```\n",
    "\n",
    "3. **Dropping Columns**  \n",
    "removes a column from the table.\n",
    "- **syntax**:\n",
    "```sql\n",
    "ALTER TABLE table_name DROP COLUMN column_name;\n",
    "```\n",
    "- **example**:\n",
    "```sql\n",
    "ALTER TABLE employees DROP COLUMN hire_date;\n",
    "```"
   ]
  },
  {
   "cell_type": "markdown",
   "id": "bbc3e6d9-3ed7-4542-aff1-16aebdff5251",
   "metadata": {
    "jp-MarkdownHeadingCollapsed": true
   },
   "source": [
    "### 2.3.2 Rows (DML - Data Manipulation Language)"
   ]
  },
  {
   "cell_type": "markdown",
   "id": "c657d7f8-9418-4102-a339-94eebafb3dbf",
   "metadata": {},
   "source": [
    "1. **Adding Rows**  \n",
    "Inserts new rows of data into an existing table.\n",
    "- **Syntax**:\n",
    "  ```sql\n",
    "  INSERT INTO table_name (column1, column2, ...)\n",
    "  VALUES (value1, value2, ...);\n",
    "  ```\n",
    "- **Example**:\n",
    "  ```sql\n",
    "  INSERT INTO employees (employee_id, first_name, last_name, hire_date)\n",
    "  VALUES (1, 'John', 'Doe', '2024-07-01');\n",
    "  ```\n",
    "\n",
    "  \n",
    "- **Syntax without Column Names**:\n",
    "  ```sql\n",
    "  INSERT INTO table_name\n",
    "  VALUES (value1, value2, ...);\n",
    "  ```\n",
    "- **Example**:\n",
    "  ```sql\n",
    "  INSERT INTO employees\n",
    "  VALUES (1, 'John', 'Doe', '2024-07-01');\n",
    "  ```\n",
    "\n",
    "2. **Modifying Rows**  \n",
    "Updates existing rows with new values.\n",
    "- **Syntax**:\n",
    "  ```sql\n",
    "  UPDATE table_name\n",
    "  SET column1 = value1, column2 = value2, ...\n",
    "  WHERE condition;\n",
    "  ```\n",
    "- **Example**:\n",
    "  ```sql\n",
    "  UPDATE employees\n",
    "  SET last_name = 'Smith', hire_date = '2024-07-15'\n",
    "  WHERE employee_id = 1;\n",
    "  ```\n",
    "\n",
    "3. **Dropping Rows**  \n",
    "Deletes rows from a table based on a condition.\n",
    "- **Syntax**:\n",
    "  ```sql\n",
    "  DELETE FROM table_name\n",
    "  WHERE condition;\n",
    "  ```\n",
    "- **Example**:\n",
    "  ```sql\n",
    "  DELETE FROM employees\n",
    "  WHERE employee_id = 1;\n",
    "  ```"
   ]
  },
  {
   "cell_type": "markdown",
   "id": "86fc5648-5a25-4a2a-8211-b1add133b68f",
   "metadata": {
    "jp-MarkdownHeadingCollapsed": true
   },
   "source": [
    "# 3. Data Query Language (DQL)"
   ]
  },
  {
   "cell_type": "markdown",
   "id": "601c4619-fd8d-4f09-a7bf-02917570e94c",
   "metadata": {},
   "source": [
    "DQL is used to query and retrieve data from a database."
   ]
  },
  {
   "cell_type": "markdown",
   "id": "bd6c5adf-cdc6-437c-b8f5-bd4707373502",
   "metadata": {
    "jp-MarkdownHeadingCollapsed": true
   },
   "source": [
    "## 3.1 Basic Clauses in 'SELECT' Statement"
   ]
  },
  {
   "cell_type": "markdown",
   "id": "82a853f6-4251-4894-80d0-3487cab9c4b5",
   "metadata": {
    "jp-MarkdownHeadingCollapsed": true
   },
   "source": [
    "### 3.1.1 `FROM` Clause"
   ]
  },
  {
   "cell_type": "markdown",
   "id": "197c63f8-3c15-40ad-a59b-dad51358addb",
   "metadata": {},
   "source": [
    "The `FROM` clause specifies the table from which to retrieve the data.\n",
    "\n",
    "**Syntax:**\n",
    "```sql\n",
    "SELECT column1, column2, ...\n",
    "FROM table_name;\n",
    "```\n",
    "**Example:**\n",
    "```sql\n",
    "SELECT *\n",
    "FROM products;\n",
    "```\n",
    "In this example, the query retrieves all columns from the `products` table."
   ]
  },
  {
   "cell_type": "markdown",
   "id": "72fd5b6d-7c14-4cad-882b-d5519e57e2e5",
   "metadata": {
    "jp-MarkdownHeadingCollapsed": true
   },
   "source": [
    "### 3.1.2 `WHERE` Clause"
   ]
  },
  {
   "cell_type": "markdown",
   "id": "e0e611b7-818f-4eb0-b7ec-09f646464378",
   "metadata": {},
   "source": [
    "The `WHERE` clause filters the results based on a specified condition.\n",
    "\n",
    "**Syntax:**\n",
    "```sql\n",
    "SELECT column1, column2, ...\n",
    "FROM table_name\n",
    "WHERE condition;\n",
    "```\n",
    "\n",
    "**Example:**\n",
    "```sql\n",
    "SELECT first_name, salary\n",
    "FROM employees\n",
    "WHERE salary > 50000;\n",
    "```\n",
    "In this example, the query retrieves the `first_name` and `salary` columns from the `employees` table where the `salary` is greater than 50,000."
   ]
  },
  {
   "cell_type": "markdown",
   "id": "c41a0021-51b6-461c-b74b-f3a8c7d670f3",
   "metadata": {
    "jp-MarkdownHeadingCollapsed": true
   },
   "source": [
    "### 3.1.3 `ORDER BY` Clause"
   ]
  },
  {
   "cell_type": "markdown",
   "id": "a37d5c75-796a-481b-acd3-b5c3c6bf9ccc",
   "metadata": {},
   "source": [
    "The `ORDER BY` clause sorts the results based on one or more columns.\n",
    "\n",
    "**Syntax:**\n",
    "```sql\n",
    "SELECT column1, column2, ...\n",
    "FROM table_name\n",
    "ORDER BY column1 [ASC|DESC];\n",
    "```\n",
    "\n",
    "**Example:**\n",
    "```sql\n",
    "SELECT first_name, salary\n",
    "FROM employees\n",
    "ORDER BY salary DESC;\n",
    "```\n",
    "In this example, the query retrieves the `first_name` and `salary` columns from the `employees` table and sorts the results by `salary` in descending order."
   ]
  },
  {
   "cell_type": "markdown",
   "id": "57adde09-bc80-4731-8845-e17489b81136",
   "metadata": {
    "jp-MarkdownHeadingCollapsed": true
   },
   "source": [
    "### 3.1.4 `DISTINCT` Clause"
   ]
  },
  {
   "cell_type": "markdown",
   "id": "106cd780-112b-4ca3-bf62-e3a0a6fb35e5",
   "metadata": {},
   "source": [
    "The `DISTINCT` clause ensures that the result set contains only unique (different) values. \n",
    "\n",
    "**Syntax:**\n",
    "```sql\n",
    "SELECT DISTINCT column1, column2, ...\n",
    "FROM table_name;\n",
    "```\n",
    "\n",
    "**Example:**\n",
    "```sql\n",
    "SELECT DISTINCT department\n",
    "FROM employees;\n",
    "```\n",
    "In this example, the query retrieves unique values from the `department` column of the `employees` table, eliminating any duplicate entries."
   ]
  },
  {
   "cell_type": "markdown",
   "id": "c59f14a3-30a2-4372-9d42-c936992f2e30",
   "metadata": {
    "jp-MarkdownHeadingCollapsed": true
   },
   "source": [
    "### 3.1.5 `LIMIT` Clause"
   ]
  },
  {
   "cell_type": "markdown",
   "id": "548f04c9-6950-4e05-8e64-9adbebe23eb2",
   "metadata": {},
   "source": [
    "The `LIMIT` clause specifies the number of rows to return.\n",
    "\n",
    "**Syntax:**\n",
    "```sql\n",
    "SELECT column1, column2, ...\n",
    "FROM table_name\n",
    "LIMIT number;\n",
    "```\n",
    "\n",
    "**Example:**\n",
    "```sql\n",
    "SELECT first_name, last_name\n",
    "FROM employees\n",
    "LIMIT 10;\n",
    "```\n",
    "In this example, the query retrieves the first 10 rows of `first_name` and `last_name` columns from the `employees` table."
   ]
  },
  {
   "cell_type": "markdown",
   "id": "5f21ade2-39ae-49db-b79c-f69e2a19d915",
   "metadata": {
    "jp-MarkdownHeadingCollapsed": true
   },
   "source": [
    "### 3.1.6 `OFFSET` Clause"
   ]
  },
  {
   "cell_type": "markdown",
   "id": "85f52bc9-3209-477c-b535-e3cf210b5515",
   "metadata": {},
   "source": [
    "The `OFFSET` clause specifies the starting point to return rows from a query.\n",
    "\n",
    "**Syntax:**\n",
    "```sql\n",
    "SELECT column1, column2, ...\n",
    "FROM table_name\n",
    "LIMIT number OFFSET offset_value;\n",
    "```\n",
    "\n",
    "**Example:**\n",
    "```sql\n",
    "SELECT first_name, last_name\n",
    "FROM employees\n",
    "LIMIT 10 OFFSET 5;\n",
    "```\n",
    "In this example, the query retrieves 10 rows of `first_name` and `last_name` columns from the `employees` table, starting from the 6th row."
   ]
  },
  {
   "cell_type": "markdown",
   "id": "32d683e3-b260-4d82-8192-7bc5bcb4dcbf",
   "metadata": {
    "jp-MarkdownHeadingCollapsed": true
   },
   "source": [
    "### 3.1.7 `AS` Clause (Column Aliases)"
   ]
  },
  {
   "cell_type": "markdown",
   "id": "35305791-259c-41f5-b512-021a0f2d1b88",
   "metadata": {},
   "source": [
    "Creates temporary names for columns or tables to make queries more readable.\n",
    "\n",
    "**Syntax:**\n",
    "```sql\n",
    "SELECT column_name AS alias_name\n",
    "FROM table_name;\n",
    "```"
   ]
  },
  {
   "cell_type": "markdown",
   "id": "41576353-5ded-4a23-b06d-3f3bd2bd94d2",
   "metadata": {
    "jp-MarkdownHeadingCollapsed": true
   },
   "source": [
    "### 3.1.8 Aggregate Functions"
   ]
  },
  {
   "cell_type": "markdown",
   "id": "bc31057a-16e2-45f2-85d3-19d2ab89781e",
   "metadata": {},
   "source": [
    "| **Function**    | **Purpose**                                                                 | **Example**                                                                                         |\n",
    "|-----------------|-----------------------------------------------------------------------------|-----------------------------------------------------------------------------------------------------|\n",
    "| `AVG`           | Calculates the average of a numeric column.                                 | `SELECT AVG(salary) AS average_salary FROM employees;`                                              |\n",
    "| `COUNT`         | Counts the number of rows or non-NULL values.                               | `SELECT COUNT(*) AS total_employees FROM employees;`                                                |\n",
    "| `SUM`           | Calculates the total sum of a numeric column.                               | `SELECT SUM(salary) AS total_salaries FROM employees;`                                              |\n",
    "| `MIN`           | Returns the minimum value in a numeric or date column.                      | `SELECT MIN(salary) AS lowest_salary FROM employees;`                                               |\n",
    "| `MAX`           | Returns the maximum value in a numeric or date column.                      | `SELECT MAX(salary) AS highest_salary FROM employees;`                                              |\n",
    "| `GROUP_CONCAT` (MySQL) / `STRING_AGG` (PostgreSQL, SQL Server) | Concatenates values from multiple rows into a single string. | MySQL: `SELECT GROUP_CONCAT(employee_name) AS employee_names FROM employees;` <br> PostgreSQL/SQL Server: `SELECT STRING_AGG(employee_name, ', ') AS employee_names FROM employees;` |\n",
    "| `VARIANCE` / `STDDEV` (Standard Deviation) | Measures the dispersion of data values.                              | `SELECT VARIANCE(salary) AS salary_variance FROM employees;`                                        |\n",
    "| `COALESCE`      | Returns the first non-NULL value from a list of expressions, useful for handling NULL results from aggregate functions. | `SELECT COALESCE(SUM(distance), 0) AS total_distance FROM Rides;`                                  |"
   ]
  },
  {
   "cell_type": "markdown",
   "id": "a3434639-4b82-427a-a9b6-2ed867ce3467",
   "metadata": {
    "jp-MarkdownHeadingCollapsed": true
   },
   "source": [
    "## 3.2 Grouping and Filtering Data"
   ]
  },
  {
   "cell_type": "markdown",
   "id": "2583b1b4-6fa5-45ea-8f82-4097aed10294",
   "metadata": {
    "jp-MarkdownHeadingCollapsed": true
   },
   "source": [
    "### 3.2.1 `GROUP BY` Clause"
   ]
  },
  {
   "cell_type": "markdown",
   "id": "2782ac35-4c17-4600-9811-2cc9093e6a2c",
   "metadata": {},
   "source": [
    "The `GROUP BY` clause groups rows that have the same values in specified columns into summary rows, like aggregates.\n",
    "\n",
    "**Syntax:**\n",
    "```sql\n",
    "SELECT column1, aggregate_function(column2)\n",
    "FROM table_name\n",
    "GROUP BY column1;\n",
    "```\n",
    "\n",
    "**Example 1: Basic `GROUP BY`**\n",
    "```sql\n",
    "SELECT department, COUNT(*)\n",
    "FROM employees\n",
    "GROUP BY department;\n",
    "```\n",
    "In this example, the query counts the number of employees in each department and groups the result by the `department` column.\n",
    "\n",
    "**Example 2: Using `GROUP BY` with `SUM`**\n",
    "```sql\n",
    "SELECT department, SUM(salary)\n",
    "FROM employees\n",
    "GROUP BY department;\n",
    "```\n",
    "In this example, the query calculates the total salary expense for each department by grouping the results by the `department` column."
   ]
  },
  {
   "cell_type": "markdown",
   "id": "ab457799-69ca-49dc-b139-e08d77188157",
   "metadata": {
    "jp-MarkdownHeadingCollapsed": true
   },
   "source": [
    "### 3.2.2 `HAVING` Clause"
   ]
  },
  {
   "cell_type": "markdown",
   "id": "b903e5db-742e-4ffd-b39e-3821c35d8df5",
   "metadata": {},
   "source": [
    "The `HAVING` clause filters groups based on specified conditions. It is used in conjunction with the `GROUP BY` clause and is similar to the `WHERE` clause but applies to aggregated data.\n",
    "\n",
    "**Syntax:**\n",
    "```sql\n",
    "SELECT column1, aggregate_function(column2)\n",
    "FROM table_name\n",
    "GROUP BY column1\n",
    "HAVING condition;\n",
    "```\n",
    "\n",
    "**Example 1: Filtering Groups with `HAVING`**\n",
    "```sql\n",
    "SELECT department, COUNT(*)\n",
    "FROM employees\n",
    "GROUP BY department\n",
    "HAVING COUNT(*) > 10;\n",
    "```\n",
    "In this example, the query retrieves departments with more than 10 employees. It first groups employees by department and then filters the results to include only those departments with more than 10 employees.\n",
    "\n",
    "**Example 2: Using `HAVING` with `SUM`**\n",
    "```sql\n",
    "SELECT department, SUM(salary)\n",
    "FROM employees\n",
    "GROUP BY department\n",
    "HAVING SUM(salary) > 100000;\n",
    "```\n",
    "In this example, the query retrieves departments where the total salary expense exceeds 100,000. It groups employees by department and then filters the results to include only those departments with a total salary expense greater than 100,000."
   ]
  },
  {
   "cell_type": "markdown",
   "id": "9f8b18a3-fe38-400b-9ab5-b61a5fa8ae80",
   "metadata": {
    "jp-MarkdownHeadingCollapsed": true
   },
   "source": [
    "## 3.3 JOINS"
   ]
  },
  {
   "cell_type": "markdown",
   "id": "b8a99841-dfe2-4a15-87f6-21487864cca8",
   "metadata": {
    "jp-MarkdownHeadingCollapsed": true
   },
   "source": [
    "### 3.3.1 `INNER JOIN`"
   ]
  },
  {
   "cell_type": "markdown",
   "id": "84069555-8621-4c4b-a803-35353d5067b3",
   "metadata": {},
   "source": [
    "An inner join returns only the rows that have matching values in both tables.\n",
    "\n",
    "```sql\n",
    "SELECT columns\n",
    "FROM table1\n",
    "INNER JOIN table2\n",
    "ON table1.common_column = table2.common_column;\n",
    "```\n",
    "\n",
    "- **Use Case:** When you need to find records that have matching values in both tables.\n",
    "- **Example:** Get the list of employees and their corresponding department names.\n",
    "  ```sql\n",
    "  SELECT employees.emp_id, employees.name, departments.dept_name\n",
    "  FROM employees\n",
    "  INNER JOIN departments\n",
    "  ON employees.dept_id = departments.dept_id;\n",
    "  ```"
   ]
  },
  {
   "attachments": {
    "3df6c7aa-3bfd-4c41-9736-6ed986c91e33.png": {
     "image/png": "[encoded data removed]"
    }
   },
   "cell_type": "markdown",
   "id": "2ea120fc-2725-4809-a42c-2389f64bf421",
   "metadata": {},
   "source": [
    "![image.png](attachment:3df6c7aa-3bfd-4c41-9736-6ed986c91e33.png)"
   ]
  },
  {
   "cell_type": "markdown",
   "id": "cf4b6e99-66eb-4a7b-8ec0-8410ad26c102",
   "metadata": {
    "jp-MarkdownHeadingCollapsed": true
   },
   "source": [
    "### 3.3.2 `LEFT JOIN`"
   ]
  },
  {
   "cell_type": "markdown",
   "id": "3d147257-70cf-4689-bc9f-9ea13153b588",
   "metadata": {},
   "source": [
    "A left join returns all rows from the left table, and the matched rows from the right table. If no match is found, NULLs are returned for columns of the right table.\n",
    "\n",
    "```sql\n",
    "SELECT columns\n",
    "FROM table1\n",
    "LEFT JOIN table2\n",
    "ON table1.common_column = table2.common_column;\n",
    "```\n",
    "\n",
    "- **Use Case:** When you need all records from the left table, regardless of whether there are matches in the right table.\n",
    "- **Example:** Get all employees and their department names, including those who are not assigned to any department.\n",
    "  ```sql\n",
    "  SELECT employees.emp_id, employees.name, departments.dept_name\n",
    "  FROM employees\n",
    "  LEFT JOIN departments\n",
    "  ON employees.dept_id = departments.dept_id;\n",
    "  ```"
   ]
  },
  {
   "attachments": {
    "77c592a7-6133-4b70-99e5-6328f9f3c2dc.png": {
     "image/png": "[encoded data removed]"
    }
   },
   "cell_type": "markdown",
   "id": "3b724ad9-ae42-4236-8130-730f622f5cd4",
   "metadata": {},
   "source": [
    "![image.png](attachment:77c592a7-6133-4b70-99e5-6328f9f3c2dc.png)"
   ]
  },
  {
   "cell_type": "markdown",
   "id": "9388b7e3-5f80-48c9-acba-c13d5b3ec27a",
   "metadata": {
    "jp-MarkdownHeadingCollapsed": true
   },
   "source": [
    "### 3.3.3 Left Anti Join (Left Join Excluding Inner Join)"
   ]
  },
  {
   "cell_type": "markdown",
   "id": "d2ecaa8a-188a-42e4-bfb7-68aa2c2ccd35",
   "metadata": {},
   "source": [
    "A Left Join excluding Inner Join (also known as Left Anti Join) returns all the rows from the left table that do not have a match in the right table. This effectively gives you the rows in the left table that have no corresponding rows in the right table.\n",
    "\n",
    "```sql\n",
    "SELECT columns\n",
    "FROM table1\n",
    "LEFT JOIN table2\n",
    "ON table1.common_column = table2.common_column\n",
    "WHERE table2.common_column IS NULL;\n",
    "```\n",
    "\n",
    "- **Use Case:** When you need to find records in the left table that do not have corresponding records in the right table.\n",
    "- **Example:** Find employees who are not assigned to any department\n",
    "  ```sql\n",
    "  SELECT employees.emp_id, employees.name\n",
    "  FROM employees\n",
    "  LEFT JOIN departments\n",
    "  ON employees.dept_id = departments.dept_id\n",
    "  WHERE departments.dept_id IS NULL;\n",
    "  ```"
   ]
  },
  {
   "attachments": {
    "9bd157f8-3292-4e05-801c-efa2e18346a0.png": {
     "image/png": "[encoded data removed]"
    }
   },
   "cell_type": "markdown",
   "id": "40eaedc9-9dd6-4eb1-b6ec-b1716a79c3c1",
   "metadata": {},
   "source": [
    "![image.png](attachment:9bd157f8-3292-4e05-801c-efa2e18346a0.png)"
   ]
  },
  {
   "cell_type": "markdown",
   "id": "a8126315-25a4-42b5-9ee5-9796dbbcbdd8",
   "metadata": {
    "jp-MarkdownHeadingCollapsed": true
   },
   "source": [
    "### 3.3.4 `RIGHT JOIN`"
   ]
  },
  {
   "cell_type": "markdown",
   "id": "580c3468-a943-42a4-9a34-bc2868c7c747",
   "metadata": {},
   "source": [
    "A right join returns all rows from the right table, and the matched rows from the left table. If no match is found, NULLs are returned for columns of the left table.\n",
    "\n",
    "```sql\n",
    "SELECT columns\n",
    "FROM table1\n",
    "RIGHT JOIN table2\n",
    "ON table1.common_column = table2.common_column;\n",
    "```\n",
    "\n",
    "- **Use Case:** When you need all records from the right table, regardless of whether there are matches in the left table.\n",
    "- **Example:** Get all departments and the employees in those departments, including departments with no employees.\n",
    "  ```sql\n",
    "  SELECT employees.emp_id, employees.name, departments.dept_name\n",
    "  FROM employees\n",
    "  RIGHT JOIN departments\n",
    "  ON employees.dept_id = departments.dept_id;\n",
    "  ```"
   ]
  },
  {
   "attachments": {
    "fe32d8fe-6f1c-4754-9cc3-3055072b213f.png": {
     "image/png": "[encoded data removed]"
    }
   },
   "cell_type": "markdown",
   "id": "351caae5-3117-4ab2-aee6-9f7620e36e68",
   "metadata": {},
   "source": [
    "![image.png](attachment:fe32d8fe-6f1c-4754-9cc3-3055072b213f.png)"
   ]
  },
  {
   "cell_type": "markdown",
   "id": "b9fa247f-4089-465c-a086-76d50b881dac",
   "metadata": {
    "jp-MarkdownHeadingCollapsed": true
   },
   "source": [
    "### 3.3.5 Right Anti Join (Right Join Excluding Inner Join)"
   ]
  },
  {
   "cell_type": "markdown",
   "id": "ccb48040-002e-4296-ab1e-a9072a494fcb",
   "metadata": {},
   "source": [
    "A Right Join excluding Inner Join (also known as Right Anti Join) returns all the rows from the right table that do not have a match in the left table. This effectively gives you the rows in the right table that have no corresponding rows in the left table.\n",
    "\n",
    "```sql\n",
    "SELECT columns\n",
    "FROM table1\n",
    "RIGHT JOIN table2\n",
    "ON table1.common_column = table2.common_column\n",
    "WHERE table1.common_column IS NULL;\n",
    "```\n",
    "\n",
    "- **Use Case:** When you need to find records in the right table that do not have corresponding records in the left table.\n",
    "- **Example:** Find departments that do not have any employees assigned\n",
    "  ```sql\n",
    "  SELECT departments.dept_id, departments.dept_name\n",
    "  FROM employees\n",
    "  RIGHT JOIN departments\n",
    "  ON employees.dept_id = departments.dept_id\n",
    "  WHERE employees.dept_id IS NULL;\n",
    "  ```"
   ]
  },
  {
   "attachments": {
    "d0443d4f-30e5-40b4-9903-92083a2d7ee6.png": {
     "image/png": "[encoded data removed]"
    }
   },
   "cell_type": "markdown",
   "id": "85ab7f06-49aa-4202-af56-ccf638118296",
   "metadata": {},
   "source": [
    "![image.png](attachment:d0443d4f-30e5-40b4-9903-92083a2d7ee6.png)"
   ]
  },
  {
   "cell_type": "markdown",
   "id": "9c25fdb6-6251-418c-9007-90333da954ed",
   "metadata": {
    "jp-MarkdownHeadingCollapsed": true
   },
   "source": [
    "### 3.3.6 `FULL OUTER JOIN`"
   ]
  },
  {
   "cell_type": "markdown",
   "id": "435de23c-f60e-482c-a84e-811c29bfa395",
   "metadata": {},
   "source": [
    "A full join returns all rows when there is a match in one of the tables. If there is no match, the result is NULL from the side where there is no match.\n",
    "\n",
    "```sql\n",
    "SELECT columns\n",
    "FROM table1\n",
    "FULL OUTER JOIN table2\n",
    "ON table1.common_column = table2.common_column;\n",
    "```\n",
    "\n",
    "- **Use Case:** When you need all records from both tables, with matching records from both sides where available. Records without matches in either table will have NULLs.\n",
    "- **Example:** Get all employees and their department names, including employees without departments and departments without employees.\n",
    "  ```sql\n",
    "  SELECT employees.emp_id, employees.name, departments.dept_name\n",
    "  FROM employees\n",
    "  FULL OUTER JOIN departments\n",
    "  ON employees.dept_id = departments.dept_id;\n",
    "  ```"
   ]
  },
  {
   "attachments": {
    "76195382-46d3-40c9-b745-cb6cfe29af8f.png": {
     "image/png": "[encoded data removed]"
    }
   },
   "cell_type": "markdown",
   "id": "b090088b-0e8e-4948-815d-2ad102d1bd7e",
   "metadata": {},
   "source": [
    "![image.png](attachment:76195382-46d3-40c9-b745-cb6cfe29af8f.png)"
   ]
  },
  {
   "cell_type": "markdown",
   "id": "01ab249c-7d75-4aa8-a8a0-1d02e10984c1",
   "metadata": {
    "jp-MarkdownHeadingCollapsed": true
   },
   "source": [
    "### 3.3.7 Full Anti Join (Full Outer Join Excluding Inner Join)"
   ]
  },
  {
   "cell_type": "markdown",
   "id": "6e962d2c-bb55-45a7-a7a3-b821cb6c1a8b",
   "metadata": {},
   "source": [
    "A Full Outer Join excluding Inner Join (also known as Full Anti Join) returns all the rows from both tables that do not have a match in the other table. This effectively gives you the rows that are unique to each table, excluding those that have corresponding rows in both tables.\n",
    "\n",
    "```sql\n",
    "SELECT columns\n",
    "FROM table1\n",
    "FULL OUTER JOIN table2\n",
    "ON table1.common_column = table2.common_column\n",
    "WHERE table1.common_column IS NULL OR table2.common_column IS NULL;\n",
    "```\n",
    "\n",
    "- **Use Case:** When you need to find records in both tables that do not have corresponding records in the other table.\n",
    "- **Example:** Find employees without departments and departments without employees\n",
    "  ```sql\n",
    "  SELECT employees.emp_id, employees.name, departments.dept_id, departments.dept_name\n",
    "  FROM employees\n",
    "  FULL OUTER JOIN departments\n",
    "  ON employees.dept_id = departments.dept_id\n",
    "  WHERE employees.dept_id IS NULL OR departments.dept_id IS NULL;\n",
    "  ```"
   ]
  },
  {
   "attachments": {
    "6ff1eb16-2002-43a8-a06f-47a0536d94f2.png": {
     "image/png": "[encoded data removed]"
    }
   },
   "cell_type": "markdown",
   "id": "49fb87d8-344f-46d0-9ada-1a4c3443e554",
   "metadata": {},
   "source": [
    "![image.png](attachment:6ff1eb16-2002-43a8-a06f-47a0536d94f2.png)"
   ]
  },
  {
   "cell_type": "markdown",
   "id": "3a0672e0-3f61-4242-b060-ec499943130c",
   "metadata": {
    "jp-MarkdownHeadingCollapsed": true
   },
   "source": [
    "### 3.3.8 `CROSS JOIN`"
   ]
  },
  {
   "cell_type": "markdown",
   "id": "2ed1fae5-651f-4a1e-8cc4-120b2c5f6f9c",
   "metadata": {},
   "source": [
    "A cross join returns the Cartesian product of the two tables. Each row from the first table is combined with all rows in the second table.\n",
    "\n",
    "```sql\n",
    "SELECT columns\n",
    "FROM table1\n",
    "CROSS JOIN table2;\n",
    "```\n",
    "\n",
    "- **Use Case:** When you need to combine all rows from two tables regardless of any condition.\n",
    "- **Example:** Generate a combination of all employees and all projects.\n",
    "  ```sql\n",
    "  SELECT employees.emp_id, employees.name, projects.project_name\n",
    "  FROM employees\n",
    "  CROSS JOIN projects;\n",
    "  ```"
   ]
  },
  {
   "attachments": {
    "4429ff0c-86b6-4342-930b-de6ae2b81b91.png": {
     "image/png": "[encoded data removed]"
    },
    "70c5a53a-3c52-4b69-8f99-232f4a044ed7.png": {
     "image/png": "[encoded data removed]"
    }
   },
   "cell_type": "markdown",
   "id": "46c2e09b-d905-47e1-89b9-39e5626c90df",
   "metadata": {},
   "source": [
    "![image.png](attachment:70c5a53a-3c52-4b69-8f99-232f4a044ed7.png) ![image.png](attachment:4429ff0c-86b6-4342-930b-de6ae2b81b91.png)"
   ]
  },
  {
   "cell_type": "markdown",
   "id": "b3a6aad5-6b4e-4c68-a4e8-e8069a31391a",
   "metadata": {
    "jp-MarkdownHeadingCollapsed": true
   },
   "source": [
    "### 3.3.9 `SELF JOIN`"
   ]
  },
  {
   "cell_type": "markdown",
   "id": "b7657545-bdb5-4719-8616-db1c95d1417c",
   "metadata": {},
   "source": [
    "A self join is a regular join but the table is joined with itself.\n",
    "\n",
    "```sql\n",
    "SELECT a.columns, b.columns\n",
    "FROM table a, table b\n",
    "WHERE a.common_column = b.common_column;\n",
    "```\n",
    "\n",
    "- **Use Case:** When you need to compare rows within the same table.\n",
    "- **Example:** Find pairs of employees where one is the manager of the other.\n",
    "  ```sql\n",
    "  SELECT e1.name AS employee, e2.name AS manager\n",
    "  FROM employees e1\n",
    "  INNER JOIN employees e2\n",
    "  ON e1.manager_id = e2.emp_id;\n",
    "  ```"
   ]
  },
  {
   "attachments": {
    "9b54586f-7c36-4459-b324-3cfbb05fd147.png": {
     "image/png": "[encoded data removed]"
    }
   },
   "cell_type": "markdown",
   "id": "07f7fdec-050e-484a-a7ab-36e59632baa3",
   "metadata": {},
   "source": [
    "![image.png](attachment:9b54586f-7c36-4459-b324-3cfbb05fd147.png)"
   ]
  },
  {
   "cell_type": "markdown",
   "id": "e73a8d7e-68f5-45e4-99f1-ffc6ca8641e7",
   "metadata": {
    "jp-MarkdownHeadingCollapsed": true
   },
   "source": [
    "### 3.3.10 Using Aliases"
   ]
  },
  {
   "cell_type": "markdown",
   "id": "581ae15e-e57a-4de2-8dfc-33b6095c5b02",
   "metadata": {},
   "source": [
    "Aliases can make the SQL statements shorter and easier to read.\n",
    "```sql\n",
    "  SELECT e.name, d.dept_name\n",
    "  FROM employees e\n",
    "  INNER JOIN departments d\n",
    "  ON e.dept_id = d.dept_id;\n",
    "  ```"
   ]
  },
  {
   "cell_type": "markdown",
   "id": "7fc90cc8-b727-495f-b603-646cd453233c",
   "metadata": {
    "jp-MarkdownHeadingCollapsed": true
   },
   "source": [
    "### 3.3.11 Multiple Join Conditions"
   ]
  },
  {
   "cell_type": "markdown",
   "id": "1cc761f9-7427-4bf4-9f89-6ab11a84bde7",
   "metadata": {},
   "source": [
    "You can join tables on multiple conditions.\n",
    " ```sql\n",
    "  SELECT columns\n",
    "  FROM table1\n",
    "  INNER JOIN table2\n",
    "  ON table1.column1 = table2.column1\n",
    "  AND table1.column2 = table2.column2;\n",
    "  ```"
   ]
  },
  {
   "cell_type": "markdown",
   "id": "e3efcf52-477d-4600-a042-b2f7ce7fa1bd",
   "metadata": {
    "jp-MarkdownHeadingCollapsed": true
   },
   "source": [
    "## 3.4 Subqueries"
   ]
  },
  {
   "cell_type": "markdown",
   "id": "8a634320-9f3d-4954-9faf-bf5c4d32caf6",
   "metadata": {},
   "source": [
    "A subquery is a query nested inside another SQL query. It is used to perform operations that require the result of another query. Subqueries can be used in SELECT, INSERT, UPDATE, and DELETE statements, and can be part of WHERE, HAVING, and FROM clauses."
   ]
  },
  {
   "cell_type": "markdown",
   "id": "1cf650fe-14eb-4be6-8107-c9f240b268e9",
   "metadata": {
    "jp-MarkdownHeadingCollapsed": true
   },
   "source": [
    "### 3.4.1 Types of Subqueries"
   ]
  },
  {
   "cell_type": "markdown",
   "id": "3db03b64-fda3-438f-ba5e-b302c906848a",
   "metadata": {
    "jp-MarkdownHeadingCollapsed": true
   },
   "source": [
    "#### 3.4.1.1 Single-Row Subquery"
   ]
  },
  {
   "cell_type": "markdown",
   "id": "67fce8ce-2a58-48cb-b6c2-bf61bd4470db",
   "metadata": {},
   "source": [
    "Returns a single row and is used with operators like =, <, >, <=, >=, and <>. Example:\n",
    "\n",
    "```sql\n",
    "SELECT employee_name\n",
    "FROM employees\n",
    "WHERE department_id = (SELECT department_id\n",
    "                       FROM departments\n",
    "                       WHERE department_name = 'Sales');\n",
    "```"
   ]
  },
  {
   "cell_type": "markdown",
   "id": "dedb4b01-8285-46c8-9c04-d2530a3670c6",
   "metadata": {},
   "source": [
    "#### 3.4.1.2 Multiple-Row Subquery"
   ]
  },
  {
   "cell_type": "markdown",
   "id": "69e0993d-ab0b-423d-a1fa-38c685fef3e3",
   "metadata": {},
   "source": [
    "Returns multiple rows and is used with operators such as IN, ANY, or ALL. Example:\n",
    "\n",
    "```sql\n",
    "SELECT employee_name\n",
    "FROM employees\n",
    "WHERE department_id = (SELECT department_id\n",
    "                       FROM departments\n",
    "                       WHERE department_name = 'Sales');\n",
    "```"
   ]
  },
  {
   "cell_type": "markdown",
   "id": "a1a95bd8-699e-4713-84a1-5663f4b3c9d5",
   "metadata": {},
   "source": [
    "#### 3.4.1.3 Multiple-Column Subquery"
   ]
  },
  {
   "cell_type": "markdown",
   "id": "3d109bc8-0dd0-45ef-b3bb-60b62a7bb0c1",
   "metadata": {},
   "source": [
    "Returns multiple columns and is used with multiple column comparisons. Example:\n",
    "\n",
    "```sql\n",
    "SELECT employee_name\n",
    "FROM employees\n",
    "WHERE (department_id, job_id) IN (SELECT department_id, job_id\n",
    "                                   FROM job_assignments\n",
    "                                   WHERE status = 'Active');\n",
    "```"
   ]
  },
  {
   "cell_type": "markdown",
   "id": "b8470c1b-8125-46c7-add3-4484a083cf8d",
   "metadata": {
    "jp-MarkdownHeadingCollapsed": true
   },
   "source": [
    "### 3.4.2 Usage of Subqueries"
   ]
  },
  {
   "cell_type": "markdown",
   "id": "b1c45911-c809-4f5a-97d0-47fad836599e",
   "metadata": {},
   "source": [
    "#### 3.4.2.1 In `SELECT` Clause"
   ]
  },
  {
   "cell_type": "markdown",
   "id": "89b9e2d7-32de-4c73-82b6-d49a4d804eaa",
   "metadata": {},
   "source": [
    "To retrieve a value based on another query.\n",
    "\n",
    "```sql\n",
    "SELECT employee_name,\n",
    "       (SELECT department_name\n",
    "        FROM departments\n",
    "        WHERE departments.department_id = employees.department_id) AS department\n",
    "FROM employees;\n",
    "```"
   ]
  },
  {
   "cell_type": "markdown",
   "id": "66726f61-3f9c-4c98-96fa-5f5f3faa2f70",
   "metadata": {},
   "source": [
    "#### 3.4.2.1 In `WHERE` Clause"
   ]
  },
  {
   "cell_type": "markdown",
   "id": "73f8ef83-ba55-4f06-aab6-f6ffaf1ed55a",
   "metadata": {},
   "source": [
    "To filter results based on another query.\n",
    "\n",
    "```sql\n",
    "SELECT employee_name\n",
    "FROM employees\n",
    "WHERE department_id = (SELECT department_id\n",
    "                       FROM departments\n",
    "                       WHERE department_name = 'Engineering');\n",
    "```"
   ]
  },
  {
   "cell_type": "markdown",
   "id": "69462609-43fa-4f4d-8b4d-c3dafd98a5c6",
   "metadata": {},
   "source": [
    "#### 3.4.2.1 In `FROM` Clause"
   ]
  },
  {
   "cell_type": "markdown",
   "id": "e4e267e6-90d2-4c48-832a-57bcf854d6e5",
   "metadata": {},
   "source": [
    "To use the result of a subquery as a table.\n",
    "\n",
    "```sql\n",
    "SELECT department_id, COUNT(*)\n",
    "FROM (SELECT department_id\n",
    "      FROM employees\n",
    "      WHERE hire_date > '2022-01-01') AS recent_hires\n",
    "GROUP BY department_id;\n",
    "```"
   ]
  },
  {
   "cell_type": "markdown",
   "id": "16ef1c32-af08-4a42-ace4-bb40cfaf2f84",
   "metadata": {},
   "source": [
    "#### 3.4.2.1 In `HAVING` Clause"
   ]
  },
  {
   "cell_type": "markdown",
   "id": "657707fe-8528-4039-a780-737e5393815b",
   "metadata": {},
   "source": [
    "To filter groups based on aggregated results.\n",
    "\n",
    "```sql\n",
    "SELECT department_id, COUNT(*)\n",
    "FROM employees\n",
    "GROUP BY department_id\n",
    "HAVING COUNT(*) > (SELECT AVG(employee_count)\n",
    "                   FROM departments);\n",
    "```"
   ]
  },
  {
   "cell_type": "markdown",
   "id": "5eed5d8b-ad6e-49d3-9e5c-edfd2982cbe8",
   "metadata": {
    "jp-MarkdownHeadingCollapsed": true
   },
   "source": [
    "### 3.4.3 Logical Predicators and Operations in Subqueries"
   ]
  },
  {
   "cell_type": "markdown",
   "id": "054ffb66-9dbc-4147-be9a-afbd8dd6d22b",
   "metadata": {},
   "source": [
    "Logical predicates in SQL are used to control the flow of data based on conditions. Here are some common logical predicates and operations:\n",
    "\n",
    "1. **EXISTS**\n",
    "   - **Purpose:** Checks if a subquery returns any rows.\n",
    "   - **Example:**\n",
    "     ```sql\n",
    "     SELECT employee_name\n",
    "     FROM employees e\n",
    "     WHERE EXISTS (SELECT 1\n",
    "                   FROM departments d\n",
    "                   WHERE d.department_id = e.department_id\n",
    "                     AND d.manager_id = 101);\n",
    "     ```\n",
    "\n",
    "2. **NOT EXISTS**\n",
    "   - **Purpose:** Checks if a subquery returns no rows. It is the opposite of `EXISTS`.\n",
    "   - **Example:**\n",
    "     ```sql\n",
    "     SELECT employee_name\n",
    "     FROM employees e\n",
    "     WHERE NOT EXISTS (SELECT 1\n",
    "                       FROM departments d\n",
    "                       WHERE d.department_id = e.department_id\n",
    "                         AND d.manager_id = 101);\n",
    "     ```\n",
    "3. **IN**\n",
    "   - **Purpose:** Checks if a value matches any value in a list or subquery.\n",
    "   - **Example:**\n",
    "     ```sql\n",
    "     SELECT employee_name\n",
    "     FROM employees\n",
    "     WHERE department_id IN (SELECT department_id\n",
    "                             FROM departments\n",
    "                             WHERE location = 'New York');\n",
    "     ```\n",
    "     \n",
    "4. **ANY**\n",
    "   - **Purpose:** Compares a value to any value in a set or subquery.\n",
    "   - **Example:**\n",
    "     ```sql\n",
    "     SELECT employee_name\n",
    "     FROM employees\n",
    "     WHERE salary > ANY (SELECT salary\n",
    "                         FROM employees\n",
    "                         WHERE department_id = 10);\n",
    "     ```\n",
    "\n",
    "5. **ALL**\n",
    "   - **Purpose:** Compares a value to all values in a set or subquery.\n",
    "   - **Example:**\n",
    "     ```sql\n",
    "     SELECT employee_name\n",
    "     FROM employees\n",
    "     WHERE salary > ALL (SELECT salary\n",
    "                         FROM employees\n",
    "                         WHERE department_id = 10);\n",
    "     ```\n",
    "\n",
    "6. **BETWEEN**\n",
    "   - **Purpose:** Filters rows within a specified range.\n",
    "   - **Example:**\n",
    "     ```sql\n",
    "     SELECT employee_name\n",
    "     FROM employees\n",
    "     WHERE salary BETWEEN 50000 AND 100000;\n",
    "     ```\n",
    "\n",
    "7. **LIKE**\n",
    "   - **Purpose:** Filters rows based on pattern matching.\n",
    "   - **Example:**\n",
    "     ```sql\n",
    "     SELECT employee_name\n",
    "     FROM employees\n",
    "     WHERE employee_name LIKE 'J%';\n",
    "     ```"
   ]
  },
  {
   "cell_type": "markdown",
   "id": "fa3ddd99-43c9-4dad-943b-8e2657d0628f",
   "metadata": {
    "jp-MarkdownHeadingCollapsed": true
   },
   "source": [
    "### 3.4.4 Non-Correlated and Correlated Subqueries"
   ]
  },
  {
   "cell_type": "markdown",
   "id": "08e034d6-9420-4cfa-95f6-6d47e432ff16",
   "metadata": {},
   "source": [
    "- **Non-Correlated Subquery:** Independent of the outer query. The inner query executes once, and its result is used by the outer query.\n",
    "  ```sql\n",
    "  SELECT employee_name\n",
    "  FROM employees\n",
    "  WHERE department_id = (SELECT department_id\n",
    "                         FROM departments\n",
    "                         WHERE department_name = 'HR');\n",
    "  ```\n",
    "\n",
    "- **Correlated Subquery:** Dependent on the outer query. The inner query executes once for each row processed by the outer query.\n",
    "  ```sql\n",
    "  SELECT employee_name\n",
    "  FROM employees e\n",
    "  WHERE EXISTS (SELECT 1\n",
    "                FROM departments d\n",
    "                WHERE d.department_id = e.department_id\n",
    "                  AND d.manager_id = 101);\n",
    "  ```"
   ]
  },
  {
   "cell_type": "markdown",
   "id": "c8018e3a-602d-4af4-be50-e1444d20bc55",
   "metadata": {
    "jp-MarkdownHeadingCollapsed": true
   },
   "source": [
    "## 3.5 Combining Query Results"
   ]
  },
  {
   "cell_type": "markdown",
   "id": "8d5b1d5b-81a2-4117-af51-7f273cc23497",
   "metadata": {},
   "source": [
    "Combining query results using `UNION` and `UNION ALL` in SQL allows you to merge the results of two or more queries into a single result set. Both operators are used to combine results, but they have different behaviors regarding duplicates and performance."
   ]
  },
  {
   "cell_type": "markdown",
   "id": "ead26289-21fb-4f28-adc5-0c8cc3cd518d",
   "metadata": {
    "jp-MarkdownHeadingCollapsed": true
   },
   "source": [
    "### 3.5.1 `UNION`"
   ]
  },
  {
   "cell_type": "markdown",
   "id": "044875ab-d314-49e7-b665-df90ddafd149",
   "metadata": {},
   "source": [
    "Combines the results of two or more queries and removes duplicate rows from the final result set.\n",
    "\n",
    "```sql\n",
    "SELECT column1, column2, ...\n",
    "FROM table1\n",
    "UNION\n",
    "SELECT column1, column2, ...\n",
    "FROM table2;\n",
    "```\n",
    "\n",
    "**Key Points:**\n",
    "- **Duplicates:** `UNION` removes duplicate rows, ensuring that each row in the final result set is unique.\n",
    "- **Column Matching:** Each `SELECT` statement must have the same number of columns, and the corresponding columns must have compatible data types.\n",
    "- **Sorting:** You can use `ORDER BY` in the final `SELECT` statement to sort the combined results.\n",
    "\n",
    "**Example:**\n",
    "```sql\n",
    "SELECT employee_name\n",
    "FROM employees\n",
    "WHERE department_id = 1\n",
    "UNION\n",
    "SELECT employee_name\n",
    "FROM contractors\n",
    "WHERE contract_type = 'Full-time';\n",
    "```"
   ]
  },
  {
   "cell_type": "markdown",
   "id": "8d798491-8935-4531-aa71-1517fd77337e",
   "metadata": {
    "jp-MarkdownHeadingCollapsed": true
   },
   "source": [
    "### 3.5.2 `UNION ALL`"
   ]
  },
  {
   "cell_type": "markdown",
   "id": "100bfb94-c173-4c6a-aa6b-8845535c0dda",
   "metadata": {},
   "source": [
    "Combines the results of two or more queries without removing duplicate rows.\n",
    "\n",
    "```sql\n",
    "SELECT column1, column2, ...\n",
    "FROM table1\n",
    "UNION ALL\n",
    "SELECT column1, column2, ...\n",
    "FROM table2;\n",
    "```\n",
    "\n",
    "**Key Points:**\n",
    "- **Duplicates:** `UNION ALL` includes all rows from the queries, including duplicates. It returns every row from each query.\n",
    "- **Performance:** Typically faster than `UNION` because it does not require the additional step of removing duplicates.\n",
    "- **Column Matching:** Like `UNION`, each `SELECT` statement must have the same number of columns with compatible data types.\n",
    "\n",
    "**Example:**\n",
    "```sql\n",
    "SELECT employee_name\n",
    "FROM employees\n",
    "WHERE department_id = 1\n",
    "UNION ALL\n",
    "SELECT employee_name\n",
    "FROM contractors\n",
    "WHERE contract_type = 'Full-time';\n",
    "```"
   ]
  },
  {
   "cell_type": "markdown",
   "id": "c2f8bf8f-7c33-4b1b-8b9d-4d15541f6032",
   "metadata": {
    "jp-MarkdownHeadingCollapsed": true
   },
   "source": [
    "## 3.6 `CASE` Statement"
   ]
  },
  {
   "cell_type": "markdown",
   "id": "9ac018b4-e0f8-4416-b459-8c471dada1b4",
   "metadata": {},
   "source": [
    "Implements conditional logic to return different values or perform different actions based on specified conditions."
   ]
  },
  {
   "cell_type": "markdown",
   "id": "849e3aa1-9a00-4445-9e72-e80d08134a66",
   "metadata": {
    "jp-MarkdownHeadingCollapsed": true
   },
   "source": [
    "### 3.6.1 Simple `CASE` Statement"
   ]
  },
  {
   "cell_type": "markdown",
   "id": "a0ad6b27-7aef-4d93-aa3a-d8e7832ee669",
   "metadata": {},
   "source": [
    "```sql\n",
    "CASE expression\n",
    "    WHEN value1 THEN result1\n",
    "    WHEN value2 THEN result2\n",
    "    ...\n",
    "    ELSE default_result\n",
    "END\n",
    "```\n",
    "\n",
    "**Explanation:**\n",
    "- **expression:** The value to be compared against `value1`, `value2`, etc.\n",
    "- **`WHEN` value `THEN` result:** Compares the expression to `value`. If it matches, `result` is returned.\n",
    "- **`ELSE` default_result:** Optional. Returned if none of the `WHEN` conditions are met.\n",
    "\n",
    "**Example:**\n",
    "```sql\n",
    "SELECT employee_name,\n",
    "       CASE department_id\n",
    "           WHEN 1 THEN 'HR'\n",
    "           WHEN 2 THEN 'IT'\n",
    "           WHEN 3 THEN 'Finance'\n",
    "           ELSE 'Other'\n",
    "       END AS department_name\n",
    "FROM employees;\n",
    "```\n",
    "- This query assigns a department name based on the `department_id`."
   ]
  },
  {
   "cell_type": "markdown",
   "id": "2555527a-6bb5-4b21-9ed5-b8cef99595e8",
   "metadata": {
    "jp-MarkdownHeadingCollapsed": true
   },
   "source": [
    "### 3.6.2 Searched `CASE` Statement"
   ]
  },
  {
   "cell_type": "markdown",
   "id": "a673298b-054e-4858-b6c4-2a51546aacea",
   "metadata": {},
   "source": [
    "```sql\n",
    "CASE\n",
    "    WHEN condition1 THEN result1\n",
    "    WHEN condition2 THEN result2\n",
    "    ...\n",
    "    ELSE default_result\n",
    "END\n",
    "```\n",
    "\n",
    "**Explanation:**\n",
    "- **`WHEN condition THEN result`:** Evaluates each `condition` in sequence. If a condition is true, the corresponding `result` is returned.\n",
    "- **`ELSE default_result`:** Optional. Returned if none of the conditions are true.\n",
    "\n",
    "**Example:**\n",
    "```sql\n",
    "SELECT employee_name,\n",
    "       CASE\n",
    "           WHEN salary > 100000 THEN 'High'\n",
    "           WHEN salary BETWEEN 50000 AND 100000 THEN 'Medium'\n",
    "           ELSE 'Low'\n",
    "       END AS salary_level\n",
    "FROM employees;\n",
    "```\n",
    "- This query categorizes salaries into 'High', 'Medium', or 'Low' based on salary ranges."
   ]
  },
  {
   "cell_type": "markdown",
   "id": "e7da1780-0026-4f9c-ae26-4abd9d95129e",
   "metadata": {
    "jp-MarkdownHeadingCollapsed": true
   },
   "source": [
    "### 3.6.3 Usage in `SELECT` Clauses"
   ]
  },
  {
   "cell_type": "markdown",
   "id": "39ee0e87-4df1-4919-9b14-4a2545494add",
   "metadata": {},
   "source": [
    "To create new columns based on conditions.\n",
    "```sql\n",
    "  SELECT employee_name,\n",
    "         CASE\n",
    "             WHEN salary > 100000 THEN 'High'\n",
    "             WHEN salary BETWEEN 50000 AND 100000 THEN 'Medium'\n",
    "             ELSE 'Low'\n",
    "         END AS salary_level\n",
    "  FROM employees;\n",
    "  ```"
   ]
  },
  {
   "cell_type": "markdown",
   "id": "acb0568a-b540-429f-9b05-29bdbe7cbfc7",
   "metadata": {
    "jp-MarkdownHeadingCollapsed": true
   },
   "source": [
    "### 3.6.4 Usage in `WHERE` Clauses"
   ]
  },
  {
   "cell_type": "markdown",
   "id": "a50edffb-cf13-48e4-b99d-b06ee02e5cd8",
   "metadata": {},
   "source": [
    "To filter rows based on conditions.\n",
    "  ```sql\n",
    "  SELECT employee_name\n",
    "  FROM employees\n",
    "  WHERE CASE\n",
    "            WHEN department_id = 1 THEN salary > 50000\n",
    "            ELSE salary > 30000\n",
    "        END;\n",
    "  ```"
   ]
  },
  {
   "cell_type": "markdown",
   "id": "db3b94eb-4ad6-49b6-89fb-9fe504291490",
   "metadata": {
    "jp-MarkdownHeadingCollapsed": true
   },
   "source": [
    "### 3.6.5 Usage in `ORDER BY` Clauses"
   ]
  },
  {
   "cell_type": "markdown",
   "id": "879de77d-89c5-4902-a824-68b1ad8b5b05",
   "metadata": {},
   "source": [
    "To sort results based on conditions.\n",
    "  ```sql\n",
    "  SELECT employee_name, salary\n",
    "  FROM employees\n",
    "  ORDER BY CASE\n",
    "               WHEN department_id = 1 THEN 1\n",
    "               WHEN department_id = 2 THEN 2\n",
    "               ELSE 3\n",
    "           END;\n",
    "  ```"
   ]
  },
  {
   "cell_type": "markdown",
   "id": "aa3a6f2e-a1ca-4376-8b05-6b4aee21696a",
   "metadata": {
    "jp-MarkdownHeadingCollapsed": true
   },
   "source": [
    "### 3.6.6 Usage in `HAVING` Clauses"
   ]
  },
  {
   "cell_type": "markdown",
   "id": "0f99a9a4-7d21-4818-8d17-a9d59165482c",
   "metadata": {},
   "source": [
    "To filter groups based on aggregated results.\n",
    "  ```sql\n",
    "  SELECT department_id, COUNT(*)\n",
    "  FROM employees\n",
    "  GROUP BY department_id\n",
    "  HAVING CASE\n",
    "             WHEN COUNT(*) > 10 THEN 'Large'\n",
    "             ELSE 'Small'\n",
    "         END = 'Large';\n",
    "  ```"
   ]
  },
  {
   "cell_type": "markdown",
   "id": "b45c4df7-8dca-4d95-b877-edbb4deb0905",
   "metadata": {
    "jp-MarkdownHeadingCollapsed": true
   },
   "source": [
    "## 3.7 View"
   ]
  },
  {
   "cell_type": "markdown",
   "id": "0aff2315-0357-4bb4-8b42-9d24812c5416",
   "metadata": {},
   "source": [
    "**SQL Views** are virtual tables in SQL that represent the result of a query. They provide a way to simplify complex queries, encapsulate logic, and present data in a specific format without storing the data physically."
   ]
  },
  {
   "cell_type": "markdown",
   "id": "d2d0393e-bc9d-495f-b45a-f01fdd16beff",
   "metadata": {},
   "source": [
    "**Definition:**\n",
    "- A view is a saved SQL query that you can treat as a table. It does not store data itself but provides a way to access and manipulate data from one or more tables.\n",
    "\n",
    "**Purpose:**\n",
    "- **Simplicity:** Simplifies complex queries by encapsulating them in a view.\n",
    "- **Security:** Restricts access to specific data by providing a limited view of the data.\n",
    "- **Abstraction:** Provides a consistent interface for data access, even if the underlying schema changes."
   ]
  },
  {
   "cell_type": "markdown",
   "id": "a6dc42b4-2bf3-4ece-8e22-e56718d3ffd3",
   "metadata": {
    "jp-MarkdownHeadingCollapsed": true
   },
   "source": [
    "### 3.7.1 Creating a View"
   ]
  },
  {
   "cell_type": "markdown",
   "id": "fdcc0e3a-0b77-4131-8f36-7a3125bd099d",
   "metadata": {},
   "source": [
    "**Syntax:**\n",
    "```sql\n",
    "CREATE VIEW view_name AS\n",
    "SELECT column1, column2, ...\n",
    "FROM table_name\n",
    "WHERE condition;\n",
    "```\n",
    "\n",
    "**Example:**\n",
    "```sql\n",
    "CREATE VIEW employee_salaries AS\n",
    "SELECT employee_name, salary\n",
    "FROM employees\n",
    "WHERE salary > 50000;\n",
    "```\n",
    "\n",
    "- This view, `employee_salaries`, presents the names and salaries of employees earning more than 50,000."
   ]
  },
  {
   "cell_type": "markdown",
   "id": "549e64b8-4f53-4452-aec0-d9940c91edc1",
   "metadata": {
    "jp-MarkdownHeadingCollapsed": true
   },
   "source": [
    "### 3.7.2 Querying a View"
   ]
  },
  {
   "cell_type": "markdown",
   "id": "bc3518fa-b940-4b2a-9831-4a58739278ca",
   "metadata": {},
   "source": [
    "**Syntax:**\n",
    "```sql\n",
    "SELECT column1, column2, ...\n",
    "FROM view_name;\n",
    "```\n",
    "\n",
    "**Example:**\n",
    "```sql\n",
    "SELECT employee_name, salary\n",
    "FROM employee_salaries;\n",
    "```\n",
    "\n",
    "- This query retrieves data from the `employee_salaries` view as if it were a regular table."
   ]
  },
  {
   "cell_type": "markdown",
   "id": "94238936-eac2-44ba-9d4c-6fc38e03c2f5",
   "metadata": {
    "jp-MarkdownHeadingCollapsed": true
   },
   "source": [
    "### 3.7.3 Updating Data Through Views"
   ]
  },
  {
   "cell_type": "markdown",
   "id": "bf4094c4-a629-43d0-890f-411056c1a54a",
   "metadata": {},
   "source": [
    "**Updatable Views:**\n",
    "- Some views allow updates if they meet certain criteria (e.g., simple views with a single base table).\n",
    "\n",
    "**Syntax for Updating:**\n",
    "```sql\n",
    "UPDATE view_name\n",
    "SET column1 = value1\n",
    "WHERE condition;\n",
    "```\n",
    "\n",
    "**Example:**\n",
    "```sql\n",
    "UPDATE employee_salaries\n",
    "SET salary = salary * 1.1\n",
    "WHERE employee_name = 'John Doe';\n",
    "```\n",
    "\n",
    "- This query increases the salary of 'John Doe' by 10% in the `employee_salaries` view.\n",
    "\n",
    "**Note:** Views with joins, aggregations, or multiple tables might not be updatable directly."
   ]
  },
  {
   "cell_type": "markdown",
   "id": "c6cd74d6-4c24-4593-9350-69b54a04c408",
   "metadata": {
    "jp-MarkdownHeadingCollapsed": true
   },
   "source": [
    "### 3.7.4 Dropping a View"
   ]
  },
  {
   "cell_type": "markdown",
   "id": "ba83ff62-82bd-4b0f-a8bb-d4a363d7a0c8",
   "metadata": {},
   "source": [
    "**Syntax:**\n",
    "```sql\n",
    "DROP VIEW view_name;\n",
    "```\n",
    "\n",
    "**Example:**\n",
    "```sql\n",
    "DROP VIEW employee_salaries;\n",
    "```\n",
    "\n",
    "- This command removes the `employee_salaries` view from the database."
   ]
  },
  {
   "cell_type": "markdown",
   "id": "6f042c9c-ebb5-432e-8b09-d06082b51ebd",
   "metadata": {
    "jp-MarkdownHeadingCollapsed": true
   },
   "source": [
    "### 3.7.5 Modifying a View"
   ]
  },
  {
   "cell_type": "markdown",
   "id": "e5a634fb-d01a-424e-a708-feca312c8468",
   "metadata": {},
   "source": [
    "**Syntax:**\n",
    "```sql\n",
    "CREATE OR REPLACE VIEW view_name AS\n",
    "SELECT column1, column2, ...\n",
    "FROM table_name\n",
    "WHERE condition;\n",
    "```\n",
    "\n",
    "**Example:**\n",
    "```sql\n",
    "CREATE OR REPLACE VIEW employee_salaries AS\n",
    "SELECT employee_name, salary, department_id\n",
    "FROM employees\n",
    "WHERE salary > 50000;\n",
    "```\n",
    "\n",
    "- This command updates the `employee_salaries` view to include the `department_id` column."
   ]
  },
  {
   "cell_type": "markdown",
   "id": "bfaea3a0-1777-4e32-9d2a-c8b1a0fa710e",
   "metadata": {
    "jp-MarkdownHeadingCollapsed": true
   },
   "source": [
    "### 3.7.6 Materialized Views (not supported in mySQL)"
   ]
  },
  {
   "cell_type": "markdown",
   "id": "52b2fd98-eae5-4e2f-9b5d-e6f4df09e665",
   "metadata": {},
   "source": [
    "**Definition:**\n",
    "- Unlike regular views, materialized views store the result set physically. They are useful for improving query performance by precomputing and storing complex aggregations.\n",
    "\n",
    "**Syntax (varies by database):**\n",
    "```sql\n",
    "CREATE MATERIALIZED VIEW view_name AS\n",
    "SELECT column1, column2, ...\n",
    "FROM table_name\n",
    "WHERE condition;\n",
    "```\n",
    "\n",
    "**Example (PostgreSQL):**\n",
    "```sql\n",
    "CREATE MATERIALIZED VIEW sales_summary AS\n",
    "SELECT region, SUM(sales_amount) AS total_sales\n",
    "FROM sales\n",
    "GROUP BY region;\n",
    "```\n",
    "\n",
    "- This creates a materialized view that stores the total sales per region."
   ]
  },
  {
   "cell_type": "markdown",
   "id": "045e8588-24b0-4942-8c23-c85f00069771",
   "metadata": {
    "jp-MarkdownHeadingCollapsed": true
   },
   "source": [
    "### 3.7.7 Performance Considerations"
   ]
  },
  {
   "cell_type": "markdown",
   "id": "ee3054a3-f649-4c57-a89c-4cb9545987f1",
   "metadata": {},
   "source": [
    "- **Views:** Performance is similar to running the query directly, as the view query is executed each time the view is accessed.\n",
    "- **Materialized Views:** Improve performance by storing the result set but require refreshes to keep data up-to-date."
   ]
  },
  {
   "cell_type": "markdown",
   "id": "918334f1-6453-4ac5-891c-3fa518e14d46",
   "metadata": {
    "jp-MarkdownHeadingCollapsed": true
   },
   "source": [
    "### 3.7.8 Security and Access Control"
   ]
  },
  {
   "cell_type": "markdown",
   "id": "d20989de-7a4b-4ee9-8a94-91c1238456c6",
   "metadata": {},
   "source": [
    "- **Security:** Views can restrict access to sensitive columns or rows by only exposing specific parts of the data.\n",
    "- **Access Control:** Users can be granted access to views without giving them direct access to the underlying tables.\n",
    "\n",
    "**Example: Granting Access:**\n",
    "```sql\n",
    "GRANT SELECT ON view_name TO user;\n",
    "```\n",
    "\n",
    "**Example: Revoking Access:**\n",
    "```sql\n",
    "REVOKE SELECT ON view_name FROM user;\n",
    "```"
   ]
  },
  {
   "cell_type": "markdown",
   "id": "e67060f8-b6c9-473b-a972-3d525a886658",
   "metadata": {},
   "source": [
    "# 4. Data Control Language (DCL) `INCOMPLETE`"
   ]
  },
  {
   "cell_type": "markdown",
   "id": "029fa59c-62d6-4473-873e-bfcee3d67c02",
   "metadata": {},
   "source": [
    "# 5. Transaction Control Language (TCL) `INCOMPLETE`"
   ]
  },
  {
   "cell_type": "markdown",
   "id": "2aa7d6af-d4ef-462c-b1fd-37cd7c273240",
   "metadata": {},
   "source": [
    "# 6. Stored Procedures and Functions `INCOMPLETE`"
   ]
  },
  {
   "cell_type": "markdown",
   "id": "30fc0e03-40db-4354-a0d4-71a4a0b18069",
   "metadata": {},
   "source": [
    "# 7. Triggers `INCOMPLETE`"
   ]
  },
  {
   "cell_type": "markdown",
   "id": "6a2f68b1-a0e5-4fab-824c-b1a3a0b372ba",
   "metadata": {},
   "source": [
    "# 8. Window Functions `INCOMPLETE`"
   ]
  }
 ],
 "metadata": {
  "kernelspec": {
   "display_name": "Python 3 (ipykernel)",
   "language": "python",
   "name": "python3"
  },
  "language_info": {
   "codemirror_mode": {
    "name": "ipython",
    "version": 3
   },
   "file_extension": ".py",
   "mimetype": "text/x-python",
   "name": "python",
   "nbconvert_exporter": "python",
   "pygments_lexer": "ipython3",
   "version": "3.12.4"
  }
 },
 "nbformat": 4,
 "nbformat_minor": 5
}
