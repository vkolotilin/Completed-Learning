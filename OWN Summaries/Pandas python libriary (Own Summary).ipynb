{
 "cells": [
  {
   "cell_type": "markdown",
   "id": "fdef084d-c43d-47e6-9598-bacbcd65f036",
   "metadata": {
    "jp-MarkdownHeadingCollapsed": true
   },
   "source": [
    "# Introduction"
   ]
  },
  {
   "cell_type": "markdown",
   "id": "36dd16da-14cd-4873-8807-462d8c17556b",
   "metadata": {
    "jp-MarkdownHeadingCollapsed": true
   },
   "source": [
    "## Overview of Pandas"
   ]
  },
  {
   "cell_type": "markdown",
   "id": "3f5a0164-a7bc-4807-a0b1-da0c73a0f7a6",
   "metadata": {},
   "source": [
    "Pandas is an open-source data analysis and manipulation library for Python. It provides data structures and functions needed to manipulate structured data seamlessly. Built on top of NumPy, Pandas integrates with other popular Python libraries and tools used for data analysis and visualization.\n",
    "\n",
    "Key Features of Pandas:\n",
    "- Fast and efficient DataFrame object for data manipulation with integrated indexing.\n",
    "- Tools for reading and writing data between in-memory data structures and different formats (e.g., CSV, text, Excel, SQL databases).\n",
    "- Data alignment and integrated handling of missing data.\n",
    "- Reshaping and pivoting of data sets.\n",
    "- Label-based slicing, indexing, and subsetting of large data sets.\n",
    "- Data structure merging and joining.\n",
    "- Time series functionality."
   ]
  },
  {
   "cell_type": "markdown",
   "id": "24d1751a-50a5-478a-92f0-70ee15800a96",
   "metadata": {
    "jp-MarkdownHeadingCollapsed": true
   },
   "source": [
    "## Installation and Setup"
   ]
  },
  {
   "cell_type": "markdown",
   "id": "062199ea-950a-493a-a858-b4d75cd200af",
   "metadata": {},
   "source": [
    "To install Pandas, you can use pip, the Python package installer. Open your command line interface and run:\n",
    "\n",
    "```sh\n",
    "pip install pandas\n",
    "```\n",
    "\n",
    "If you are using Anaconda, you can install Pandas using the conda package manager:\n",
    "\n",
    "```sh\n",
    "conda install pandas\n",
    "```\n",
    "\n",
    "To ensure Pandas is installed correctly, you can check its version:\n",
    "\n",
    "```python\n",
    "import pandas as pd\n",
    "print(pd.__version__)\n",
    "```"
   ]
  },
  {
   "cell_type": "markdown",
   "id": "5af66798-f61f-4900-9062-b0a35f560ad2",
   "metadata": {
    "jp-MarkdownHeadingCollapsed": true
   },
   "source": [
    "## Importing Pandas"
   ]
  },
  {
   "cell_type": "markdown",
   "id": "5381d224-3e68-4fcf-b01a-be37eec72b4a",
   "metadata": {},
   "source": [
    "Before you can use Pandas in your Python script or Jupyter Notebook, you need to import it. The common convention is to import Pandas as `pd`:\n",
    "\n",
    "```python\n",
    "import pandas as pd\n",
    "```\n",
    "\n",
    "This aliasing makes it easier to call Pandas functions and methods."
   ]
  },
  {
   "cell_type": "markdown",
   "id": "adff514c-9202-4ced-b873-c94bc8187a7e",
   "metadata": {
    "jp-MarkdownHeadingCollapsed": true
   },
   "source": [
    "## Basic Workflow with Pandas"
   ]
  },
  {
   "cell_type": "markdown",
   "id": "58ad0951-aa98-4563-8a3b-e995a8e05c36",
   "metadata": {},
   "source": [
    "1. **Load Data**: Read data from various file formats such as CSV, Excel, or SQL databases into a DataFrame.\n",
    "2. **Inspect Data**: Examine the structure, summary statistics, and first few rows of the DataFrame to understand its contents.\n",
    "3. **Clean Data**: Handle missing values, remove duplicates, and correct data types.\n",
    "4. **Analyze Data**: Perform operations like filtering, grouping, and aggregating to gain insights from the data.\n",
    "5. **Visualize Data**: Generate plots and charts to visualize the results of your analysis.\n",
    "6. **Export Data**: Save the processed data back to a file or database."
   ]
  },
  {
   "cell_type": "markdown",
   "id": "b64fee42-eb28-4d90-84d6-e22f2ce1c331",
   "metadata": {
    "jp-MarkdownHeadingCollapsed": true
   },
   "source": [
    "## Example Workflow"
   ]
  },
  {
   "cell_type": "markdown",
   "id": "760dd17e-7cd8-423f-8237-b3b2a5a0993e",
   "metadata": {},
   "source": [
    "```python\n",
    "# Importing pandas\n",
    "import pandas as pd\n",
    "\n",
    "# Load data\n",
    "df = pd.read_csv('data.csv')\n",
    "\n",
    "# Inspect data\n",
    "print(df.head())\n",
    "print(df.info())\n",
    "\n",
    "# Clean data\n",
    "df.dropna(inplace=True)\n",
    "df['column'] = df['column'].astype(int)\n",
    "\n",
    "# Analyze data\n",
    "grouped = df.groupby('category').sum()\n",
    "\n",
    "# Visualize data\n",
    "grouped.plot(kind='bar')\n",
    "\n",
    "# Export data\n",
    "grouped.to_csv('cleaned_data.csv')\n",
    "```"
   ]
  },
  {
   "cell_type": "markdown",
   "id": "dc0cf6d4-bb33-46ba-8239-174be74145b5",
   "metadata": {
    "jp-MarkdownHeadingCollapsed": true
   },
   "source": [
    "# Input and Output"
   ]
  },
  {
   "cell_type": "markdown",
   "id": "65b14ae8-d408-41e8-a07a-9dfcaf5706c9",
   "metadata": {
    "jp-MarkdownHeadingCollapsed": true
   },
   "source": [
    "## Reading Data"
   ]
  },
  {
   "cell_type": "markdown",
   "id": "0b898f6a-fc59-4a8e-86b0-07c6a3fbfbbb",
   "metadata": {},
   "source": [
    "- **From CSV**\n",
    "  - `pd.read_csv(filepath_or_buffer, **kwargs)`\n",
    "    - Examples\n",
    "      ```python\n",
    "      import pandas as pd\n",
    "      \n",
    "      # Reading a CSV file\n",
    "      df = pd.read_csv('data.csv')\n",
    "      print(df.head())\n",
    "      ```\n",
    "- **From Excel**\n",
    "  - `pd.read_excel(io, **kwargs)`\n",
    "    - Examples\n",
    "      ```python\n",
    "      # Reading an Excel file\n",
    "      df = pd.read_excel('data.xlsx')\n",
    "      print(df.head())\n",
    "      ```\n",
    "- **From SQL**\n",
    "  - `pd.read_sql(sql, con, **kwargs)`\n",
    "    - Examples\n",
    "      ```python\n",
    "      import sqlite3\n",
    "      \n",
    "      # Establishing a connection\n",
    "      conn = sqlite3.connect('database.db')\n",
    "      \n",
    "      # Reading from SQL\n",
    "      df = pd.read_sql('SELECT * FROM table_name', conn)\n",
    "      print(df.head())\n",
    "      ```\n",
    "- **From JSON**\n",
    "  - `pd.read_json(path_or_buf, **kwargs)`\n",
    "    - Examples\n",
    "      ```python\n",
    "      # Reading a JSON file\n",
    "      df = pd.read_json('data.json')\n",
    "      print(df.head())\n",
    "      ```\n",
    "- **Other Formats**\n",
    "  - **HDF5**: `pd.read_hdf(path_or_buf, key=None, **kwargs)`\n",
    "  - **Parquet**: `pd.read_parquet(path, engine='auto', **kwargs)`\n",
    "  - **Feather**: `pd.read_feather(path, **kwargs)`"
   ]
  },
  {
   "cell_type": "markdown",
   "id": "b44f276d-ac80-4ecd-a03e-386c366f40e9",
   "metadata": {
    "jp-MarkdownHeadingCollapsed": true
   },
   "source": [
    "## Writing Data"
   ]
  },
  {
   "cell_type": "markdown",
   "id": "20eaecc6-5e88-49f4-acd5-3ba8416935d0",
   "metadata": {},
   "source": [
    "- **To CSV**\n",
    "  - `DataFrame.to_csv(path_or_buf, **kwargs)`\n",
    "    - Examples\n",
    "      ```python\n",
    "      # Writing to a CSV file\n",
    "      df.to_csv('output.csv', index=False)\n",
    "      ```\n",
    "- **To Excel**\n",
    "  - `DataFrame.to_excel(excel_writer, **kwargs)`\n",
    "    - Examples\n",
    "      ```python\n",
    "      # Writing to an Excel file\n",
    "      df.to_excel('output.xlsx', index=False)\n",
    "      ```\n",
    "- **To SQL**\n",
    "  - `DataFrame.to_sql(name, con, **kwargs)`\n",
    "    - Examples\n",
    "      ```python\n",
    "      import sqlite3\n",
    "      \n",
    "      # Establishing a connection\n",
    "      conn = sqlite3.connect('database.db')\n",
    "      \n",
    "      # Writing to SQL\n",
    "      df.to_sql('table_name', conn, if_exists='replace', index=False)\n",
    "      ```\n",
    "- **To JSON**\n",
    "  - `DataFrame.to_json(path_or_buf=None, **kwargs)`\n",
    "    - Examples\n",
    "      ```python\n",
    "      # Writing to a JSON file\n",
    "      df.to_json('output.json')\n",
    "      ```\n",
    "- **Other Formats**\n",
    "  - **HDF5**: `DataFrame.to_hdf(path_or_buf, key, **kwargs)`\n",
    "  - **Parquet**: `DataFrame.to_parquet(path, engine='auto', **kwargs)`\n",
    "  - **Feather**: `DataFrame.to_feather(path, **kwargs)`"
   ]
  },
  {
   "cell_type": "markdown",
   "id": "54ca041f-da94-4d9b-8008-605fc8909e64",
   "metadata": {
    "jp-MarkdownHeadingCollapsed": true
   },
   "source": [
    "# Data Structures"
   ]
  },
  {
   "cell_type": "markdown",
   "id": "7475b0f8-fe07-4dc4-bb91-5e4432d4641b",
   "metadata": {
    "jp-MarkdownHeadingCollapsed": true
   },
   "source": [
    "## Series"
   ]
  },
  {
   "cell_type": "markdown",
   "id": "6785c2f6-6506-45ad-84b4-f472a615283d",
   "metadata": {},
   "source": [
    "The `Series` is one of the fundamental data structures in Pandas. It is essentially a one-dimensional array with labels (indices) for each element, which can hold any data type such as integers, floats, strings, etc."
   ]
  },
  {
   "cell_type": "markdown",
   "id": "3945d703-e88a-4c00-b181-49f432044177",
   "metadata": {
    "jp-MarkdownHeadingCollapsed": true
   },
   "source": [
    "### Creating a Series"
   ]
  },
  {
   "cell_type": "markdown",
   "id": "3c83db28-eac2-4552-a163-b307da52d4e5",
   "metadata": {},
   "source": [
    "You can create a `Series` from various data structures like lists, dictionaries, and arrays.\n",
    "\n",
    "1. **From a List or Array:**\n",
    "\n",
    "   ```python\n",
    "   import pandas as pd\n",
    "\n",
    "   # Creating a Series from a list\n",
    "   s = pd.Series([1, 2, 3, 4])\n",
    "   print(s)\n",
    "   ```\n",
    "\n",
    "   **Output:**\n",
    "   ```\n",
    "   0    1\n",
    "   1    2\n",
    "   2    3\n",
    "   3    4\n",
    "   dtype: int64\n",
    "   ```\n",
    "\n",
    "2. **From a Dictionary:**\n",
    "\n",
    "   ```python\n",
    "   # Creating a Series from a dictionary\n",
    "   s = pd.Series({'a': 1, 'b': 2, 'c': 3})\n",
    "   print(s)\n",
    "   ```\n",
    "\n",
    "   **Output:**\n",
    "   ```\n",
    "   a    1\n",
    "   b    2\n",
    "   c    3\n",
    "   dtype: int64\n",
    "   ```\n",
    "\n",
    "3. **With Custom Index:**\n",
    "\n",
    "   ```python\n",
    "   # Creating a Series with a custom index\n",
    "   s = pd.Series([10, 20, 30], index=['x', 'y', 'z'])\n",
    "   print(s)\n",
    "   ```\n",
    "\n",
    "   **Output:**\n",
    "   ```\n",
    "   x    10\n",
    "   y    20\n",
    "   z    30\n",
    "   dtype: int64\n",
    "   ```"
   ]
  },
  {
   "cell_type": "markdown",
   "id": "96aaacb4-6ed4-48ee-aa2a-e7751703503d",
   "metadata": {
    "jp-MarkdownHeadingCollapsed": true
   },
   "source": [
    "### Accessing Data in Series"
   ]
  },
  {
   "cell_type": "markdown",
   "id": "2443423e-11ac-49d2-a4bf-e5066ba8d047",
   "metadata": {},
   "source": [
    "You can access elements in a `Series` by their index label or position.\n",
    "\n",
    "1. **By Index Label:**\n",
    "\n",
    "   ```python\n",
    "   print(s['a'])  # Accessing by index label\n",
    "   ```\n",
    "\n",
    "   **Output:**\n",
    "   ```\n",
    "   1\n",
    "   ```\n",
    "\n",
    "2. **By Position:**\n",
    "\n",
    "   ```python\n",
    "   print(s[0])  # Accessing by position\n",
    "   ```\n",
    "\n",
    "   **Output:**\n",
    "   ```\n",
    "   1\n",
    "   ```\n",
    "\n",
    "3. **Slicing:**\n",
    "\n",
    "   ```python\n",
    "   print(s[1:3])  # Slicing\n",
    "   ```\n",
    "\n",
    "   **Output:**\n",
    "   ```\n",
    "   b    2\n",
    "   c    3\n",
    "   dtype: int64\n",
    "   ```"
   ]
  },
  {
   "cell_type": "markdown",
   "id": "10086a25-8a4a-486a-bdcf-5a54cd728445",
   "metadata": {
    "jp-MarkdownHeadingCollapsed": true
   },
   "source": [
    "### Series Operations"
   ]
  },
  {
   "cell_type": "markdown",
   "id": "1a8aff4f-5caa-4645-a0da-6b198cf7dcb2",
   "metadata": {},
   "source": [
    "Perform operations on a `Series` such as arithmetic and statistical computations.\n",
    "\n",
    "1. **Arithmetic Operations:**\n",
    "\n",
    "   ```python\n",
    "   s1 = pd.Series([1, 2, 3])\n",
    "   s2 = pd.Series([4, 5, 6])\n",
    "   print(s1 + s2)  # Addition\n",
    "   ```\n",
    "\n",
    "   **Output:**\n",
    "   ```\n",
    "   0    5\n",
    "   1    7\n",
    "   2    9\n",
    "   dtype: int64\n",
    "   ```\n",
    "\n",
    "2. **Statistical Operations:**\n",
    "\n",
    "   ```python\n",
    "   print(s.mean())  # Mean\n",
    "   print(s.sum())   # Sum\n",
    "   ```\n",
    "\n",
    "   **Output:**\n",
    "   ```\n",
    "   Mean: 20.0\n",
    "   Sum: 60\n",
    "   ```"
   ]
  },
  {
   "cell_type": "markdown",
   "id": "ecd40fd3-393a-424d-8d89-b8a8e361011c",
   "metadata": {
    "jp-MarkdownHeadingCollapsed": true
   },
   "source": [
    "## DataFrame"
   ]
  },
  {
   "cell_type": "markdown",
   "id": "6b518a80-736f-4546-b2c7-2f99352f2871",
   "metadata": {},
   "source": [
    "The `DataFrame` is a two-dimensional, size-mutable, and heterogeneous tabular data structure with labeled axes (rows and columns). It is the most commonly used Pandas object for data manipulation."
   ]
  },
  {
   "cell_type": "markdown",
   "id": "13e8fbe8-2d39-492b-a289-1928ea08dfeb",
   "metadata": {
    "jp-MarkdownHeadingCollapsed": true
   },
   "source": [
    "### Creating a DataFrame"
   ]
  },
  {
   "cell_type": "markdown",
   "id": "fae621c5-13af-4ddd-8174-e1727c2ec1d6",
   "metadata": {},
   "source": [
    "You can create a `DataFrame` from dictionaries, lists, and other data structures.\n",
    "\n",
    "1. **From a Dictionary of Lists:**\n",
    "\n",
    "   ```python\n",
    "   # Creating a DataFrame from a dictionary of lists\n",
    "   df = pd.DataFrame({\n",
    "       'A': [1, 2, 3],\n",
    "       'B': [4, 5, 6]\n",
    "   })\n",
    "   print(df)\n",
    "   ```\n",
    "\n",
    "   **Output:**\n",
    "   ```\n",
    "      A  B\n",
    "   0  1  4\n",
    "   1  2  5\n",
    "   2  3  6\n",
    "   ```\n",
    "\n",
    "2. **From a List of Dictionaries:**\n",
    "\n",
    "   ```python\n",
    "   # Creating a DataFrame from a list of dictionaries\n",
    "   df = pd.DataFrame([\n",
    "       {'A': 1, 'B': 4},\n",
    "       {'A': 2, 'B': 5},\n",
    "       {'A': 3, 'B': 6}\n",
    "   ])\n",
    "   print(df)\n",
    "   ```\n",
    "\n",
    "   **Output:**\n",
    "   ```\n",
    "      A  B\n",
    "   0  1  4\n",
    "   1  2  5\n",
    "   2  3  6\n",
    "   ```\n",
    "\n",
    "3. **With Custom Index and Columns:**\n",
    "\n",
    "   ```python\n",
    "   # Creating a DataFrame with custom index and columns\n",
    "   df = pd.DataFrame({\n",
    "       'A': [1, 2, 3],\n",
    "       'B': [4, 5, 6]\n",
    "   }, index=['row1', 'row2', 'row3'])\n",
    "   print(df)\n",
    "   ```\n",
    "\n",
    "   **Output:**\n",
    "   ```\n",
    "         A  B\n",
    "   row1  1  4\n",
    "   row2  2  5\n",
    "   row3  3  6\n",
    "   ```"
   ]
  },
  {
   "cell_type": "markdown",
   "id": "f550529f-7aab-4acb-97db-4e49b224bc54",
   "metadata": {
    "jp-MarkdownHeadingCollapsed": true
   },
   "source": [
    "### Accessing Data in DataFrame"
   ]
  },
  {
   "cell_type": "markdown",
   "id": "0e048eb1-813c-4200-90f7-d5769ae546b2",
   "metadata": {},
   "source": [
    "Access elements, rows, and columns using labels or positions.\n",
    "\n",
    "1. **By Column Label:**\n",
    "\n",
    "   ```python\n",
    "   print(df['A'])  # Accessing a single column\n",
    "   ```\n",
    "\n",
    "   **Output:**\n",
    "   ```\n",
    "   row1    1\n",
    "   row2    2\n",
    "   row3    3\n",
    "   Name: A, dtype: int64\n",
    "   ```\n",
    "\n",
    "2. **By Row Index:**\n",
    "\n",
    "   ```python\n",
    "   print(df.loc['row1'])  # Accessing by row index label\n",
    "   ```\n",
    "\n",
    "   **Output:**\n",
    "   ```\n",
    "   A    1\n",
    "   B    4\n",
    "   Name: row1, dtype: int64\n",
    "   ```\n",
    "\n",
    "3. **By Position:**\n",
    "\n",
    "   ```python\n",
    "   print(df.iloc[0])  # Accessing by position\n",
    "   ```\n",
    "\n",
    "   **Output:**\n",
    "   ```\n",
    "   A    1\n",
    "   B    4\n",
    "   Name: row1, dtype: int64\n",
    "   ```\n",
    "\n",
    "4. **Slicing:**\n",
    "\n",
    "   ```python\n",
    "   print(df.iloc[0:2])  # Slicing rows\n",
    "   ```\n",
    "\n",
    "   **Output:**\n",
    "   ```\n",
    "         A  B\n",
    "   row1  1  4\n",
    "   row2  2  5\n",
    "   ```"
   ]
  },
  {
   "cell_type": "markdown",
   "id": "27dd33b5-205a-4449-a2ee-9dcb9f0beb02",
   "metadata": {
    "jp-MarkdownHeadingCollapsed": true
   },
   "source": [
    "### DataFrame Operations"
   ]
  },
  {
   "cell_type": "markdown",
   "id": "ebd78604-ad0e-45af-84b0-9880d0dc88d7",
   "metadata": {},
   "source": [
    "Perform various operations such as arithmetic and statistical computations on a `DataFrame`.\n",
    "\n",
    "1. **Arithmetic Operations:**\n",
    "\n",
    "   ```python\n",
    "   df1 = pd.DataFrame({'A': [1, 2], 'B': [3, 4]})\n",
    "   df2 = pd.DataFrame({'A': [5, 6], 'B': [7, 8]})\n",
    "   print(df1 + df2)  # Addition\n",
    "   ```\n",
    "\n",
    "   **Output:**\n",
    "   ```\n",
    "      A   B\n",
    "   0  6  10\n",
    "   1  8  12\n",
    "   ```\n",
    "\n",
    "2. **Statistical Operations:**\n",
    "\n",
    "   ```python\n",
    "   print(df.mean())  # Mean of each column\n",
    "   print(df.sum())   # Sum of each column\n",
    "   ```\n",
    "\n",
    "   **Output:**\n",
    "   ```\n",
    "   Mean:\n",
    "   A    2.0\n",
    "   B    5.0\n",
    "   dtype: float64\n",
    "\n",
    "   Sum:\n",
    "   A     6\n",
    "   B    15\n",
    "   dtype: int64\n",
    "   ```\n",
    "\n",
    "3. **Apply Functions:**\n",
    "\n",
    "   ```python\n",
    "   # Applying a function to each element\n",
    "   print(df.apply(lambda x: x * 2))\n",
    "   ```\n",
    "\n",
    "   **Output:**\n",
    "   ```python\n",
    "      A   B\n",
    "   0  2   6\n",
    "   1  4   8\n",
    "   ```\n",
    "\n",
    "4. **Handling Missing Data:**\n",
    "\n",
    "   ```python\n",
    "   df_with_nan = pd.DataFrame({'A': [1, 2, None], 'B': [None, 5, 6]})\n",
    "\n",
    "   # Filling missing values with a specific value\n",
    "   print(df_with_nan.fillna(0))\n",
    "\n",
    "   # Dropping rows with any missing values\n",
    "   print(df_with_nan.dropna())\n",
    "   ```\n",
    "\n",
    "   **Output:**\n",
    "   ```\n",
    "   Filled with 0:\n",
    "      A    B\n",
    "   0  1.0  0.0\n",
    "   1  2.0  5.0\n",
    "   2  0.0  6.0\n",
    "\n",
    "   Dropped missing values:\n",
    "      A    B\n",
    "   1  2.0  5.0\n",
    "   ```"
   ]
  },
  {
   "cell_type": "markdown",
   "id": "d0709208-c028-404b-8317-1d53940753c8",
   "metadata": {},
   "source": [
    "# Data Manipulation"
   ]
  },
  {
   "cell_type": "markdown",
   "id": "469d7a1d-49fb-4c81-85a2-f4a32ee887b6",
   "metadata": {
    "jp-MarkdownHeadingCollapsed": true
   },
   "source": [
    "## Indexing and Selection"
   ]
  },
  {
   "cell_type": "markdown",
   "id": "f847793f-4223-4a81-9c46-46e353e0dbcc",
   "metadata": {},
   "source": [
    "Indexing and selection are critical for extracting specific parts of data in a `DataFrame` or `Series`. This section covers various methods for accessing and filtering data."
   ]
  },
  {
   "cell_type": "markdown",
   "id": "eda61dc4-b9b5-446f-889d-a5b92679676e",
   "metadata": {
    "jp-MarkdownHeadingCollapsed": true
   },
   "source": [
    "### Selection by Label"
   ]
  },
  {
   "cell_type": "markdown",
   "id": "9b2caf37-99fd-4afe-b194-d09c89e479b9",
   "metadata": {},
   "source": [
    "1. **Selecting Columns:**\n",
    "\n",
    "   To select columns from a `DataFrame`, you can use column labels.\n",
    "\n",
    "   ```python\n",
    "   import pandas as pd\n",
    "\n",
    "   # Creating a DataFrame\n",
    "   df = pd.DataFrame({\n",
    "       'A': [1, 2, 3],\n",
    "       'B': [4, 5, 6]\n",
    "   })\n",
    "\n",
    "   # Selecting a single column\n",
    "   print(df['A'])\n",
    "   ```\n",
    "\n",
    "   **Output:**\n",
    "   ```\n",
    "   0    1\n",
    "   1    2\n",
    "   2    3\n",
    "   Name: A, dtype: int64\n",
    "   ```\n",
    "\n",
    "   ```python\n",
    "   # Selecting multiple columns\n",
    "   print(df[['A', 'B']])\n",
    "   ```\n",
    "\n",
    "   **Output:**\n",
    "   ```\n",
    "      A  B\n",
    "   0  1  4\n",
    "   1  2  5\n",
    "   2  3  6\n",
    "   ```\n",
    "\n",
    "2. **Selecting Rows by Index Label:**\n",
    "\n",
    "   Use `loc` to select rows by their index labels.\n",
    "\n",
    "   ```python\n",
    "   # Creating a DataFrame with custom index\n",
    "   df = pd.DataFrame({\n",
    "       'A': [1, 2, 3],\n",
    "       'B': [4, 5, 6]\n",
    "   }, index=['row1', 'row2', 'row3'])\n",
    "\n",
    "   # Selecting a single row by index label\n",
    "   print(df.loc['row1'])\n",
    "   ```\n",
    "\n",
    "   **Output:**\n",
    "   ```\n",
    "   A    1\n",
    "   B    4\n",
    "   Name: row1, dtype: int64\n",
    "   ```\n",
    "\n",
    "   ```python\n",
    "   # Selecting multiple rows by index labels\n",
    "   print(df.loc[['row1', 'row2']])\n",
    "   ```\n",
    "\n",
    "   **Output:**\n",
    "   ```\n",
    "         A  B\n",
    "   row1  1  4\n",
    "   row2  2  5\n",
    "   ```"
   ]
  },
  {
   "cell_type": "markdown",
   "id": "4ecf2c83-1b40-461b-b1f5-391ca6f54fc1",
   "metadata": {
    "jp-MarkdownHeadingCollapsed": true
   },
   "source": [
    "### Selection by Position"
   ]
  },
  {
   "cell_type": "markdown",
   "id": "90e23035-c77f-42af-80d3-f2bb7d2e0f2b",
   "metadata": {},
   "source": [
    "1. **Selecting Rows by Position:**\n",
    "\n",
    "   Use `iloc` to select rows based on their integer position.\n",
    "\n",
    "   ```python\n",
    "   # Selecting rows by integer position\n",
    "   print(df.iloc[0])  # First row\n",
    "   ```\n",
    "\n",
    "   **Output:**\n",
    "   ```\n",
    "   A    1\n",
    "   B    4\n",
    "   Name: row1, dtype: int64\n",
    "   ```\n",
    "\n",
    "   ```python\n",
    "   # Selecting a range of rows\n",
    "   print(df.iloc[0:2])  # First two rows\n",
    "   ```\n",
    "\n",
    "   **Output:**\n",
    "   ```\n",
    "         A  B\n",
    "   row1  1  4\n",
    "   row2  2  5\n",
    "   ```\n",
    "\n",
    "2. **Selecting Specific Rows and Columns by Position:**\n",
    "\n",
    "   ```python\n",
    "   # Selecting specific rows and columns by position\n",
    "   print(df.iloc[0, 1])  # Element at first row and second column\n",
    "   ```\n",
    "\n",
    "   **Output:**\n",
    "   ```\n",
    "   4\n",
    "   ```\n",
    "\n",
    "   ```python\n",
    "   # Selecting a subset of the DataFrame\n",
    "   print(df.iloc[0:2, 0:2])\n",
    "   ```\n",
    "\n",
    "   **Output:**\n",
    "   ```\n",
    "         A  B\n",
    "   row1  1  4\n",
    "   row2  2  5\n",
    "   ```"
   ]
  },
  {
   "cell_type": "markdown",
   "id": "8316e5dd-cdd2-4618-9ff2-268c2566bf13",
   "metadata": {
    "jp-MarkdownHeadingCollapsed": true
   },
   "source": [
    "### Boolean Indexing"
   ]
  },
  {
   "cell_type": "markdown",
   "id": "3e4c35a9-0316-4273-b6a0-380010b4399f",
   "metadata": {},
   "source": [
    "Boolean indexing allows filtering of data based on conditions.\n",
    "\n",
    "1. **Filtering Rows Based on a Condition:**\n",
    "\n",
    "   ```python\n",
    "   # Filtering rows where column 'A' is greater than 1\n",
    "   print(df[df['A'] > 1])\n",
    "   ```\n",
    "\n",
    "   **Output:**\n",
    "   ```\n",
    "         A  B\n",
    "   row2  2  5\n",
    "   row3  3  6\n",
    "   ```\n",
    "\n",
    "2. **Filtering with Multiple Conditions:**\n",
    "\n",
    "   ```python\n",
    "   # Filtering rows where column 'A' is greater than 1 and column 'B' is less than 6\n",
    "   print(df[(df['A'] > 1) & (df['B'] < 6)])\n",
    "   ```\n",
    "\n",
    "   **Output:**\n",
    "   ```\n",
    "         A  B\n",
    "   row2  2  5\n",
    "   ```"
   ]
  },
  {
   "cell_type": "markdown",
   "id": "e61a92ef-5031-4231-be01-f5ba35b7e1ea",
   "metadata": {},
   "source": [
    "## Data Cleaning"
   ]
  },
  {
   "cell_type": "markdown",
   "id": "23dd60ee-ddd2-4ccd-a819-fcefb6301e26",
   "metadata": {},
   "source": [
    "Data cleaning involves preparing your data for analysis by handling missing data, removing duplicates, and correcting data types."
   ]
  },
  {
   "cell_type": "markdown",
   "id": "750caf3e-b23d-4492-a0ad-a1a044f6d98d",
   "metadata": {
    "jp-MarkdownHeadingCollapsed": true
   },
   "source": [
    "### Handling Missing Data"
   ]
  },
  {
   "cell_type": "markdown",
   "id": "c64cb714-45c9-4a33-bf92-80f6f6f30103",
   "metadata": {},
   "source": [
    "1. **Detecting Missing Data:**\n",
    "\n",
    "   ```python\n",
    "   df = pd.DataFrame({\n",
    "       'A': [1, 2, None],\n",
    "       'B': [None, 5, 6]\n",
    "   })\n",
    "\n",
    "   # Detecting missing values\n",
    "   print(df.isna())\n",
    "   ```\n",
    "\n",
    "   **Output:**\n",
    "   ```\n",
    "        A      B\n",
    "   0  False   True\n",
    "   1  False  False\n",
    "   2   True  False\n",
    "   ```\n",
    "\n",
    "2. **Filling Missing Data:**\n",
    "\n",
    "   ```python\n",
    "   # Filling missing values with a specific value\n",
    "   print(df.fillna(0))\n",
    "   ```\n",
    "\n",
    "   **Output:**\n",
    "   ```\n",
    "      A    B\n",
    "   0  1.0  0.0\n",
    "   1  2.0  5.0\n",
    "   2  0.0  6.0\n",
    "   ```\n",
    "\n",
    "   ```python\n",
    "   # Filling missing values using forward fill\n",
    "   print(df.fillna(method='ffill'))\n",
    "   ```\n",
    "\n",
    "   **Output:**\n",
    "   ```\n",
    "      A    B\n",
    "   0  1.0  NaN\n",
    "   1  2.0  5.0\n",
    "   2  2.0  6.0\n",
    "   ```\n",
    "\n",
    "3. **Dropping Missing Data:**\n",
    "\n",
    "   ```python\n",
    "   # Dropping rows with any missing values\n",
    "   print(df.dropna())\n",
    "   ```\n",
    "\n",
    "   **Output:**\n",
    "   ```\n",
    "      A  B\n",
    "   1  2  5\n",
    "   ```\n",
    "\n",
    "   ```python\n",
    "   # Dropping columns with any missing values\n",
    "   print(df.dropna(axis=1))\n",
    "   ```\n",
    "\n",
    "   **Output:**\n",
    "   ```\n",
    "      B\n",
    "   1  5\n",
    "   2  6\n",
    "   ```"
   ]
  },
  {
   "cell_type": "markdown",
   "id": "dd75259c-a338-4563-b60d-3989022847a1",
   "metadata": {
    "jp-MarkdownHeadingCollapsed": true
   },
   "source": [
    "### Removing Duplicates"
   ]
  },
  {
   "cell_type": "markdown",
   "id": "e687aab5-2478-4b70-a81e-283f51fbd91b",
   "metadata": {},
   "source": [
    "1. **Removing Duplicate Rows:**\n",
    "\n",
    "   ```python\n",
    "   df = pd.DataFrame({\n",
    "       'A': [1, 2, 2, 3],\n",
    "       'B': [4, 5, 5, 6]\n",
    "   })\n",
    "\n",
    "   # Removing duplicate rows\n",
    "   print(df.drop_duplicates())\n",
    "   ```\n",
    "\n",
    "   **Output:**\n",
    "   ```\n",
    "      A  B\n",
    "   0  1  4\n",
    "   1  2  5\n",
    "   3  3  6\n",
    "   ```\n",
    "\n",
    "2. **Removing Duplicate Rows Based on Specific Columns:**\n",
    "\n",
    "   ```python\n",
    "   # Removing duplicate rows based on column 'A'\n",
    "   print(df.drop_duplicates(subset='A'))\n",
    "   ```\n",
    "\n",
    "   **Output:**\n",
    "   ```\n",
    "      A  B\n",
    "   0  1  4\n",
    "   1  2  5\n",
    "   3  3  6\n",
    "   ```"
   ]
  },
  {
   "cell_type": "markdown",
   "id": "f5292c70-2620-4c9a-bd36-75937031ea1a",
   "metadata": {
    "jp-MarkdownHeadingCollapsed": true
   },
   "source": [
    "### Replacing Values"
   ]
  },
  {
   "cell_type": "markdown",
   "id": "60654092-10db-4020-867f-d37bf37e2d02",
   "metadata": {},
   "source": [
    "1. **Replacing Specific Values:**\n",
    "\n",
    "   ```python\n",
    "   df = pd.DataFrame({\n",
    "       'A': [1, 2, 3],\n",
    "       'B': [4, 5, 6]\n",
    "   })\n",
    "\n",
    "   # Replacing specific values\n",
    "   print(df.replace({1: 10, 4: 40}))\n",
    "   ```\n",
    "\n",
    "   **Output:**\n",
    "   ```\n",
    "      A   B\n",
    "   0  10  40\n",
    "   1   2   5\n",
    "   2   3   6\n",
    "   ```\n",
    "\n",
    "2. **Replacing Values with Conditions:**\n",
    "\n",
    "   ```python\n",
    "   # Replacing values in column 'A' where condition is met\n",
    "   df.loc[df['A'] == 2, 'A'] = 20\n",
    "   print(df)\n",
    "   ```\n",
    "\n",
    "   **Output:**\n",
    "   ```\n",
    "      A  B\n",
    "   0  10  40\n",
    "   1  20  5\n",
    "   2   3  6\n",
    "   ```"
   ]
  },
  {
   "cell_type": "markdown",
   "id": "5e2c7b3e-d5eb-4ec2-ab84-ecab2655b713",
   "metadata": {
    "jp-MarkdownHeadingCollapsed": true
   },
   "source": [
    "## Data Transformation"
   ]
  },
  {
   "cell_type": "markdown",
   "id": "5375bc7b-9304-4df5-a323-1159b4b8a199",
   "metadata": {},
   "source": [
    "Data transformation involves changing the format or structure of your data to better suit your analysis."
   ]
  },
  {
   "cell_type": "markdown",
   "id": "cd980932-cad4-4daa-ade8-27c0af7dd870",
   "metadata": {
    "jp-MarkdownHeadingCollapsed": true
   },
   "source": [
    "### Applying Functions"
   ]
  },
  {
   "cell_type": "markdown",
   "id": "a3f87fc3-c5f0-4958-ba29-75d8e19b2216",
   "metadata": {},
   "source": [
    "1. **Applying a Function to Each Element:**\n",
    "\n",
    "   ```python\n",
    "   df = pd.DataFrame({'A': [1, 2, 3]})\n",
    "\n",
    "   # Applying a function to each element\n",
    "   print(df.apply(lambda x: x * 2))\n",
    "   ```\n",
    "\n",
    "   **Output:**\n",
    "   ```\n",
    "      A\n",
    "   0  2\n",
    "   1  4\n",
    "   2  6\n",
    "   ```\n",
    "\n",
    "2. **Applying a Function to Each Column or Row:**\n",
    "\n",
    "   ```python\n",
    "   # Applying a function to each column\n",
    "   print(df.apply(lambda x: x.sum(), axis=0))\n",
    "   ```\n",
    "\n",
    "   **Output:**\n",
    "   ```\n",
    "   A    6\n",
    "   dtype: int64\n",
    "   ```\n",
    "\n",
    "   ```python\n",
    "   # Applying a function to each row\n",
    "   print(df.apply(lambda x: x.sum(), axis=1))\n",
    "   ```\n",
    "\n",
    "   **Output:**\n",
    "   ```\n",
    "   0    1\n",
    "   1    2\n",
    "   2    3\n",
    "   dtype: int64\n",
    "   ```"
   ]
  },
  {
   "cell_type": "markdown",
   "id": "c57cd422-ed62-475c-9fdd-f9f5b74122c6",
   "metadata": {
    "jp-MarkdownHeadingCollapsed": true
   },
   "source": [
    "### Mapping and Renaming"
   ]
  },
  {
   "cell_type": "markdown",
   "id": "6010b8af-fd2e-45ce-8ad0-515529b77323",
   "metadata": {},
   "source": [
    "1. **Mapping Values Using a Dictionary:**\n",
    "\n",
    "   ```python\n",
    "   df = pd.DataFrame({'A': ['cat', 'dog', 'bird']})\n",
    "\n",
    "   # Mapping values\n",
    "   ```\n",
    "   \n",
    "   ```python\n",
    "   using a dictionary\n",
    "   print(df['A'].map({'cat': 'feline', 'dog': 'canine'}))\n",
    "   \n",
    "   ```\n",
    "\n",
    "   **Output:**\n",
    "   ```\n",
    "   0    feline\n",
    "   1    canine\n",
    "   2      NaN\n",
    "   Name: A, dtype: object\n",
    "   ```\n",
    "\n",
    "2. **Renaming Columns and Index:**\n",
    "\n",
    "   ```python\n",
    "   # Renaming columns\n",
    "   df = pd.DataFrame({'A': [1, 2], 'B': [3, 4]})\n",
    "   df.columns = ['X', 'Y']\n",
    "   print(df)\n",
    "   ```\n",
    "\n",
    "   **Output:**\n",
    "   ```\n",
    "      X  Y\n",
    "   0  1  3\n",
    "   1  2  4\n",
    "   ```\n",
    "\n",
    "   ```python\n",
    "   # Renaming index\n",
    "   df.index = ['row1', 'row2']\n",
    "   print(df)\n",
    "   ```\n",
    "\n",
    "   **Output:**\n",
    "   ```\n",
    "         X  Y\n",
    "   row1  1  3\n",
    "   row2  2  4\n",
    "   ```"
   ]
  },
  {
   "cell_type": "markdown",
   "id": "e021da04-119b-4a87-82d3-cdc0454e0a18",
   "metadata": {
    "jp-MarkdownHeadingCollapsed": true
   },
   "source": [
    "### Reshaping Data"
   ]
  },
  {
   "cell_type": "markdown",
   "id": "2e042ca1-2dc6-42a0-94dd-8ade154ef390",
   "metadata": {},
   "source": [
    "1. **Reshaping with `melt`:**\n",
    "\n",
    "   ```python\n",
    "   df = pd.DataFrame({\n",
    "       'A': [1, 2],\n",
    "       'B': [3, 4]\n",
    "   })\n",
    "\n",
    "   # Melting the DataFrame\n",
    "   melted_df = pd.melt(df, id_vars=['A'], value_vars=['B'])\n",
    "   print(melted_df)\n",
    "   ```\n",
    "\n",
    "   **Output:**\n",
    "   ```\n",
    "      A variable  value\n",
    "   0  1        B      3\n",
    "   1  2        B      4\n",
    "   ```\n",
    "\n",
    "2. **Reshaping with `pivot`:**\n",
    "\n",
    "   ```python\n",
    "   df = pd.DataFrame({\n",
    "       'Date': ['2024-01-01', '2024-01-02'],\n",
    "       'Variable': ['A', 'B'],\n",
    "       'Value': [10, 20]\n",
    "   })\n",
    "\n",
    "   # Pivoting the DataFrame\n",
    "   pivoted_df = df.pivot(index='Date', columns='Variable', values='Value')\n",
    "   print(pivoted_df)\n",
    "   ```\n",
    "\n",
    "   **Output:**\n",
    "   ```\n",
    "   Variable       A     B\n",
    "   Date                  \n",
    "   2024-01-01   10   NaN\n",
    "   2024-01-02  NaN    20\n",
    "   ```\n",
    "\n",
    "3. **Reshaping with `stack` and `unstack`:**\n",
    "\n",
    "   ```python\n",
    "   df = pd.DataFrame({\n",
    "       'A': [1, 2],\n",
    "       'B': [3, 4]\n",
    "   })\n",
    "\n",
    "   # Stacking the DataFrame\n",
    "   stacked_df = df.stack()\n",
    "   print(stacked_df)\n",
    "   ```\n",
    "\n",
    "   **Output:**\n",
    "   ```\n",
    "   0  A    1\n",
    "      B    3\n",
    "   1  A    2\n",
    "      B    4\n",
    "   dtype: int64\n",
    "   ```\n",
    "\n",
    "   ```python\n",
    "   # Unstacking the DataFrame\n",
    "   unstacked_df = stacked_df.unstack()\n",
    "   print(unstacked_df)\n",
    "   ```\n",
    "\n",
    "   **Output:**\n",
    "   ```\n",
    "      A  B\n",
    "   0  1  3\n",
    "   1  2  4\n",
    "   ```"
   ]
  },
  {
   "cell_type": "markdown",
   "id": "c8552c26-2f6d-4c07-88e7-b4e159b8d01a",
   "metadata": {
    "jp-MarkdownHeadingCollapsed": true
   },
   "source": [
    "# Data Aggregation and Grouping"
   ]
  },
  {
   "cell_type": "markdown",
   "id": "e9472aa0-1baf-457e-b45a-ab2095cf6078",
   "metadata": {
    "jp-MarkdownHeadingCollapsed": true
   },
   "source": [
    "## GroupBy Operation"
   ]
  },
  {
   "cell_type": "markdown",
   "id": "9324deff-27a5-4825-8720-d5ac706dd7bb",
   "metadata": {},
   "source": [
    "The `groupby` operation in Pandas is used to split data into groups based on some criteria, apply a function to each group independently, and then combine the results. This is very useful for aggregating and summarizing data."
   ]
  },
  {
   "cell_type": "markdown",
   "id": "6bf97ceb-ae13-4ce0-a2ab-3561115471f0",
   "metadata": {
    "jp-MarkdownHeadingCollapsed": true
   },
   "source": [
    "### Basic GroupBy"
   ]
  },
  {
   "cell_type": "markdown",
   "id": "9e8659e0-9e95-4910-8102-a3e6221e83c7",
   "metadata": {},
   "source": [
    "1. **Grouping and Aggregating Data:**\n",
    "\n",
    "   ```python\n",
    "   import pandas as pd\n",
    "\n",
    "   # Creating a DataFrame\n",
    "   df = pd.DataFrame({\n",
    "       'Category': ['A', 'B', 'A', 'B'],\n",
    "       'Values': [10, 20, 30, 40]\n",
    "   })\n",
    "\n",
    "   # Grouping by 'Category' and calculating the sum of 'Values'\n",
    "   grouped_df = df.groupby('Category').sum()\n",
    "   print(grouped_df)\n",
    "   ```\n",
    "\n",
    "   **Output:**\n",
    "   ```\n",
    "            Values\n",
    "   Category        \n",
    "   A             40\n",
    "   B             60\n",
    "   ```\n",
    "\n",
    "   **Explanation:**\n",
    "   - `df.groupby('Category')` groups the data by the 'Category' column.\n",
    "   - `.sum()` calculates the sum of 'Values' for each group.\n",
    "\n",
    "2. **Grouping by Multiple Columns:**\n",
    "\n",
    "   ```python\n",
    "   # Creating a DataFrame\n",
    "   df = pd.DataFrame({\n",
    "       'Category': ['A', 'A', 'B', 'B'],\n",
    "       'Type': ['X', 'Y', 'X', 'Y'],\n",
    "       'Values': [10, 20, 30, 40]\n",
    "   })\n",
    "\n",
    "   # Grouping by 'Category' and 'Type' and calculating the sum of 'Values'\n",
    "   grouped_df = df.groupby(['Category', 'Type']).sum()\n",
    "   print(grouped_df)\n",
    "   ```\n",
    "\n",
    "   **Output:**\n",
    "   ```\n",
    "                     Values\n",
    "   Category Type        \n",
    "   A       X           10\n",
    "           Y           20\n",
    "   B       X           30\n",
    "           Y           40\n",
    "   ```\n",
    "\n",
    "   **Explanation:**\n",
    "   - `df.groupby(['Category', 'Type'])` groups the data by both 'Category' and 'Type' columns.\n",
    "   - `.sum()` calculates the sum of 'Values' for each group."
   ]
  },
  {
   "cell_type": "markdown",
   "id": "bb60acf6-31f7-498c-9b23-5e0d96de600f",
   "metadata": {
    "jp-MarkdownHeadingCollapsed": true
   },
   "source": [
    "### Aggregation Functions"
   ]
  },
  {
   "cell_type": "markdown",
   "id": "600063d1-06de-4598-8535-caff58367256",
   "metadata": {},
   "source": [
    "1. **Applying Multiple Aggregations:**\n",
    "\n",
    "   ```python\n",
    "   # Applying multiple aggregation functions\n",
    "   aggregated_df = df.groupby('Category').agg({\n",
    "       'Values': ['sum', 'mean', 'max']\n",
    "   })\n",
    "   print(aggregated_df)\n",
    "   ```\n",
    "\n",
    "   **Output:**\n",
    "   ```\n",
    "           Values           \n",
    "             sum  mean max\n",
    "   Category                  \n",
    "   A            40  20.0  30\n",
    "   B            60  30.0  40\n",
    "   ```\n",
    "\n",
    "   **Explanation:**\n",
    "   - `.agg({'Values': ['sum', 'mean', 'max']})` calculates the sum, mean, and maximum of 'Values' for each category."
   ]
  },
  {
   "cell_type": "markdown",
   "id": "af26d84b-b3cc-446a-942f-030bfe5d604e",
   "metadata": {
    "jp-MarkdownHeadingCollapsed": true
   },
   "source": [
    "### Filtering Groups"
   ]
  },
  {
   "cell_type": "markdown",
   "id": "c6b2b491-f022-45b4-8fbc-d70c10bed555",
   "metadata": {},
   "source": [
    "1. **Filtering Groups Based on a Condition:**\n",
    "\n",
    "   ```python\n",
    "   # Filter groups where the sum of 'Values' is greater than 50\n",
    "   filtered_df = df.groupby('Category').filter(lambda x: x['Values'].sum() > 50)\n",
    "   print(filtered_df)\n",
    "   ```\n",
    "\n",
    "   **Output:**\n",
    "   ```\n",
    "     Category  Values\n",
    "   1        B      20\n",
    "   3        B      40\n",
    "   ```\n",
    "\n",
    "   **Explanation:**\n",
    "   - `.filter(lambda x: x['Values'].sum() > 50)` keeps only those groups where the sum of 'Values' is greater than 50."
   ]
  },
  {
   "cell_type": "markdown",
   "id": "bde8059f-a448-4a53-92ac-6cdea6566fb8",
   "metadata": {
    "jp-MarkdownHeadingCollapsed": true
   },
   "source": [
    "### Transformations"
   ]
  },
  {
   "cell_type": "markdown",
   "id": "0e8ee61c-bc6e-4391-a924-174f0bdda4a1",
   "metadata": {},
   "source": [
    "1. **Transforming Data:**\n",
    "\n",
    "   ```python\n",
    "   # Normalizing 'Values' within each group\n",
    "   normalized_df = df.groupby('Category')['Values'].transform(lambda x: (x - x.mean()) / x.std())\n",
    "   print(normalized_df)\n",
    "   ```\n",
    "\n",
    "   **Output:**\n",
    "   ```\n",
    "   0   -1.0\n",
    "   1    1.0\n",
    "   2    1.0\n",
    "   3   -1.0\n",
    "   Name: Values, dtype: float64\n",
    "   ```\n",
    "\n",
    "   **Explanation:**\n",
    "   - `.transform(lambda x: (x - x.mean()) / x.std())` normalizes 'Values' within each group to have mean 0 and standard deviation 1."
   ]
  },
  {
   "cell_type": "markdown",
   "id": "df7e00d6-7df4-4db6-bf37-ee3b643d47cb",
   "metadata": {
    "jp-MarkdownHeadingCollapsed": true
   },
   "source": [
    "## Pivot Tables"
   ]
  },
  {
   "cell_type": "markdown",
   "id": "c032d15b-7db5-43d5-8005-f561bfcb87f9",
   "metadata": {},
   "source": [
    "Pivot tables are used to summarize data and perform aggregation in a more flexible way."
   ]
  },
  {
   "cell_type": "markdown",
   "id": "efbb6324-9f03-4a5a-b09b-c459605035f0",
   "metadata": {
    "jp-MarkdownHeadingCollapsed": true
   },
   "source": [
    "### Creating a Pivot Table"
   ]
  },
  {
   "cell_type": "markdown",
   "id": "67b1d5f4-0a3a-430c-b26f-4705206462bf",
   "metadata": {},
   "source": [
    "1. **Basic Pivot Table:**\n",
    "\n",
    "   ```python\n",
    "   # Creating a pivot table\n",
    "   pivot_table = pd.pivot_table(df, values='Values', index='Category', aggfunc='sum')\n",
    "   print(pivot_table)\n",
    "   ```\n",
    "\n",
    "   **Output:**\n",
    "   ```\n",
    "            Values\n",
    "   Category        \n",
    "   A             40\n",
    "   B             60\n",
    "   ```\n",
    "\n",
    "   **Explanation:**\n",
    "   - `pd.pivot_table(df, values='Values', index='Category', aggfunc='sum')` creates a pivot table that summarizes 'Values' by 'Category' using the sum function."
   ]
  },
  {
   "cell_type": "markdown",
   "id": "49f0eada-62fb-46de-9ff8-ba1db26d400c",
   "metadata": {
    "jp-MarkdownHeadingCollapsed": true
   },
   "source": [
    "### Advanced Pivot Table"
   ]
  },
  {
   "cell_type": "markdown",
   "id": "c75ff036-4d1d-4057-98b2-6f776586ac2a",
   "metadata": {},
   "source": [
    "1. **Pivot Table with Multiple Aggregations:**\n",
    "\n",
    "   ```python\n",
    "   # Creating a pivot table with multiple aggregations\n",
    "   pivot_table = pd.pivot_table(df, values='Values', index='Category', aggfunc=['sum', 'mean', 'max'])\n",
    "   print(pivot_table)\n",
    "   ```\n",
    "\n",
    "   **Output:**\n",
    "   ```\n",
    "           sum  mean max\n",
    "   Category                \n",
    "   A         40  20.0  30\n",
    "   B         60  30.0  40\n",
    "   ```\n",
    "\n",
    "   **Explanation:**\n",
    "   - `aggfunc=['sum', 'mean', 'max']` applies multiple aggregation functions (sum, mean, and max) to 'Values' in the pivot table."
   ]
  },
  {
   "cell_type": "markdown",
   "id": "26bc414a-e4d4-4113-af36-33287b46885c",
   "metadata": {
    "jp-MarkdownHeadingCollapsed": true
   },
   "source": [
    "### Crosstabulation"
   ]
  },
  {
   "cell_type": "markdown",
   "id": "b4635ac2-eddf-4d6d-867c-468d81cd6d6f",
   "metadata": {},
   "source": [
    "1. **Creating a Crosstab:**\n",
    "\n",
    "   ```python\n",
    "   # Creating a crosstab\n",
    "   crosstab = pd.crosstab(df['Category'], df['Values'])\n",
    "   print(crosstab)\n",
    "   ```\n",
    "\n",
    "   **Output:**\n",
    "   ```\n",
    "   Values  10  20  30  40\n",
    "   Category               \n",
    "   A          1   0   1   0\n",
    "   B          0   1   0   1\n",
    "   ```\n",
    "\n",
    "   **Explanation:**\n",
    "   - `pd.crosstab(df['Category'], df['Values'])` creates a cross-tabulation of 'Category' and 'Values', showing the frequency of each combination."
   ]
  },
  {
   "cell_type": "markdown",
   "id": "281addb4-3fb0-4737-81ba-7bd64267f57b",
   "metadata": {
    "jp-MarkdownHeadingCollapsed": true
   },
   "source": [
    "# Handling Missing Data"
   ]
  },
  {
   "cell_type": "markdown",
   "id": "a42e6267-6272-482d-8a56-cc98a474c355",
   "metadata": {},
   "source": [
    "Missing data is a common issue in data analysis. Pandas provides several methods to handle missing data, including identifying, replacing, and removing missing values."
   ]
  },
  {
   "cell_type": "markdown",
   "id": "43de35ac-62e3-40ae-ab5e-e5d33512f600",
   "metadata": {
    "jp-MarkdownHeadingCollapsed": true
   },
   "source": [
    "## Identifying Missing Data"
   ]
  },
  {
   "cell_type": "markdown",
   "id": "f873eee2-5ac3-4faf-81f5-9d7365a820c6",
   "metadata": {},
   "source": [
    "1. **Checking for Missing Values:**\n",
    "\n",
    "   ```python\n",
    "   import pandas as pd\n",
    "\n",
    "   # Creating a DataFrame with missing values\n",
    "   df = pd.DataFrame({\n",
    "       'A': [1, 2, None],\n",
    "       'B': [None, 2, 3]\n",
    "   })\n",
    "\n",
    "   # Checking for missing values\n",
    "   print(df.isnull())\n",
    "   ```\n",
    "\n",
    "   **Output:**\n",
    "   ```\n",
    "          A      B\n",
    "   0  False   True\n",
    "   1  False  False\n",
    "   2   True  False\n",
    "   ```\n",
    "\n",
    "   **Explanation:**\n",
    "   - `df.isnull()` returns a DataFrame of the same shape as `df`, where each element is `True` if the corresponding element in `df` is `NaN` and `False` otherwise.\n",
    "\n",
    "2. **Summarizing Missing Values:**\n",
    "\n",
    "   ```python\n",
    "   # Counting missing values in each column\n",
    "   print(df.isnull().sum())\n",
    "   ```\n",
    "\n",
    "   **Output:**\n",
    "   ```\n",
    "   A    1\n",
    "   B    1\n",
    "   dtype: int64\n",
    "   ```\n",
    "\n",
    "   **Explanation:**\n",
    "   - `df.isnull().sum()` provides a summary count of missing values for each column."
   ]
  },
  {
   "cell_type": "markdown",
   "id": "e9ae316b-4fe0-481e-bbed-846772342843",
   "metadata": {
    "jp-MarkdownHeadingCollapsed": true
   },
   "source": [
    "## Replacing Missing Data"
   ]
  },
  {
   "cell_type": "markdown",
   "id": "933787e8-6968-487f-aa03-e6021b54dc84",
   "metadata": {},
   "source": [
    "1. **Filling Missing Values:**\n",
    "\n",
    "   ```python\n",
    "   # Filling missing values with a specified value\n",
    "   filled_df = df.fillna(0)\n",
    "   print(filled_df)\n",
    "   ```\n",
    "\n",
    "   **Output:**\n",
    "   ```\n",
    "        A    B\n",
    "   0  1.0  0.0\n",
    "   1  2.0  2.0\n",
    "   2  0.0  3.0\n",
    "   ```\n",
    "\n",
    "   **Explanation:**\n",
    "   - `df.fillna(0)` replaces all `NaN` values in the DataFrame with `0`.\n",
    "\n",
    "2. **Forward Fill:**\n",
    "\n",
    "   ```python\n",
    "   # Forward fill to propagate the next valid observation backward\n",
    "   forward_filled_df = df.fillna(method='ffill')\n",
    "   print(forward_filled_df)\n",
    "   ```\n",
    "\n",
    "   **Output:**\n",
    "   ```\n",
    "        A    B\n",
    "   0  1.0  NaN\n",
    "   1  2.0  2.0\n",
    "   2  2.0  3.0\n",
    "   ```\n",
    "\n",
    "   **Explanation:**\n",
    "   - `df.fillna(method='ffill')` propagates the next valid observation backward.\n",
    "\n",
    "3. **Backward Fill:**\n",
    "\n",
    "   ```python\n",
    "   # Backward fill to propagate the next valid observation forward\n",
    "   backward_filled_df = df.fillna(method='bfill')\n",
    "   print(backward_filled_df)\n",
    "   ```\n",
    "\n",
    "   **Output:**\n",
    "   ```\n",
    "        A    B\n",
    "   0  1.0  2.0\n",
    "   1  2.0  2.0\n",
    "   2  NaN  3.0\n",
    "   ```\n",
    "\n",
    "   **Explanation:**\n",
    "   - `df.fillna(method='bfill')` propagates the next valid observation forward."
   ]
  },
  {
   "cell_type": "markdown",
   "id": "1b85e134-9472-4040-aa4d-660899f7133a",
   "metadata": {
    "jp-MarkdownHeadingCollapsed": true
   },
   "source": [
    "## Dropping Missing Data"
   ]
  },
  {
   "cell_type": "markdown",
   "id": "17151f6e-015c-443a-ac29-e62fda6c9afc",
   "metadata": {},
   "source": [
    "1. **Dropping Rows with Missing Values:**\n",
    "\n",
    "   ```python\n",
    "   # Dropping rows with any missing values\n",
    "   dropped_rows_df = df.dropna()\n",
    "   print(dropped_rows_df)\n",
    "   ```\n",
    "\n",
    "   **Output:**\n",
    "   ```\n",
    "        A    B\n",
    "   1  2.0  2.0\n",
    "   ```\n",
    "\n",
    "   **Explanation:**\n",
    "   - `df.dropna()` removes all rows containing `NaN` values.\n",
    "\n",
    "2. **Dropping Columns with Missing Values:**\n",
    "\n",
    "   ```python\n",
    "   # Dropping columns with any missing values\n",
    "   dropped_columns_df = df.dropna(axis=1)\n",
    "   print(dropped_columns_df)\n",
    "   ```\n",
    "\n",
    "   **Output:**\n",
    "   ```\n",
    "        A\n",
    "   0  1.0\n",
    "   1  2.0\n",
    "   2  NaN\n",
    "   ```\n",
    "\n",
    "   **Explanation:**\n",
    "   - `df.dropna(axis=1)` removes all columns containing `NaN` values."
   ]
  },
  {
   "cell_type": "markdown",
   "id": "4650894d-141a-4822-b247-e5f074cec8bf",
   "metadata": {
    "jp-MarkdownHeadingCollapsed": true
   },
   "source": [
    "## Interpolating Missing Data"
   ]
  },
  {
   "cell_type": "markdown",
   "id": "b7bdb699-6aee-40a6-8638-424cf13718ab",
   "metadata": {},
   "source": [
    "1. **Linear Interpolation:**\n",
    "\n",
    "   ```python\n",
    "   # Linear interpolation to fill missing values\n",
    "   interpolated_df = df.interpolate()\n",
    "   print(interpolated_df)\n",
    "   ```\n",
    "\n",
    "   **Output:**\n",
    "   ```\n",
    "        A    B\n",
    "   0  1.0  NaN\n",
    "   1  2.0  2.0\n",
    "   2  2.0  3.0\n",
    "   ```\n",
    "\n",
    "   **Explanation:**\n",
    "   - `df.interpolate()` performs linear interpolation to estimate and fill in missing values."
   ]
  },
  {
   "cell_type": "markdown",
   "id": "77a4ea69-9c8c-42f4-9660-1187293f727f",
   "metadata": {
    "jp-MarkdownHeadingCollapsed": true
   },
   "source": [
    "# Merging and Joining DataFrames"
   ]
  },
  {
   "cell_type": "markdown",
   "id": "84e4f04d-88ad-4bdc-8b2e-d43a1a8102a9",
   "metadata": {},
   "source": [
    "Merging and joining DataFrames in Pandas allow you to combine data from different sources into a single DataFrame. This is useful for integrating data, performing analysis, and creating comprehensive datasets."
   ]
  },
  {
   "cell_type": "markdown",
   "id": "713462a8-22ba-4b5c-ba9e-3559d8beb0c6",
   "metadata": {
    "jp-MarkdownHeadingCollapsed": true
   },
   "source": [
    "## Types of Joins"
   ]
  },
  {
   "cell_type": "markdown",
   "id": "eedc3a27-1e1c-459f-9602-69741790da88",
   "metadata": {},
   "source": [
    "1. **Inner Join:**\n",
    "   - Returns only the rows with matching keys in both DataFrames.\n",
    "\n",
    "2. **Outer Join:**\n",
    "   - Returns all rows from both DataFrames, with NaNs where there are no matches.\n",
    "\n",
    "3. **Left Join:**\n",
    "   - Returns all rows from the left DataFrame and matched rows from the right DataFrame. NaNs are placed where there are no matches in the right DataFrame.\n",
    "\n",
    "4. **Right Join:**\n",
    "   - Returns all rows from the right DataFrame and matched rows from the left DataFrame. NaNs are placed where there are no matches in the left DataFrame."
   ]
  },
  {
   "cell_type": "markdown",
   "id": "3771bf77-a0ac-49e2-bbec-21b12c46c58d",
   "metadata": {
    "jp-MarkdownHeadingCollapsed": true
   },
   "source": [
    "## Merging DataFrames"
   ]
  },
  {
   "cell_type": "markdown",
   "id": "fc96ef5e-2254-4247-9337-1fa50daaff69",
   "metadata": {},
   "source": [
    "The `merge` function is used to merge DataFrames on a specified key or keys.\n",
    "\n",
    "1. **Inner Join:**\n",
    "\n",
    "   ```python\n",
    "   import pandas as pd\n",
    "\n",
    "   # Creating two DataFrames\n",
    "   df1 = pd.DataFrame({\n",
    "       'key': ['A', 'B', 'C'],\n",
    "       'value1': [1, 2, 3]\n",
    "   })\n",
    "\n",
    "   df2 = pd.DataFrame({\n",
    "       'key': ['B', 'C', 'D'],\n",
    "       'value2': [4, 5, 6]\n",
    "   })\n",
    "\n",
    "   # Performing an inner join\n",
    "   merged_df = pd.merge(df1, df2, on='key', how='inner')\n",
    "   print(merged_df)\n",
    "   ```\n",
    "\n",
    "   **Output:**\n",
    "   ```\n",
    "     key  value1  value2\n",
    "   0   B       2       4\n",
    "   1   C       3       5\n",
    "   ```\n",
    "\n",
    "   **Explanation:**\n",
    "   - `pd.merge(df1, df2, on='key', how='inner')` merges `df1` and `df2` on the 'key' column using an inner join, returning only rows with matching keys.\n",
    "\n"
   ]
  },
  {
   "cell_type": "markdown",
   "id": "3efb40e8-ab12-4421-9f7f-13f4a1cd06f0",
   "metadata": {},
   "source": [
    "2. **Outer Join:**\n",
    "\n",
    "   ```python\n",
    "   # Performing an outer join\n",
    "   merged_df = pd.merge(df1, df2, on='key', how='outer')\n",
    "   print(merged_df)\n",
    "   ```\n",
    "\n",
    "   **Output:**\n",
    "   ```\n",
    "     key  value1  value2\n",
    "   0   A     1.0     NaN\n",
    "   1   B     2.0     4.0\n",
    "   2   C     3.0     5.0\n",
    "   3   D     NaN     6.0\n",
    "   ```\n",
    "\n",
    "   **Explanation:**\n",
    "   - `pd.merge(df1, df2, on='key', how='outer')` merges `df1` and `df2` on the 'key' column using an outer join, returning all rows from both DataFrames with NaNs where there are no matches.\n",
    "\n"
   ]
  },
  {
   "cell_type": "markdown",
   "id": "5fe9d34f-effb-4f96-ad9b-ea26a54344e7",
   "metadata": {},
   "source": [
    "3. **Left Join:**\n",
    "\n",
    "   ```python\n",
    "   # Performing a left join\n",
    "   merged_df = pd.merge(df1, df2, on='key', how='left')\n",
    "   print(merged_df)\n",
    "   ```\n",
    "\n",
    "   **Output:**\n",
    "   ```\n",
    "     key  value1  value2\n",
    "   0   A       1     NaN\n",
    "   1   B       2     4.0\n",
    "   2   C       3     5.0\n",
    "   ```\n",
    "\n",
    "   **Explanation:**\n",
    "   - `pd.merge(df1, df2, on='key', how='left')` merges `df1` and `df2` on the 'key' column using a left join, returning all rows from `df1` and matched rows from `df2`.\n",
    "\n"
   ]
  },
  {
   "cell_type": "markdown",
   "id": "6b501d12-a224-4db9-bafd-27b8126590cb",
   "metadata": {},
   "source": [
    "4. **Right Join:**\n",
    "\n",
    "   ```python\n",
    "   # Performing a right join\n",
    "   merged_df = pd.merge(df1, df2, on='key', how='right')\n",
    "   print(merged_df)\n",
    "   ```\n",
    "\n",
    "   **Output:**\n",
    "   ```\n",
    "     key  value1  value2\n",
    "   0   B     2.0       4\n",
    "   1   C     3.0       5\n",
    "   2   D     NaN       6\n",
    "   ```\n",
    "\n",
    "   **Explanation:**\n",
    "   - `pd.merge(df1, df2, on='key', how='right')` merges `df1` and `df2` on the 'key' column using a right join, returning all rows from `df2` and matched rows from `df1`."
   ]
  },
  {
   "cell_type": "markdown",
   "id": "ec9f2f7a-b296-40dd-851b-f6e3415a701d",
   "metadata": {
    "jp-MarkdownHeadingCollapsed": true
   },
   "source": [
    "## Joining DataFrames"
   ]
  },
  {
   "cell_type": "markdown",
   "id": "6f0a1d63-0801-4bf7-a10c-d9f510b3acbf",
   "metadata": {},
   "source": [
    "The `join` method is used to join DataFrames on their index.\n",
    "\n",
    "1. **Joining on Index:**\n",
    "\n",
    "   ```python\n",
    "   # Creating two DataFrames\n",
    "   df1 = pd.DataFrame({\n",
    "       'value1': [1, 2, 3]\n",
    "   }, index=['A', 'B', 'C'])\n",
    "\n",
    "   df2 = pd.DataFrame({\n",
    "       'value2': [4, 5, 6]\n",
    "   }, index=['B', 'C', 'D'])\n",
    "\n",
    "   # Joining DataFrames\n",
    "   joined_df = df1.join(df2, how='inner')\n",
    "   print(joined_df)\n",
    "   ```\n",
    "\n",
    "   **Output:**\n",
    "   ```\n",
    "      value1  value2\n",
    "   B       2       4\n",
    "   C       3       5\n",
    "   ```\n",
    "\n",
    "   **Explanation:**\n",
    "   - `df1.join(df2, how='inner')` joins `df1` and `df2` on their index using an inner join.\n",
    "\n",
    "2. **Left Join on Index:**\n",
    "\n",
    "   ```python\n",
    "   # Joining DataFrames with a left join\n",
    "   joined_df = df1.join(df2, how='left')\n",
    "   print(joined_df)\n",
    "   ```\n",
    "\n",
    "   **Output:**\n",
    "   ```\n",
    "      value1  value2\n",
    "   A       1     NaN\n",
    "   B       2     4.0\n",
    "   C       3     5.0\n",
    "   ```\n",
    "\n",
    "   **Explanation:**\n",
    "   - `df1.join(df2, how='left')` joins `df1` and `df2` on their index using a left join, returning all rows from `df1` and matched rows from `df2`.\n",
    "\n",
    "3. **Right Join on Index:**\n",
    "\n",
    "   ```python\n",
    "   # Joining DataFrames with a right join\n",
    "   joined_df = df1.join(df2, how='right')\n",
    "   print(joined_df)\n",
    "   ```\n",
    "\n",
    "   **Output:**\n",
    "   ```\n",
    "      value1  value2\n",
    "   B     2.0       4\n",
    "   C     3.0       5\n",
    "   D     NaN       6\n",
    "   ```\n",
    "\n",
    "   **Explanation:**\n",
    "   - `df1.join(df2, how='right')` joins `df1` and `df2` on their index using a right join, returning all rows from `df2` and matched rows from `df1`."
   ]
  },
  {
   "cell_type": "markdown",
   "id": "130819b9-0d46-4254-8596-a4f9cd15bda2",
   "metadata": {
    "jp-MarkdownHeadingCollapsed": true
   },
   "source": [
    "## Concatenating DataFrames"
   ]
  },
  {
   "cell_type": "markdown",
   "id": "68120675-8ae3-4e36-83bc-bd3feed7308b",
   "metadata": {},
   "source": [
    "The `concat` function is used to concatenate DataFrames along a particular axis.\n",
    "\n",
    "1. **Concatenating Along Rows:**\n",
    "\n",
    "   ```python\n",
    "   # Creating two DataFrames\n",
    "   df1 = pd.DataFrame({\n",
    "       'A': [1, 2],\n",
    "       'B': [3, 4]\n",
    "   })\n",
    "\n",
    "   df2 = pd.DataFrame({\n",
    "       'A': [5, 6],\n",
    "       'B': [7, 8]\n",
    "   })\n",
    "\n",
    "   # Concatenating DataFrames along rows\n",
    "   concatenated_df = pd.concat([df1, df2], axis=0)\n",
    "   print(concatenated_df)\n",
    "   ```\n",
    "\n",
    "   **Output:**\n",
    "   ```\n",
    "      A  B\n",
    "   0  1  3\n",
    "   1  2  4\n",
    "   0  5  7\n",
    "   1  6  8\n",
    "   ```\n",
    "\n",
    "   **Explanation:**\n",
    "   - `pd.concat([df1, df2], axis=0)` concatenates `df1` and `df2` along rows.\n",
    "\n",
    "2. **Concatenating Along Columns:**\n",
    "\n",
    "   ```python\n",
    "   # Concatenating DataFrames along columns\n",
    "   concatenated_df = pd.concat([df1, df2], axis=1)\n",
    "   print(concatenated_df)\n",
    "   ```\n",
    "\n",
    "   **Output:**\n",
    "   ```\n",
    "      A  B  A  B\n",
    "   0  1  3  5  7\n",
    "   1  2  4  6  8\n",
    "   ```\n",
    "\n",
    "   **Explanation:**\n",
    "   - `pd.concat([df1, df2], axis=1)` concatenates `df1` and `df2` along columns."
   ]
  },
  {
   "cell_type": "markdown",
   "id": "8bba7b00-951c-4379-8dae-beaea293771c",
   "metadata": {
    "jp-MarkdownHeadingCollapsed": true
   },
   "source": [
    "# Working with Dates and Times"
   ]
  },
  {
   "cell_type": "markdown",
   "id": "880b1b85-b001-4764-b76d-4e5ce2eacbba",
   "metadata": {},
   "source": [
    "Handling dates and times is a common task in data analysis. Pandas provides powerful tools to work with dates and times, including parsing, manipulating, and formatting datetime objects."
   ]
  },
  {
   "cell_type": "markdown",
   "id": "e46694e9-7eba-4931-977b-21563dea9c02",
   "metadata": {
    "jp-MarkdownHeadingCollapsed": true
   },
   "source": [
    "## Creating Date and Time Objects"
   ]
  },
  {
   "cell_type": "markdown",
   "id": "7963a798-d09b-4938-97ba-0ca00355a72a",
   "metadata": {},
   "source": [
    "1. **Creating a DateTimeIndex:**\n",
    "\n",
    "   ```python\n",
    "   import pandas as pd\n",
    "\n",
    "   # Creating a DateTimeIndex\n",
    "   dates = pd.date_range(start='2023-01-01', periods=6, freq='D')\n",
    "   print(dates)\n",
    "   ```\n",
    "\n",
    "   **Output:**\n",
    "   ```\n",
    "   DatetimeIndex(['2023-01-01', '2023-01-02', '2023-01-03', '2023-01-04',\n",
    "                  '2023-01-05', '2023-01-06'],\n",
    "                 dtype='datetime64[ns]', freq='D')\n",
    "   ```\n",
    "\n",
    "   **Explanation:**\n",
    "   - `pd.date_range(start='2023-01-01', periods=6, freq='D')` creates a sequence of 6 dates starting from January 1, 2023, with daily frequency.\n",
    "\n",
    "2. **Converting Strings to DateTime:**\n",
    "\n",
    "   ```python\n",
    "   # Converting strings to datetime\n",
    "   date_str = ['2023-01-01', '2023-01-02', '2023-01-03']\n",
    "   dates = pd.to_datetime(date_str)\n",
    "   print(dates)\n",
    "   ```\n",
    "\n",
    "   **Output:**\n",
    "   ```\n",
    "   DatetimeIndex(['2023-01-01', '2023-01-02', '2023-01-03'], dtype='datetime64[ns]', freq=None)\n",
    "   ```\n",
    "\n",
    "   **Explanation:**\n",
    "   - `pd.to_datetime(date_str)` converts a list of date strings to a DatetimeIndex."
   ]
  },
  {
   "cell_type": "markdown",
   "id": "007aa8fe-7816-4c3f-ae6c-549981ef22a0",
   "metadata": {
    "jp-MarkdownHeadingCollapsed": true
   },
   "source": [
    "## Extracting Date and Time Components"
   ]
  },
  {
   "cell_type": "markdown",
   "id": "3c60539a-598e-4cd7-9dac-ced2f729ac24",
   "metadata": {},
   "source": [
    "1. **Extracting Year, Month, Day, etc.:**\n",
    "\n",
    "   ```python\n",
    "   # Creating a DataFrame with datetime objects\n",
    "   df = pd.DataFrame({\n",
    "       'date': pd.date_range(start='2023-01-01', periods=3, freq='D')\n",
    "   })\n",
    "\n",
    "   # Extracting year, month, and day\n",
    "   df['year'] = df['date'].dt.year\n",
    "   df['month'] = df['date'].dt.month\n",
    "   df['day'] = df['date'].dt.day\n",
    "   print(df)\n",
    "   ```\n",
    "\n",
    "   **Output:**\n",
    "   ```\n",
    "          date  year  month  day\n",
    "   0 2023-01-01  2023      1    1\n",
    "   1 2023-01-02  2023      1    2\n",
    "   2 2023-01-03  2023      1    3\n",
    "   ```\n",
    "\n",
    "   **Explanation:**\n",
    "   - `df['date'].dt.year`, `df['date'].dt.month`, and `df['date'].dt.day` extract the year, month, and day components from the 'date' column."
   ]
  },
  {
   "cell_type": "markdown",
   "id": "ef0f84e2-6b2c-44f8-9c62-ac07ebb30907",
   "metadata": {
    "jp-MarkdownHeadingCollapsed": true
   },
   "source": [
    "## Date and Time Arithmetic"
   ]
  },
  {
   "cell_type": "markdown",
   "id": "286c8d0c-c0f6-4b6e-8000-0a601526eefb",
   "metadata": {},
   "source": [
    "1. **Adding and Subtracting Dates:**\n",
    "\n",
    "   ```python\n",
    "   # Adding days to a date\n",
    "   df['date_plus_5'] = df['date'] + pd.Timedelta(days=5)\n",
    "   print(df)\n",
    "   ```\n",
    "\n",
    "   **Output:**\n",
    "   ```\n",
    "          date  year  month  day date_plus_5\n",
    "   0 2023-01-01  2023      1    1  2023-01-06\n",
    "   1 2023-01-02  2023      1    2  2023-01-07\n",
    "   2 2023-01-03  2023      1    3  2023-01-08\n",
    "   ```\n",
    "\n",
    "   **Explanation:**\n",
    "   - `df['date'] + pd.Timedelta(days=5)` adds 5 days to each date in the 'date' column.\n",
    "\n",
    "2. **Calculating Date Differences:**\n",
    "\n",
    "   ```python\n",
    "   # Calculating the difference between dates\n",
    "   df['date_diff'] = df['date'].diff()\n",
    "   print(df)\n",
    "   ```\n",
    "\n",
    "   **Output:**\n",
    "   ```\n",
    "          date  year  month  day date_plus_5 date_diff\n",
    "   0 2023-01-01  2023      1    1  2023-01-06       NaT\n",
    "   1 2023-01-02  2023      1    2  2023-01-07    1 days\n",
    "   2 2023-01-03  2023      1    3  2023-01-08    1 days\n",
    "   ```\n",
    "\n",
    "   **Explanation:**\n",
    "   - `df['date'].diff()` calculates the difference between consecutive dates."
   ]
  },
  {
   "cell_type": "markdown",
   "id": "2fdc12f3-4e0a-4c88-b8a7-8f6e22c9170a",
   "metadata": {
    "jp-MarkdownHeadingCollapsed": true
   },
   "source": [
    "## Handling Time Zones"
   ]
  },
  {
   "cell_type": "markdown",
   "id": "e9099604-d1e5-45d0-b808-8896dd596073",
   "metadata": {},
   "source": [
    "1. **Setting Time Zones:**\n",
    "\n",
    "   ```python\n",
    "   # Setting the time zone\n",
    "   df['date_utc'] = df['date'].dt.tz_localize('UTC')\n",
    "   print(df)\n",
    "   ```\n",
    "\n",
    "   **Output:**\n",
    "   ```\n",
    "          date  year  month  day date_plus_5 date_diff                   date_utc\n",
    "   0 2023-01-01  2023      1    1  2023-01-06       NaT 2023-01-01 00:00:00+00:00\n",
    "   1 2023-01-02  2023      1    2  2023-01-07    1 days 2023-01-02 00:00:00+00:00\n",
    "   2 2023-01-03  2023      1    3  2023-01-08    1 days 2023-01-03 00:00:00+00:00\n",
    "   ```\n",
    "\n",
    "   **Explanation:**\n",
    "   - `df['date'].dt.tz_localize('UTC')` sets the time zone to UTC for the 'date' column.\n",
    "\n",
    "2. **Converting Time Zones:**\n",
    "\n",
    "   ```python\n",
    "   # Converting to a different time zone\n",
    "   df['date_est'] = df['date_utc'].dt.tz_convert('US/Eastern')\n",
    "   print(df)\n",
    "   ```\n",
    "\n",
    "   **Output:**\n",
    "   ```\n",
    "          date  year  month  day date_plus_5 date_diff                   date_utc                   date_est\n",
    "   0 2023-01-01  2023      1    1  2023-01-06       NaT 2023-01-01 00:00:00+00:00 2022-12-31 19:00:00-05:00\n",
    "   1 2023-01-02  2023      1    2  2023-01-07    1 days 2023-01-02 00:00:00+00:00 2023-01-01 19:00:00-05:00\n",
    "   2 2023-01-03  2023      1    3  2023-01-08    1 days 2023-01-03 00:00:00+00:00 2023-01-02 19:00:00-05:00\n",
    "   ```\n",
    "\n",
    "   **Explanation:**\n",
    "   - `df['date_utc'].dt.tz_convert('US/Eastern')` converts the 'date_utc' column to Eastern Time."
   ]
  },
  {
   "cell_type": "markdown",
   "id": "f709c0d6-21d9-43f2-9403-80f8cfac026d",
   "metadata": {
    "jp-MarkdownHeadingCollapsed": true
   },
   "source": [
    "## Resampling and Frequency Conversion"
   ]
  },
  {
   "cell_type": "markdown",
   "id": "96f3205d-d7f3-4532-8987-caf8adcb4d4b",
   "metadata": {},
   "source": [
    "1. **Resampling Data:**\n",
    "\n",
    "   ```python\n",
    "   # Creating a time series DataFrame\n",
    "   ts = pd.Series([1, 2, 3, 4, 5, 6], index=pd.date_range(start='2023-01-01', periods=6, freq='D'))\n",
    "\n",
    "   # Resampling to monthly frequency\n",
    "   resampled_ts = ts.resample('M').sum()\n",
    "   print(resampled_ts)\n",
    "   ```\n",
    "\n",
    "   **Output:**\n",
    "   ```\n",
    "   2023-01-31    21\n",
    "   Freq: M, dtype: int64\n",
    "   ```\n",
    "\n",
    "   **Explanation:**\n",
    "   - `ts.resample('M').sum()` resamples the time series `ts` to a monthly frequency and calculates the sum for each month.\n",
    "\n",
    "2. **Frequency Conversion:**\n",
    "\n",
    "   ```python\n",
    "   # Converting daily data to business day frequency\n",
    "   bday_ts = ts.asfreq('B')\n",
    "   print(bday_ts)\n",
    "   ```\n",
    "\n",
    "   **Output:**\n",
    "   ```\n",
    "   2023-01-02    2.0\n",
    "   2023-01-03    3.0\n",
    "   2023-01-04    4.0\n",
    "   2023-01-05    5.0\n",
    "   2023-01-06    6.0\n",
    "   Freq: B, dtype: float64\n",
    "   ```\n",
    "\n",
    "   **Explanation:**\n",
    "   - `ts.asfreq('B')` converts the daily time series `ts` to a business day frequency."
   ]
  },
  {
   "cell_type": "markdown",
   "id": "4623d527-c042-445c-b40f-e099163c1a3e",
   "metadata": {
    "jp-MarkdownHeadingCollapsed": true
   },
   "source": [
    "# Visualization"
   ]
  },
  {
   "cell_type": "markdown",
   "id": "d07af91b-f963-4fa9-8800-b754bab5ad19",
   "metadata": {
    "jp-MarkdownHeadingCollapsed": true
   },
   "source": [
    "## Plotting with Pandas"
   ]
  },
  {
   "cell_type": "markdown",
   "id": "7b5e3cbf-d3fb-429e-b1e1-4a80c8e7c087",
   "metadata": {},
   "source": [
    "Pandas integrates with Matplotlib to provide a simple interface for generating plots directly from DataFrames and Series."
   ]
  },
  {
   "cell_type": "markdown",
   "id": "90b89514-7103-4173-be83-556582d08d3a",
   "metadata": {
    "jp-MarkdownHeadingCollapsed": true
   },
   "source": [
    "### Basic Plotting"
   ]
  },
  {
   "cell_type": "markdown",
   "id": "0022a7b3-4201-4224-b294-bfe618fd8a33",
   "metadata": {},
   "source": [
    "Pandas offers a convenient way to create basic plots using the `plot` method available in DataFrames and Series."
   ]
  },
  {
   "cell_type": "markdown",
   "id": "fd3ea8df-77f1-427b-8350-1eeca26e0678",
   "metadata": {
    "jp-MarkdownHeadingCollapsed": true
   },
   "source": [
    "#### Line Plot"
   ]
  },
  {
   "cell_type": "markdown",
   "id": "7f510b22-9078-4402-9cee-105ea9e4e46e",
   "metadata": {},
   "source": [
    "```python\n",
    "import pandas as pd\n",
    "import matplotlib.pyplot as plt\n",
    "\n",
    "# Creating a DataFrame\n",
    "df = pd.DataFrame({\n",
    "    'x': [1, 2, 3, 4],\n",
    "    'y': [10, 20, 15, 25]\n",
    "})\n",
    "\n",
    "# Line plot\n",
    "df.plot(x='x', y='y', kind='line')\n",
    "plt.show()\n",
    "```\n",
    "\n",
    "**Output:**\n",
    "A line plot displaying the data points from the DataFrame."
   ]
  },
  {
   "cell_type": "markdown",
   "id": "3d5972ab-4d4a-4d47-a527-e13bf15d9062",
   "metadata": {
    "jp-MarkdownHeadingCollapsed": true
   },
   "source": [
    "#### Bar Plot"
   ]
  },
  {
   "cell_type": "markdown",
   "id": "9c76a6be-8cc2-427e-b024-d5d3e0d29220",
   "metadata": {},
   "source": [
    "```python\n",
    "# Bar plot\n",
    "df.plot(x='x', y='y', kind='bar')\n",
    "plt.show()\n",
    "```\n",
    "\n",
    "**Output:**\n",
    "A bar chart with bars representing the values of 'y'."
   ]
  },
  {
   "cell_type": "markdown",
   "id": "3a32529d-ebc1-4088-ab33-bee564d86bd8",
   "metadata": {
    "jp-MarkdownHeadingCollapsed": true
   },
   "source": [
    "#### Histogram"
   ]
  },
  {
   "cell_type": "markdown",
   "id": "8f778dea-0d2e-4921-95e8-8f388aa6c0ce",
   "metadata": {},
   "source": [
    "```python\n",
    "# Creating a Series\n",
    "s = pd.Series([1, 2, 2, 3, 3, 3, 4, 4, 4, 4])\n",
    "\n",
    "# Histogram\n",
    "s.plot(kind='hist', bins=4)\n",
    "plt.show()\n",
    "```\n",
    "\n",
    "**Output:**\n",
    "A histogram showing the distribution of values in the Series."
   ]
  },
  {
   "cell_type": "markdown",
   "id": "563d8a46-0628-4336-b8b8-c3df98e7936c",
   "metadata": {
    "jp-MarkdownHeadingCollapsed": true
   },
   "source": [
    "#### Scatter Plot"
   ]
  },
  {
   "cell_type": "markdown",
   "id": "b7b1c5a3-6b10-4d7f-8ae0-273cf7211763",
   "metadata": {},
   "source": [
    "```python\n",
    "# Scatter plot\n",
    "df.plot(x='x', y='y', kind='scatter')\n",
    "plt.show()\n",
    "```\n",
    "\n",
    "**Output:**\n",
    "A scatter plot displaying the relationship between 'x' and 'y'."
   ]
  },
  {
   "cell_type": "markdown",
   "id": "65ff4f9c-0b05-4c95-9e53-74fea2f3731b",
   "metadata": {
    "jp-MarkdownHeadingCollapsed": true
   },
   "source": [
    "### Customizing Plots"
   ]
  },
  {
   "cell_type": "markdown",
   "id": "1e03e85e-3a92-4cd7-b98d-c1c27a02dbab",
   "metadata": {},
   "source": [
    "Customizations in Pandas plots can be applied using parameters in the `plot` method or by modifying the Matplotlib `Axes` object."
   ]
  },
  {
   "cell_type": "markdown",
   "id": "d7c25dc5-0b38-4e4f-88a6-8df980e18c87",
   "metadata": {
    "jp-MarkdownHeadingCollapsed": true
   },
   "source": [
    "#### Adding Titles and Labels"
   ]
  },
  {
   "cell_type": "markdown",
   "id": "b6851f35-b998-4ff0-a55e-5952a3ad1f70",
   "metadata": {},
   "source": [
    "```python\n",
    "# Customizing plot\n",
    "ax = df.plot(x='x', y='y', kind='line')\n",
    "ax.set_title('Line Plot')\n",
    "ax.set_xlabel('X Axis')\n",
    "ax.set_ylabel('Y Axis')\n",
    "plt.show()\n",
    "```\n",
    "\n",
    "**Output:**\n",
    "A line plot with a title and labeled axes."
   ]
  },
  {
   "cell_type": "markdown",
   "id": "5efe399b-a6ad-4803-8d05-d207153adf5b",
   "metadata": {
    "jp-MarkdownHeadingCollapsed": true
   },
   "source": [
    "#### Adjusting Plot Style"
   ]
  },
  {
   "cell_type": "markdown",
   "id": "320952ed-31f9-4f76-bb9d-ee4d8fb05068",
   "metadata": {},
   "source": [
    "```python\n",
    "# Using different styles\n",
    "df.plot(x='x', y='y', kind='bar', color='skyblue', edgecolor='black')\n",
    "plt.show()\n",
    "```\n",
    "\n",
    "**Output:**\n",
    "A bar plot with customized colors and edge styles."
   ]
  },
  {
   "cell_type": "markdown",
   "id": "f0da2405-bf95-4822-8559-505ef2c09ec7",
   "metadata": {
    "jp-MarkdownHeadingCollapsed": true
   },
   "source": [
    "#### Adding Legends"
   ]
  },
  {
   "cell_type": "markdown",
   "id": "86b4db08-41d3-4116-939a-63266c385001",
   "metadata": {},
   "source": [
    "```python\n",
    "# Adding legend\n",
    "df.plot(x='x', y='y', kind='line', label='Line Data')\n",
    "plt.legend()\n",
    "plt.show()\n",
    "```\n",
    "\n",
    "**Output:**\n",
    "A line plot with a legend indicating the data series."
   ]
  },
  {
   "cell_type": "markdown",
   "id": "064f238e-3587-471f-8b7c-ffd8ebb07cdd",
   "metadata": {
    "jp-MarkdownHeadingCollapsed": true
   },
   "source": [
    "### Plotting with Matplotlib"
   ]
  },
  {
   "cell_type": "markdown",
   "id": "ca403fde-e3dd-436b-9b62-c319e37826a9",
   "metadata": {},
   "source": [
    "For more advanced customizations and features, you can use Matplotlib directly. Pandas plotting functions return Matplotlib `Axes` objects, which can be further customized."
   ]
  },
  {
   "cell_type": "markdown",
   "id": "970b1688-ceda-4925-833e-9e87c6c6b0aa",
   "metadata": {
    "jp-MarkdownHeadingCollapsed": true
   },
   "source": [
    "#### Customizing with Matplotlib"
   ]
  },
  {
   "cell_type": "markdown",
   "id": "228e47b8-ef25-4732-9e19-be7608f7093a",
   "metadata": {},
   "source": [
    "```python\n",
    "import matplotlib.pyplot as plt\n",
    "\n",
    "# Creating a DataFrame\n",
    "df = pd.DataFrame({\n",
    "    'x': [1, 2, 3, 4],\n",
    "    'y': [10, 20, 15, 25]\n",
    "})\n",
    "\n",
    "# Plot with Matplotlib\n",
    "fig, ax = plt.subplots()\n",
    "df.plot(x='x', y='y', kind='line', ax=ax)\n",
    "ax.set_title('Advanced Line Plot')\n",
    "ax.set_xlabel('X Axis')\n",
    "ax.set_ylabel('Y Axis')\n",
    "ax.grid(True)\n",
    "plt.show()\n",
    "```\n",
    "\n",
    "**Output:**\n",
    "A line plot with advanced customizations such as grid lines, title, and axis labels."
   ]
  },
  {
   "cell_type": "markdown",
   "id": "33ebaff6-7e8c-4759-8524-8c24c33a4fc0",
   "metadata": {
    "jp-MarkdownHeadingCollapsed": true
   },
   "source": [
    "# Advanced Pandas"
   ]
  },
  {
   "cell_type": "markdown",
   "id": "48a7d702-b8b0-459a-94d0-9fc0cae6aca2",
   "metadata": {
    "jp-MarkdownHeadingCollapsed": true
   },
   "source": [
    "## MultiIndex"
   ]
  },
  {
   "cell_type": "markdown",
   "id": "93d72bb9-abad-4858-bf71-1a4cc6a05ba0",
   "metadata": {
    "jp-MarkdownHeadingCollapsed": true
   },
   "source": [
    "### Creating MultiIndex"
   ]
  },
  {
   "cell_type": "markdown",
   "id": "be7a2da1-3212-4e41-bff4-82431bd7d2fc",
   "metadata": {},
   "source": [
    "MultiIndex allows for hierarchical indexing, which is useful for higher-dimensional data in a DataFrame or Series."
   ]
  },
  {
   "cell_type": "markdown",
   "id": "a76e6a63-1c26-4399-a7d7-bc3e99822561",
   "metadata": {
    "jp-MarkdownHeadingCollapsed": true
   },
   "source": [
    "#### Creating MultiIndex from Arrays"
   ]
  },
  {
   "cell_type": "markdown",
   "id": "76516918-660c-4810-bbee-34b8b7d119d7",
   "metadata": {},
   "source": [
    "```python\n",
    "import pandas as pd\n",
    "\n",
    "# Creating MultiIndex\n",
    "arrays = [\n",
    "    ['A', 'A', 'B', 'B'],\n",
    "    ['X', 'Y', 'X', 'Y']\n",
    "]\n",
    "index = pd.MultiIndex.from_arrays(arrays, names=('level_1', 'level_2'))\n",
    "\n",
    "# Creating a DataFrame with MultiIndex\n",
    "df = pd.DataFrame({\n",
    "    'value': [1, 2, 3, 4]\n",
    "}, index=index)\n",
    "print(df)\n",
    "```\n",
    "\n",
    "**Output:**\n",
    "```\n",
    "              value\n",
    "level_1 level_2      \n",
    "A       X         1\n",
    "        Y         2\n",
    "B       X         3\n",
    "        Y         4\n",
    "```"
   ]
  },
  {
   "cell_type": "markdown",
   "id": "ef2adf5b-868d-4e7d-b6c1-ab9b3d35e61e",
   "metadata": {
    "jp-MarkdownHeadingCollapsed": true
   },
   "source": [
    "### Indexing and Slicing"
   ]
  },
  {
   "cell_type": "markdown",
   "id": "0dc7d80e-9de8-4484-a3c1-1a25a20bfbbd",
   "metadata": {},
   "source": [
    "You can use the MultiIndex to slice and index data more efficiently."
   ]
  },
  {
   "cell_type": "markdown",
   "id": "3af309a1-6205-4d22-8b96-42fe3491beb5",
   "metadata": {
    "jp-MarkdownHeadingCollapsed": true
   },
   "source": [
    "#### Indexing with MultiIndex"
   ]
  },
  {
   "cell_type": "markdown",
   "id": "217d5c35-568b-4495-b243-db834a725812",
   "metadata": {},
   "source": [
    "```python\n",
    "# Accessing data using MultiIndex\n",
    "print(df.loc['A'])\n",
    "```\n",
    "\n",
    "**Output:**\n",
    "```\n",
    "         value\n",
    "level_2      \n",
    "X           1\n",
    "Y           2\n",
    "```"
   ]
  },
  {
   "cell_type": "markdown",
   "id": "ff239441-8643-4812-87dd-873dba7ad43d",
   "metadata": {
    "jp-MarkdownHeadingCollapsed": true
   },
   "source": [
    "#### Slicing with MultiIndex"
   ]
  },
  {
   "cell_type": "markdown",
   "id": "81c1957e-f307-45bf-af30-d50e0ef39129",
   "metadata": {},
   "source": [
    "```python\n",
    "# Slicing data with MultiIndex\n",
    "print(df.loc['A':'B'])\n",
    "```\n",
    "\n",
    "**Output:**\n",
    "```\n",
    "              value\n",
    "level_1 level_2      \n",
    "A       X         1\n",
    "        Y         2\n",
    "B       X         3\n",
    "        Y         4\n",
    "```"
   ]
  },
  {
   "cell_type": "markdown",
   "id": "139661d3-7b2c-451d-866b-4c4ee40acbdc",
   "metadata": {
    "jp-MarkdownHeadingCollapsed": true
   },
   "source": [
    "### Reshaping with MultiIndex"
   ]
  },
  {
   "cell_type": "markdown",
   "id": "9616acdd-be2e-474b-96d5-7b83b707b4dc",
   "metadata": {},
   "source": [
    "MultiIndex can be used to reshape data, making it easier to work with hierarchical data."
   ]
  },
  {
   "cell_type": "markdown",
   "id": "c938baad-fd43-489e-b511-d2af670b6189",
   "metadata": {
    "jp-MarkdownHeadingCollapsed": true
   },
   "source": [
    "#### Reshaping Data"
   ]
  },
  {
   "cell_type": "markdown",
   "id": "bc993466-0c2a-42d8-9122-d46569985a95",
   "metadata": {},
   "source": [
    "```python\n",
    "# Reshaping DataFrame with MultiIndex\n",
    "df_reset = df.reset_index()\n",
    "print(df_reset)\n",
    "```\n",
    "\n",
    "**Output:**\n",
    "```\n",
    "  level_1 level_2  value\n",
    "0       A       X      1\n",
    "1       A       Y      2\n",
    "2       B       X      3\n",
    "3       B       Y      4\n",
    "```"
   ]
  },
  {
   "cell_type": "markdown",
   "id": "ea506827-2eea-4f7f-9f64-f71d4d7c1f7f",
   "metadata": {
    "jp-MarkdownHeadingCollapsed": true
   },
   "source": [
    "## Reshaping and Pivoting"
   ]
  },
  {
   "cell_type": "markdown",
   "id": "23c04335-d7fc-4653-90ac-1dd8782915e8",
   "metadata": {
    "jp-MarkdownHeadingCollapsed": true
   },
   "source": [
    "### Stack and Unstack"
   ]
  },
  {
   "cell_type": "markdown",
   "id": "c83beddb-538c-42c9-ac59-ae5f3e99511d",
   "metadata": {},
   "source": [
    "Stack and Unstack operations are used to reshape DataFrames with hierarchical indices."
   ]
  },
  {
   "cell_type": "markdown",
   "id": "917c132c-2355-4053-8f41-166489e54722",
   "metadata": {
    "jp-MarkdownHeadingCollapsed": true
   },
   "source": [
    "#### Stack"
   ]
  },
  {
   "cell_type": "markdown",
   "id": "fc6e652b-5a40-47ae-979e-20c08f6c920e",
   "metadata": {},
   "source": [
    "```python\n",
    "# Stacking the columns to rows\n",
    "stacked_df = df.stack()\n",
    "print(stacked_df)\n",
    "```\n",
    "\n",
    "**Output:**\n",
    "```\n",
    "level_1  level_2\n",
    "A        X          1\n",
    "         Y          2\n",
    "B        X          3\n",
    "         Y          4\n",
    "dtype: int64\n",
    "```"
   ]
  },
  {
   "cell_type": "markdown",
   "id": "06837f3a-5d3d-4de8-b3c7-641a24469a52",
   "metadata": {
    "jp-MarkdownHeadingCollapsed": true
   },
   "source": [
    "#### Unstack"
   ]
  },
  {
   "cell_type": "markdown",
   "id": "a481b64b-05d0-45fa-9fea-7f6171bd191c",
   "metadata": {},
   "source": [
    "```python\n",
    "# Unstacking the rows to columns\n",
    "unstacked_df = stacked_df.unstack()\n",
    "print(unstacked_df)\n",
    "```\n",
    "\n",
    "**Output:**\n",
    "```\n",
    "level_2  X  Y\n",
    "level_1      \n",
    "A        1  2\n",
    "B        3  4\n",
    "```"
   ]
  },
  {
   "cell_type": "markdown",
   "id": "c757a451-ca1e-447c-ad31-fa5c2fad836c",
   "metadata": {
    "jp-MarkdownHeadingCollapsed": true
   },
   "source": [
    "### Melt"
   ]
  },
  {
   "cell_type": "markdown",
   "id": "7da612a2-2a2b-420e-af27-75b23795eba2",
   "metadata": {},
   "source": [
    "The `melt` function is used to unpivot DataFrames from wide to long format."
   ]
  },
  {
   "cell_type": "markdown",
   "id": "95c2ee2d-c8c9-4908-aa1f-bf5147fa0e1e",
   "metadata": {
    "jp-MarkdownHeadingCollapsed": true
   },
   "source": [
    "#### Melting DataFrames"
   ]
  },
  {
   "cell_type": "markdown",
   "id": "3e733610-90f5-4298-bfdb-22016d503970",
   "metadata": {},
   "source": [
    "```python\n",
    "# Creating a DataFrame\n",
    "df = pd.DataFrame({\n",
    "    'A': [1, 2],\n",
    "    'B': [3, 4],\n",
    "    'C': [5, 6]\n",
    "}, index=['row1', 'row2'])\n",
    "\n",
    "# Melting the DataFrame\n",
    "melted_df = df.reset_index().melt(id_vars='index')\n",
    "melted_df.columns = ['Row', 'Variable', 'Value']\n",
    "print(melted_df)\n",
    "```\n",
    "\n",
    "**Output:**\n",
    "```\n",
    "    Row Variable  Value\n",
    "0  row1        A      1\n",
    "1  row2        A      2\n",
    "2  row1        B      3\n",
    "3  row2        B      4\n",
    "4  row1        C      5\n",
    "5  row2        C      6\n",
    "```"
   ]
  },
  {
   "cell_type": "markdown",
   "id": "8c0f6e90-0467-481a-968c-6cf332c97653",
   "metadata": {
    "jp-MarkdownHeadingCollapsed": true
   },
   "source": [
    "## Working with Text Data"
   ]
  },
  {
   "cell_type": "markdown",
   "id": "852b3846-4ccf-457d-bc05-6e5ec1ac6abd",
   "metadata": {
    "jp-MarkdownHeadingCollapsed": true
   },
   "source": [
    "### String Methods"
   ]
  },
  {
   "cell_type": "markdown",
   "id": "6f600de0-8080-4765-8bdb-744f37041c73",
   "metadata": {},
   "source": [
    "Pandas provides string methods for Series with object dtype to handle and manipulate text data."
   ]
  },
  {
   "cell_type": "markdown",
   "id": "b56a6ea6-0b83-491c-8aee-487e7f8c437f",
   "metadata": {
    "jp-MarkdownHeadingCollapsed": true
   },
   "source": [
    "#### String Methods Examples"
   ]
  },
  {
   "cell_type": "markdown",
   "id": "1e112d3e-a31a-4379-9aa2-b512b672d0ae",
   "metadata": {},
   "source": [
    "```python\n",
    "# Creating a Series of strings\n",
    "s = pd.Series(['apple', 'banana', 'cherry'])\n",
    "\n",
    "# Basic string methods\n",
    "print(s.str.upper())        # Convert to uppercase\n",
    "print(s.str.contains('a'))  # Check for substring\n",
    "print(s.str.replace('a', 'X'))  # Replace substring\n",
    "```\n",
    "\n",
    "**Output:**\n",
    "```\n",
    "0     APPLE\n",
    "1    BANANA\n",
    "2    CHERRY\n",
    "dtype: object\n",
    "\n",
    "0     True\n",
    "1     True\n",
    "2    False\n",
    "dtype: bool\n",
    "\n",
    "0     Xpple\n",
    "1    BxnXnX\n",
    "2    Cherry\n",
    "dtype: object\n",
    "```"
   ]
  },
  {
   "cell_type": "markdown",
   "id": "1135f900-0a6f-4c60-b9e6-3c32895a1748",
   "metadata": {
    "jp-MarkdownHeadingCollapsed": true
   },
   "source": [
    "### Regular Expressions"
   ]
  },
  {
   "cell_type": "markdown",
   "id": "a2b0e3e2-cbd7-4708-9a64-f836ac7cd62c",
   "metadata": {},
   "source": [
    "Pandas supports regular expressions for more advanced text searching and manipulation."
   ]
  },
  {
   "cell_type": "markdown",
   "id": "01972626-db69-4d19-aba1-8e77d836ec1e",
   "metadata": {
    "jp-MarkdownHeadingCollapsed": true
   },
   "source": [
    "#### Using Regular Expressions"
   ]
  },
  {
   "cell_type": "markdown",
   "id": "d5023255-7f87-4b59-8525-ae56d33e2c70",
   "metadata": {},
   "source": [
    "```python\n",
    "# Series with text data\n",
    "s = pd.Series(['apple pie', 'banana split', 'cherry tart'])\n",
    "\n",
    "# Regular expression search\n",
    "print(s.str.contains('pie|tart'))  # Check if 'pie' or 'tart' is in the text\n",
    "```\n",
    "\n",
    "**Output:**\n",
    "```\n",
    "0     True\n",
    "1    False\n",
    "2     True\n",
    "dtype: bool\n",
    "```"
   ]
  },
  {
   "cell_type": "markdown",
   "id": "2441347c-b025-400d-93f4-0a1d582ef227",
   "metadata": {
    "jp-MarkdownHeadingCollapsed": true
   },
   "source": [
    "# Case Studies and Applications"
   ]
  },
  {
   "cell_type": "markdown",
   "id": "eda14988-58ba-4b72-882c-92bf2ac1f6b1",
   "metadata": {
    "jp-MarkdownHeadingCollapsed": true
   },
   "source": [
    "## Real-world Examples"
   ]
  },
  {
   "cell_type": "markdown",
   "id": "1d5ea18f-6c82-40a8-b1cc-f436d3d98241",
   "metadata": {
    "jp-MarkdownHeadingCollapsed": true
   },
   "source": [
    "### Financial Data Analysis"
   ]
  },
  {
   "cell_type": "markdown",
   "id": "5c4b240b-7c0b-45b5-b0bb-e13b492274e4",
   "metadata": {
    "jp-MarkdownHeadingCollapsed": true
   },
   "source": [
    "#### Example: Analyzing Stock Prices"
   ]
  },
  {
   "cell_type": "markdown",
   "id": "51d9274d-6aaa-4efa-8ff0-49538ade1c9e",
   "metadata": {},
   "source": [
    "- **Loading Data**:\n",
    "  ```python\n",
    "  import pandas as pd\n",
    "\n",
    "  # Load historical stock price data\n",
    "  df = pd.read_csv('stock_prices.csv', parse_dates=['Date'], index_col='Date')\n",
    "  ```\n",
    "\n",
    "- **Calculating Returns**:\n",
    "  ```python\n",
    "  # Calculate daily returns\n",
    "  df['Return'] = df['Close'].pct_change()\n",
    "  ```\n",
    "\n",
    "- **Visualizing Data**:\n",
    "  ```python\n",
    "  import matplotlib.pyplot as plt\n",
    "\n",
    "  # Plot stock prices and returns\n",
    "  df[['Close', 'Return']].plot(subplots=True, figsize=(10, 6))\n",
    "  plt.show()\n",
    "  ```"
   ]
  },
  {
   "cell_type": "markdown",
   "id": "897d6dcb-fad4-44bb-aa55-c758e948df0e",
   "metadata": {
    "jp-MarkdownHeadingCollapsed": true
   },
   "source": [
    "### Sales Data Analysis"
   ]
  },
  {
   "cell_type": "markdown",
   "id": "e44ced40-b28a-4c7e-a691-959003f14aeb",
   "metadata": {
    "jp-MarkdownHeadingCollapsed": true
   },
   "source": [
    "#### Example: Analyzing Monthly Sales Trends"
   ]
  },
  {
   "cell_type": "markdown",
   "id": "3b8d6e13-5862-4485-b439-31814cf7de15",
   "metadata": {},
   "source": [
    "- **Loading Data**:\n",
    "  ```python\n",
    "  df = pd.read_csv('sales_data.csv', parse_dates=['Date'])\n",
    "  df.set_index('Date', inplace=True)\n",
    "  ```\n",
    "\n",
    "- **Aggregating Monthly Sales**:\n",
    "  ```python\n",
    "  # Resample data to monthly frequency and sum sales\n",
    "  monthly_sales = df.resample('M').sum()\n",
    "  ```\n",
    "\n",
    "- **Plotting Sales Trends**:\n",
    "  ```python\n",
    "  monthly_sales['Sales'].plot(title='Monthly Sales Trend')\n",
    "  plt.show()\n",
    "  ```"
   ]
  },
  {
   "cell_type": "markdown",
   "id": "e78604cc-ecf9-4562-8861-dc795410cf9b",
   "metadata": {
    "jp-MarkdownHeadingCollapsed": true
   },
   "source": [
    "### Customer Segmentation"
   ]
  },
  {
   "cell_type": "markdown",
   "id": "d72b1404-9878-47c9-87bc-3e51a31e4e8a",
   "metadata": {
    "jp-MarkdownHeadingCollapsed": true
   },
   "source": [
    "#### Example: Segmenting Customers Based on Purchase Behavior"
   ]
  },
  {
   "cell_type": "markdown",
   "id": "507e333b-03cc-49d7-ab17-6d7ac6bbae0f",
   "metadata": {},
   "source": [
    "- **Loading Data**:\n",
    "  ```python\n",
    "  df = pd.read_csv('customer_data.csv')\n",
    "  ```\n",
    "\n",
    "- **Performing Clustering**:\n",
    "  ```python\n",
    "  from sklearn.cluster import KMeans\n",
    "\n",
    "  # Prepare data for clustering\n",
    "  features = df[['Annual_Spend', 'Purchase_Frequency']]\n",
    "  kmeans = KMeans(n_clusters=3)\n",
    "  df['Segment'] = kmeans.fit_predict(features)\n",
    "  ```\n",
    "\n",
    "- **Visualizing Segments**:\n",
    "  ```python\n",
    "  import seaborn as sns\n",
    "\n",
    "  # Plot customer segments\n",
    "  sns.scatterplot(data=df, x='Annual_Spend', y='Purchase_Frequency', hue='Segment')\n",
    "  plt.show()\n",
    "  ```"
   ]
  },
  {
   "cell_type": "markdown",
   "id": "ace571d2-7e3e-4552-94e4-5979babf9272",
   "metadata": {
    "jp-MarkdownHeadingCollapsed": true
   },
   "source": [
    "## End-to-End Projects"
   ]
  },
  {
   "cell_type": "markdown",
   "id": "b514370b-13b2-4a82-a6a4-c9a577d6f907",
   "metadata": {},
   "source": [
    "### Project: Analyzing and Visualizing eCommerce Data"
   ]
  },
  {
   "cell_type": "markdown",
   "id": "23158a97-f50a-41f6-8cfb-d4790f2ba121",
   "metadata": {
    "jp-MarkdownHeadingCollapsed": true
   },
   "source": [
    "#### Data Collection"
   ]
  },
  {
   "cell_type": "markdown",
   "id": "c1539fe2-9496-4702-a3e7-169ec00464dc",
   "metadata": {},
   "source": [
    "- **Data Source**:\n",
    "  ```python\n",
    "  df = pd.read_csv('ecommerce_data.csv')\n",
    "  ```"
   ]
  },
  {
   "cell_type": "markdown",
   "id": "ddf3a4ff-e669-4606-9d50-88074dddf1f2",
   "metadata": {
    "jp-MarkdownHeadingCollapsed": true
   },
   "source": [
    "#### Data Cleaning"
   ]
  },
  {
   "cell_type": "markdown",
   "id": "69440d84-3a99-4c66-8056-e3868bd0d8aa",
   "metadata": {},
   "source": [
    "- **Handling Missing Values**:\n",
    "  ```python\n",
    "  df.fillna(method='ffill', inplace=True)\n",
    "  ```\n",
    "\n",
    "- **Removing Duplicates**:\n",
    "  ```python\n",
    "  df.drop_duplicates(inplace=True)\n",
    "  ```"
   ]
  },
  {
   "cell_type": "markdown",
   "id": "51afff15-b283-4a37-aa9d-6b2d63b1b223",
   "metadata": {
    "jp-MarkdownHeadingCollapsed": true
   },
   "source": [
    "#### Data Analysis"
   ]
  },
  {
   "cell_type": "markdown",
   "id": "c169c9fc-42df-4083-b627-024f6c7885f8",
   "metadata": {},
   "source": [
    "- **Descriptive Statistics**:\n",
    "  ```python\n",
    "  print(df.describe())\n",
    "  ```\n",
    "\n",
    "- **Sales Analysis**:\n",
    "  ```python\n",
    "  sales_by_category = df.groupby('Category')['Sales'].sum()\n",
    "  ```"
   ]
  },
  {
   "cell_type": "markdown",
   "id": "05f1ea1f-5434-4ca2-8e9c-e8f2a63fda17",
   "metadata": {
    "jp-MarkdownHeadingCollapsed": true
   },
   "source": [
    "#### Data Visualization"
   ]
  },
  {
   "cell_type": "markdown",
   "id": "b6205a51-e7bd-4f98-9622-d10ac8d473aa",
   "metadata": {},
   "source": [
    "- **Sales by Category**:\n",
    "  ```python\n",
    "  sales_by_category.plot(kind='bar', title='Sales by Category')\n",
    "  plt.show()\n",
    "  ```\n",
    "\n",
    "- **Sales Over Time**:\n",
    "  ```python\n",
    "  df['Date'] = pd.to_datetime(df['Date'])\n",
    "  df.set_index('Date', inplace=True)\n",
    "  df.resample('M')['Sales'].sum().plot(title='Monthly Sales')\n",
    "  plt.show()\n",
    "  ```"
   ]
  },
  {
   "cell_type": "markdown",
   "id": "433f3dfc-a38a-4f9d-9be0-a202bcc71678",
   "metadata": {
    "jp-MarkdownHeadingCollapsed": true
   },
   "source": [
    "#### Reporting and Sharing Insights"
   ]
  },
  {
   "cell_type": "markdown",
   "id": "0843d160-aafa-4a72-9e8a-ad31f3bc2b77",
   "metadata": {},
   "source": [
    "- **Generating Reports**:\n",
    "  ```python\n",
    "  summary = df.groupby('Category').agg({'Sales': 'sum', 'Quantity': 'sum'})\n",
    "  summary.to_csv('sales_summary.csv')\n",
    "  ```\n",
    "\n",
    "- **Creating Dashboards**:\n",
    "  ```python\n",
    "  import dash\n",
    "  import dash_core_components as dcc\n",
    "  import dash_html_components as html\n",
    "  import plotly.express as px\n",
    "\n",
    "  app = dash.Dash(__name__)\n",
    "\n",
    "  fig = px.bar(sales_by_category, x=sales_by_category.index, y='Sales')\n",
    "\n",
    "  app.layout = html.Div([\n",
    "      html.H1('eCommerce Sales Dashboard'),\n",
    "      dcc.Graph(figure=fig)\n",
    "  ])\n",
    "\n",
    "  if __name__ == '__main__':\n",
    "      app.run_server(debug=True)\n",
    "  ```"
   ]
  },
  {
   "cell_type": "markdown",
   "id": "b2d6f715-021b-4f35-9758-d9ead03cae17",
   "metadata": {},
   "source": [
    "# Methods and Functions Summary"
   ]
  },
  {
   "cell_type": "markdown",
   "id": "7fdd4e20-36ba-4e31-a46d-4040b678e047",
   "metadata": {
    "jp-MarkdownHeadingCollapsed": true
   },
   "source": [
    "## Data Inspection"
   ]
  },
  {
   "cell_type": "markdown",
   "id": "db25f4bc-6a0c-4e7c-bb14-1f1ad200e5fb",
   "metadata": {
    "jp-MarkdownHeadingCollapsed": true
   },
   "source": [
    "### Overview"
   ]
  },
  {
   "cell_type": "markdown",
   "id": "20aa8d50-b781-4907-8ba8-3182b5efd8f6",
   "metadata": {},
   "source": [
    "- **`info()`**: Summary of DataFrame\n",
    "- **`describe()`**: Statistical summary of DataFrame\n",
    "- **`head()`**: First n rows of DataFrame\n",
    "- **`tail()`**: Last n rows of DataFrame\n",
    "- **`shape`**: Dimensions of DataFrame\n",
    "- **`columns`**: Column names\n",
    "- **`index`**: Index of DataFrame\n",
    "- **`dtypes`**: Data types of columns"
   ]
  },
  {
   "cell_type": "markdown",
   "id": "844fb27a-85f6-4267-9fcc-ed4debe9cf83",
   "metadata": {
    "jp-MarkdownHeadingCollapsed": true
   },
   "source": [
    "### Examples"
   ]
  },
  {
   "cell_type": "markdown",
   "id": "1fb9e5d3-5ba0-4c7e-b401-9dcc9f06079e",
   "metadata": {},
   "source": [
    "```python\n",
    "import pandas as pd\n",
    "\n",
    "# Creating a DataFrame\n",
    "df = pd.DataFrame({\n",
    "    'A': [1, 2, 3],\n",
    "    'B': [4, 5, 6]\n",
    "})\n",
    "\n",
    "# Inspecting the DataFrame\n",
    "print(df.info())\n",
    "print(df.describe())\n",
    "print(df.head())\n",
    "print(df.tail())\n",
    "print(df.shape)\n",
    "print(df.columns)\n",
    "print(df.index)\n",
    "print(df.dtypes)\n",
    "```"
   ]
  },
  {
   "cell_type": "markdown",
   "id": "7ea99c93-8acf-4b72-800c-39921f95ac83",
   "metadata": {
    "jp-MarkdownHeadingCollapsed": true
   },
   "source": [
    "## Data Selection and Indexing"
   ]
  },
  {
   "cell_type": "markdown",
   "id": "cab775b6-fa2c-49fd-9213-b8c565e8718c",
   "metadata": {
    "jp-MarkdownHeadingCollapsed": true
   },
   "source": [
    "### Overview"
   ]
  },
  {
   "cell_type": "markdown",
   "id": "d33cc142-aa17-4ce8-90ce-e372c71858ea",
   "metadata": {},
   "source": [
    "- **`loc[]`**: Label-based selection\n",
    "- **`iloc[]`**: Position-based selection\n",
    "- **`at[]`**: Fast label-based scalar access\n",
    "- **`iat[]`**: Fast position-based scalar access\n",
    "- **`query()`**: Query DataFrame with a boolean expression\n",
    "- **`xs()`**: Cross-section of DataFrame"
   ]
  },
  {
   "cell_type": "markdown",
   "id": "5307550e-799f-4c82-995d-e08cd48e9869",
   "metadata": {
    "jp-MarkdownHeadingCollapsed": true
   },
   "source": [
    "### Examples"
   ]
  },
  {
   "cell_type": "markdown",
   "id": "e73625c4-2613-4a47-a0ea-5017a4468a63",
   "metadata": {},
   "source": [
    "```python\n",
    "# Selection by label\n",
    "print(df.loc[0, 'A'])\n",
    "\n",
    "# Selection by position\n",
    "print(df.iloc[0, 0])\n",
    "\n",
    "# Querying data\n",
    "print(df.query('A > 1'))\n",
    "\n",
    "# Cross-section\n",
    "print(df.xs(0))\n",
    "```"
   ]
  },
  {
   "cell_type": "markdown",
   "id": "d9cd4425-5557-490b-9f66-4a00b24863d3",
   "metadata": {},
   "source": [
    "## Data Manipulation"
   ]
  },
  {
   "cell_type": "markdown",
   "id": "1da585a0-ce17-47e9-8890-1df26699a2d7",
   "metadata": {},
   "source": [
    "### Overview"
   ]
  },
  {
   "cell_type": "markdown",
   "id": "7602d1d3-94be-4e1c-8bca-a8b8ec578477",
   "metadata": {},
   "source": [
    "- **`assign()`**: Add new columns\n",
    "- **`drop()`**: Remove rows or columns\n",
    "- **`rename()`**: Rename columns or index\n",
    "- **`fillna()`**: Fill missing values\n",
    "- **`dropna()`**: Drop missing values\n",
    "- **`replace()`**: Replace values\n",
    "- **`map()`**: Map values from a dictionary\n",
    "- **`apply()`**: Apply function along an axis"
   ]
  },
  {
   "cell_type": "markdown",
   "id": "1b0c7b23-a359-4cfc-a63b-2930f4a20dc0",
   "metadata": {},
   "source": [
    "### Examples"
   ]
  },
  {
   "cell_type": "markdown",
   "id": "a051576d-7197-4417-a654-74e4dba00907",
   "metadata": {},
   "source": [
    "```python\n",
    "# Adding a new column\n",
    "df = df.assign(C=[7, 8, 9])\n",
    "\n",
    "# Dropping a column\n",
    "df = df.drop(columns='C')\n",
    "\n",
    "# Renaming a column\n",
    "df = df.rename(columns={'A': 'Alpha'})\n",
    "\n",
    "# Filling missing values\n",
    "df = df.fillna(0)\n",
    "\n",
    "# Dropping missing values\n",
    "df = df.dropna()\n",
    "\n",
    "# Replacing values\n",
    "df = df.replace({4: 40})\n",
    "\n",
    "# Mapping values\n",
    "df['B'] = df['B'].map({40: 'Forty'})\n",
    "\n",
    "# Applying a function\n",
    "df['B'] = df['B'].apply(lambda x: x.upper())\n",
    "```"
   ]
  },
  {
   "cell_type": "markdown",
   "id": "64033480-d3fd-464b-9d0a-4e871b8d3e2b",
   "metadata": {},
   "source": [
    "## Data Aggregation and Grouping"
   ]
  },
  {
   "cell_type": "markdown",
   "id": "53a9829b-c57d-45fe-b10f-c6001566fa1b",
   "metadata": {
    "jp-MarkdownHeadingCollapsed": true
   },
   "source": [
    "### Overview"
   ]
  },
  {
   "cell_type": "markdown",
   "id": "059ae10d-06c4-4770-a22e-5bac49217508",
   "metadata": {},
   "source": [
    "- **`groupby()`**: Group data by one or more columns\n",
    "- **`agg()`**: Aggregate data with custom functions\n",
    "- **`transform()`**: Transform data within groups\n",
    "- **`pivot_table()`**: Create a pivot table\n",
    "- **`crosstab()`**: Compute a cross-tabulation of two or more factors"
   ]
  },
  {
   "cell_type": "markdown",
   "id": "202806c3-a0d5-4ff5-9138-a77d25a3b746",
   "metadata": {
    "jp-MarkdownHeadingCollapsed": true
   },
   "source": [
    "### Examples"
   ]
  },
  {
   "cell_type": "markdown",
   "id": "7ed5db6b-c0fe-44cd-a7d8-5f0d2a1f9958",
   "metadata": {},
   "source": [
    "```python\n",
    "# Grouping and aggregating\n",
    "grouped = df.groupby('B').agg({'Alpha': 'sum'})\n",
    "\n",
    "# Transforming within groups\n",
    "df['Normalized'] = df.groupby('B')['Alpha'].transform(lambda x: (x - x.mean()) / x.std())\n",
    "\n",
    "# Creating a pivot table\n",
    "pivot = df.pivot_table(values='Alpha', index='B', aggfunc='sum')\n",
    "\n",
    "# Computing a cross-tabulation\n",
    "cross = pd.crosstab(df['B'], df['Alpha'])\n",
    "```"
   ]
  },
  {
   "cell_type": "markdown",
   "id": "e71c5a61-1a47-4ad8-8995-acea2f3b01de",
   "metadata": {
    "jp-MarkdownHeadingCollapsed": true
   },
   "source": [
    "## Data Merging and Joining"
   ]
  },
  {
   "cell_type": "markdown",
   "id": "5c0be66c-c5c0-4ff1-9266-d043ce1c3214",
   "metadata": {
    "jp-MarkdownHeadingCollapsed": true
   },
   "source": [
    "### Overview"
   ]
  },
  {
   "cell_type": "markdown",
   "id": "28ebcae6-3d2d-43e5-ab87-35e0091e0d32",
   "metadata": {},
   "source": [
    "- **`merge()`**: Merge DataFrames\n",
    "- **`concat()`**: Concatenate DataFrames\n",
    "- **`join()`**: Join DataFrames on indices"
   ]
  },
  {
   "cell_type": "markdown",
   "id": "3ca302b3-ff10-458a-8166-e0fa3fd5b3e4",
   "metadata": {
    "jp-MarkdownHeadingCollapsed": true
   },
   "source": [
    "### Examples"
   ]
  },
  {
   "cell_type": "markdown",
   "id": "15341bf8-93ee-4771-89e8-efe44dcc8c2b",
   "metadata": {},
   "source": [
    "```python\n",
    "# Merging DataFrames\n",
    "df2 = pd.DataFrame({'Alpha': [1, 2], 'Beta': [3, 4]})\n",
    "merged = df.merge(df2, on='Alpha')\n",
    "\n",
    "# Concatenating DataFrames\n",
    "concatenated = pd.concat([df, df2])\n",
    "\n",
    "# Joining DataFrames\n",
    "joined = df.join(df2, on='Alpha')\n",
    "```"
   ]
  },
  {
   "cell_type": "markdown",
   "id": "01bb4937-75ce-4df2-8288-f2f25bcb27eb",
   "metadata": {
    "jp-MarkdownHeadingCollapsed": true
   },
   "source": [
    "## Handling Missing Data"
   ]
  },
  {
   "cell_type": "markdown",
   "id": "bba1fb44-359a-44dc-9967-ce6d95c86f5c",
   "metadata": {
    "jp-MarkdownHeadingCollapsed": true
   },
   "source": [
    "### Overview"
   ]
  },
  {
   "cell_type": "markdown",
   "id": "4fef1987-97b4-4d46-b8e4-2eba2e4de5c4",
   "metadata": {},
   "source": [
    "- **`isna()`**: Detect missing values\n",
    "- **`notna()`**: Detect non-missing values\n",
    "- **`fillna()`**: Fill missing values\n",
    "- **`dropna()`**: Drop missing values\n",
    "- **`interpolate()`**: Interpolate missing values"
   ]
  },
  {
   "cell_type": "markdown",
   "id": "48595879-6a4f-43d6-99ad-f4cf8e349bc5",
   "metadata": {
    "jp-MarkdownHeadingCollapsed": true
   },
   "source": [
    "### Examples"
   ]
  },
  {
   "cell_type": "markdown",
   "id": "34c40ad8-931d-4e92-9d9a-8f895d48f8c5",
   "metadata": {},
   "source": [
    "```python\n",
    "# Detecting missing values\n",
    "print(df.isna())\n",
    "\n",
    "# Filling missing values\n",
    "df = df.fillna(method='ffill')\n",
    "\n",
    "# Dropping missing values\n",
    "df = df.dropna()\n",
    "\n",
    "# Interpolating missing values\n",
    "df = df.interpolate()\n",
    "```"
   ]
  },
  {
   "cell_type": "markdown",
   "id": "5ae4d17f-b26b-434b-b745-a982f15aee83",
   "metadata": {
    "jp-MarkdownHeadingCollapsed": true
   },
   "source": [
    "## Working with Dates and Times"
   ]
  },
  {
   "cell_type": "markdown",
   "id": "292538a5-123f-4cbc-869d-a94442baa841",
   "metadata": {
    "jp-MarkdownHeadingCollapsed": true
   },
   "source": [
    "### Overview"
   ]
  },
  {
   "cell_type": "markdown",
   "id": "91d9914a-2cb5-46a1-9b07-61cd0cb94c16",
   "metadata": {},
   "source": [
    "- **`to_datetime()`**: Convert to datetime\n",
    "- **`date_range()`**: Generate a date range\n",
    "- **`resample()`**: Resample time series data\n",
    "- **`dt` accessor**: Access datetime properties"
   ]
  },
  {
   "cell_type": "markdown",
   "id": "76b7dc53-a9ce-439d-901b-c1e8e2ba4c11",
   "metadata": {
    "jp-MarkdownHeadingCollapsed": true
   },
   "source": [
    "### Examples"
   ]
  },
  {
   "cell_type": "markdown",
   "id": "e99babed-e014-4a27-b37d-d2ed5de40224",
   "metadata": {},
   "source": [
    "```python\n",
    "# Converting to datetime\n",
    "df['Date'] = pd.to_datetime(df['Date'])\n",
    "\n",
    "# Generating a date range\n",
    "dates = pd.date_range(start='2022-01-01', periods=10)\n",
    "\n",
    "# Resampling time series data\n",
    "df_resampled = df.resample('M').sum()\n",
    "\n",
    "# Accessing datetime properties\n",
    "df['Year'] = df['Date'].dt.year\n",
    "df['Month'] = df['Date'].dt.month\n",
    "```"
   ]
  },
  {
   "cell_type": "markdown",
   "id": "cf7250d3-60fd-42f3-852f-00821604375a",
   "metadata": {
    "jp-MarkdownHeadingCollapsed": true
   },
   "source": [
    "## Visualization"
   ]
  },
  {
   "cell_type": "markdown",
   "id": "381f80d1-44e1-4e83-8c23-6e47c0df222d",
   "metadata": {
    "jp-MarkdownHeadingCollapsed": true
   },
   "source": [
    "### Overview"
   ]
  },
  {
   "cell_type": "markdown",
   "id": "b224165a-26d9-41ab-9172-d4dea7c39296",
   "metadata": {},
   "source": [
    "- **`plot()`**: Basic plotting\n",
    "- **`hist()`**: Histogram\n",
    "- **`boxplot()`**: Box plot\n",
    "- **`scatter()`**: Scatter plot"
   ]
  },
  {
   "cell_type": "markdown",
   "id": "ae52f257-bf0b-457d-bbbf-477b9b70cecf",
   "metadata": {
    "jp-MarkdownHeadingCollapsed": true
   },
   "source": [
    "### Examples"
   ]
  },
  {
   "cell_type": "markdown",
   "id": "1b26eb67-99ac-4786-86f9-116e729b32c5",
   "metadata": {},
   "source": [
    "```python\n",
    "# Basic plot\n",
    "df['Alpha'].plot()\n",
    "\n",
    "# Histogram\n",
    "df['Alpha'].hist()\n",
    "\n",
    "# Box plot\n",
    "df.boxplot(column='Alpha')\n",
    "\n",
    "# Scatter plot\n",
    "df.plot.scatter(x='Alpha', y='Beta')\n",
    "```"
   ]
  },
  {
   "cell_type": "markdown",
   "id": "dcdf209c-6216-4509-8925-2ebc6d5279b2",
   "metadata": {
    "jp-MarkdownHeadingCollapsed": true
   },
   "source": [
    "## Advanced Pandas"
   ]
  },
  {
   "cell_type": "markdown",
   "id": "ea1ee383-14b8-4d39-a053-a74616c05fc3",
   "metadata": {
    "jp-MarkdownHeadingCollapsed": true
   },
   "source": [
    "### Overview"
   ]
  },
  {
   "cell_type": "markdown",
   "id": "136721f2-12f4-483b-80a8-ae2ba9e4b7c0",
   "metadata": {},
   "source": [
    "- **`MultiIndex`**: Multi-level indexing\n",
    "- **`stack()`**: Stack DataFrame\n",
    "- **`unstack()`**: Unstack DataFrame\n",
    "- **`melt()`**: Unpivot DataFrame\n",
    "- **`string methods`**: String operations\n",
    "- **`regular expressions`**: Regex operations"
   ]
  },
  {
   "cell_type": "markdown",
   "id": "2877adaa-ad10-473d-a0c3-8c3b48698a52",
   "metadata": {
    "jp-MarkdownHeadingCollapsed": true
   },
   "source": [
    "### Examples"
   ]
  },
  {
   "cell_type": "markdown",
   "id": "bd433dc8-76d9-41c2-b024-a21631b4ded2",
   "metadata": {},
   "source": [
    "```python\n",
    "# Creating MultiIndex\n",
    "multi_index = pd.MultiIndex.from_tuples([('A', 1), ('A', 2), ('B', 1)], names=['Letter', 'Number'])\n",
    "\n",
    "# Stacking and unstacking\n",
    "stacked = df.stack()\n",
    "unstacked = stacked.unstack()\n",
    "\n",
    "# Melting DataFrame\n",
    "melted = pd.melt(df, id_vars=['B'], value_vars=['Alpha'])\n",
    "\n",
    "# String methods\n",
    "df['Text'] = df['Text'].str.lower()\n",
    "\n",
    "# Regular expressions\n",
    "df['Text'] = df['Text'].str.replace(r'\\d+', '')\n",
    "```"
   ]
  }
 ],
 "metadata": {
  "kernelspec": {
   "display_name": "Python 3 (ipykernel)",
   "language": "python",
   "name": "python3"
  },
  "language_info": {
   "codemirror_mode": {
    "name": "ipython",
    "version": 3
   },
   "file_extension": ".py",
   "mimetype": "text/x-python",
   "name": "python",
   "nbconvert_exporter": "python",
   "pygments_lexer": "ipython3",
   "version": "3.12.4"
  }
 },
 "nbformat": 4,
 "nbformat_minor": 5
}
