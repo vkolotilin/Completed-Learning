{
 "cells": [
  {
   "cell_type": "markdown",
   "id": "cb704e72-fc3a-4522-ad07-ca3102c8dd72",
   "metadata": {
    "jp-MarkdownHeadingCollapsed": true
   },
   "source": [
    "# Type Hinting and Typing Module (Optional)"
   ]
  },
  {
   "cell_type": "markdown",
   "id": "c703ea65-ff2d-4cf5-a4e7-a50040f7b619",
   "metadata": {
    "jp-MarkdownHeadingCollapsed": true
   },
   "source": [
    "## Introduction to Type Hinting"
   ]
  },
  {
   "cell_type": "markdown",
   "id": "57d7060b-57ee-4af5-8499-664bd2d09644",
   "metadata": {
    "jp-MarkdownHeadingCollapsed": true
   },
   "source": [
    "### Definition"
   ]
  },
  {
   "cell_type": "markdown",
   "id": "553401d1-356f-4aa6-91ce-8922ac96f40f",
   "metadata": {},
   "source": [
    "- **Type Hinting**: Type hinting is a feature in Python that allows you to specify the expected data types of variables, function parameters, and return values. It enhances code readability and helps developers understand what types of values are expected. It also enables static type checkers to analyze code for type-related errors before runtime."
   ]
  },
  {
   "cell_type": "markdown",
   "id": "39af59f8-1dd5-4815-8029-cfb81394b1f0",
   "metadata": {
    "jp-MarkdownHeadingCollapsed": true
   },
   "source": [
    "### History and Evolution"
   ]
  },
  {
   "cell_type": "markdown",
   "id": "3e789fd3-7573-4df3-a745-e381297559c7",
   "metadata": {},
   "source": [
    "- **Python 2**: Type hinting was not supported in Python 2. Developers relied on documentation and conventions to convey type information.\n",
    "- **Python 3.5+**: Type hinting was introduced with PEP 484 and became available in Python 3.5. This brought the concept of type hints to the language, allowing for more explicit type information.\n",
    "- **Python 3.6+**: Improved type hinting with more robust support for type hints, including the introduction of the `typing` module.\n",
    "- **Python 3.7+**: Enhanced typing capabilities, including the introduction of `typing.get_type_hints()` and the ability to use forward references.\n",
    "- **Python 3.9**: Introduced more streamlined type hinting syntax, allowing built-in collection types to be used directly (e.g., `list[int]` instead of `List[int]`).\n",
    "- **Python 3.10**: Further improvements with new features like `TypeGuard` and pattern matching."
   ]
  },
  {
   "cell_type": "markdown",
   "id": "9df22aae-37ed-4d31-9651-0c4e47dd4b16",
   "metadata": {
    "jp-MarkdownHeadingCollapsed": true
   },
   "source": [
    "### Why Use Type Hinting?"
   ]
  },
  {
   "cell_type": "markdown",
   "id": "d5a90f27-9ff7-40d9-a9a3-f45857707acb",
   "metadata": {},
   "source": [
    "- **Code Readability**: Type hints make it clear what types of values are expected, which improves code readability and understanding.\n",
    "- **Error Prevention**: Helps catch type-related errors during development using static type checkers like `mypy`.\n",
    "- **IDE Support**: Modern IDEs use type hints to provide better autocompletion and code analysis features.\n",
    "- **Documentation**: Type hints serve as a form of inline documentation that can be useful for both current and future developers."
   ]
  },
  {
   "cell_type": "markdown",
   "id": "84521844-101c-47f9-93f1-686e1e7b3d6e",
   "metadata": {
    "jp-MarkdownHeadingCollapsed": true
   },
   "source": [
    "### Example of Type Hinting"
   ]
  },
  {
   "cell_type": "markdown",
   "id": "06f682f6-73b8-477e-b782-99d5ca2999b7",
   "metadata": {},
   "source": [
    "Here's a simple example of type hinting in a Python function:\n",
    "\n",
    "```python\n",
    "def greet(name: str) -> str:\n",
    "    return f\"Hello, {name}!\"\n",
    "```\n",
    "\n",
    "**Explanation**:\n",
    "- `name: str`: Indicates that the `name` parameter is expected to be a string.\n",
    "- `-> str`: Indicates that the function will return a string."
   ]
  },
  {
   "cell_type": "markdown",
   "id": "fc61e621-0681-448b-8998-ca81a8e28397",
   "metadata": {
    "jp-MarkdownHeadingCollapsed": true
   },
   "source": [
    "### Practical Considerations"
   ]
  },
  {
   "cell_type": "markdown",
   "id": "119184ac-c80d-4347-8963-bbd96cc4c7d0",
   "metadata": {},
   "source": [
    "- **Optional Typing**: Type hints are optional and do not affect the runtime behavior of your code. They are primarily used for static analysis and development tools.\n",
    "- **Gradual Typing**: You can introduce type hints gradually into your existing codebase. It’s not necessary to add type hints everywhere at once."
   ]
  },
  {
   "cell_type": "markdown",
   "id": "2ccdee8c-e335-4519-986b-5cf9c8ec1d22",
   "metadata": {
    "jp-MarkdownHeadingCollapsed": true
   },
   "source": [
    "### Summary"
   ]
  },
  {
   "cell_type": "markdown",
   "id": "e81fabe0-82bf-4df5-aeb5-67e11a55a65c",
   "metadata": {},
   "source": [
    "Type hinting in Python provides a way to explicitly define the types of variables, function parameters, and return values. Introduced in Python 3.5 and evolving with newer versions, type hinting enhances code readability, helps prevent errors, and improves development tools' functionality. While optional, type hints are a powerful tool for writing clear, maintainable code."
   ]
  },
  {
   "cell_type": "markdown",
   "id": "cb7206fc-14cc-4f6d-81d1-79235bd33e05",
   "metadata": {
    "jp-MarkdownHeadingCollapsed": true
   },
   "source": [
    "## Basic Type Hinting"
   ]
  },
  {
   "cell_type": "markdown",
   "id": "e7269636-338d-4f46-8e8a-eac8ca977488",
   "metadata": {
    "jp-MarkdownHeadingCollapsed": true
   },
   "source": [
    "### Syntax"
   ]
  },
  {
   "cell_type": "markdown",
   "id": "2f320810-66b7-4eeb-ba09-37a090c607e2",
   "metadata": {},
   "source": [
    "Type hinting is used to specify the expected types of variables, function parameters, and return values. Here’s the basic syntax for using type hints in Python:\n",
    "\n",
    "- **Function Annotations**: Type hints can be used in function definitions to specify the types of parameters and return values.\n",
    "\n",
    "```python\n",
    "def function_name(param1: type1, param2: type2) -> return_type:\n",
    "    # Function body\n",
    "```\n",
    "\n",
    "- **Variables**: Type hints can also be used to specify the type of a variable.\n",
    "\n",
    "```python\n",
    "variable_name: type = value\n",
    "```"
   ]
  },
  {
   "cell_type": "markdown",
   "id": "5c0882e4-fffa-40d6-96dc-aac8545afc7c",
   "metadata": {
    "jp-MarkdownHeadingCollapsed": true
   },
   "source": [
    "### Function Annotations"
   ]
  },
  {
   "cell_type": "markdown",
   "id": "ffb63797-3d4d-44f4-a0e2-24ebc9c9dba0",
   "metadata": {},
   "source": [
    "Type hints in function definitions allow you to indicate what type of arguments a function expects and what type it will return. \n",
    "\n",
    "- **Example**:\n",
    "  ```python\n",
    "  def add(x: int, y: int) -> int:\n",
    "      return x + y\n",
    "  ```\n",
    "\n",
    "  **Explanation**:\n",
    "  - `x: int`: Specifies that `x` should be an integer.\n",
    "  - `y: int`: Specifies that `y` should be an integer.\n",
    "  - `-> int`: Specifies that the function returns an integer."
   ]
  },
  {
   "cell_type": "markdown",
   "id": "5abc36d6-a5e3-487f-8135-cade83efbf2b",
   "metadata": {
    "jp-MarkdownHeadingCollapsed": true
   },
   "source": [
    "### Variable Annotations"
   ]
  },
  {
   "cell_type": "markdown",
   "id": "2de3725c-b89e-4564-acd0-bbbfd7c98d9f",
   "metadata": {},
   "source": [
    "Type hints can be used to annotate variables, making it clear what type of value a variable should hold.\n",
    "\n",
    "- **Example**:\n",
    "  ```python\n",
    "  age: int = 30\n",
    "  name: str = \"Alice\"\n",
    "  is_active: bool = True\n",
    "  ```\n",
    "\n",
    "  **Explanation**:\n",
    "  - `age: int`: Specifies that `age` is expected to be an integer.\n",
    "  - `name: str`: Specifies that `name` is expected to be a string.\n",
    "  - `is_active: bool`: Specifies that `is_active` is expected to be a boolean."
   ]
  },
  {
   "cell_type": "markdown",
   "id": "61c48b36-9b9e-46fc-b589-f3b813c46ecf",
   "metadata": {
    "jp-MarkdownHeadingCollapsed": true
   },
   "source": [
    "### Example of Type Hinting in Practice"
   ]
  },
  {
   "cell_type": "markdown",
   "id": "c515ef89-fdc1-4801-92c9-223d67a32f98",
   "metadata": {},
   "source": [
    "Here’s a complete example demonstrating type hinting in both functions and variables:\n",
    "\n",
    "```python\n",
    "def concatenate_strings(a: str, b: str) -> str:\n",
    "    return a + b\n",
    "\n",
    "def square_number(n: int) -> int:\n",
    "    return n * n\n",
    "\n",
    "# Variables with type hints\n",
    "message: str = \"Hello\"\n",
    "count: int = 42\n",
    "\n",
    "# Function calls\n",
    "result = concatenate_strings(message, \" World!\")\n",
    "squared = square_number(count)\n",
    "\n",
    "print(result)  # Output: Hello World!\n",
    "print(squared) # Output: 1764\n",
    "```\n",
    "\n",
    "**Explanation**:\n",
    "- `concatenate_strings(a: str, b: str) -> str`: The function expects two string parameters and returns a string.\n",
    "- `square_number(n: int) -> int`: The function expects an integer parameter and returns an integer.\n",
    "- `message: str` and `count: int`: Type hints specify the expected types for these variables."
   ]
  },
  {
   "cell_type": "markdown",
   "id": "417bef80-0b01-454f-9cc6-f0d74ae200c2",
   "metadata": {
    "jp-MarkdownHeadingCollapsed": true
   },
   "source": [
    "### Type Hints for Function Defaults and Optional Values"
   ]
  },
  {
   "cell_type": "markdown",
   "id": "0255b755-7f60-4fdd-a99e-eb00ff113237",
   "metadata": {},
   "source": [
    "Type hints can also be used with default values and optional types.\n",
    "\n",
    "- **Default Values**: Specify default values with type hints.\n",
    "\n",
    "  ```python\n",
    "  def greet(name: str = \"Guest\") -> str:\n",
    "      return f\"Hello, {name}!\"\n",
    "  ```\n",
    "\n",
    "- **Optional Types**: Use `Optional` from the `typing` module to indicate that a value can be of a specific type or `None`.\n",
    "\n",
    "  ```python\n",
    "  from typing import Optional\n",
    "\n",
    "  def find_item(id: int) -> Optional[str]:\n",
    "      # Function body\n",
    "      return None\n",
    "  ```\n",
    "\n",
    "  **Explanation**:\n",
    "  - `Optional[str]`: Indicates that the function may return a string or `None`."
   ]
  },
  {
   "cell_type": "markdown",
   "id": "cfd9ca55-6bd8-45d3-bdbb-4389252e114d",
   "metadata": {
    "jp-MarkdownHeadingCollapsed": true
   },
   "source": [
    "### Summary"
   ]
  },
  {
   "cell_type": "markdown",
   "id": "1757b202-929f-4931-bd10-3796c7b55fab",
   "metadata": {},
   "source": [
    "Basic type hinting in Python allows you to specify expected types for function parameters, return values, and variables. This enhances code readability, helps with static type checking, and improves IDE support. Type hints can also be used with default values and optional types to handle more complex scenarios."
   ]
  },
  {
   "cell_type": "markdown",
   "id": "aa0ea695-0c9c-45e7-805b-e0c99576ccfc",
   "metadata": {
    "jp-MarkdownHeadingCollapsed": true
   },
   "source": [
    "## Common Type Hints"
   ]
  },
  {
   "cell_type": "markdown",
   "id": "e606b67b-4b06-4b72-8840-3de1a5f04ab7",
   "metadata": {
    "jp-MarkdownHeadingCollapsed": true
   },
   "source": [
    "### Primitive Types"
   ]
  },
  {
   "cell_type": "markdown",
   "id": "8670319d-7e74-4c8d-8111-6d76b6082826",
   "metadata": {},
   "source": [
    "Type hints can be used to specify primitive data types, such as integers, floats, strings, and booleans.\n",
    "\n",
    "- **int**: Represents integer values.\n",
    "  - **Example**: `age: int = 25`\n",
    "- **float**: Represents floating-point numbers.\n",
    "  - **Example**: `price: float = 19.99`\n",
    "- **str**: Represents strings.\n",
    "  - **Example**: `name: str = \"Alice\"`\n",
    "- **bool**: Represents boolean values (`True` or `False`).\n",
    "  - **Example**: `is_active: bool = True`"
   ]
  },
  {
   "cell_type": "markdown",
   "id": "925dc216-74c7-4402-90e8-87ee6659349b",
   "metadata": {
    "jp-MarkdownHeadingCollapsed": true
   },
   "source": [
    "### Collections"
   ]
  },
  {
   "cell_type": "markdown",
   "id": "40b8ec81-9c17-4c44-8466-60e80a59b501",
   "metadata": {},
   "source": [
    "Type hints can also be used to specify the types of elements contained in collections like lists, tuples, sets, and dictionaries.\n",
    "\n",
    "- **List**: A collection of elements of the same type.\n",
    "  - **Syntax**: `List[type]`\n",
    "  - **Example**: `numbers: List[int] = [1, 2, 3, 4]`\n",
    "- **Tuple**: An immutable collection of elements that can be of different types.\n",
    "  - **Syntax**: `Tuple[type1, type2, ...]`\n",
    "  - **Example**: `point: Tuple[int, int] = (3, 4)`\n",
    "- **Set**: A collection of unique elements of the same type.\n",
    "  - **Syntax**: `Set[type]`\n",
    "  - **Example**: `unique_ids: Set[int] = {1, 2, 3}`\n",
    "- **Dict**: A collection of key-value pairs where keys and values can have different types.\n",
    "  - **Syntax**: `Dict[key_type, value_type]`\n",
    "  - **Example**: `user_info: Dict[str, int] = {\"age\": 30, \"score\": 85}`"
   ]
  },
  {
   "cell_type": "markdown",
   "id": "aa255068-fe6b-4081-a249-51fb46a24155",
   "metadata": {
    "jp-MarkdownHeadingCollapsed": true
   },
   "source": [
    "### Optional Types"
   ]
  },
  {
   "cell_type": "markdown",
   "id": "de8f8100-5d9f-48fe-a0c0-74db630cdfcb",
   "metadata": {},
   "source": [
    "`Optional` is used to indicate that a value can be of a specified type or `None`.\n",
    "\n",
    "- **Syntax**: `Optional[type]`\n",
    "- **Example**:\n",
    "  ```python\n",
    "  from typing import Optional\n",
    "\n",
    "  def find_user(user_id: int) -> Optional[str]:\n",
    "      # Function body\n",
    "      return None\n",
    "  ```\n",
    "\n",
    "  **Explanation**: The function may return a string or `None`."
   ]
  },
  {
   "cell_type": "markdown",
   "id": "ec733c8e-37a8-4aad-96ff-476320aa5248",
   "metadata": {
    "jp-MarkdownHeadingCollapsed": true
   },
   "source": [
    "### Union Types"
   ]
  },
  {
   "cell_type": "markdown",
   "id": "2f79b1bf-3d83-48f7-87fe-0b4410567ad7",
   "metadata": {},
   "source": [
    "`Union` allows a variable to be one of several types.\n",
    "\n",
    "- **Syntax**: `Union[type1, type2, ...]`\n",
    "- **Example**:\n",
    "  ```python\n",
    "  from typing import Union\n",
    "\n",
    "  def process(value: Union[int, str]) -> None:\n",
    "      # Function body\n",
    "  ```\n",
    "\n",
    "  **Explanation**: The `value` parameter can be either an integer or a string."
   ]
  },
  {
   "cell_type": "markdown",
   "id": "0a78df94-5e26-480a-a74e-2868ce5f1b4d",
   "metadata": {
    "jp-MarkdownHeadingCollapsed": true
   },
   "source": [
    "### Callable Types"
   ]
  },
  {
   "cell_type": "markdown",
   "id": "9bd9de2b-8367-4c24-afe5-5fa63f7d9e41",
   "metadata": {},
   "source": [
    "`Callable` is used to specify the type of a function or method.\n",
    "\n",
    "- **Syntax**: `Callable[[param1_type, param2_type, ...], return_type]`\n",
    "- **Example**:\n",
    "  ```python\n",
    "  from typing import Callable\n",
    "\n",
    "  def apply_function(func: Callable[[int], str], value: int) -> str:\n",
    "      return func(value)\n",
    "  ```\n",
    "\n",
    "  **Explanation**: The `func` parameter is expected to be a function that takes an integer and returns a string."
   ]
  },
  {
   "cell_type": "markdown",
   "id": "69043c80-def8-4e79-b08f-99d91c15302a",
   "metadata": {
    "jp-MarkdownHeadingCollapsed": true
   },
   "source": [
    "### Type Aliases"
   ]
  },
  {
   "cell_type": "markdown",
   "id": "7ccf0e2e-b2c5-46c9-8225-bcb53f7bba02",
   "metadata": {},
   "source": [
    "Type aliases allow you to create new names for existing types, improving code readability and maintainability.\n",
    "\n",
    "- **Syntax**: \n",
    "  ```python\n",
    "  TypeAlias = ExistingType\n",
    "  ```\n",
    "- **Example**:\n",
    "  ```python\n",
    "  from typing import List\n",
    "\n",
    "  Vector = List[float]\n",
    "  def calculate_magnitude(vector: Vector) -> float:\n",
    "      # Function body\n",
    "  ```\n",
    "\n",
    "  **Explanation**: `Vector` is a type alias for `List[float]`."
   ]
  },
  {
   "cell_type": "markdown",
   "id": "5bcfe4b9-4a49-4be0-8e62-80494457d911",
   "metadata": {
    "jp-MarkdownHeadingCollapsed": true
   },
   "source": [
    "### Summary"
   ]
  },
  {
   "cell_type": "markdown",
   "id": "d33f1613-c435-40cc-9a7c-7c014823cc86",
   "metadata": {},
   "source": [
    "Common type hints in Python include primitive types (`int`, `float`, `str`, `bool`), collection types (`List`, `Tuple`, `Set`, `Dict`), and more advanced types such as `Optional`, `Union`, `Callable`, and type aliases. These type hints help in specifying and enforcing the expected types of variables and function parameters, enhancing code readability, and enabling static type checking."
   ]
  },
  {
   "cell_type": "markdown",
   "id": "a8196f3e-0143-404d-9081-0fb62845d78a",
   "metadata": {
    "jp-MarkdownHeadingCollapsed": true
   },
   "source": [
    "## Advanced Type Hinting"
   ]
  },
  {
   "cell_type": "markdown",
   "id": "f0a2dd4f-1136-48ca-bdfc-cf9d5cfa370f",
   "metadata": {
    "jp-MarkdownHeadingCollapsed": true
   },
   "source": [
    "### Generic Types"
   ]
  },
  {
   "cell_type": "markdown",
   "id": "f7edc446-83aa-417e-a59c-01daf01ecbf6",
   "metadata": {},
   "source": [
    "Generics allow you to define functions or classes that can operate on various types while maintaining type safety. They are useful for creating flexible and reusable code.\n",
    "\n",
    "- **Syntax**: `TypeVar` and generic classes\n",
    "- **Example**:\n",
    "  ```python\n",
    "  from typing import TypeVar, Generic, List\n",
    "\n",
    "  T = TypeVar('T')\n",
    "\n",
    "  class Box(Generic[T]):\n",
    "      def __init__(self, content: T):\n",
    "          self.content = content\n",
    "\n",
    "      def get_content(self) -> T:\n",
    "          return self.content\n",
    "\n",
    "  int_box = Box(123)\n",
    "  str_box = Box(\"hello\")\n",
    "\n",
    "  print(int_box.get_content())  # Output: 123\n",
    "  print(str_box.get_content())  # Output: hello\n",
    "  ```\n",
    "\n",
    "  **Explanation**:\n",
    "  - `TypeVar('T')`: Creates a type variable `T` that can be any type.\n",
    "  - `Generic[T]`: Specifies that `Box` is a generic class that operates on type `T`."
   ]
  },
  {
   "cell_type": "markdown",
   "id": "da805547-fdf0-400c-97a2-a4a0b30dc9fa",
   "metadata": {
    "jp-MarkdownHeadingCollapsed": true
   },
   "source": [
    "### Type Checking with `mypy`"
   ]
  },
  {
   "cell_type": "markdown",
   "id": "c0ebda19-3a34-435c-a282-db420b4d73a8",
   "metadata": {},
   "source": [
    "`mypy` is a static type checker for Python that checks type hints and annotations to ensure code consistency and correctness.\n",
    "\n",
    "- **Installation**:\n",
    "  ```bash\n",
    "  pip install mypy\n",
    "  ```\n",
    "- **Usage**:\n",
    "  ```bash\n",
    "  mypy script.py\n",
    "  ```\n",
    "- **Example**:\n",
    "  ```python\n",
    "  def add(x: int, y: int) -> int:\n",
    "      return x + y\n",
    "\n",
    "  # Run mypy to check for type errors\n",
    "  ```\n",
    "\n",
    "  **Explanation**: `mypy` will analyze the script and report any discrepancies between the type hints and actual code usage."
   ]
  },
  {
   "cell_type": "markdown",
   "id": "4267959b-a592-4f60-8c0c-884b73caebab",
   "metadata": {
    "jp-MarkdownHeadingCollapsed": true
   },
   "source": [
    "### `Protocol` and Structural Typing"
   ]
  },
  {
   "cell_type": "markdown",
   "id": "2d48f4e0-69e0-44ce-a722-29b2f6daa83c",
   "metadata": {},
   "source": [
    "Protocols define a set of methods and attributes that a class must implement, allowing for more flexible and dynamic type checking.\n",
    "\n",
    "- **Syntax**: Using `Protocol` from `typing`\n",
    "- **Example**:\n",
    "  ```python\n",
    "  from typing import Protocol\n",
    "\n",
    "  class Greeter(Protocol):\n",
    "      def greet(self) -> str:\n",
    "          ...\n",
    "\n",
    "  class Person:\n",
    "      def greet(self) -> str:\n",
    "          return \"Hello!\"\n",
    "\n",
    "  def welcome(greeter: Greeter) -> None:\n",
    "      print(greeter.greet())\n",
    "\n",
    "  person = Person()\n",
    "  welcome(person)  # Output: Hello!\n",
    "  ```\n",
    "\n",
    "  **Explanation**:\n",
    "  - `Protocol`: Defines a set of methods and attributes that an implementing class must have.\n",
    "  - `Greeter`: Specifies that a `greet` method returning a string is required."
   ]
  },
  {
   "cell_type": "markdown",
   "id": "b044279f-bb53-463f-ba89-81cbe8321289",
   "metadata": {
    "jp-MarkdownHeadingCollapsed": true
   },
   "source": [
    "### `Literal` Types"
   ]
  },
  {
   "cell_type": "markdown",
   "id": "5e02b561-7e35-4bbb-b7a3-263d5e6c5d45",
   "metadata": {},
   "source": [
    "`Literal` allows you to specify that a value must be one of a specific set of values.\n",
    "\n",
    "- **Syntax**: Using `Literal` from `typing`\n",
    "- **Example**:\n",
    "  ```python\n",
    "  from typing import Literal\n",
    "\n",
    "  def handle_status(status: Literal['success', 'error']) -> None:\n",
    "      if status == 'success':\n",
    "          print(\"Operation succeeded!\")\n",
    "      elif status == 'error':\n",
    "          print(\"Operation failed!\")\n",
    "\n",
    "  handle_status('success')  # Output: Operation succeeded!\n",
    "  ```\n",
    "\n",
    "  **Explanation**: `Literal` restricts the `status` parameter to only accept 'success' or 'error'."
   ]
  },
  {
   "cell_type": "markdown",
   "id": "ed737e44-ef6a-4ce6-a07b-00ca293603dc",
   "metadata": {
    "jp-MarkdownHeadingCollapsed": true
   },
   "source": [
    "### `NewType`"
   ]
  },
  {
   "cell_type": "markdown",
   "id": "ca9d8bf3-b016-4c4f-9812-b72e2fbeb984",
   "metadata": {},
   "source": [
    "`NewType` creates distinct types for better type checking and code readability without introducing new runtime behavior.\n",
    "\n",
    "- **Syntax**: Using `NewType` from `typing`\n",
    "- **Example**:\n",
    "  ```python\n",
    "  from typing import NewType\n",
    "\n",
    "  UserId = NewType('UserId', int)\n",
    "  def get_user_name(user_id: UserId) -> str:\n",
    "      # Function body\n",
    "      return \"User\"\n",
    "\n",
    "  user_id = UserId(123)\n",
    "  print(get_user_name(user_id))  # Output: User\n",
    "  ```\n",
    "\n",
    "  **Explanation**:\n",
    "  - `NewType('UserId', int)`: Creates a new type `UserId` that is based on `int`."
   ]
  },
  {
   "cell_type": "markdown",
   "id": "0fdfe7b1-6f4e-4d12-8155-da37d1c82cf8",
   "metadata": {
    "jp-MarkdownHeadingCollapsed": true
   },
   "source": [
    "### Summary"
   ]
  },
  {
   "cell_type": "markdown",
   "id": "fc9b743d-adea-4ad0-b4f8-66787905ddd1",
   "metadata": {},
   "source": [
    "Advanced type hinting features in Python include generic types, static type checking with `mypy`, structural typing with `Protocol`, literal types with `Literal`, and creating distinct types with `NewType`. These features enhance type safety, code clarity, and flexibility, making it easier to develop and maintain robust Python code."
   ]
  },
  {
   "cell_type": "markdown",
   "id": "27bc6f3c-111d-4b05-bcbf-21e239a8e838",
   "metadata": {
    "jp-MarkdownHeadingCollapsed": true
   },
   "source": [
    "## Type Hinting in Practice"
   ]
  },
  {
   "cell_type": "markdown",
   "id": "c1898e0e-8683-4097-ad49-1d7afedccf37",
   "metadata": {
    "jp-MarkdownHeadingCollapsed": true
   },
   "source": [
    "### Integrating Type Hinting into Existing Code"
   ]
  },
  {
   "cell_type": "markdown",
   "id": "e723696f-90df-45ca-9992-00ddef4222a5",
   "metadata": {},
   "source": [
    "Adding type hints to existing code can improve readability and maintainability. Here’s how to integrate type hinting into different types of codebases:\n",
    "\n",
    "- **Functions**: Add type hints to function parameters and return types.\n",
    "  - **Example**:\n",
    "    ```python\n",
    "    def multiply(x: int, y: int) -> int:\n",
    "        return x * y\n",
    "    ```\n",
    "\n",
    "- **Classes**: Add type hints to methods and class attributes.\n",
    "  - **Example**:\n",
    "    ```python\n",
    "    class Rectangle:\n",
    "        def __init__(self, width: float, height: float):\n",
    "            self.width: float = width\n",
    "            self.height: float = height\n",
    "\n",
    "        def area(self) -> float:\n",
    "            return self.width * self.height\n",
    "    ```\n",
    "\n",
    "- **Modules**: Type hints can be added to module-level variables and constants.\n",
    "  - **Example**:\n",
    "    ```python\n",
    "    PI: float = 3.14159\n",
    "    ```"
   ]
  },
  {
   "cell_type": "markdown",
   "id": "1a0a541f-b2a9-4588-acc2-5f575213bc5b",
   "metadata": {
    "jp-MarkdownHeadingCollapsed": true
   },
   "source": [
    "### Using Type Hinting with Common Libraries"
   ]
  },
  {
   "cell_type": "markdown",
   "id": "36b1780b-8aa2-4ac8-a034-bedbc1dcb145",
   "metadata": {},
   "source": [
    "Type hinting can be particularly useful when working with popular libraries, enhancing code clarity and helping with integration.\n",
    "\n",
    "- **Pandas**: Type hinting can be used with Pandas DataFrames and Series.\n",
    "  - **Example**:\n",
    "    ```python\n",
    "    import pandas as pd\n",
    "    from typing import Dict\n",
    "\n",
    "    def summarize_data(df: pd.DataFrame) -> Dict[str, float]:\n",
    "        return {\n",
    "            'mean': df['column'].mean(),\n",
    "            'std': df['column'].std()\n",
    "        }\n",
    "    ```\n",
    "\n",
    "- **Numpy**: Use type hinting with Numpy arrays and functions.\n",
    "  - **Example**:\n",
    "    ```python\n",
    "    import numpy as np\n",
    "    from typing import Tuple\n",
    "\n",
    "    def calculate_statistics(arr: np.ndarray) -> Tuple[float, float]:\n",
    "        return arr.mean(), arr.std()\n",
    "    ```\n",
    "\n",
    "- **Scikit-learn**: Type hinting can be applied to models and methods.\n",
    "  - **Example**:\n",
    "    ```python\n",
    "    from sklearn.linear_model import LinearRegression\n",
    "    from typing import Tuple\n",
    "\n",
    "    def train_model(X: np.ndarray, y: np.ndarray) -> LinearRegression:\n",
    "        model = LinearRegression()\n",
    "        model.fit(X, y)\n",
    "        return model\n",
    "    ```"
   ]
  },
  {
   "cell_type": "markdown",
   "id": "16d9f589-1324-4a04-a98b-8ee144ce0a18",
   "metadata": {
    "jp-MarkdownHeadingCollapsed": true
   },
   "source": [
    "### Benefits of Type Hinting"
   ]
  },
  {
   "cell_type": "markdown",
   "id": "2b60a519-47e9-4cea-b8f0-8ebbd152d073",
   "metadata": {},
   "source": [
    "- **Improved Readability**: Type hints make the intended types of variables and function parameters clear, making code easier to understand.\n",
    "- **Enhanced IDE Support**: Modern IDEs and editors can provide better autocomplete and type-checking features with type hints.\n",
    "- **Static Analysis**: Tools like `mypy` can check for type consistency and potential bugs before runtime.\n",
    "- **Documentation**: Type hints serve as an additional form of documentation, specifying what types of values are expected."
   ]
  },
  {
   "cell_type": "markdown",
   "id": "2527ef7e-abc7-4696-b293-12b29aeb72e7",
   "metadata": {
    "jp-MarkdownHeadingCollapsed": true
   },
   "source": [
    "### Limitations of Type Hinting"
   ]
  },
  {
   "cell_type": "markdown",
   "id": "a75c6dce-2930-44dc-b7f9-65498a0f95c8",
   "metadata": {},
   "source": [
    "- **Runtime Overhead**: Type hints are not enforced at runtime and are primarily for development-time checks.\n",
    "- **Complexity**: Overusing complex type hints can make code harder to read and maintain.\n",
    "- **Compatibility**: Some older versions of Python or third-party libraries may not fully support advanced type hinting features."
   ]
  },
  {
   "cell_type": "markdown",
   "id": "612d2a69-3f8b-4d99-a3f4-2b9f10fc6330",
   "metadata": {
    "jp-MarkdownHeadingCollapsed": true
   },
   "source": [
    "### Summary"
   ]
  },
  {
   "cell_type": "markdown",
   "id": "b9197cd8-0298-4b96-b8c1-3a17ab69255b",
   "metadata": {},
   "source": [
    "Type hinting in practice involves integrating type hints into functions, classes, and modules to enhance code readability and maintainability. It can be effectively used with common libraries like Pandas, Numpy, and Scikit-learn to clarify the types of data and improve code integration. While type hinting offers numerous benefits, including better IDE support and static analysis, it’s important to be aware of its limitations, such as lack of runtime enforcement and potential complexity."
   ]
  },
  {
   "cell_type": "markdown",
   "id": "44188abe-74e7-4f8b-b551-d81c266549ea",
   "metadata": {
    "jp-MarkdownHeadingCollapsed": true
   },
   "source": [
    "## Typing Module and Type Aliases"
   ]
  },
  {
   "cell_type": "markdown",
   "id": "f0dca8f3-8a08-4593-9f94-d36558a695f9",
   "metadata": {
    "jp-MarkdownHeadingCollapsed": true
   },
   "source": [
    "### `TypeVar` and Generic Types"
   ]
  },
  {
   "cell_type": "markdown",
   "id": "ec9ef51f-fb8d-4eff-908a-ae6ddb29fa99",
   "metadata": {},
   "source": [
    "`TypeVar` allows for the creation of generic types that can be used to define functions or classes that work with multiple types while maintaining type safety.\n",
    "\n",
    "- **Syntax**: \n",
    "  ```python\n",
    "  from typing import TypeVar, Generic\n",
    "\n",
    "  T = TypeVar('T')\n",
    "\n",
    "  class Box(Generic[T]):\n",
    "      def __init__(self, content: T):\n",
    "          self.content = content\n",
    "\n",
    "      def get_content(self) -> T:\n",
    "          return self.content\n",
    "  ```\n",
    "\n",
    "  **Explanation**:\n",
    "  - `TypeVar('T')`: Creates a type variable `T` that can represent any type.\n",
    "  - `Generic[T]`: Indicates that `Box` is a generic class that operates on type `T`."
   ]
  },
  {
   "cell_type": "markdown",
   "id": "30488c75-96df-40a4-b48a-78fce219d631",
   "metadata": {
    "jp-MarkdownHeadingCollapsed": true
   },
   "source": [
    "### `Callable` Type"
   ]
  },
  {
   "cell_type": "markdown",
   "id": "b211b4eb-287e-4392-8e35-138343adf7be",
   "metadata": {},
   "source": [
    "The `Callable` type represents a function or method that can be called. It allows you to specify the types of parameters and the return type of the function.\n",
    "\n",
    "- **Syntax**: \n",
    "  ```python\n",
    "  from typing import Callable\n",
    "\n",
    "  def apply_function(func: Callable[[int], str], value: int) -> str:\n",
    "      return func(value)\n",
    "  ```\n",
    "\n",
    "  **Explanation**:\n",
    "  - `Callable[[param1_type, param2_type, ...], return_type]`: Specifies a function type with given parameter and return types."
   ]
  },
  {
   "cell_type": "markdown",
   "id": "e25399c5-5dad-4fd9-b9ca-897eae5af75e",
   "metadata": {
    "jp-MarkdownHeadingCollapsed": true
   },
   "source": [
    "### `Union` Type"
   ]
  },
  {
   "cell_type": "markdown",
   "id": "7d9a3c8d-c559-48ea-ab1f-ab554906bc1e",
   "metadata": {},
   "source": [
    "The `Union` type allows a value to be one of several specified types.\n",
    "\n",
    "- **Syntax**: \n",
    "  ```python\n",
    "  from typing import Union\n",
    "\n",
    "  def handle_value(value: Union[int, str]) -> None:\n",
    "      if isinstance(value, int):\n",
    "          print(f\"Integer: {value}\")\n",
    "      elif isinstance(value, str):\n",
    "          print(f\"String: {value}\")\n",
    "  ```\n",
    "\n",
    "  **Explanation**:\n",
    "  - `Union[type1, type2, ...]`: Specifies that the value can be one of the listed types."
   ]
  },
  {
   "cell_type": "markdown",
   "id": "e59512a1-d488-4b77-bbf7-46a6ac744039",
   "metadata": {
    "jp-MarkdownHeadingCollapsed": true
   },
   "source": [
    "### `Optional` Type"
   ]
  },
  {
   "cell_type": "markdown",
   "id": "970963ae-7da5-43ff-ade0-44ffe3954668",
   "metadata": {},
   "source": [
    "The `Optional` type is a shorthand for `Union[type, None]`, indicating that a value can either be of a specified type or `None`.\n",
    "\n",
    "- **Syntax**: \n",
    "  ```python\n",
    "  from typing import Optional\n",
    "\n",
    "  def find_item(item_id: int) -> Optional[str]:\n",
    "      return \"Item found\" if item_id > 0 else None\n",
    "  ```\n",
    "\n",
    "  **Explanation**:\n",
    "  - `Optional[type]`: Indicates that the value can be of the specified type or `None`."
   ]
  },
  {
   "cell_type": "markdown",
   "id": "6b211c9a-67de-40b5-b7a4-ddb6dab295e6",
   "metadata": {
    "jp-MarkdownHeadingCollapsed": true
   },
   "source": [
    "### `Literal` Type"
   ]
  },
  {
   "cell_type": "markdown",
   "id": "c35ae028-3e19-44ae-8d77-1f64490be4fe",
   "metadata": {},
   "source": [
    "The `Literal` type restricts a value to a specific set of values.\n",
    "\n",
    "- **Syntax**: \n",
    "  ```python\n",
    "  from typing import Literal\n",
    "\n",
    "  def process_status(status: Literal['pending', 'completed']) -> None:\n",
    "      print(f\"Status: {status}\")\n",
    "  ```\n",
    "\n",
    "  **Explanation**:\n",
    "  - `Literal[value1, value2, ...]`: Specifies that the value must be one of the listed literal values."
   ]
  },
  {
   "cell_type": "markdown",
   "id": "b588e088-bdab-4362-ac57-0577acbeffb0",
   "metadata": {
    "jp-MarkdownHeadingCollapsed": true
   },
   "source": [
    "### `NewType`"
   ]
  },
  {
   "cell_type": "markdown",
   "id": "597c631c-eb2e-4030-9b87-1a1af084c598",
   "metadata": {},
   "source": [
    "`NewType` creates a distinct type from an existing type, useful for distinguishing different kinds of values.\n",
    "\n",
    "- **Syntax**: \n",
    "  ```python\n",
    "  from typing import NewType\n",
    "\n",
    "  UserId = NewType('UserId', int)\n",
    "\n",
    "  def get_user_name(user_id: UserId) -> str:\n",
    "      return \"User\"\n",
    "  ```\n",
    "\n",
    "  **Explanation**:\n",
    "  - `NewType('NewTypeName', base_type)`: Creates a new type based on an existing base type."
   ]
  },
  {
   "cell_type": "markdown",
   "id": "ba07e468-f056-4b25-8b8d-559d5605d3e7",
   "metadata": {
    "jp-MarkdownHeadingCollapsed": true
   },
   "source": [
    "### `TypeAlias`"
   ]
  },
  {
   "cell_type": "markdown",
   "id": "802f9a94-2ab7-41bc-a3b3-2bd44fa3d0be",
   "metadata": {},
   "source": [
    "`TypeAlias` allows you to create a new name for an existing type, improving code readability.\n",
    "\n",
    "- **Syntax**: \n",
    "  ```python\n",
    "  from typing import List\n",
    "\n",
    "  Vector = List[float]\n",
    "\n",
    "  def scale_vector(v: Vector, factor: float) -> Vector:\n",
    "      return [x * factor for x in v]\n",
    "  ```\n",
    "\n",
    "  **Explanation**:\n",
    "  - `TypeAlias = ExistingType`: Defines an alias for an existing type, making the code easier to understand."
   ]
  },
  {
   "cell_type": "markdown",
   "id": "d0e9614d-75e6-46d8-a555-7824b5ed780a",
   "metadata": {
    "jp-MarkdownHeadingCollapsed": true
   },
   "source": [
    "### Summary"
   ]
  },
  {
   "cell_type": "markdown",
   "id": "a5c4de1c-542d-4d56-97b4-86bbfbaa0562",
   "metadata": {},
   "source": [
    "The `typing` module in Python provides several advanced features for type hinting, including `TypeVar` for generic types, `Callable` for functions, `Union` and `Optional` for flexible types, `Literal` for specific values, `NewType` for distinct types, and `TypeAlias` for type renaming. These tools enhance code clarity, safety, and maintainability, helping to create more robust and readable codebases."
   ]
  },
  {
   "cell_type": "markdown",
   "id": "920020ae-aeb6-4f3a-abf1-4c8091b9cbee",
   "metadata": {
    "jp-MarkdownHeadingCollapsed": true
   },
   "source": [
    "## Practical Examples and Use Cases"
   ]
  },
  {
   "cell_type": "markdown",
   "id": "ad11fe86-da40-42cd-a1de-30517412ee73",
   "metadata": {
    "jp-MarkdownHeadingCollapsed": true
   },
   "source": [
    "### Type Hinting in Functions"
   ]
  },
  {
   "cell_type": "markdown",
   "id": "849cc530-b1fa-4dc0-b59f-8bcec8f370cf",
   "metadata": {},
   "source": [
    "Type hints can make function signatures clearer and help catch errors during development.\n",
    "\n",
    "- **Example**:\n",
    "  ```python\n",
    "  from typing import List, Dict\n",
    "\n",
    "  def summarize_list(numbers: List[int]) -> Dict[str, float]:\n",
    "      mean = sum(numbers) / len(numbers) if numbers else 0.0\n",
    "      return {\n",
    "          'mean': mean,\n",
    "          'count': len(numbers)\n",
    "      }\n",
    "  ```\n",
    "\n",
    "  **Explanation**:\n",
    "  - `numbers: List[int]`: Specifies that `numbers` is a list of integers.\n",
    "  - `Dict[str, float]`: The return type is a dictionary with string keys and float values."
   ]
  },
  {
   "cell_type": "markdown",
   "id": "0687747c-7d47-4865-a4d1-be04704688e1",
   "metadata": {
    "jp-MarkdownHeadingCollapsed": true
   },
   "source": [
    "### Type Hinting in Classes"
   ]
  },
  {
   "cell_type": "markdown",
   "id": "402a2b5b-cf06-4384-add2-20a5f5e497d3",
   "metadata": {},
   "source": [
    "Adding type hints to class methods and attributes improves code readability and ensures that the types of attributes are consistent.\n",
    "\n",
    "- **Example**:\n",
    "  ```python\n",
    "  class Employee:\n",
    "      def __init__(self, name: str, salary: float):\n",
    "          self.name: str = name\n",
    "          self.salary: float = salary\n",
    "\n",
    "      def give_raise(self, amount: float) -> None:\n",
    "          self.salary += amount\n",
    "  ```\n",
    "\n",
    "  **Explanation**:\n",
    "  - `name: str` and `salary: float`: Type hints for instance attributes.\n",
    "  - `give_raise(self, amount: float) -> None`: Specifies the type of the parameter `amount` and that the method returns nothing."
   ]
  },
  {
   "cell_type": "markdown",
   "id": "ebce9716-3b13-472a-93ed-594067d011c4",
   "metadata": {
    "jp-MarkdownHeadingCollapsed": true
   },
   "source": [
    "### Type Hinting with Complex Data Structures"
   ]
  },
  {
   "cell_type": "markdown",
   "id": "2c1c1675-893d-45bd-8ed0-1cc027b28315",
   "metadata": {},
   "source": [
    "Type hints are particularly useful for complex data structures like nested dictionaries or lists of tuples.\n",
    "\n",
    "- **Example**:\n",
    "  ```python\n",
    "  from typing import List, Tuple\n",
    "\n",
    "  def process_data(data: List[Tuple[int, str]]) -> List[str]:\n",
    "      return [item[1] for item in data if item[0] > 0]\n",
    "  ```\n",
    "\n",
    "  **Explanation**:\n",
    "  - `data: List[Tuple[int, str]]`: Specifies a list of tuples, where each tuple contains an integer and a string.\n",
    "  - `List[str]`: The function returns a list of strings."
   ]
  },
  {
   "cell_type": "markdown",
   "id": "3367e77a-f9cb-47b5-8a74-4ea4e7347afc",
   "metadata": {
    "jp-MarkdownHeadingCollapsed": true
   },
   "source": [
    "### Using Type Hints with Third-Party Libraries"
   ]
  },
  {
   "cell_type": "markdown",
   "id": "3b45dd09-c680-46ff-88a0-a6c2cc82a2b0",
   "metadata": {},
   "source": [
    "Many third-party libraries use type hints to provide better support and integration.\n",
    "\n",
    "- **Example**: With Pandas\n",
    "  ```python\n",
    "  import pandas as pd\n",
    "  from typing import Optional\n",
    "\n",
    "  def load_data(file_path: str) -> Optional[pd.DataFrame]:\n",
    "      try:\n",
    "          return pd.read_csv(file_path)\n",
    "      except FileNotFoundError:\n",
    "          return None\n",
    "  ```\n",
    "\n",
    "  **Explanation**:\n",
    "  - `file_path: str`: Specifies that `file_path` should be a string.\n",
    "  - `Optional[pd.DataFrame]`: The return type is either a Pandas DataFrame or `None`."
   ]
  },
  {
   "cell_type": "markdown",
   "id": "a4d550b1-6091-4e9c-86e3-c18bf5d8d6f3",
   "metadata": {
    "jp-MarkdownHeadingCollapsed": true
   },
   "source": [
    "### Type Hinting in Asynchronous Code"
   ]
  },
  {
   "cell_type": "markdown",
   "id": "08f865cb-b299-45ab-b95f-f23ec0fe46aa",
   "metadata": {},
   "source": [
    "Type hinting can also be applied to asynchronous functions and methods, improving readability and development support.\n",
    "\n",
    "- **Example**:\n",
    "  ```python\n",
    "  from typing import Awaitable\n",
    "  import asyncio\n",
    "\n",
    "  async def fetch_data(url: str) -> Awaitable[str]:\n",
    "      await asyncio.sleep(1)  # Simulate I/O operation\n",
    "      return \"data from \" + url\n",
    "  ```\n",
    "\n",
    "  **Explanation**:\n",
    "  - `url: str`: Specifies that `url` is a string.\n",
    "  - `Awaitable[str]`: Indicates that the function returns a value that can be awaited, which will eventually be a string."
   ]
  },
  {
   "cell_type": "markdown",
   "id": "4e0d382c-1a2f-468c-9e00-329d5eccd4e5",
   "metadata": {
    "jp-MarkdownHeadingCollapsed": true
   },
   "source": [
    "### Summary"
   ]
  },
  {
   "cell_type": "markdown",
   "id": "1e1bf9c8-fc2c-4518-b34e-32d32a53d388",
   "metadata": {},
   "source": [
    "Practical examples of type hinting demonstrate its use in various scenarios, including functions, classes, complex data structures, third-party libraries, and asynchronous code. Type hints enhance code clarity, ensure consistency, and provide better support during development. By incorporating type hints, developers can create more robust, readable, and maintainable codebases."
   ]
  },
  {
   "cell_type": "markdown",
   "id": "dd98bd03-e195-4ab6-8d1b-eea7629ab6bf",
   "metadata": {
    "jp-MarkdownHeadingCollapsed": true
   },
   "source": [
    "## Advanced Type Hinting Features"
   ]
  },
  {
   "cell_type": "markdown",
   "id": "6a3b3a2c-f812-4be4-8353-49e5a002adb1",
   "metadata": {
    "jp-MarkdownHeadingCollapsed": true
   },
   "source": [
    "### `TypedDict` for Dictionaries with Specific Keys"
   ]
  },
  {
   "cell_type": "markdown",
   "id": "78910c82-9122-4043-8dad-752e8fbdb6de",
   "metadata": {},
   "source": [
    "`TypedDict` allows specifying the types of the values associated with specific keys in a dictionary. This is useful for dictionaries with a fixed set of keys, each of which has a specific type.\n",
    "\n",
    "- **Syntax**: \n",
    "  ```python\n",
    "  from typing import TypedDict\n",
    "\n",
    "  class Person(TypedDict):\n",
    "      name: str\n",
    "      age: int\n",
    "\n",
    "  def greet(person: Person) -> str:\n",
    "      return f\"Hello, {person['name']} who is {person['age']} years old.\"\n",
    "  ```\n",
    "\n",
    "  **Explanation**:\n",
    "  - `TypedDict`: Defines a dictionary with specific keys and their associated types.\n",
    "  - `Person(TypedDict)`: Specifies that `Person` is a dictionary with `name` as a string and `age` as an integer."
   ]
  },
  {
   "cell_type": "markdown",
   "id": "320a8be3-5e62-413c-9039-64169ca2433b",
   "metadata": {
    "jp-MarkdownHeadingCollapsed": true
   },
   "source": [
    "### `Protocol` for Structural Subtyping"
   ]
  },
  {
   "cell_type": "markdown",
   "id": "073f38ac-9712-4bd9-a8b6-f20d07f81014",
   "metadata": {},
   "source": [
    "`Protocol` allows defining a set of methods and properties that a class must implement, without requiring explicit inheritance. This is useful for duck typing and interface-based programming.\n",
    "\n",
    "- **Syntax**: \n",
    "  ```python\n",
    "  from typing import Protocol\n",
    "\n",
    "  class CanFly(Protocol):\n",
    "      def fly(self) -> None:\n",
    "          ...\n",
    "\n",
    "  class Bird:\n",
    "      def fly(self) -> None:\n",
    "          print(\"Flies\")\n",
    "\n",
    "  class Car:\n",
    "      def fly(self) -> None:\n",
    "          print(\"Can't fly\")\n",
    "\n",
    "  def make_it_fly(thing: CanFly) -> None:\n",
    "      thing.fly()\n",
    "  ```\n",
    "\n",
    "  **Explanation**:\n",
    "  - `Protocol`: Defines a protocol that specifies a set of methods and properties.\n",
    "  - `CanFly(Protocol)`: Specifies that any object implementing the `fly` method conforms to the `CanFly` protocol."
   ]
  },
  {
   "cell_type": "markdown",
   "id": "0421e758-9e27-4d0e-9401-e117e9e72e89",
   "metadata": {
    "jp-MarkdownHeadingCollapsed": true
   },
   "source": [
    "### `Final` for Preventing Subclassing"
   ]
  },
  {
   "cell_type": "markdown",
   "id": "e8fe0bd9-acd2-4085-9edb-ca8431a75b4b",
   "metadata": {},
   "source": [
    "`Final` is used to indicate that a class should not be subclassed or that a method should not be overridden. This helps to prevent unintended modifications.\n",
    "\n",
    "- **Syntax**: \n",
    "  ```python\n",
    "  from typing import Final\n",
    "\n",
    "  class Base:\n",
    "      def __init__(self, value: Final[int]) -> None:\n",
    "          self.value = value\n",
    "\n",
    "      def display(self) -> None:\n",
    "          print(self.value)\n",
    "\n",
    "  class Derived(Base):  # Error: Cannot subclass final class Base\n",
    "      def display(self) -> None:\n",
    "          print(\"Value:\", self.value)\n",
    "  ```\n",
    "\n",
    "  **Explanation**:\n",
    "  - `Final`: Indicates that the class or method should not be extended or overridden."
   ]
  },
  {
   "cell_type": "markdown",
   "id": "9638c0ab-7e18-4291-b812-d9ac4cdbcd30",
   "metadata": {
    "jp-MarkdownHeadingCollapsed": true
   },
   "source": [
    "### `Concatenate` for Concatenating Type Variables"
   ]
  },
  {
   "cell_type": "markdown",
   "id": "80cc7b66-a27a-4128-9585-ec7b627ba964",
   "metadata": {},
   "source": [
    "`Concatenate` allows for specifying type variables that can be concatenated with other types, especially in function signatures.\n",
    "\n",
    "- **Syntax**: \n",
    "  ```python\n",
    "  from typing import Concatenate, Callable\n",
    "\n",
    "  def prefix_name(prefix: str, name: str) -> str:\n",
    "      return f\"{prefix} {name}\"\n",
    "\n",
    "  MyFunc = Callable[[str, Concatenate[str, str]], str]\n",
    "\n",
    "  def use_func(func: MyFunc) -> str:\n",
    "      return func(\"Mr.\", \"Smith\")\n",
    "  ```\n",
    "\n",
    "  **Explanation**:\n",
    "  - `Concatenate`: Allows specifying how type variables are combined in function signatures."
   ]
  },
  {
   "cell_type": "markdown",
   "id": "1f568b86-7a13-4c6a-8968-023f8393594a",
   "metadata": {
    "jp-MarkdownHeadingCollapsed": true
   },
   "source": [
    "### Summary"
   ]
  },
  {
   "cell_type": "markdown",
   "id": "2838755f-9603-48be-839e-ee4dfa5e2a06",
   "metadata": {},
   "source": [
    "Advanced type hinting features in Python include `TypedDict` for dictionaries with specific keys, `Protocol` for structural subtyping, `Final` for preventing subclassing or method overriding, and `Concatenate` for concatenating type variables. These features provide additional tools for more precise type annotations, enhancing code clarity, safety, and maintainability. By leveraging these advanced features, developers can enforce stricter type constraints and better express the intent of their code."
   ]
  },
  {
   "cell_type": "markdown",
   "id": "845f5088-aab8-47d0-8133-e9d15d293c87",
   "metadata": {},
   "source": [
    "1. **Ignoring Type Hinting Errors**:\n",
    "   - **Description**: Sometimes, type hinting errors are ignored, leading to runtime issues that could have been caught during development.\n",
    "   - **Solution**: Regularly use type checkers like `mypy` to catch and resolve type hinting issues early.\n",
    "\n",
    "2. **Overusing `Any`**:\n",
    "   - **Description**: Using `Any` as a type hint effectively disables type checking for that value, which can defeat the purpose of type hinting.\n",
    "   - **Solution**: Use more specific types whenever possible to maintain the benefits of type hinting.\n",
    "\n",
    "3. **Inconsistent Typing**:\n",
    "   - **Description**: Mixing different typing styles or using inconsistent type hints can make code harder to understand and maintain.\n",
    "   - **Solution**: Adopt a consistent typing strategy and follow type hinting conventions across your codebase.\n",
    "\n",
    "4. **Misusing Type Aliases**:\n",
    "   - **Description**: Overusing or misusing type aliases can obscure the meaning of types and reduce code readability.\n",
    "   - **Solution**: Use type aliases judiciously and ensure they enhance code clarity rather than complicate it.\n",
    "\n",
    "5. **Confusing `Union` with `Optional`**:\n",
    "   - **Description**: Sometimes `Union` is used instead of `Optional`, leading to confusion about whether `None` is an acceptable value.\n",
    "   - **Solution**: Use `Optional` to explicitly indicate that `None` is a valid value."
   ]
  },
  {
   "cell_type": "markdown",
   "id": "19c12b98-d932-4996-b2e6-f9e7aa1fd2e3",
   "metadata": {},
   "source": [
    "1. **Use Type Hints to Improve Readability**:\n",
    "   - **Description**: Type hints can make code more understandable by clearly specifying what types of values are expected.\n",
    "   - **Example**: \n",
    "     ```python\n",
    "     def calculate_area(radius: float) -> float:\n",
    "         return 3.14 * radius * radius\n",
    "     ```\n",
    "\n",
    "2. **Be Specific with Types**:\n",
    "   - **Description**: Provide as much detail as possible in type hints to improve type safety.\n",
    "   - **Example**: \n",
    "     ```python\n",
    "     from typing import List\n",
    "\n",
    "     def sort_numbers(numbers: List[int]) -> List[int]:\n",
    "         return sorted(numbers)\n",
    "     ```\n",
    "\n",
    "3. **Leverage Type Checking Tools**:\n",
    "   - **Description**: Use type checkers like `mypy` to validate type hints and catch potential issues.\n",
    "   - **Example**: Run `mypy` on your codebase to ensure type hints are consistent and correct.\n",
    "\n",
    "4. **Document Type Hints with Docstrings**:\n",
    "   - **Description**: Use docstrings to explain the purpose of types and how they are used in functions and methods.\n",
    "   - **Example**:\n",
    "     ```python\n",
    "     def concatenate(a: str, b: str) -> str:\n",
    "         \"\"\"\n",
    "         Concatenates two strings.\n",
    "\n",
    "         Args:\n",
    "             a (str): The first string.\n",
    "             b (str): The second string.\n",
    "\n",
    "         Returns:\n",
    "             str: The concatenated result.\n",
    "         \"\"\"\n",
    "         return a + b\n",
    "     ```\n",
    "\n",
    "5. **Use `TypeVar` and `Generic` for Flexible Code**:\n",
    "   - **Description**: Utilize `TypeVar` and `Generic` to create flexible and reusable functions and classes.\n",
    "   - **Example**:\n",
    "     ```python\n",
    "     from typing import TypeVar, Generic\n",
    "\n",
    "     T = TypeVar('T')\n",
    "\n",
    "     class Wrapper(Generic[T]):\n",
    "         def __init__(self, value: T):\n",
    "             self.value = value\n",
    "     ```\n",
    "\n",
    "6. **Avoid Overcomplicating Type Hints**:\n",
    "   - **Description**: Keep type hints simple and avoid excessive use of complex types that may reduce readability.\n",
    "   - **Example**: \n",
    "     ```python\n",
    "     def process_data(data: List[Dict[str, int]]) -> None:\n",
    "         # Process a list of dictionaries\n",
    "         pass\n",
    "     ```"
   ]
  },
  {
   "cell_type": "markdown",
   "id": "73280958-598c-4763-9415-d5b11e9a9d92",
   "metadata": {},
   "source": [
    "Understanding and avoiding common pitfalls in type hinting, while following best practices, can significantly enhance the quality and maintainability of your code. By being specific with types, using type checking tools, and documenting type hints properly, you can ensure that your type hints contribute positively to code clarity and robustness."
   ]
  },
  {
   "cell_type": "markdown",
   "id": "08090148-dce7-45d9-889b-31de4b747769",
   "metadata": {
    "jp-MarkdownHeadingCollapsed": true
   },
   "source": [
    "## Type Hinting Variants for Basic Data Types and Data Structures"
   ]
  },
  {
   "cell_type": "markdown",
   "id": "ee120718-5fb7-42d8-a8e4-1756af277c32",
   "metadata": {
    "jp-MarkdownHeadingCollapsed": true
   },
   "source": [
    "### Basic Data Types"
   ]
  },
  {
   "cell_type": "markdown",
   "id": "96a1c75f-24d4-400f-ba56-2e3762f350bc",
   "metadata": {},
   "source": [
    "1. **Integer**:\n",
    "   - **Syntax**:\n",
    "     ```python\n",
    "     def increment(value: int) -> int:\n",
    "         return value + 1\n",
    "     ```\n",
    "\n",
    "2. **Float**:\n",
    "   - **Syntax**:\n",
    "     ```python\n",
    "     def divide(numerator: float, denominator: float) -> float:\n",
    "         return numerator / denominator\n",
    "     ```\n",
    "\n",
    "3. **Boolean**:\n",
    "   - **Syntax**:\n",
    "     ```python\n",
    "     def is_even(number: int) -> bool:\n",
    "         return number % 2 == 0\n",
    "     ```\n",
    "\n",
    "4. **String**:\n",
    "   - **Syntax**:\n",
    "     ```python\n",
    "     def greet(name: str) -> str:\n",
    "         return f\"Hello, {name}!\"\n",
    "     ```"
   ]
  },
  {
   "cell_type": "markdown",
   "id": "ee500729-8986-4899-b058-caace275db34",
   "metadata": {
    "jp-MarkdownHeadingCollapsed": true
   },
   "source": [
    "### Lists"
   ]
  },
  {
   "cell_type": "markdown",
   "id": "0afcad17-7400-466c-9e50-f09c128171d4",
   "metadata": {},
   "source": [
    "1. **List of Integers**:\n",
    "   - **Syntax**:\n",
    "     ```python\n",
    "     from typing import List\n",
    "\n",
    "     def sum_numbers(numbers: List[int]) -> int:\n",
    "         return sum(numbers)\n",
    "     ```\n",
    "\n",
    "2. **List of Strings**:\n",
    "   - **Syntax**:\n",
    "     ```python\n",
    "     from typing import List\n",
    "\n",
    "     def concatenate(strings: List[str]) -> str:\n",
    "         return ''.join(strings)\n",
    "     ```\n",
    "\n",
    "3. **List of Mixed Types** (using `Union`):\n",
    "   - **Syntax**:\n",
    "     ```python\n",
    "     from typing import List, Union\n",
    "\n",
    "     def process_items(items: List[Union[int, str]]) -> List[str]:\n",
    "         return [str(item) for item in items]\n",
    "     ```"
   ]
  },
  {
   "cell_type": "markdown",
   "id": "eda37bea-82a0-49f6-a01a-0484d050a344",
   "metadata": {
    "jp-MarkdownHeadingCollapsed": true
   },
   "source": [
    "### Tuples"
   ]
  },
  {
   "cell_type": "markdown",
   "id": "20d7767e-0124-404e-841a-9e982df2e37c",
   "metadata": {},
   "source": [
    "1. **Tuple of Fixed Length**:\n",
    "   - **Syntax**:\n",
    "     ```python\n",
    "     from typing import Tuple\n",
    "\n",
    "     def get_coordinates() -> Tuple[int, int]:\n",
    "         return (10, 20)\n",
    "     ```\n",
    "\n",
    "2. **Tuple with Mixed Types**:\n",
    "   - **Syntax**:\n",
    "     ```python\n",
    "     from typing import Tuple\n",
    "\n",
    "     def get_person_info() -> Tuple[str, int]:\n",
    "         return (\"Alice\", 30)\n",
    "     ```"
   ]
  },
  {
   "cell_type": "markdown",
   "id": "2994a6d2-a942-4483-9999-91ce6e33ac9e",
   "metadata": {
    "jp-MarkdownHeadingCollapsed": true
   },
   "source": [
    "### Dictionaries"
   ]
  },
  {
   "cell_type": "markdown",
   "id": "891fff2c-faca-4637-8d90-e2f8bbd2df09",
   "metadata": {},
   "source": [
    "1. **Dictionary with String Keys and Integer Values**:\n",
    "   - **Syntax**:\n",
    "     ```python\n",
    "     from typing import Dict\n",
    "\n",
    "     def count_items(items: Dict[str, int]) -> int:\n",
    "         return sum(items.values())\n",
    "     ```\n",
    "\n",
    "2. **Dictionary with Mixed Key-Value Types**:\n",
    "   - **Syntax**:\n",
    "     ```python\n",
    "     from typing import Dict, Union\n",
    "\n",
    "     def process_data(data: Dict[str, Union[int, str]]) -> None:\n",
    "         for key, value in data.items():\n",
    "             print(f\"{key}: {value}\")\n",
    "     ```"
   ]
  },
  {
   "cell_type": "markdown",
   "id": "215ec6a4-1c99-4194-b663-5a87b0bf6cc8",
   "metadata": {
    "jp-MarkdownHeadingCollapsed": true
   },
   "source": [
    "### Sets"
   ]
  },
  {
   "cell_type": "markdown",
   "id": "165e132e-7b5d-49fc-8e08-5db1bdabfcdf",
   "metadata": {},
   "source": [
    "1. **Set of Integers**:\n",
    "   - **Syntax**:\n",
    "     ```python\n",
    "     from typing import Set\n",
    "\n",
    "     def unique_numbers(numbers: Set[int]) -> Set[int]:\n",
    "         return set(numbers)\n",
    "     ```\n",
    "\n",
    "2. **Set of Strings**:\n",
    "   - **Syntax**:\n",
    "     ```python\n",
    "     from typing import Set\n",
    "\n",
    "     def unique_words(words: Set[str]) -> Set[str]:\n",
    "         return set(words)\n",
    "     ```"
   ]
  },
  {
   "cell_type": "markdown",
   "id": "73f6517e-92e5-4469-98f5-a729f2885f51",
   "metadata": {
    "jp-MarkdownHeadingCollapsed": true
   },
   "source": [
    "### Optional Types"
   ]
  },
  {
   "cell_type": "markdown",
   "id": "81465b6b-1ae2-4f27-ab41-e075beb7a7ba",
   "metadata": {},
   "source": [
    "1. **Optional Type**:\n",
    "   - **Syntax**:\n",
    "     ```python\n",
    "     from typing import Optional\n",
    "\n",
    "     def find_item(items: List[str], item: str) -> Optional[int]:\n",
    "         try:\n",
    "             return items.index(item)\n",
    "         except ValueError:\n",
    "             return None\n",
    "     ```\n",
    "\n",
    "   **Explanation**:\n",
    "   - `Optional[int]`: Indicates that the return value can be an integer or `None`."
   ]
  },
  {
   "cell_type": "markdown",
   "id": "861332c1-08b9-4b5d-b5c1-118b4fc7ed08",
   "metadata": {
    "jp-MarkdownHeadingCollapsed": true
   },
   "source": [
    "### Union Types"
   ]
  },
  {
   "cell_type": "markdown",
   "id": "b0fdae01-ab99-46ee-8c0c-180536a098d9",
   "metadata": {},
   "source": [
    "1. **Union of Multiple Types**:\n",
    "   - **Syntax**:\n",
    "     ```python\n",
    "     from typing import Union\n",
    "\n",
    "     def parse_input(value: Union[int, str]) -> str:\n",
    "         if isinstance(value, int):\n",
    "             return f\"Number: {value}\"\n",
    "         return f\"String: {value}\"\n",
    "     ```\n",
    "\n",
    "   **Explanation**:\n",
    "   - `Union[int, str]`: Indicates that the value can be either an integer or a string."
   ]
  },
  {
   "cell_type": "markdown",
   "id": "6e9dd91a-0f8e-4cf4-9bfb-fb90a0a5633c",
   "metadata": {
    "jp-MarkdownHeadingCollapsed": true
   },
   "source": [
    "### Summary"
   ]
  },
  {
   "cell_type": "markdown",
   "id": "92f507aa-eb10-4676-ad78-f3d16f59d48a",
   "metadata": {},
   "source": [
    "Type hinting for basic data types and data structures includes variants for integers, floats, booleans, strings, lists, tuples, dictionaries, and sets. Additionally, `Optional` and `Union` types provide flexibility for handling multiple possible types. By using these type hints, you can improve code clarity, enforce type safety, and ensure more robust and maintainable code."
   ]
  },
  {
   "cell_type": "markdown",
   "id": "09e9e76d-ae6a-4f74-a17a-23236869ad1f",
   "metadata": {
    "jp-MarkdownHeadingCollapsed": true
   },
   "source": [
    "# Basic Data Types"
   ]
  },
  {
   "cell_type": "markdown",
   "id": "16839ae3-6ff7-4d1b-95ef-861c31b22a71",
   "metadata": {
    "jp-MarkdownHeadingCollapsed": true
   },
   "source": [
    "## Integer (`int`) Type"
   ]
  },
  {
   "cell_type": "markdown",
   "id": "eaa92088-39a4-417f-86be-7b4b88637562",
   "metadata": {
    "jp-MarkdownHeadingCollapsed": true
   },
   "source": [
    "### Description"
   ]
  },
  {
   "cell_type": "markdown",
   "id": "f1631ad0-22d3-4bbc-a818-7ae90090c626",
   "metadata": {},
   "source": [
    "- **Definition**: Represents whole numbers, positive or negative, without a decimal point.\n",
    "- **Range**: In Python 3, integers have unlimited precision, meaning they can grow as large as the memory allows.\n",
    "- **Usage**: Commonly used for counting, indexing, and simple arithmetic operations."
   ]
  },
  {
   "cell_type": "markdown",
   "id": "fafa28b8-0c95-410f-a87c-1e4a4a73fe00",
   "metadata": {
    "jp-MarkdownHeadingCollapsed": true
   },
   "source": [
    "### Characteristics"
   ]
  },
  {
   "cell_type": "markdown",
   "id": "c0aca515-450f-44af-a54f-c032f4a43e7c",
   "metadata": {},
   "source": [
    "- **Immutable**: Once an integer is created, its value cannot be changed. Any operation on an integer returns a new integer.\n",
    "- **Memory Management**: Python manages memory allocation for integers automatically. Small integers (usually between -5 and 256) are preallocated and shared between variables to optimize memory usage."
   ]
  },
  {
   "cell_type": "markdown",
   "id": "8f25e990-485f-41bc-82a1-911043ad79a0",
   "metadata": {
    "jp-MarkdownHeadingCollapsed": true
   },
   "source": [
    "### Creation"
   ]
  },
  {
   "cell_type": "markdown",
   "id": "00c15fb6-1ee4-4bf1-8534-e788e2202bc7",
   "metadata": {},
   "source": [
    "- **Direct Assignment**: Assigning an integer value directly to a variable.\n",
    "  ```python\n",
    "  x = 5\n",
    "  ```\n",
    "- **Using `int()` Constructor**: Converting other types to an integer.\n",
    "  ```python\n",
    "  y = int(\"10\")  # Converts string to integer\n",
    "  z = int(10.5)  # Converts float to integer\n",
    "  ```\n",
    "  - **Optional `base` parameter**: Converts a string representation of a number in a given base to an integer.\n",
    "    ```python\n",
    "    n = int('101', 2)  # Converts binary '101' to integer 5\n",
    "    ```"
   ]
  },
  {
   "cell_type": "markdown",
   "id": "9eff39fa-0750-48cf-b065-5f3cba29ab6a",
   "metadata": {
    "jp-MarkdownHeadingCollapsed": true
   },
   "source": [
    "### Common Functions/Methods"
   ]
  },
  {
   "cell_type": "markdown",
   "id": "ea7ce79f-47c9-475a-afa2-2dd0b3ad9ef5",
   "metadata": {},
   "source": [
    "| Function/Method        | Description                         | Example                       |\n",
    "|------------------------|-------------------------------------|-------------------------------|\n",
    "| `int(x)`               | Converts x to an integer            | `int(5.6)` → `5`              |\n",
    "| `int(x, base)`         | Converts x to an integer with a given base | `int('101', 2)` → `5`      |"
   ]
  },
  {
   "cell_type": "markdown",
   "id": "4e5cc91e-cc5d-4292-a8e6-a7325039d51a",
   "metadata": {
    "jp-MarkdownHeadingCollapsed": true
   },
   "source": [
    "### Arithmetic Operations"
   ]
  },
  {
   "cell_type": "markdown",
   "id": "98d68345-7962-446f-a3c5-d5530e087196",
   "metadata": {},
   "source": [
    "| Operation              | Description                         | Example                       |\n",
    "|------------------------|-------------------------------------|-------------------------------|\n",
    "| `x + y`                | Addition                            | `5 + 3` → `8`                 |\n",
    "| `x - y`                | Subtraction                         | `5 - 3` → `2`                 |\n",
    "| `x * y`                | Multiplication                      | `5 * 3` → `15`                |\n",
    "| `x / y`                | Division                            | `5 / 2` → `2.5`               |\n",
    "| `x // y`               | Floor division                      | `5 // 2` → `2`                |\n",
    "| `x % y`                | Modulus                             | `5 % 2` → `1`                 |\n",
    "| `x ** y`               | Exponentiation                      | `5 ** 2` → `25`               |"
   ]
  },
  {
   "cell_type": "markdown",
   "id": "eb47fab8-1b3e-4aa2-99ee-ce7765f4dcd2",
   "metadata": {
    "jp-MarkdownHeadingCollapsed": true
   },
   "source": [
    "### Comparison Operations"
   ]
  },
  {
   "cell_type": "markdown",
   "id": "faeba6ba-ee7b-4716-b3ea-59efa345824d",
   "metadata": {},
   "source": [
    "| Operation              | Description                         | Example                       |\n",
    "|------------------------|-------------------------------------|-------------------------------|\n",
    "| `x == y`               | Equal to                            | `5 == 5` → `True`             |\n",
    "| `x != y`               | Not equal to                        | `5 != 3` → `True`             |\n",
    "| `x > y`                | Greater than                        | `5 > 3` → `True`              |\n",
    "| `x < y`                | Less than                           | `5 < 3` → `False`             |\n",
    "| `x >= y`               | Greater than or equal to            | `5 >= 5` → `True`             |\n",
    "| `x <= y`               | Less than or equal to               | `5 <= 3` → `False`            |"
   ]
  },
  {
   "cell_type": "markdown",
   "id": "f626cfeb-7f1a-4b86-a15c-e4fb751de4f9",
   "metadata": {
    "jp-MarkdownHeadingCollapsed": true
   },
   "source": [
    "### Bitwise Operations"
   ]
  },
  {
   "cell_type": "markdown",
   "id": "bded48f5-5b06-49d0-b652-452a0b726806",
   "metadata": {},
   "source": [
    "| Operation              | Description                         | Example                       |\n",
    "|------------------------|-------------------------------------|-------------------------------|\n",
    "| `x & y`                | Bitwise AND                         | `5 & 3` → `1`                 |\n",
    "| `x \\| y`                | Bitwise OR                          | `5 \\| 3` → `7`                  |\n",
    "| `x ^ y`                | Bitwise XOR                         | `5 ^ 3` → `6`                 |\n",
    "| `~x`                   | Bitwise NOT                         | `~5` → `-6`                   |\n",
    "| `x << y`               | Bitwise left shift                  | `5 << 1` → `10`               |\n",
    "| `x >> y`               | Bitwise right shift                 | `5 >> 1` → `2`                |"
   ]
  },
  {
   "cell_type": "markdown",
   "id": "661bc153-ba75-4985-8022-c326ced6113c",
   "metadata": {
    "jp-MarkdownHeadingCollapsed": true
   },
   "source": [
    "### Built-in Functions"
   ]
  },
  {
   "cell_type": "markdown",
   "id": "16a2a0a8-45fc-4956-a21c-24848164ab4c",
   "metadata": {},
   "source": [
    "| Function               | Description                         | Example                       |\n",
    "|------------------------|-------------------------------------|-------------------------------|\n",
    "| `abs(x)`               | Returns the absolute value of x     | `abs(-5)` → `5`               |\n",
    "| `pow(x, y)`            | Returns x raised to the power y     | `pow(2, 3)` → `8`             |\n",
    "| `divmod(x, y)`         | Returns the quotient and remainder  | `divmod(5, 2)` → `(2, 1)`     |\n",
    "| `max(x, y, ...)`       | Returns the largest of the arguments| `max(1, 2, 3)` → `3`          |\n",
    "| `min(x, y, ...)`       | Returns the smallest of the arguments| `min(1, 2, 3)` → `1`         |"
   ]
  },
  {
   "cell_type": "markdown",
   "id": "3a35cc9c-521c-4194-b806-252a26681de8",
   "metadata": {
    "jp-MarkdownHeadingCollapsed": true
   },
   "source": [
    "### Type Conversion"
   ]
  },
  {
   "cell_type": "markdown",
   "id": "53741a75-4c37-4509-b9d8-799ec6702961",
   "metadata": {},
   "source": [
    "| Function               | Description                         | Example                       |\n",
    "|------------------------|-------------------------------------|-------------------------------|\n",
    "| `float(x)`             | Converts x to a float               | `float(5)` → `5.0`            |\n",
    "| `str(x)`               | Converts x to a string              | `str(5)` → `'5'`              |\n",
    "| `bool(x)`              | Converts x to a boolean             | `bool(5)` → `True`            |"
   ]
  },
  {
   "cell_type": "markdown",
   "id": "c9ecc9c9-6fa6-4fc6-bcfc-9707310b1fc2",
   "metadata": {
    "jp-MarkdownHeadingCollapsed": true
   },
   "source": [
    "### Examples"
   ]
  },
  {
   "cell_type": "markdown",
   "id": "8b012d8b-7adc-40e4-8fdd-20c633dd777b",
   "metadata": {},
   "source": [
    "1. **Basic Arithmetic**\n",
    "    ```python\n",
    "    a = 10\n",
    "    b = 3\n",
    "    print(a + b)  # 13\n",
    "    print(a - b)  # 7\n",
    "    print(a * b)  # 30\n",
    "    print(a / b)  # 3.3333...\n",
    "    print(a // b) # 3\n",
    "    print(a % b)  # 1\n",
    "    print(a ** b) # 1000\n",
    "    ```\n",
    "\n",
    "2. **Comparison Operations**\n",
    "    ```python\n",
    "    x = 5\n",
    "    y = 10\n",
    "    print(x == y)  # False\n",
    "    print(x != y)  # True\n",
    "    print(x > y)   # False\n",
    "    print(x < y)   # True\n",
    "    print(x >= y)  # False\n",
    "    print(x <= y)  # True\n",
    "    ```\n",
    "\n",
    "3. **Bitwise Operations**\n",
    "    ```python\n",
    "    x = 5  # 0b0101\n",
    "    y = 3  # 0b0011\n",
    "    print(x & y)  # 1  (0b0001)\n",
    "    print(x | y)  # 7  (0b0111)\n",
    "    print(x ^ y)  # 6  (0b0110)\n",
    "    print(~x)     # -6 (two's complement)\n",
    "    print(x << 1) # 10 (0b1010)\n",
    "    print(x >> 1) # 2  (0b0010)\n",
    "    ```"
   ]
  },
  {
   "cell_type": "markdown",
   "id": "bf5ee770-e7ef-4c5d-b67d-2279aaa9437e",
   "metadata": {
    "jp-MarkdownHeadingCollapsed": true
   },
   "source": [
    "### Additional Theory"
   ]
  },
  {
   "cell_type": "markdown",
   "id": "75804c4d-e0e9-4b9f-8e18-389a2ce87e84",
   "metadata": {},
   "source": [
    "\n",
    "- **Precision and Overflow**: Unlike some other languages, Python's `int` type does not overflow; it can grow to accommodate very large numbers as long as there is enough memory.\n",
    "- **Python 2 vs. Python 3**: In Python 2, there were two integer types (`int` and `long`). In Python 3, these are unified into a single `int` type.\n",
    "- **Performance Considerations**: For intensive numerical computations, consider using specialized libraries like NumPy, which provide more efficient handling of large arrays of numbers.\n",
    "- **Boolean Context**: In Python, integers can be used in a boolean context. Any non-zero integer is considered `True`, and `0` is considered `False`.\n",
    "  ```python\n",
    "  if 5:\n",
    "      print(\"True\")  # This will be printed\n",
    "\n",
    "  if 0:\n",
    "      print(\"True\")\n",
    "  else:\n",
    "      print(\"False\")  # This will be printed\n",
    "  ```\n",
    "- **Integer Sequences**: Python provides several ways to generate sequences of integers, such as the `range()` function.\n",
    "  ```python\n",
    "  for i in range(5):\n",
    "      print(i)  # Prints 0, 1, 2, 3, 4\n",
    "  ```\n",
    "- **Integer Division**: The division operator `/` always returns a float. Use `//` for integer (floor) division.\n",
    "  ```python\n",
    "  print(5 / 2)  # 2.5\n",
    "  print(5 // 2) # 2\n",
    "  ```"
   ]
  },
  {
   "cell_type": "markdown",
   "id": "f8140125-81a6-46e2-a397-9552f09b973c",
   "metadata": {
    "jp-MarkdownHeadingCollapsed": true
   },
   "source": [
    "## Float (`float`) Type"
   ]
  },
  {
   "cell_type": "markdown",
   "id": "0d8015fb-0434-46a3-b2c6-30fd4d3479b3",
   "metadata": {
    "jp-MarkdownHeadingCollapsed": true
   },
   "source": [
    "### Description"
   ]
  },
  {
   "cell_type": "markdown",
   "id": "524ac131-e3b0-4a63-914b-dbda51da1c36",
   "metadata": {},
   "source": [
    "- **Definition**: Represents real numbers, containing a fractional part, represented as floating-point numbers.\n",
    "- **Precision**: Limited precision due to the way floating-point numbers are stored in binary form.\n",
    "- **Usage**: Used for representing decimal numbers, such as measurements, monetary values, and scientific calculations."
   ]
  },
  {
   "cell_type": "markdown",
   "id": "d014ab6d-b108-4c2e-81a6-de0648221910",
   "metadata": {
    "jp-MarkdownHeadingCollapsed": true
   },
   "source": [
    "### Characteristics"
   ]
  },
  {
   "cell_type": "markdown",
   "id": "0248a80c-c595-4394-96f0-c3b782678af1",
   "metadata": {},
   "source": [
    "- **Mutable**: Floating-point numbers in Python can be changed.\n",
    "- **Memory Management**: Managed automatically by Python. \n",
    "- **IEEE 754 Standard**: Floats in Python adhere to this standard for binary floating-point arithmetic."
   ]
  },
  {
   "cell_type": "markdown",
   "id": "295fedd8-5b73-4b75-a408-59a328dbac72",
   "metadata": {
    "jp-MarkdownHeadingCollapsed": true
   },
   "source": [
    "### Creation"
   ]
  },
  {
   "cell_type": "markdown",
   "id": "975890a4-8936-4437-a13a-0ef8453d9b11",
   "metadata": {},
   "source": [
    "- **Direct Assignment**: Assigning a floating-point value directly to a variable.\n",
    "  ```python\n",
    "  x = 5.0\n",
    "  y = -3.14\n",
    "  ```\n",
    "- **Using `float()` Constructor**: Converting other types to a float.\n",
    "  ```python\n",
    "  z = float(10)  # Converts integer to float\n",
    "  w = float('3.14')  # Converts string to float\n",
    "  ```"
   ]
  },
  {
   "cell_type": "markdown",
   "id": "06a3dc0e-c447-46fc-bf38-137a9cfb18e6",
   "metadata": {
    "jp-MarkdownHeadingCollapsed": true
   },
   "source": [
    "### Common Functions/Methods"
   ]
  },
  {
   "cell_type": "markdown",
   "id": "b44178e9-4717-4c73-974f-f81210aa6a16",
   "metadata": {},
   "source": [
    "| Function/Method              | Description                             | Example                       |\n",
    "|------------------------------|-----------------------------------------|-------------------------------|\n",
    "| `float(x)`                   | Converts x to a float                   | `float(5)` → `5.0`            |\n",
    "| `round(x, n)`              | Rounds x to n decimal places            | `round(3.14159, 2)` → `3.14`  |\n",
    "| `abs(x)`                     | Returns the absolute value of x         | `abs(-5.0)` → `5.0`           |\n",
    "| `math.ceil(x)`               | Returns the ceiling of x                | `math.ceil(2.3)` → `3`        |\n",
    "| `math.floor(x)`              | Returns the floor of x                  | `math.floor(2.7)` → `2`       |\n",
    "| `math.isnan(x)`              | Checks if x is not a number (NaN)       | `math.isnan(float('nan'))` → `True` |\n",
    "| `math.isinf(x)`              | Checks if x is infinite                 | `math.isinf(float('inf'))` → `True` |\n",
    "| `is_integer()`               | Checks if the float is an integer       | `(10.0).is_integer()` → `True` |"
   ]
  },
  {
   "cell_type": "markdown",
   "id": "27f10911-2a82-4305-9c67-5d8e6135d0fb",
   "metadata": {
    "jp-MarkdownHeadingCollapsed": true
   },
   "source": [
    "### Arithmetic Operations"
   ]
  },
  {
   "cell_type": "markdown",
   "id": "242633e0-c230-4533-8416-21a3c03216b7",
   "metadata": {},
   "source": [
    "| Operation              | Description                             | Example                       |\n",
    "|------------------------|-----------------------------------------|-------------------------------|\n",
    "| `x + y`                | Addition                                | `5.0 + 3.1` → `8.1`           |\n",
    "| `x - y`                | Subtraction                             | `5.0 - 3.1` → `1.9`           |\n",
    "| `x * y`                | Multiplication                          | `5.0 * 3.1` → `15.5`          |\n",
    "| `x / y`                | Division                                | `5.0 / 2.0` → `2.5`           |\n",
    "| `x // y`               | Floor division                          | `5.0 // 2.0` → `2.0`          |\n",
    "| `x % y`                | Modulus                                 | `5.0 % 2.0` → `1.0`           |\n",
    "| `x ** y`               | Exponentiation                          | `5.0 ** 2.0` → `25.0`         |"
   ]
  },
  {
   "cell_type": "markdown",
   "id": "b38eb2ac-4f52-4ff3-89a1-5eaed0056882",
   "metadata": {
    "jp-MarkdownHeadingCollapsed": true
   },
   "source": [
    "### Comparison Operations"
   ]
  },
  {
   "cell_type": "markdown",
   "id": "d92559e2-c7c4-42a7-9222-6ff289a6a6e1",
   "metadata": {},
   "source": [
    "| Operation              | Description                             | Example                       |\n",
    "|------------------------|-----------------------------------------|-------------------------------|\n",
    "| `x == y`               | Equal to                                | `5.0 == 5.0` → `True`         |\n",
    "| `x != y`               | Not equal to                            | `5.0 != 3.1` → `True`         |\n",
    "| `x > y`                | Greater than                            | `5.0 > 3.1` → `True`          |\n",
    "| `x < y`                | Less than                               | `5.0 < 3.1` → `False`         |\n",
    "| `x >= y`               | Greater than or equal to                | `5.0 >= 5.0` → `True`         |\n",
    "| `x <= y`               | Less than or equal to                   | `5.0 <= 3.1` → `False`        |"
   ]
  },
  {
   "cell_type": "markdown",
   "id": "58bc66fd-e194-4165-8f7f-ccbd81380e95",
   "metadata": {
    "jp-MarkdownHeadingCollapsed": true
   },
   "source": [
    "### Examples"
   ]
  },
  {
   "cell_type": "markdown",
   "id": "caf6846d-ad8d-4472-8c8f-f55c1a2acc67",
   "metadata": {},
   "source": [
    "1. **Basic Arithmetic Operations**\n",
    "    ```python\n",
    "    a = 10.5\n",
    "    b = 2.3\n",
    "    print(a + b)  # 12.8\n",
    "    print(a - b)  # 8.2\n",
    "    print(a * b)  # 24.15\n",
    "    print(a / b)  # 4.565217391304348\n",
    "    print(a // b) # 4.0\n",
    "    print(a % b)  # 1.6000000000000005\n",
    "    print(a ** b) # 166.78783900648934\n",
    "    ```\n",
    "\n",
    "2. **Rounding and Absolute Value**\n",
    "    ```python\n",
    "    import math\n",
    "\n",
    "    x = -3.14159\n",
    "    print(round(x, 2))  # -3.14\n",
    "    print(abs(x))       # 3.14159\n",
    "    print(math.ceil(x)) # -3\n",
    "    print(math.floor(x))# -4\n",
    "    ```\n",
    "\n",
    "3. **Special Values**\n",
    "    ```python\n",
    "    import math\n",
    "\n",
    "    print(math.isnan(float('nan')))  # True\n",
    "    print(math.isinf(float('inf')))  # True\n",
    "    print((10.0).is_integer())       # True\n",
    "    print((10.1).is_integer())       # False\n",
    "    ```"
   ]
  },
  {
   "cell_type": "markdown",
   "id": "41c9927a-2cc5-4674-8821-c47f66fac08d",
   "metadata": {
    "jp-MarkdownHeadingCollapsed": true
   },
   "source": [
    "### Additional Theory"
   ]
  },
  {
   "cell_type": "markdown",
   "id": "2635614e-6606-4b68-8e73-c3b9940a50e1",
   "metadata": {},
   "source": [
    "- **Precision Issues**: Due to the way floating-point numbers are stored, some numbers cannot be represented exactly, leading to precision errors.\n",
    "  ```python\n",
    "  print(0.1 + 0.2)  # 0.30000000000000004\n",
    "  ```\n",
    "\n",
    "- **Scientific Notation**: Floats can be represented in scientific notation for very large or small numbers.\n",
    "  ```python\n",
    "  x = 1.23e4  # 1.23 * 10^4\n",
    "  print(x)    # 12300.0\n",
    "  ```\n",
    "\n",
    "- **Type Conversion**: Converting between floats and other types.\n",
    "  ```python\n",
    "  x = 5\n",
    "  y = 3.14\n",
    "  print(float(x))  # 5.0\n",
    "  print(int(y))    # 3\n",
    "  print(str(y))    # '3.14'\n",
    "  ```\n",
    "\n",
    "- **Special Values**: Floats have special values like `NaN` (Not a Number) and `Infinity`.\n",
    "  ```python\n",
    "  print(float('nan'))  # nan\n",
    "  print(float('inf'))  # inf\n",
    "  ```"
   ]
  },
  {
   "cell_type": "markdown",
   "id": "cd7eb1cb-eefb-48d7-a78b-a5faff8eb757",
   "metadata": {
    "jp-MarkdownHeadingCollapsed": true
   },
   "source": [
    "## String (`str`) Type"
   ]
  },
  {
   "cell_type": "markdown",
   "id": "07b52c56-ef7b-44c6-bf46-cf68b09b1ed8",
   "metadata": {
    "jp-MarkdownHeadingCollapsed": true
   },
   "source": [
    "### Description"
   ]
  },
  {
   "cell_type": "markdown",
   "id": "3d634d40-971e-4d82-8499-79dbcbe9ae95",
   "metadata": {},
   "source": [
    "- **Definition**: A sequence of characters used to store and manipulate text.\n",
    "- **Immutability**: Strings in Python are immutable, meaning once created, their content cannot be changed.\n",
    "- **Usage**: Commonly used for representing text data, including words, sentences, and paragraphs."
   ]
  },
  {
   "cell_type": "markdown",
   "id": "33498c1a-099f-40a2-b57f-7b9b69701046",
   "metadata": {
    "jp-MarkdownHeadingCollapsed": true
   },
   "source": [
    "### Characteristics"
   ]
  },
  {
   "cell_type": "markdown",
   "id": "d3a6bd80-893d-4db3-81a6-34ebc24fa3b6",
   "metadata": {},
   "source": [
    "- **Immutable**: Modifications to strings create new string objects.\n",
    "- **Indexable**: Characters in a string can be accessed via indices, starting from 0.\n",
    "- **Slicable**: Substrings can be extracted using slicing."
   ]
  },
  {
   "cell_type": "markdown",
   "id": "218d6310-487b-4943-ac7e-271d8bc90ca0",
   "metadata": {
    "jp-MarkdownHeadingCollapsed": true
   },
   "source": [
    "### Creation"
   ]
  },
  {
   "cell_type": "markdown",
   "id": "a548a946-20f1-4ffb-be85-6e22013eda58",
   "metadata": {},
   "source": [
    "- **Using Quotes**: Single, double, or triple quotes can be used.\n",
    "  ```python\n",
    "  s1 = 'Hello'\n",
    "  s2 = \"World\"\n",
    "  s3 = '''Triple quoted string'''\n",
    "  ```\n",
    "- **Using `str()` Constructor**: Converts other types to a string.\n",
    "  ```python\n",
    "  s4 = str(123)  # Converts integer to string\n",
    "  s5 = str(12.34)  # Converts float to string\n",
    "  ```"
   ]
  },
  {
   "cell_type": "markdown",
   "id": "81d7842e-d037-41d1-9cd9-5b95c04f97ed",
   "metadata": {
    "jp-MarkdownHeadingCollapsed": true
   },
   "source": [
    "### Common Functions/Methods"
   ]
  },
  {
   "cell_type": "markdown",
   "id": "dd684439-cf3e-4c10-8d77-4c59eac79d19",
   "metadata": {},
   "source": [
    "| Function/Method                | Description                                     | Example                          |\n",
    "|--------------------------------|-------------------------------------------------|----------------------------------|\n",
    "| `len(s)`                       | Returns the length of the string                | `len('hello')` → `5`             |\n",
    "| `s.lower()`                    | Converts all characters to lowercase            | `'HELLO'.lower()` → `'hello'`    |\n",
    "| `s.upper()`                    | Converts all characters to uppercase            | `'hello'.upper()` → `'HELLO'`    |\n",
    "| `s.capitalize()`               | Capitalizes the first character                 | `'hello'.capitalize()` → `'Hello'`|\n",
    "| `s.title()`                    | Capitalizes the first character of each word    | `'hello world'.title()` → `'Hello World'` |\n",
    "| `s.strip()`                    | Removes leading and trailing whitespace         | `' hello '.strip()` → `'hello'`  |\n",
    "| `s.lstrip()`                   | Removes leading whitespace                      | `' hello '.lstrip()` → `'hello ' |\n",
    "| `s.rstrip()`                   | Removes trailing whitespace                     | `' hello '.rstrip()` → `' hello'`|\n",
    "| `s.split(sep)`                 | Splits the string into a list by separator      | `'a,b,c'.split(',')` → `['a', 'b', 'c']` |\n",
    "| `s.join(iterable)`             | Joins elements of an iterable with the string as separator | `','.join(['a', 'b', 'c'])` → `'a,b,c'` |\n",
    "| `s.replace(old, new)`          | Replaces occurrences of a substring             | `'hello'.replace('e', 'a')` → `'hallo'` |\n",
    "| `s.find(sub)`                  | Finds the first occurrence of a substring       | `'hello'.find('e')` → `1`        |\n",
    "| `s.rfind(sub)`                 | Finds the last occurrence of a substring        | `'hello'.rfind('l')` → `3`       |\n",
    "| `s.count(sub)`                 | Counts occurrences of a substring               | `'hello'.count('l')` → `2`       |\n",
    "| `s.startswith(prefix)`         | Checks if string starts with a prefix           | `'hello'.startswith('he')` → `True` |\n",
    "| `s.endswith(suffix)`           | Checks if string ends with a suffix             | `'hello'.endswith('lo')` → `True` |"
   ]
  },
  {
   "cell_type": "markdown",
   "id": "db7846aa-ec80-40d2-bf53-c36bd52001c2",
   "metadata": {
    "jp-MarkdownHeadingCollapsed": true
   },
   "source": [
    "### String Formatting"
   ]
  },
  {
   "cell_type": "markdown",
   "id": "84116d0c-90a1-4b9f-b075-15dccfb28f07",
   "metadata": {},
   "source": [
    "| Method                         | Description                                     | Example                          |\n",
    "|--------------------------------|-------------------------------------------------|----------------------------------|\n",
    "| `%` operator                   | Old-style string formatting                     | `'%s %d' % ('Hello', 5)` → `'Hello 5'` |\n",
    "| `str.format()`                 | Format method                                   | `'{} {}'.format('Hello', 5)` → `'Hello 5'` |\n",
    "| `f-strings` (Python 3.6+)      | Literal string interpolation                    | `f'Hello {name}'` → `'Hello John'` (if `name = 'John'`) |"
   ]
  },
  {
   "cell_type": "markdown",
   "id": "5e5347ad-22c4-42b5-bc00-e9d1644bcb22",
   "metadata": {
    "jp-MarkdownHeadingCollapsed": true
   },
   "source": [
    "### String Operations"
   ]
  },
  {
   "cell_type": "markdown",
   "id": "65cbee99-07c1-4337-b7d7-96e95d412aa4",
   "metadata": {},
   "source": [
    "| Operation                      | Description                                     | Example                          |\n",
    "|--------------------------------|-------------------------------------------------|----------------------------------|\n",
    "| `s + t`                        | Concatenation                                   | `'Hello' + ' World'` → `'Hello World'` |\n",
    "| `s * n`                        | Repetition                                      | `'Hello' * 3` → `'HelloHelloHello'` |\n",
    "| `s[i]`                         | Indexing                                        | `'Hello'[1]` → `'e'`              |\n",
    "| `s[i:j]`                       | Slicing                                         | `'Hello'[1:4]` → `'ell'`          |\n",
    "| `s in t`                       | Membership                                      | `'ell' in 'Hello'` → `True`       |"
   ]
  },
  {
   "cell_type": "markdown",
   "id": "7a291585-cb4b-4f8a-a740-9be8013abcc4",
   "metadata": {
    "jp-MarkdownHeadingCollapsed": true
   },
   "source": [
    "### Examples"
   ]
  },
  {
   "cell_type": "markdown",
   "id": "d1eeda08-9f41-4341-b690-359e5251d33a",
   "metadata": {},
   "source": [
    "1. **Basic String Operations**\n",
    "    ```python\n",
    "    s = 'Hello'\n",
    "    print(s[1])  # 'e'\n",
    "    print(s[1:4])  # 'ell'\n",
    "    print(len(s))  # 5\n",
    "    ```\n",
    "\n",
    "2. **String Methods**\n",
    "    ```python\n",
    "    s = 'Hello World'\n",
    "    print(s.lower())  # 'hello world'\n",
    "    print(s.upper())  # 'HELLO WORLD'\n",
    "    print(s.strip())  # 'Hello World'\n",
    "    print(s.replace('World', 'Python'))  # 'Hello Python'\n",
    "    ```\n",
    "\n",
    "3. **String Formatting**\n",
    "    ```python\n",
    "    name = 'John'\n",
    "    age = 30\n",
    "    print('Name: %s, Age: %d' % (name, age))  # 'Name: John, Age: 30'\n",
    "    print('Name: {}, Age: {}'.format(name, age))  # 'Name: John, Age: 30'\n",
    "    print(f'Name: {name}, Age: {age}')  # 'Name: John, Age: 30'\n",
    "    ```"
   ]
  },
  {
   "cell_type": "markdown",
   "id": "51831d3f-2f87-4305-8d16-fd77d87f9d22",
   "metadata": {
    "jp-MarkdownHeadingCollapsed": true
   },
   "source": [
    "### Additional Theory"
   ]
  },
  {
   "cell_type": "markdown",
   "id": "01d9b07f-108e-44a4-913b-5ec87af9dc27",
   "metadata": {},
   "source": [
    "- **Escape Sequences**: Special characters can be included in strings using backslashes (`\\`).\n",
    "  ```python\n",
    "  print('Hello\\nWorld')  # Newline\n",
    "  print('It\\'s a string')  # Single quote\n",
    "  print(\"He said, \\\"Hello\\\"\")  # Double quote\n",
    "  ```\n",
    "\n",
    "- **Raw Strings**: Prefix with `r` to treat backslashes as literal characters.\n",
    "  ```python\n",
    "  print(r'C:\\new\\text')  # 'C:\\new\\text'\n",
    "  ```\n",
    "\n",
    "- **Multiline Strings**: Triple quotes can span multiple lines.\n",
    "  ```python\n",
    "  multi_line_str = '''This is\n",
    "  a multiline\n",
    "  string.'''\n",
    "  ```\n",
    "\n",
    "- **Unicode Strings**: Python 3 strings are Unicode by default, allowing for international character sets.\n",
    "  ```python\n",
    "  s = 'こんにちは'  # 'Hello' in Japanese\n",
    "  ```\n",
    "\n",
    "- **String Interning**: Python internally caches small strings for performance. Strings that look identical may share the same memory location.\n",
    "  ```python\n",
    "  a = 'hello'\n",
    "  b = 'hello'\n",
    "  print(a is b)  # True\n",
    "  ```"
   ]
  },
  {
   "cell_type": "markdown",
   "id": "47a74330-06df-4af7-a56b-05267cde0617",
   "metadata": {
    "jp-MarkdownHeadingCollapsed": true
   },
   "source": [
    "## Boolean (`bool`) Type"
   ]
  },
  {
   "cell_type": "markdown",
   "id": "b89139fb-8c43-4829-bb24-cb8890af7f86",
   "metadata": {
    "jp-MarkdownHeadingCollapsed": true
   },
   "source": [
    "### Description"
   ]
  },
  {
   "cell_type": "markdown",
   "id": "005f7111-3cab-4419-8af1-74f7f6a123ec",
   "metadata": {},
   "source": [
    "- **Definition**: Represents one of two values: `True` or `False`.\n",
    "- **Usage**: Commonly used for conditional testing and control flow in programming."
   ]
  },
  {
   "cell_type": "markdown",
   "id": "73bc3914-d544-462b-919b-6c445d2fc052",
   "metadata": {
    "jp-MarkdownHeadingCollapsed": true
   },
   "source": [
    "### Characteristics"
   ]
  },
  {
   "cell_type": "markdown",
   "id": "96a1bf85-c3eb-4008-87e2-b2a62d7ea31d",
   "metadata": {},
   "source": [
    "- **Immutable**: Once a boolean is created, its value cannot be changed.\n",
    "- **Subtype of Integer**: Booleans are a subtype of integers, where `True` is equivalent to `1` and `False` is equivalent to `0`."
   ]
  },
  {
   "cell_type": "markdown",
   "id": "70e24f72-0d50-4e8d-b8cc-082574e811e8",
   "metadata": {
    "jp-MarkdownHeadingCollapsed": true
   },
   "source": [
    "### Creation"
   ]
  },
  {
   "cell_type": "markdown",
   "id": "3b9f32ea-1efe-4e08-ac2b-2bf6c554f798",
   "metadata": {},
   "source": [
    "- **Direct Assignment**: Assigning a boolean value directly to a variable.\n",
    "  ```python\n",
    "  a = True\n",
    "  b = False\n",
    "  ```\n",
    "- **Using `bool()` Constructor**: Converting other types to a boolean.\n",
    "  ```python\n",
    "  c = bool(1)       # Converts integer to boolean\n",
    "  d = bool(0)       # Converts integer to boolean\n",
    "  e = bool('Hello') # Converts string to boolean\n",
    "  f = bool('')      # Converts empty string to boolean\n",
    "  ```"
   ]
  },
  {
   "cell_type": "markdown",
   "id": "cc0f6321-dace-4266-b8f4-e2a5c2172438",
   "metadata": {
    "jp-MarkdownHeadingCollapsed": true
   },
   "source": [
    "### Common Functions/Methods"
   ]
  },
  {
   "cell_type": "markdown",
   "id": "62085f7d-8fcc-4185-a3db-8ad704f9c475",
   "metadata": {},
   "source": [
    "| Function/Method              | Description                             | Example                       |\n",
    "|------------------------------|-----------------------------------------|-------------------------------|\n",
    "| `bool(x)`                    | Converts x to a boolean                 | `bool(1)` → `True`            |\n",
    "| `not x`                      | Logical NOT                             | `not True` → `False`          |\n",
    "| `x and y`                    | Logical AND                             | `True and False` → `False`    |\n",
    "| `x or y`                     | Logical OR                              | `True or False` → `True`      |"
   ]
  },
  {
   "cell_type": "markdown",
   "id": "0c5c36d6-1735-40e4-b05a-a53f4203fdef",
   "metadata": {
    "jp-MarkdownHeadingCollapsed": true
   },
   "source": [
    "### Comparison Operations"
   ]
  },
  {
   "cell_type": "markdown",
   "id": "38cf4481-d8d7-4c76-a070-dd12c270703d",
   "metadata": {},
   "source": [
    "| Operation              | Description                             | Example                       |\n",
    "|------------------------|-----------------------------------------|-------------------------------|\n",
    "| `x == y`               | Equal to                                | `True == True` → `True`       |\n",
    "| `x != y`               | Not equal to                            | `True != False` → `True`      |\n",
    "| `x > y`                | Greater than                            | `True > False` → `True`       |\n",
    "| `x < y`                | Less than                               | `False < True` → `True`       |\n",
    "| `x >= y`               | Greater than or equal to                | `True >= False` → `True`      |\n",
    "| `x <= y`               | Less than or equal to                   | `False <= True` → `True`      |"
   ]
  },
  {
   "cell_type": "markdown",
   "id": "49c721e1-f2f0-4dc4-b428-4f46bb6213c7",
   "metadata": {
    "jp-MarkdownHeadingCollapsed": true
   },
   "source": [
    "### Logical Operations"
   ]
  },
  {
   "cell_type": "markdown",
   "id": "d4272c2e-2f9d-4bf5-8350-c1e8e833e757",
   "metadata": {},
   "source": [
    "| Operation              | Description                             | Example                       |\n",
    "|------------------------|-----------------------------------------|-------------------------------|\n",
    "| `not x`                | Logical NOT                             | `not True` → `False`          |\n",
    "| `x and y`              | Logical AND                             | `True and False` → `False`    |\n",
    "| `x or y`               | Logical OR                              | `True or False` → `True`      |"
   ]
  },
  {
   "cell_type": "markdown",
   "id": "e39f8c35-b204-4341-b304-a1c7bd2695f3",
   "metadata": {
    "jp-MarkdownHeadingCollapsed": true
   },
   "source": [
    "### Examples"
   ]
  },
  {
   "cell_type": "markdown",
   "id": "79ff3775-55ab-4378-8a85-8dca53b4157b",
   "metadata": {},
   "source": [
    "1. **Basic Boolean Operations**\n",
    "    ```python\n",
    "    a = True\n",
    "    b = False\n",
    "    print(a and b)  # False\n",
    "    print(a or b)   # True\n",
    "    print(not a)    # False\n",
    "    print(a == b)   # False\n",
    "    print(a != b)   # True\n",
    "    ```\n",
    "\n",
    "2. **Using Booleans in Conditional Statements**\n",
    "    ```python\n",
    "    x = 10\n",
    "    y = 5\n",
    "    if x > y:\n",
    "        print('x is greater than y')  # This will print\n",
    "    else:\n",
    "        print('x is not greater than y')\n",
    "    ```\n",
    "\n",
    "3. **Boolean Conversion**\n",
    "    ```python\n",
    "    print(bool(0))       # False\n",
    "    print(bool(1))       # True\n",
    "    print(bool(''))      # False\n",
    "    print(bool('Hello')) # True\n",
    "    print(bool([]))      # False\n",
    "    print(bool([1, 2, 3])) # True\n",
    "    ```"
   ]
  },
  {
   "cell_type": "markdown",
   "id": "fea285e9-799c-4122-a9a0-1bdbcd62785b",
   "metadata": {
    "jp-MarkdownHeadingCollapsed": true
   },
   "source": [
    "### Additional Theory"
   ]
  },
  {
   "cell_type": "markdown",
   "id": "8f1915f7-aeff-402e-bb4a-43b40afa468c",
   "metadata": {},
   "source": [
    "- **Truthiness and Falsiness**: In Python, values can be evaluated in a boolean context (truthy or falsy).\n",
    "  ```python\n",
    "  # Falsy values: False, None, 0, 0.0, '', [], {}, set(), range(0)\n",
    "  # Everything else is truthy\n",
    "  print(bool(None))     # False\n",
    "  print(bool(0))        # False\n",
    "  print(bool(0.0))      # False\n",
    "  print(bool(''))       # False\n",
    "  print(bool([]))       # False\n",
    "  print(bool({}))       # False\n",
    "  print(bool(set()))    # False\n",
    "  print(bool(range(0))) # False\n",
    "  ```\n",
    "\n",
    "- **Short-Circuit Evaluation**: Logical operators `and` and `or` use short-circuit evaluation.\n",
    "  ```python\n",
    "  # `and` returns the first falsy value or the last value\n",
    "  print(True and False) # False\n",
    "  print(True and True)  # True\n",
    "  print(False and True) # False\n",
    "  \n",
    "  # `or` returns the first truthy value or the last value\n",
    "  print(True or False)  # True\n",
    "  print(False or True)  # True\n",
    "  print(False or False) # False\n",
    "  ```\n",
    "\n",
    "- **Boolean as Subtype of Integer**: `True` and `False` can be used in arithmetic operations.\n",
    "  ```python\n",
    "  print(True + True)    # 2\n",
    "  print(True + False)   # 1\n",
    "  print(False + False)  # 0\n",
    "  ```"
   ]
  },
  {
   "cell_type": "markdown",
   "id": "d8f1f109-ee9e-47d0-a9db-41d524f802bb",
   "metadata": {},
   "source": [
    "# Basic Data Structures"
   ]
  },
  {
   "cell_type": "markdown",
   "id": "20c1d065-dd77-49fa-b05e-d8ece58a5389",
   "metadata": {},
   "source": [
    "## list"
   ]
  },
  {
   "cell_type": "markdown",
   "id": "9dfec7d4-4568-46d6-89cd-4ee04c5a39b3",
   "metadata": {
    "jp-MarkdownHeadingCollapsed": true
   },
   "source": [
    "### Creation"
   ]
  },
  {
   "cell_type": "markdown",
   "id": "b6f0af25-9ef0-465f-a430-6e6979c977fd",
   "metadata": {
    "jp-MarkdownHeadingCollapsed": true
   },
   "source": [
    "#### Manual Creation"
   ]
  },
  {
   "cell_type": "markdown",
   "id": "193301e4-9f90-423b-83ce-1188a1f544d8",
   "metadata": {},
   "source": [
    "Lists can be created using square brackets [ ] and can hold heterogeneous data types\n",
    "\n",
    "```python\n",
    "my_list = [1, 2, 3, 'a', 'b', 'c']\n",
    "```"
   ]
  },
  {
   "cell_type": "markdown",
   "id": "5b2dba12-b380-4584-937b-f7d798e8ec69",
   "metadata": {
    "jp-MarkdownHeadingCollapsed": true
   },
   "source": [
    "#### Creation by Comprehension"
   ]
  },
  {
   "cell_type": "markdown",
   "id": "0fc278f8-a2c1-4172-bbad-eaf2ea7db122",
   "metadata": {},
   "source": [
    "List comprehensions provide a concise way to create lists from other iterables.\n",
    "\n",
    "```python\n",
    "numbers = [x for x in range(1, 6)] # Output: [1, 2, 3, 4, 5]\n",
    "```"
   ]
  },
  {
   "cell_type": "markdown",
   "id": "b705ba67-978b-4fa6-ad41-487273194442",
   "metadata": {
    "jp-MarkdownHeadingCollapsed": true
   },
   "source": [
    "#### Creation by Copying"
   ]
  },
  {
   "cell_type": "markdown",
   "id": "79ecedc4-073b-4a48-9a75-ce5294e86b9d",
   "metadata": {},
   "source": [
    "You can create a copy of an existing list using slicing or the copy() method.\n",
    "\n",
    "```python\n",
    "# Copying a list\n",
    "original_list = [1, 2, 3]\n",
    "copied_list = original_list[:] # Output: [1, 2, 3]\n",
    "\n",
    "# Using copy() method\n",
    "copied_list = original_list.copy() # Output: [1, 2, 3]\n",
    "```"
   ]
  },
  {
   "cell_type": "markdown",
   "id": "7027e692-436a-4d6e-ba41-2c1e007cc6b1",
   "metadata": {
    "jp-MarkdownHeadingCollapsed": true
   },
   "source": [
    "#### Creation by Concatenation"
   ]
  },
  {
   "cell_type": "markdown",
   "id": "9dde7e40-2bf8-4f8b-b9fb-da03c91bd9d9",
   "metadata": {},
   "source": [
    "lists can be concatenated using the + operator.\n",
    "\n",
    "```python\n",
    "list1 = [1, 2, 3]\n",
    "list2 = ['a', 'b', 'c']\n",
    "combined_list = list1 + list2 # Output: [1, 2, 3, 'a', 'b', 'c']\n",
    "```"
   ]
  },
  {
   "cell_type": "markdown",
   "id": "3536406f-64c0-4449-beae-b7e075ca9bb5",
   "metadata": {
    "jp-MarkdownHeadingCollapsed": true
   },
   "source": [
    "#### Creating Collections from Other Iterable Types"
   ]
  },
  {
   "cell_type": "markdown",
   "id": "4aabce8f-7224-4008-b425-1020ef1997fa",
   "metadata": {},
   "source": [
    "You can create lists from other iterable types like tuples, sets, or strings using the list() constructor.\n",
    "\n",
    "```python\n",
    "# Creating a list from a tuple\n",
    "my_tuple = (1, 2, 3)\n",
    "converted_list = list(my_tuple) # Output: [1, 2, 3]\n",
    "\n",
    "# Creating a list from a set\n",
    "my_set = {4, 5, 6}\n",
    "converted_list = list(my_set) # Output: [4, 5, 6]\n",
    "\n",
    "# Creating a list from a string\n",
    "my_string = \"hello\"\n",
    "char_list = list(my_string) # Output: ['h', 'e', 'l', 'l', 'o']\n",
    "```"
   ]
  },
  {
   "cell_type": "markdown",
   "id": "c75e9526-a2c2-460e-b05c-c80fb383d594",
   "metadata": {
    "jp-MarkdownHeadingCollapsed": true
   },
   "source": [
    "#### List vs. Tuple vs. Set: A Comparison"
   ]
  },
  {
   "cell_type": "markdown",
   "id": "9d5da661-2f79-4ae3-90a5-5586b759bd5e",
   "metadata": {},
   "source": [
    "**List**\n",
    "- **Description**: Lists are ordered, mutable (modifiable), and allow duplicate elements.\n",
    "- **Use Cases**: Ideal for collections of items where the order matters, and elements may change over time. Example: `[1, 2, 3]`.\n",
    "\n",
    "**Tuple**\n",
    "- **Description**: Tuples are ordered, immutable (non-modifiable), and allow duplicate elements.\n",
    "- **Use Cases**: Suitable for fixed collections of items where the data should not change. Example: `(1, 2, 3)`.\n",
    "- **Differences from List**: Cannot be modified after creation, making them useful for fixed data sets and as keys in dictionaries.\n",
    "\n",
    "**Set**\n",
    "- **Description**: Sets are unordered, mutable, and do not allow duplicate elements.\n",
    "- **Use Cases**: Useful for storing unique items and performing set operations like union, intersection, and difference. Example: `{1, 2, 3}`.\n",
    "- **Differences from List**: No order and no duplicates, which is useful for membership testing and operations on unique elements.\n",
    "\n",
    "**Comparison**:\n",
    "- **Order**: Lists and tuples maintain order; sets do not.\n",
    "- **Mutability**: Lists and sets are mutable; tuples are immutable.\n",
    "- **Duplicates**: Lists and tuples can contain duplicates; sets cannot.\n",
    "- **Use Cases**: Lists for dynamic collections, tuples for fixed collections, sets for unique items and set operations."
   ]
  },
  {
   "cell_type": "markdown",
   "id": "8fc245cc-3d26-4e1a-9196-eca7ed6b2bf8",
   "metadata": {
    "jp-MarkdownHeadingCollapsed": true
   },
   "source": [
    "### Accessing Elements"
   ]
  },
  {
   "cell_type": "markdown",
   "id": "8b4367a5-465d-4dc4-8b75-f266aeba16aa",
   "metadata": {
    "jp-MarkdownHeadingCollapsed": true
   },
   "source": [
    "#### Indexing"
   ]
  },
  {
   "cell_type": "markdown",
   "id": "8c82a19b-e6b5-49d8-8783-30e979f1f8b9",
   "metadata": {},
   "source": [
    "Indexing allows you to access individual elements in a collection using their position (index). In Python, indexing starts at 0 for the first element.\n",
    "\n",
    "```python\n",
    "my_list = ['apple', 'banana', 'cherry', 'date']\n",
    "my_list[0]  # Output: 'apple'\n",
    "my_list[2]  # Output: 'cherry'\n",
    "```"
   ]
  },
  {
   "cell_type": "markdown",
   "id": "8d12a188-637a-4d81-a4f3-ab007034adcf",
   "metadata": {
    "jp-MarkdownHeadingCollapsed": true
   },
   "source": [
    "#### Basic Slicing"
   ]
  },
  {
   "cell_type": "markdown",
   "id": "12277a11-d9ed-48d9-b098-e379cf1a435a",
   "metadata": {},
   "source": [
    "*  `list[start:end]`  ->  Get elements from __(index start)__ to __(index end)__\n",
    "```python\n",
    "numbers = [1, 2, 3, 4, 5]\n",
    "middle_slice = numbers[1:4]  # Output: [2, 3, 4]\n",
    "```\n",
    "\n",
    "* `list[start:]` - Get elements from __(index start)__ to the end of list \n",
    "```python\n",
    "numbers = [1, 2, 3, 4, 5]\n",
    "from_third_onwards = numbers[2:]  # Output: [3, 4, 5]\n",
    "```\n",
    "\n",
    "* `list[:end]` - Get elements from start of list to __(index end)__\n",
    "```python\n",
    "numbers = [1, 2, 3, 4, 5]\n",
    "first_two = numbers[:2]  # Output: [1, 2]\n",
    "```"
   ]
  },
  {
   "cell_type": "markdown",
   "id": "3ea6573b-1201-4f46-aec5-ed5f41d194d9",
   "metadata": {
    "jp-MarkdownHeadingCollapsed": true
   },
   "source": [
    "#### Extended Slicing with Step"
   ]
  },
  {
   "cell_type": "markdown",
   "id": "6fbc35c8-47a3-45d2-8f4f-a3c0e30bfdff",
   "metadata": {},
   "source": [
    "*  `list[start:end:step]`  ->  Get every __(step-th element)__ from __(index start)__ to __(index end)__  \n",
    "Example: Get every second element from index 1 to 8\n",
    "```python\n",
    "my_list = [0, 1, 2, 3, 4, 5, 6, 7, 8, 9]\n",
    "slice1 = my_list[1:9:2]  # Output: [1, 3, 5, 7]\n",
    "```\n",
    "\n",
    "* `list[start::step]` -> Get every __(step-th element)__ from __(index start)__ to the end of list\n",
    "Example: Get every third element from index 2 to the end \n",
    "```python\n",
    "my_list = [0, 1, 2, 3, 4, 5, 6, 7, 8, 9]\n",
    "slice2 = my_list[2::3]  # Output: [2, 5, 8]\n",
    "```\n",
    "\n",
    "* `list[:end:step]` -> Get every __(step-th element)__ from the beginning of list to __(index end)__\n",
    "Example: Get every second element from the start to index 7\n",
    "```python\n",
    "my_list = [0, 1, 2, 3, 4, 5, 6, 7, 8, 9]\n",
    "slice3 = my_list[:8:2]  # Output: [0, 2, 4, 6]\n",
    "```\n",
    "\n",
    "* `list[::step]` ->  Get every __(step-th element)__ from the beginning of list to the end of list\n",
    "Example: Get every second element from the start to the end \n",
    "```python\n",
    "my_list = [0, 1, 2, 3, 4, 5, 6, 7, 8, 9]\n",
    "slice4 = my_list[::2]  # Output: [0, 2, 4, 6, 8]\n",
    "```"
   ]
  },
  {
   "cell_type": "markdown",
   "id": "3dd87a89-1483-4278-bf46-a6fd1df4d4ca",
   "metadata": {
    "jp-MarkdownHeadingCollapsed": true
   },
   "source": [
    "#### Reverse Extended Slicing with Step"
   ]
  },
  {
   "cell_type": "markdown",
   "id": "d633d21a-7e81-41eb-b58b-9ce575c795ff",
   "metadata": {},
   "source": [
    "*  `list[start:end:-step]` -> Get every __(step-th element)__ in reverse from __(index start)__ to __(index end)__\n",
    "*  Example: Get elements from index 8 to 2 in reverse order, taking every second element\n",
    "```python\n",
    "my_list = [0, 1, 2, 3, 4, 5, 6, 7, 8, 9]\n",
    "reverse_slice1 = my_list[8:1:-2]  # Output: [8, 6, 4, 2]\n",
    "```\n",
    "\n",
    "* `list[start::-step]` -> Get every __(step-th element)__ in reverse from __(index start)__ to the beginning of list  \n",
    "Example: Get elements from index 5 to the beginning in reverse order, taking every second element \n",
    "```python\n",
    "my_list = [0, 1, 2, 3, 4, 5, 6, 7, 8, 9]\n",
    "reverse_slice2 = my_list[5::-2]  # Output: [5, 3, 1]\n",
    "```\n",
    "\n",
    "* `list[:end:-step]` -> Get every __(step-th element)__ in reverse from the end of list to __(index end)__  \n",
    "Example: Get elements from the end to index 2 in reverse order, taking every second element\n",
    "```python\n",
    "my_list = [0, 1, 2, 3, 4, 5, 6, 7, 8, 9]\n",
    "reverse_slice3 = my_list[:2:-2]  # Output: [9, 7, 5, 3]\n",
    "```\n",
    "\n",
    "* `ist[::-step]` -> Get every __(step-th element)__ in reverse from the end of list to the beginning of list  \n",
    "Example: Get every second element from the end to the beginning\n",
    "```python\n",
    "my_list = [0, 1, 2, 3, 4, 5, 6, 7, 8, 9]\n",
    "reverse_slice4 = my_list[::-2]  # Output: [9, 7, 5, 3, 1]\n",
    "```"
   ]
  },
  {
   "cell_type": "markdown",
   "id": "97b9e9dc-6df9-4eb6-9e04-ddcf2eb84335",
   "metadata": {
    "jp-MarkdownHeadingCollapsed": true
   },
   "source": [
    "#### Membership Testing"
   ]
  },
  {
   "cell_type": "markdown",
   "id": "0bf930f8-8975-4f88-916a-58a96e5c46da",
   "metadata": {},
   "source": [
    "Membership testing allows you to check if an element is present in a collection using the in keyword.\n",
    "\n",
    "```python\n",
    "my_list = ['apple', 'banana', 'cherry', 'date']\n",
    "\n",
    "# Check if 'banana' is in the list\n",
    "'banana' in my_list  # Output: True\n",
    "\n",
    "# Check if 'grape' is in the list\n",
    "'grape' in my_list  # Output: False\n",
    "\n",
    "# Check if 'date' is not in the list\n",
    "'date' not in my_list  # Output: False\n",
    "```"
   ]
  },
  {
   "cell_type": "markdown",
   "id": "18059255-f81d-4d1b-af7f-93d0322b255e",
   "metadata": {},
   "source": [
    "### Modifications"
   ]
  },
  {
   "cell_type": "markdown",
   "id": "2414939d-90d0-4d9e-af38-7b1a33ea7ce1",
   "metadata": {
    "jp-MarkdownHeadingCollapsed": true
   },
   "source": [
    "#### Adding Elements"
   ]
  },
  {
   "cell_type": "markdown",
   "id": "b91d5c6c-7251-4b3d-b35d-4f7eeb5a67cd",
   "metadata": {},
   "source": [
    "##### `append()`\n",
    "\n",
    "The `append()` method adds a single element to the end of the list.\n",
    "\n",
    "```python\n",
    "fruits = ['apple', 'banana', 'cherry']\n",
    "fruits.append('orange') # Output: ['apple', 'banana', 'cherry', 'orange']\n",
    "```"
   ]
  },
  {
   "cell_type": "markdown",
   "id": "d5d9e53c-d4e8-417d-b1c6-9dbab84897ec",
   "metadata": {},
   "source": [
    "##### `extend()`\n",
    "\n",
    "The `extend()` method adds all elements of an iterable (e.g., another list) to the end of the list.\n",
    "\n",
    "```python\n",
    "fruits = ['apple', 'banana', 'cherry']\n",
    "fruits.extend(['orange', 'grape']) # Output: ['apple', 'banana', 'cherry', 'orange', 'grape']\n",
    "```"
   ]
  },
  {
   "cell_type": "markdown",
   "id": "b6439330-8e4a-464a-a27c-d5d22fff370c",
   "metadata": {},
   "source": [
    "##### `insert()`\n",
    "\n",
    "The `insert()` method adds an element at a specified position in the list.\n",
    "\n",
    "```python\n",
    "fruits = ['apple', 'banana', 'cherry']\n",
    "fruits.insert(1, 'orange') # Output: ['apple', 'orange', 'banana', 'cherry']\n",
    "```"
   ]
  },
  {
   "cell_type": "markdown",
   "id": "6481eb19-f402-44bd-9fc9-a8bf958eca97",
   "metadata": {
    "jp-MarkdownHeadingCollapsed": true
   },
   "source": [
    "#### Updating Elements"
   ]
  },
  {
   "cell_type": "markdown",
   "id": "28b058ef-8a5f-4b67-810e-527471da219e",
   "metadata": {},
   "source": [
    "##### Direct Assignment\n",
    "\n",
    "You can update elements by directly assigning a new value to a specific index.\n",
    "\n",
    "```python\n",
    "fruits = ['apple', 'banana', 'cherry']\n",
    "fruits[1] = 'blueberry' # Output: ['apple', 'blueberry', 'cherry']\n",
    "```"
   ]
  },
  {
   "cell_type": "markdown",
   "id": "444263c7-2ea6-4b5b-88cd-8d07c206d640",
   "metadata": {},
   "source": [
    "##### Using Slicing\n",
    "\n",
    "You can update multiple elements at once using slicing.\n",
    "\n",
    "```python\n",
    "fruits = ['apple', 'banana', 'cherry', 'date']\n",
    "fruits[1:3] = ['blueberry', 'kiwi'] # Output: ['apple', 'blueberry', 'kiwi', 'date']\n",
    "```"
   ]
  },
  {
   "cell_type": "markdown",
   "id": "165744d9-9e78-4213-b142-cd6041d317e2",
   "metadata": {},
   "source": [
    "#### Removing Elements"
   ]
  },
  {
   "cell_type": "markdown",
   "id": "9e38162e-08b5-4995-94b2-010da30744cb",
   "metadata": {},
   "source": [
    "##### remove()\n",
    "\n",
    "The `remove()` method removes the first occurrence of a specific element.\n",
    "\n",
    "```python\n",
    "fruits = ['apple', 'banana', 'cherry', 'banana']\n",
    "fruits.remove('banana') # Output: ['apple', 'cherry', 'banana']\n",
    "```"
   ]
  },
  {
   "cell_type": "markdown",
   "id": "eba9dca0-dc69-4b32-918f-baf2738b6c4e",
   "metadata": {},
   "source": [
    "##### `pop()`\n",
    "\n",
    "The `pop()` method removes and returns the element at a specified position. If no index is specified, it removes and returns the last element.\n",
    "\n",
    "```python\n",
    "fruits = ['apple', 'banana', 'cherry']\n",
    "popped_fruit = fruits.pop(1) # fruits Output: ['apple', 'cherry']\n",
    "                             # popped_fruit Output: 'banana'\n",
    "```"
   ]
  },
  {
   "cell_type": "markdown",
   "id": "495351bc-97fc-43a0-a6e5-3a26522ba617",
   "metadata": {},
   "source": [
    "##### del\n",
    "\n",
    "The del statement removes an element at a specific index or a slice of elements.\n",
    "\n",
    "```python\n",
    "fruits = ['apple', 'banana', 'cherry']\n",
    "del fruits[1] # Output: ['apple', 'cherry']\n",
    "\n",
    "\n",
    "# Removing a slice\n",
    "fruits = ['apple', 'banana', 'cherry', 'date']\n",
    "del fruits[1:3] # Output: ['apple', 'date']\n",
    "```"
   ]
  },
  {
   "cell_type": "markdown",
   "id": "15a6ab73-4fad-4c15-a001-dcb7e2aa841a",
   "metadata": {},
   "source": [
    "##### `clear()`\n",
    "\n",
    "The `clear()` method removes all elements from the list, leaving it empty.\n",
    "\n",
    "```python\n",
    "fruits = ['apple', 'banana', 'cherry']\n",
    "fruits.clear() # Output: []\n",
    "```"
   ]
  },
  {
   "cell_type": "markdown",
   "id": "22f5e7ca-9d18-4a98-8510-7fbfd2ea9496",
   "metadata": {
    "jp-MarkdownHeadingCollapsed": true
   },
   "source": [
    "#### List Operations"
   ]
  },
  {
   "cell_type": "markdown",
   "id": "e6b7ed42-7b5e-44f8-8de2-c81a11dfaec0",
   "metadata": {},
   "source": [
    "**Intersection**\n",
    "- **Description**: Finds common elements between two or more lists.\n",
    "- **Example**:\n",
    "\n",
    "  ```python\n",
    "  list1 = [1, 2, 3, 4]\n",
    "  list2 = [3, 4, 5, 6]\n",
    "  intersection = [item for item in list1 if item in list2]\n",
    "  ```\n",
    "\n",
    "- **Output**: `[3, 4]`"
   ]
  },
  {
   "cell_type": "markdown",
   "id": "96ab5bd1-e152-45f7-b936-9ca2be6263f2",
   "metadata": {},
   "source": [
    "**Difference**\n",
    "- **Description**: Finds elements that are in one list but not in another.\n",
    "- **Example**:\n",
    "\n",
    "  ```python\n",
    "  list1 = [1, 2, 3, 4]\n",
    "  list2 = [3, 4, 5, 6]\n",
    "  difference = [item for item in list1 if item not in list2]\n",
    "  ```\n",
    "\n",
    "- **Output**: `[1, 2]`"
   ]
  },
  {
   "cell_type": "markdown",
   "id": "200d2b92-bb24-403b-91db-96e1b7a89bcd",
   "metadata": {},
   "source": [
    "**Union**\n",
    "- **Description**: Combines elements from two lists, removing duplicates.\n",
    "- **Example**:\n",
    "\n",
    "  ```python\n",
    "  list1 = [1, 2, 3, 4]\n",
    "  list2 = [3, 4, 5, 6]\n",
    "  union = list(set(list1) | set(list2))\n",
    "  ```\n",
    "\n",
    "- **Output**: `[1, 2, 3, 4, 5, 6]`"
   ]
  },
  {
   "cell_type": "markdown",
   "id": "c25d0ecd-ac0a-4507-941f-abc1760c0c06",
   "metadata": {
    "jp-MarkdownHeadingCollapsed": true
   },
   "source": [
    "### Functions in format `function(list)`"
   ]
  },
  {
   "cell_type": "markdown",
   "id": "88a44bcc-71dc-40bf-8a5f-66d73ee4299d",
   "metadata": {
    "jp-MarkdownHeadingCollapsed": true
   },
   "source": [
    "#### List Construction and Conversion"
   ]
  },
  {
   "cell_type": "markdown",
   "id": "9dc88914-d5d5-4404-ac38-3d5a17858bd4",
   "metadata": {},
   "source": [
    "| **Function**         | **Description**                           | **Example**                                   |\n",
    "|----------------------|-------------------------------------------|-----------------------------------------------|\n",
    "| `list([iterable])`   | Converts an iterable to a list.           | `my_list = list((1, 2, 3))` <!-- Converts a tuple to a list --> |"
   ]
  },
  {
   "cell_type": "markdown",
   "id": "0271e65f-b506-4b39-9292-d0a3bff43473",
   "metadata": {
    "jp-MarkdownHeadingCollapsed": true
   },
   "source": [
    "#### List Size and Summarization"
   ]
  },
  {
   "cell_type": "markdown",
   "id": "8b60de07-75e5-4a19-8975-e0a610ff4632",
   "metadata": {},
   "source": [
    "| Function                       | Description                                                |\n",
    "|--------------------------------|------------------------------------------------------------|\n",
    "| `len(list)`                    | Returns the number of elements in the list.               |\n",
    "| `sum(list, start=0)`           | Returns the sum of all elements in the list, with an optional start value. |\n",
    "| `min(list, *args, key=None)`   | Returns the smallest item in the list or the smallest of two or more arguments. |\n",
    "| `max(list, *args, key=None)`   | Returns the largest item in the list or the largest of two or more arguments. |"
   ]
  },
  {
   "cell_type": "markdown",
   "id": "ec2ad6e9-1b62-48c4-9da6-f237e9c37d80",
   "metadata": {
    "jp-MarkdownHeadingCollapsed": true
   },
   "source": [
    "#### Sorting and Reordering"
   ]
  },
  {
   "cell_type": "markdown",
   "id": "e916df3d-74b6-4a5c-a98b-2574f5365f65",
   "metadata": {},
   "source": [
    "| Function                              | Description                                               |\n",
    "|---------------------------------------|-----------------------------------------------------------|\n",
    "| `sorted(list, key=None, reverse=False)` | Returns a new list containing all items from the original list in ascending order. |"
   ]
  },
  {
   "cell_type": "markdown",
   "id": "f3d4a9b8-4fe9-4a01-a085-0490e257d6ed",
   "metadata": {
    "jp-MarkdownHeadingCollapsed": true
   },
   "source": [
    "#### Boolean and Filtering Operations"
   ]
  },
  {
   "cell_type": "markdown",
   "id": "f7ea1df2-7f21-4d2e-9fcd-67439174008d",
   "metadata": {},
   "source": [
    "| Function                        | Description                                                |\n",
    "|---------------------------------|------------------------------------------------------------|\n",
    "| `any(iterable)`                 | Returns `True` if any element of the iterable is true. Otherwise, returns `False`. |\n",
    "| `all(iterable)`                 | Returns `True` if all elements of the iterable are true (or if the iterable is empty). Otherwise, returns `False`. |\n",
    "| `filter(function, iterable)`   | Constructs an iterator from elements of an iterable for which the function returns true. |"
   ]
  },
  {
   "cell_type": "markdown",
   "id": "8c14075b-d4db-4b02-b725-b54c748187af",
   "metadata": {
    "jp-MarkdownHeadingCollapsed": true
   },
   "source": [
    "#### Mapping and Aggregation"
   ]
  },
  {
   "cell_type": "markdown",
   "id": "7b0895b7-443c-4869-949f-0afdbdcb8849",
   "metadata": {},
   "source": [
    "| Function                       | Description                                                |\n",
    "|--------------------------------|------------------------------------------------------------|\n",
    "| `map(function, iterable)`      | Applies a function to all items in an iterable and returns an iterator of the results. |"
   ]
  },
  {
   "cell_type": "markdown",
   "id": "2381b644-bcb3-45f4-8ad3-cb2fb9b8b22d",
   "metadata": {
    "jp-MarkdownHeadingCollapsed": true
   },
   "source": [
    "#### Combining Iterables"
   ]
  },
  {
   "cell_type": "markdown",
   "id": "a915a3bd-6686-4058-8345-7693f5cb016b",
   "metadata": {},
   "source": [
    "| Function                       | Description                                                |\n",
    "|--------------------------------|------------------------------------------------------------|\n",
    "| `zip(*iterables)`              | Aggregates elements from two or more iterables and returns an iterator of tuples. |"
   ]
  },
  {
   "cell_type": "markdown",
   "id": "3bfd646c-2777-4cfb-94ed-d94b11b879da",
   "metadata": {
    "jp-MarkdownHeadingCollapsed": true
   },
   "source": [
    "#### Copying"
   ]
  },
  {
   "cell_type": "markdown",
   "id": "b3d0bdef-d345-4375-925d-23ffd139f331",
   "metadata": {},
   "source": [
    "| **Function**         | **Description**                           | **Example**                                   |\n",
    "|----------------------|-------------------------------------------|-----------------------------------------------|\n",
    "| `list.copy()`        | Returns a shallow copy of the list.       | `copied_list = my_list.copy()` <!-- Creates a shallow copy --> |"
   ]
  },
  {
   "cell_type": "markdown",
   "id": "70ddbf2f-c648-4bec-b0a4-5e9d4f4cd744",
   "metadata": {
    "jp-MarkdownHeadingCollapsed": true
   },
   "source": [
    "#### Memory Considerations"
   ]
  },
  {
   "cell_type": "markdown",
   "id": "e72a3acc-fbda-4a85-8153-316b1095a4ae",
   "metadata": {},
   "source": [
    "\n",
    "**List Memory Usage**\n",
    "- **Description**: Lists can grow dynamically, which means they may use more memory as elements are added. Each list maintains pointers to its elements, which adds overhead.\n",
    "- **Considerations**: Large lists can consume significant memory and impact performance.\n",
    "\n",
    "**Memory Optimization Tips**\n",
    "- **Use Generators**: For large data sets, consider using generators (e.g., list comprehensions with generator expressions) to reduce memory usage.\n",
    "- **Avoid Unnecessary Copies**: Be cautious with operations that create copies of lists. Use in-place modifications when possible.\n",
    "- **Consider Alternative Data Structures**: For large-scale or performance-critical applications, consider using more memory-efficient data structures like arrays (from the `array` module) or specialized libraries like NumPy for numerical data."
   ]
  },
  {
   "cell_type": "markdown",
   "id": "a6477783-3337-4c66-998a-5333a279d8e1",
   "metadata": {
    "jp-MarkdownHeadingCollapsed": true
   },
   "source": [
    "### Methods in format `list.method()`"
   ]
  },
  {
   "cell_type": "markdown",
   "id": "4784c802-8bc6-498d-90e9-cc38fedc675f",
   "metadata": {
    "jp-MarkdownHeadingCollapsed": true
   },
   "source": [
    "#### Modification"
   ]
  },
  {
   "cell_type": "markdown",
   "id": "43d739ed-5595-44b5-a6c7-36a4d7752eb3",
   "metadata": {},
   "source": [
    "| Method                     | Description                                                |\n",
    "|----------------------------|------------------------------------------------------------|\n",
    "| `list.append(element)`     | Adds an element to the end of the list.                   |\n",
    "| `list.extend(iterable)`    | Extends the list by appending elements from an iterable.  |\n",
    "| `list.insert(index, element)` | Inserts an element at a specified position in the list.   |\n",
    "| `list.remove(element)`     | Removes the first occurrence of an element from the list. |\n",
    "| `list.pop([index])`        | Removes and returns the element at the specified position (or the last element if no index is provided). |\n",
    "| `list.clear()`             | Removes all elements from the list.                       |"
   ]
  },
  {
   "cell_type": "markdown",
   "id": "f307d0f1-91bd-4bfc-8499-aab258c2797d",
   "metadata": {
    "jp-MarkdownHeadingCollapsed": true
   },
   "source": [
    "#### Sorting and Reordering"
   ]
  },
  {
   "cell_type": "markdown",
   "id": "48810d0e-b46a-48d7-9c7b-6694e21e0bba",
   "metadata": {},
   "source": [
    "| Method                     | Description                                                |\n",
    "|----------------------------|------------------------------------------------------------|\n",
    "| `list.sort(key=None, reverse=False)` | Sorts the elements of the list in place.                 |\n",
    "| `list.reverse()`           | Reverses the elements of the list in place.               |"
   ]
  },
  {
   "cell_type": "markdown",
   "id": "064a7d56-a1f1-40a1-ad95-563aba49e876",
   "metadata": {
    "jp-MarkdownHeadingCollapsed": true
   },
   "source": [
    "#### Copying"
   ]
  },
  {
   "cell_type": "markdown",
   "id": "cc596b1d-0945-4f83-a0fc-947db9e84f16",
   "metadata": {},
   "source": [
    "| Method                     | Description                                                |\n",
    "|----------------------------|------------------------------------------------------------|\n",
    "| `list.copy()`              | Returns a shallow copy of the list.                       |"
   ]
  },
  {
   "cell_type": "markdown",
   "id": "3efa5918-283e-47ae-a520-e5cc5ab1c168",
   "metadata": {
    "jp-MarkdownHeadingCollapsed": true
   },
   "source": [
    "#### Searching and Counting"
   ]
  },
  {
   "cell_type": "markdown",
   "id": "4111dddb-b197-4918-bcb7-8f8f3a6ed3ce",
   "metadata": {},
   "source": [
    "| Method                     | Description                                                |\n",
    "|----------------------------|------------------------------------------------------------|\n",
    "| `list.index(element[, start[, end]])` | Returns the index of the first occurrence of an element (within optional start and end bounds). |\n",
    "| `list.count(element)`      | Returns the number of occurrences of an element in the list. |"
   ]
  },
  {
   "cell_type": "markdown",
   "id": "c206b09a-1f9a-4180-afef-2b74c890e0c5",
   "metadata": {
    "jp-MarkdownHeadingCollapsed": true
   },
   "source": [
    "### Iteration"
   ]
  },
  {
   "cell_type": "markdown",
   "id": "517d30e4-43b1-4a57-820d-00af2aec4cc7",
   "metadata": {
    "jp-MarkdownHeadingCollapsed": true
   },
   "source": [
    "#### Basic Iteration with `for` Loop"
   ]
  },
  {
   "cell_type": "markdown",
   "id": "74e7526b-3c6d-45cd-be4a-76cb3acf2826",
   "metadata": {},
   "source": [
    "The most common way to iterate over a list is using a `for` loop:\n",
    "\n",
    "```python\n",
    "for element in list:\n",
    "    # Process each element\n",
    "```\n",
    "\n",
    "- **Description**: This loop iterates through each element of the list in the order they appear.\n",
    "- **Example**:\n",
    "\n",
    "  ```python\n",
    "  numbers = [1, 2, 3, 4, 5]\n",
    "  for number in numbers:\n",
    "      print(number)\n",
    "  ```"
   ]
  },
  {
   "cell_type": "markdown",
   "id": "dac14b7f-b4a0-4a28-9c80-05a0ff096d66",
   "metadata": {
    "jp-MarkdownHeadingCollapsed": true
   },
   "source": [
    "#### Iterating with Indexes"
   ]
  },
  {
   "cell_type": "markdown",
   "id": "c609955f-58dc-40fa-8fc9-57746858fcdd",
   "metadata": {},
   "source": [
    "If you need the index of each element during iteration, use the `range` function:\n",
    "\n",
    "```python\n",
    "for index in range(len(list)):\n",
    "    element = list[index]\n",
    "    # Process each element and its index\n",
    "```\n",
    "\n",
    "- **Description**: This method provides both the index and the element.\n",
    "- **Example**:\n",
    "\n",
    "  ```python\n",
    "  fruits = ['apple', 'banana', 'cherry']\n",
    "  for i in range(len(fruits)):\n",
    "      print(f\"Index {i}: {fruits[i]}\")\n",
    "  ```"
   ]
  },
  {
   "cell_type": "markdown",
   "id": "51be2083-8ac4-4e5c-bd57-21ce3cf7c8a9",
   "metadata": {
    "jp-MarkdownHeadingCollapsed": true
   },
   "source": [
    "#### Using `enumerate()`"
   ]
  },
  {
   "cell_type": "markdown",
   "id": "2d4f5fb8-baf7-4317-b347-88831b72515d",
   "metadata": {},
   "source": [
    "`enumerate()` is a built-in function that simplifies iteration with indexes:\n",
    "\n",
    "```python\n",
    "for index, element in enumerate(list):\n",
    "    # Process each element and its index\n",
    "```\n",
    "\n",
    "- **Description**: Provides a tuple of index and element during iteration.\n",
    "- **Example**:\n",
    "\n",
    "  ```python\n",
    "  colors = ['red', 'green', 'blue']\n",
    "  for index, color in enumerate(colors):\n",
    "      print(f\"Index {index}: {color}\")\n",
    "  ```"
   ]
  },
  {
   "cell_type": "markdown",
   "id": "3b8323dd-a8f1-40e4-bd33-46c330c61459",
   "metadata": {
    "jp-MarkdownHeadingCollapsed": true
   },
   "source": [
    "#### List Comprehensions"
   ]
  },
  {
   "cell_type": "markdown",
   "id": "a98249e2-5cfb-4d99-a01c-4838b2172802",
   "metadata": {},
   "source": [
    "List comprehensions provide a concise way to create lists and can also be used for iteration:\n",
    "\n",
    "```python\n",
    "new_list = [expression for element in list if condition]\n",
    "```\n",
    "\n",
    "- **Description**: Generates a new list by applying an expression to each element, optionally filtering with a condition.\n",
    "- **Example**:\n",
    "\n",
    "  ```python\n",
    "  numbers = [1, 2, 3, 4, 5]\n",
    "  squared = [x**2 for x in numbers]\n",
    "  print(squared)  # Output: [1, 4, 9, 16, 25]\n",
    "  ```"
   ]
  },
  {
   "cell_type": "markdown",
   "id": "61d3a5b0-89d8-4f66-b98e-182c90b53b6f",
   "metadata": {
    "jp-MarkdownHeadingCollapsed": true
   },
   "source": [
    "#### Iterating with `while` Loop"
   ]
  },
  {
   "cell_type": "markdown",
   "id": "27219ef6-7429-40ee-86d3-8dd89634432d",
   "metadata": {},
   "source": [
    "A `while` loop can be used for iteration, typically with an index variable:\n",
    "\n",
    "```python\n",
    "index = 0\n",
    "while index < len(list):\n",
    "    element = list[index]\n",
    "    # Process each element\n",
    "    index += 1\n",
    "```\n",
    "\n",
    "- **Description**: Provides more control over iteration, but is less commonly used than `for` loops.\n",
    "- **Example**:\n",
    "\n",
    "  ```python\n",
    "  letters = ['a', 'b', 'c']\n",
    "  index = 0\n",
    "  while index < len(letters):\n",
    "      print(letters[index])\n",
    "      index += 1\n",
    "  ```"
   ]
  },
  {
   "cell_type": "markdown",
   "id": "06a050e4-2d45-4c45-a132-0fdc041f6093",
   "metadata": {
    "jp-MarkdownHeadingCollapsed": true
   },
   "source": [
    "#### Iterating Over Nested Lists"
   ]
  },
  {
   "cell_type": "markdown",
   "id": "a224fa3d-8ddc-4757-802f-2ab259359e8b",
   "metadata": {},
   "source": [
    "To iterate over nested lists (lists within lists), use nested loops:\n",
    "\n",
    "```python\n",
    "for sublist in list:\n",
    "    for item in sublist:\n",
    "        # Process each item in the sublist\n",
    "```\n",
    "\n",
    "- **Description**: Useful for handling multi-dimensional data.\n",
    "- **Example**:\n",
    "\n",
    "  ```python\n",
    "  matrix = [[1, 2, 3], [4, 5, 6], [7, 8, 9]]\n",
    "  for row in matrix:\n",
    "      for value in row:\n",
    "          print(value)\n",
    "  ```"
   ]
  },
  {
   "cell_type": "markdown",
   "id": "d7d1a83a-ba25-456b-9373-ed59bd411c73",
   "metadata": {},
   "source": [
    "### Unpacking Elements"
   ]
  },
  {
   "cell_type": "markdown",
   "id": "4c23d380-b290-4ae6-bb62-6cdc242bc1a9",
   "metadata": {
    "jp-MarkdownHeadingCollapsed": true
   },
   "source": [
    "#### Basic Unpacking"
   ]
  },
  {
   "cell_type": "markdown",
   "id": "dd911209-0a11-422d-a245-7f2273a74579",
   "metadata": {},
   "source": [
    "You can directly unpack elements from a list into variables:\n",
    "\n",
    "```python\n",
    "a, b, c = [1, 2, 3]\n",
    "```\n",
    "\n",
    "- **Description**: This assigns `1` to `a`, `2` to `b`, and `3` to `c`.\n",
    "- **Requirements**: The number of variables must match the number of elements in the list."
   ]
  },
  {
   "cell_type": "markdown",
   "id": "42e720fd-6116-463b-a314-d1a0b12b989b",
   "metadata": {
    "jp-MarkdownHeadingCollapsed": true
   },
   "source": [
    "#### Unpacking with `*` Operator"
   ]
  },
  {
   "cell_type": "markdown",
   "id": "1d78c1ef-cdea-4026-9be4-dd988dd405f9",
   "metadata": {},
   "source": [
    "The `*` operator (also known as \"star\" or \"splat\") allows unpacking with variable-length lists:\n",
    "\n",
    "```python\n",
    "first, *rest = [1, 2, 3, 4, 5]\n",
    "```\n",
    "\n",
    "- **Description**: `first` receives the first element (`1`), and `rest` receives the remaining elements (`[2, 3, 4, 5]`).\n",
    "\n",
    "You can also use the `*` operator in other positions:\n",
    "\n",
    "```python\n",
    "a, *middle, b = [1, 2, 3, 4, 5]\n",
    "```\n",
    "\n",
    "- **Description**: `a` receives `1`, `middle` receives `[2, 3, 4]`, and `b` receives `5`."
   ]
  },
  {
   "cell_type": "markdown",
   "id": "3b69db37-8915-4595-9b05-4cbf330cfb34",
   "metadata": {
    "jp-MarkdownHeadingCollapsed": true
   },
   "source": [
    "#### Nested Unpacking"
   ]
  },
  {
   "cell_type": "markdown",
   "id": "237be867-1cb1-4c45-a625-3c815e0abd9d",
   "metadata": {},
   "source": [
    "Nested unpacking allows unpacking nested lists or tuples:\n",
    "\n",
    "```python\n",
    "(a, b), (c, d) = ([1, 2], [3, 4])\n",
    "```\n",
    "\n",
    "- **Description**: `a` receives `1`, `b` receives `2`, `c` receives `3`, and `d` receives `4`."
   ]
  },
  {
   "cell_type": "markdown",
   "id": "e0b2d56b-5888-4d00-bd99-a648542986e3",
   "metadata": {
    "jp-MarkdownHeadingCollapsed": true
   },
   "source": [
    "#### Unpacking with `*` in Nested Structures"
   ]
  },
  {
   "cell_type": "markdown",
   "id": "ecc4ed82-1ccd-4146-a2ca-df642c06d0bd",
   "metadata": {},
   "source": [
    "You can combine `*` with nested structures:\n",
    "\n",
    "```python\n",
    "(a, *rest), (b, c) = ([1, 2, 3, 4], [5, 6])\n",
    "```\n",
    "\n",
    "- **Description**: `a` receives `1`, `rest` receives `[2, 3, 4]`, `b` receives `5`, and `c` receives `6`."
   ]
  },
  {
   "cell_type": "markdown",
   "id": "9903ca5e-ffa3-4bd1-8060-1f5c68079498",
   "metadata": {
    "jp-MarkdownHeadingCollapsed": true
   },
   "source": [
    "#### Using `*` with Functions"
   ]
  },
  {
   "cell_type": "markdown",
   "id": "f097b5fc-0d88-45b1-b63e-a3f6187efd87",
   "metadata": {},
   "source": [
    "The `*` operator can be used when calling functions that accept variable numbers of arguments:\n",
    "\n",
    "```python\n",
    "def add(a, b, c):\n",
    "    return a + b + c\n",
    "\n",
    "numbers = [1, 2, 3]\n",
    "result = add(*numbers)  # Equivalent to add(1, 2, 3)\n",
    "```\n",
    "\n",
    "- **Description**: The `*numbers` unpacks the list into individual arguments for the `add` function."
   ]
  },
  {
   "cell_type": "markdown",
   "id": "39f3599d-897c-4328-a524-b7b32b20ee37",
   "metadata": {
    "jp-MarkdownHeadingCollapsed": true
   },
   "source": [
    "#### List Comprehensions with Unpacking"
   ]
  },
  {
   "cell_type": "markdown",
   "id": "65e1080b-aea1-4f23-a262-f481c5f14b29",
   "metadata": {},
   "source": [
    "List comprehensions can also involve unpacking:\n",
    "\n",
    "```python\n",
    "pairs = [(1, 'a'), (2, 'b'), (3, 'c')]\n",
    "result = [f\"{num}-{char}\" for num, char in pairs]\n",
    "```\n",
    "\n",
    "- **Description**: `num` and `char` are unpacked from each tuple in `pairs`, and a formatted string is created for each pair."
   ]
  },
  {
   "cell_type": "markdown",
   "id": "e97e66e4-6f59-4588-8706-1a607bbad94d",
   "metadata": {
    "jp-MarkdownHeadingCollapsed": true
   },
   "source": [
    "## Dictionary"
   ]
  },
  {
   "cell_type": "markdown",
   "id": "17a19f2e-6a3c-4438-be2c-cd198282eae7",
   "metadata": {
    "jp-MarkdownHeadingCollapsed": true
   },
   "source": [
    "### Creation"
   ]
  },
  {
   "cell_type": "markdown",
   "id": "f58bf603-1f12-49b8-9444-a8a6a55c2768",
   "metadata": {
    "jp-MarkdownHeadingCollapsed": true
   },
   "source": [
    "#### Manual Creation"
   ]
  },
  {
   "cell_type": "markdown",
   "id": "3344dac8-dfde-4bb6-8cd7-79b9ae5cd36d",
   "metadata": {},
   "source": [
    "- **Description**: Creating dictionaries by specifying key-value pairs directly. This method allows you to define the dictionary at the time of creation.\n",
    "- **Syntax**:\n",
    "  ```python\n",
    "  my_dict = {'key1': 'value1', 'key2': 'value2'}\n",
    "  ```\n",
    "- **Example**:\n",
    "  ```python\n",
    "  person = {'name': 'Alice', 'age': 30, 'city': 'New York'}\n",
    "  ```\n",
    "- **Details**:\n",
    "  - **Keys**: Must be immutable types (e.g., strings, numbers, tuples).\n",
    "  - **Values**: Can be of any type (e.g., strings, numbers, lists, dictionaries).\n",
    "  - **Key-Value Pair**: Defined within curly braces `{}`, separated by colons `:`."
   ]
  },
  {
   "cell_type": "markdown",
   "id": "8824cf7a-f7f1-4339-badc-187eb5a20c43",
   "metadata": {
    "jp-MarkdownHeadingCollapsed": true
   },
   "source": [
    "#### Creation by Comprehension"
   ]
  },
  {
   "cell_type": "markdown",
   "id": "a6187c5e-08c2-4666-8009-c46930ce4011",
   "metadata": {},
   "source": [
    "- **Description**: Using dictionary comprehensions to generate dictionaries. This method is useful for creating dictionaries based on existing iterables or performing transformations.\n",
    "- **Syntax**:\n",
    "  ```python\n",
    "  {key_expr: value_expr for item in iterable}\n",
    "  ```\n",
    "- **Example**:\n",
    "  ```python\n",
    "  squares = {x: x**2 for x in range(5)}\n",
    "  ```\n",
    "- **Details**:\n",
    "  - **Key Expression**: Expression that determines the keys.\n",
    "  - **Value Expression**: Expression that determines the values.\n",
    "  - **Iterables**: Can be lists, ranges, or other iterables."
   ]
  },
  {
   "cell_type": "markdown",
   "id": "ff2c399c-fb28-45b4-b10c-3dd69ee8c005",
   "metadata": {
    "jp-MarkdownHeadingCollapsed": true
   },
   "source": [
    "#### Creation by Copying"
   ]
  },
  {
   "cell_type": "markdown",
   "id": "a463bb5b-7605-46ef-a7d4-d24ef1b00d43",
   "metadata": {},
   "source": [
    "- **Description**: Creating dictionaries by copying existing dictionaries. Useful for creating a new dictionary with the same key-value pairs as an existing one.\n",
    "- **Syntax**:\n",
    "  ```python\n",
    "  new_dict = original_dict.copy()\n",
    "  ```\n",
    "- **Example**:\n",
    "  ```python\n",
    "  original = {'a': 1, 'b': 2}\n",
    "  copy = original.copy()\n",
    "  ```\n",
    "- **Details**:\n",
    "  - **Shallow Copy**: The `copy()` method creates a shallow copy of the dictionary."
   ]
  },
  {
   "cell_type": "markdown",
   "id": "250871b3-c8a4-4099-a547-b11b89057adf",
   "metadata": {
    "jp-MarkdownHeadingCollapsed": true
   },
   "source": [
    "#### Creation from Lists of Tuples"
   ]
  },
  {
   "cell_type": "markdown",
   "id": "51e5db92-3f53-402f-b32c-5989423a6dc8",
   "metadata": {},
   "source": [
    "- **Description**: Creating dictionaries from a list of key-value pairs, where each pair is a tuple. This method is convenient when converting a list of pairs into a dictionary.\n",
    "- **Syntax**:\n",
    "  ```python\n",
    "  dict_from_pairs = dict([(key1, value1), (key2, value2)])\n",
    "  ```\n",
    "- **Example**:\n",
    "  ```python\n",
    "  pairs = [(1, 'a'), (2, 'b')]\n",
    "  my_dict = dict(pairs)\n",
    "  ```\n",
    "- **Details**:\n",
    "  - **Pairs**: Each element in the list must be a tuple containing exactly two elements (key and value)."
   ]
  },
  {
   "cell_type": "markdown",
   "id": "8e065267-0d17-4085-b6b6-de92e1382e3c",
   "metadata": {
    "jp-MarkdownHeadingCollapsed": true
   },
   "source": [
    "#### Creating from Other Iterable Types"
   ]
  },
  {
   "cell_type": "markdown",
   "id": "6f87a030-42c2-4e72-ab4f-d78363c214a1",
   "metadata": {},
   "source": [
    "- **Description**: Converting other iterables, such as lists or sets, into dictionaries. This method is useful when working with various data types.\n",
    "- **Syntax**:\n",
    "  ```python\n",
    "  dict_from_iterables = dict(zip(keys, values))\n",
    "  ```\n",
    "- **Example**:\n",
    "  ```python\n",
    "  keys = ['name', 'age']\n",
    "  values = ['Alice', 30]\n",
    "  my_dict = dict(zip(keys, values))\n",
    "  ```\n",
    "- **Details**:\n",
    "  - **Zip**: The `zip()` function pairs elements from two or more iterables.\n",
    "  - **Iterables**: Can be lists, tuples, or other iterable types."
   ]
  },
  {
   "cell_type": "markdown",
   "id": "5d89c6f8-f433-45d2-9061-08e5e8908f97",
   "metadata": {
    "jp-MarkdownHeadingCollapsed": true
   },
   "source": [
    "#### Dictionary vs. List vs. Tuple"
   ]
  },
  {
   "cell_type": "markdown",
   "id": "cd83ac05-0a39-4f67-9b41-c00c5f144125",
   "metadata": {},
   "source": [
    "- **Dictionary**:\n",
    "  - **Ordered**: Maintains the insertion order (Python 3.7+).\n",
    "  - **Mutable**: Can be changed after creation.\n",
    "  - **Key-Value Pairs**: Stores data as key-value pairs where keys are unique.\n",
    "  - **Use Case**: Ideal for mapping data and fast lookups by key.\n",
    "\n",
    "- **List**:\n",
    "  - **Ordered**: Maintains the order of elements.\n",
    "  - **Mutable**: Can be modified after creation.\n",
    "  - **Indexed**: Accessed by integer indices, allows duplicate values.\n",
    "  - **Use Case**: Suitable for collections of items where order matters.\n",
    "\n",
    "- **Tuple**:\n",
    "  - **Ordered**: Maintains the order of elements.\n",
    "  - **Immutable**: Cannot be modified after creation.\n",
    "  - **Indexed**: Accessed by integer indices, allows duplicate values.\n",
    "  - **Use Case**: Ideal for fixed collections of items where immutability is required.\n",
    "\n",
    "- **Use Cases**:\n",
    "  - **Dictionaries**: Best for scenarios where you need to associate unique keys with values, such as configuration settings or lookup tables.\n",
    "  - **Lists**: Useful when you need an ordered collection of items, such as a list of names or numbers.\n",
    "  - **Tuples**: Appropriate for fixed, unchangeable collections of items, such as coordinates or records with a fixed structure."
   ]
  },
  {
   "cell_type": "markdown",
   "id": "0458831d-b74c-4aaf-b07a-9eaac73a7111",
   "metadata": {
    "jp-MarkdownHeadingCollapsed": true
   },
   "source": [
    "### Accessing Elements"
   ]
  },
  {
   "cell_type": "markdown",
   "id": "07d1732a-b08c-4d28-b4c2-6f50add650b0",
   "metadata": {
    "jp-MarkdownHeadingCollapsed": true
   },
   "source": [
    "#### Key-Based Access"
   ]
  },
  {
   "cell_type": "markdown",
   "id": "5c08725c-3a6a-4c04-97a9-9d4083da55fd",
   "metadata": {},
   "source": [
    "- **Description**: Access values in a dictionary using their corresponding keys. This is the most common way to retrieve values from a dictionary.\n",
    "- **Syntax**:\n",
    "  ```python\n",
    "  value = dictionary[key]\n",
    "  ```\n",
    "- **Example**:\n",
    "  ```python\n",
    "  person = {'name': 'Alice', 'age': 30, 'city': 'New York'}\n",
    "  name = person['name']  # Accessing the value associated with the key 'name'\n",
    "  ```\n",
    "- **Details**:\n",
    "  - **KeyError**: If the specified key does not exist in the dictionary, a `KeyError` is raised.\n",
    "  - **Use Cases**: Quickly retrieving values when you know the key exists in the dictionary."
   ]
  },
  {
   "cell_type": "markdown",
   "id": "004dc7bd-dcd8-434d-a915-c5f8d72fdda4",
   "metadata": {
    "jp-MarkdownHeadingCollapsed": true
   },
   "source": [
    "#### Using `get()` Method"
   ]
  },
  {
   "cell_type": "markdown",
   "id": "f960c786-623a-4002-89c3-95a5212a31f4",
   "metadata": {},
   "source": [
    "- **Description**: Access values in a dictionary using their keys, with the option to provide a default value if the key does not exist. This method helps avoid `KeyError`.\n",
    "- **Syntax**:\n",
    "  ```python\n",
    "  value = dictionary.get(key, default_value)\n",
    "  ```\n",
    "- **Example**:\n",
    "  ```python\n",
    "  person = {'name': 'Alice', 'age': 30, 'city': 'New York'}\n",
    "  age = person.get('age', 'Not specified')  # Returns 30\n",
    "  country = person.get('country', 'Unknown')  # Returns 'Unknown' as the key 'country' does not exist\n",
    "  ```\n",
    "- **Details**:\n",
    "  - **Default Value**: If the key is not found, `get()` returns the specified default value. If no default value is provided, it returns `None`.\n",
    "  - **Use Cases**: Safely retrieving values when the presence of the key is uncertain."
   ]
  },
  {
   "cell_type": "markdown",
   "id": "7ceb25f5-81a9-4c13-a994-3e42a96e9cf3",
   "metadata": {
    "jp-MarkdownHeadingCollapsed": true
   },
   "source": [
    "#### Accessing Multiple Values"
   ]
  },
  {
   "cell_type": "markdown",
   "id": "0b7638c8-5afb-4d32-9cc5-71eba17ebd2b",
   "metadata": {},
   "source": [
    "- **Description**: Use methods like `keys()`, `values()`, and `items()` to access multiple keys, values, or key-value pairs at once.\n",
    "- **Methods**:\n",
    "  - **`keys()`**: Returns a view object of all the keys in the dictionary.\n",
    "  - **`values()`**: Returns a view object of all the values in the dictionary.\n",
    "  - **`items()`**: Returns a view object of all key-value pairs (tuples) in the dictionary.\n",
    "- **Syntax**:\n",
    "  ```python\n",
    "  keys = dictionary.keys()\n",
    "  values = dictionary.values()\n",
    "  items = dictionary.items()\n",
    "  ```\n",
    "- **Example**:\n",
    "  ```python\n",
    "  person = {'name': 'Alice', 'age': 30, 'city': 'New York'}\n",
    "  keys = person.keys()       # dict_keys(['name', 'age', 'city'])\n",
    "  values = person.values()   # dict_values(['Alice', 30, 'New York'])\n",
    "  items = person.items()     # dict_items([('name', 'Alice'), ('age', 30), ('city', 'New York')])\n",
    "  ```\n",
    "- **Details**:\n",
    "  - **View Objects**: These methods return view objects, which provide a dynamic view of the dictionary’s entries.\n",
    "  - **Use Cases**: Iterating over multiple keys, values, or key-value pairs for processing."
   ]
  },
  {
   "cell_type": "markdown",
   "id": "22eeb17f-6fcb-470a-baab-9092b68f91a5",
   "metadata": {
    "jp-MarkdownHeadingCollapsed": true
   },
   "source": [
    "#### Checking Key Existence"
   ]
  },
  {
   "cell_type": "markdown",
   "id": "df93a5f1-1f53-4906-a947-b2b39829aa7f",
   "metadata": {},
   "source": [
    "- **Description**: Test if a key exists in the dictionary using the `in` or `not in` operators. This is a common practice to avoid errors when accessing keys.\n",
    "- **Syntax**:\n",
    "  ```python\n",
    "  key_exists = key in dictionary\n",
    "  key_not_exists = key not in dictionary\n",
    "  ```\n",
    "- **Example**:\n",
    "  ```python\n",
    "  person = {'name': 'Alice', 'age': 30, 'city': 'New York'}\n",
    "  has_name = 'name' in person  # Returns True\n",
    "  has_country = 'country' not in person  # Returns True as 'country' is not a key in the dictionary\n",
    "  ```\n",
    "- **Details**:\n",
    "  - **Boolean Result**: These operators return `True` or `False`.\n",
    "  - **Use Cases**: Safely checking for the presence of a key before attempting to access its value."
   ]
  },
  {
   "cell_type": "markdown",
   "id": "9a121402-1ef1-4873-992b-7877ff9f745a",
   "metadata": {
    "jp-MarkdownHeadingCollapsed": true
   },
   "source": [
    "### Modifications"
   ]
  },
  {
   "cell_type": "markdown",
   "id": "b299a0f5-4568-4e69-aac0-9553ef3779a9",
   "metadata": {
    "jp-MarkdownHeadingCollapsed": true
   },
   "source": [
    "#### Adding or Updating Elements"
   ]
  },
  {
   "cell_type": "markdown",
   "id": "dcac688e-4a12-4c1c-9787-8bf266573167",
   "metadata": {},
   "source": [
    "- **Description**: You can add new key-value pairs to a dictionary or update the value associated with an existing key.\n",
    "- **Syntax**:\n",
    "  ```python\n",
    "  dictionary[key] = value\n",
    "  ```\n",
    "- **Example**:\n",
    "  ```python\n",
    "  person = {'name': 'Alice', 'age': 30}\n",
    "  person['city'] = 'New York'  # Adding a new key-value pair\n",
    "  person['age'] = 31  # Updating the value of an existing key\n",
    "  ```\n",
    "- **Details**:\n",
    "  - **Adding**: If the key does not exist, a new key-value pair is added.\n",
    "  - **Updating**: If the key exists, its value is updated with the new value.\n",
    "  - **Use Cases**: Adding new data to a dictionary or updating existing data."
   ]
  },
  {
   "cell_type": "markdown",
   "id": "635d0f74-5d68-4b21-b6c0-af9df8a5665a",
   "metadata": {
    "jp-MarkdownHeadingCollapsed": true
   },
   "source": [
    "#### Removing Elements"
   ]
  },
  {
   "cell_type": "markdown",
   "id": "3cef4c38-aa05-4f58-97b1-f5f8930d5602",
   "metadata": {},
   "source": [
    "- **Description**: Remove key-value pairs from a dictionary using various methods or operators.\n",
    "- **Methods**:\n",
    "  - **`del` Statement**: Removes a key-value pair by specifying the key.\n",
    "  - **`pop()` Method**: Removes a key-value pair by key and returns the value.\n",
    "  - **`popitem()` Method**: Removes and returns the last key-value pair as a tuple.\n",
    "  - **`clear()` Method**: Removes all key-value pairs from the dictionary.\n",
    "- **Syntax**:\n",
    "  ```python\n",
    "  del dictionary[key]\n",
    "  value = dictionary.pop(key)\n",
    "  key, value = dictionary.popitem()\n",
    "  dictionary.clear()\n",
    "  ```\n",
    "- **Example**:\n",
    "  ```python\n",
    "  person = {'name': 'Alice', 'age': 30, 'city': 'New York'}\n",
    "  del person['city']  # Removes the key 'city'\n",
    "  age = person.pop('age')  # Removes the key 'age' and returns its value (30)\n",
    "  key, value = person.popitem()  # Removes and returns the last key-value pair\n",
    "  person.clear()  # Removes all key-value pairs\n",
    "  ```\n",
    "- **Details**:\n",
    "  - **KeyError**: Using `del` or `pop()` with a non-existent key raises a `KeyError`.\n",
    "  - **Empty Dictionary**: After `clear()`, the dictionary will be empty.\n",
    "  - **Use Cases**: Removing specific data, clearing a dictionary, or safely extracting values."
   ]
  },
  {
   "cell_type": "markdown",
   "id": "a7f4e752-9388-45e7-b41d-dd7b1d9c81f1",
   "metadata": {
    "jp-MarkdownHeadingCollapsed": true
   },
   "source": [
    "#### Modifying Values"
   ]
  },
  {
   "cell_type": "markdown",
   "id": "4f29d788-7bcf-4de8-a8da-d5cf31f1b10a",
   "metadata": {},
   "source": [
    "- **Description**: Change the values associated with existing keys in the dictionary.\n",
    "- **Syntax**:\n",
    "  ```python\n",
    "  dictionary[key] = new_value\n",
    "  ```\n",
    "- **Example**:\n",
    "  ```python\n",
    "  person = {'name': 'Alice', 'age': 30}\n",
    "  person['age'] = 31  # Changing the value associated with the key 'age'\n",
    "  ```\n",
    "- **Details**:\n",
    "  - **Existing Keys**: The key must exist for its value to be updated.\n",
    "  - **Use Cases**: Updating specific values based on some criteria or new information."
   ]
  },
  {
   "cell_type": "markdown",
   "id": "16c3d6e6-4bce-4157-973e-4bb6b714884a",
   "metadata": {
    "jp-MarkdownHeadingCollapsed": true
   },
   "source": [
    "#### Dictionary Operations\n",
    "- **Description**: Perform operations like merging dictionaries, copying dictionaries, or updating dictionaries with new key-value pairs."
   ]
  },
  {
   "cell_type": "markdown",
   "id": "8cd62005-72b5-4ece-980f-193b91a34388",
   "metadata": {
    "jp-MarkdownHeadingCollapsed": true
   },
   "source": [
    "##### Merging"
   ]
  },
  {
   "cell_type": "markdown",
   "id": "ac1f1492-189d-4e1a-9786-bf160b7c2f04",
   "metadata": {},
   "source": [
    "- **Description**: Use the `update()` method to merge another dictionary into the current dictionary. This method adds new key-value pairs and updates existing keys with new values from the other dictionary.\n",
    "- **Syntax**:\n",
    "  ```python\n",
    "  dictionary.update(other_dictionary)\n",
    "  ```\n",
    "- **Example**:\n",
    "  ```python\n",
    "  dict1 = {'a': 1, 'b': 2}\n",
    "  dict2 = {'b': 3, 'c': 4}\n",
    "  dict1.update(dict2)  # Merges dict2 into dict1\n",
    "  print(dict1)  # Output: {'a': 1, 'b': 3, 'c': 4}\n",
    "  ```\n",
    "- **Details**:\n",
    "  - **Overwrite Values**: Existing keys in the original dictionary will be updated with values from the other dictionary.\n",
    "  - **Use Cases**: Combining data from multiple dictionaries."
   ]
  },
  {
   "cell_type": "markdown",
   "id": "b66c9231-7d42-4fcb-a48b-9049bbd051e9",
   "metadata": {
    "jp-MarkdownHeadingCollapsed": true
   },
   "source": [
    "##### Copying"
   ]
  },
  {
   "cell_type": "markdown",
   "id": "45628664-b495-431a-a330-111657fdacf3",
   "metadata": {},
   "source": [
    "- **Description**: Use the `copy()` method to create a shallow copy of the dictionary.\n",
    "- **Syntax**:\n",
    "  ```python\n",
    "  new_dict = dictionary.copy()\n",
    "  ```\n",
    "- **Example**:\n",
    "  ```python\n",
    "  original = {'a': 1, 'b': 2}\n",
    "  copy = original.copy()  # Creates a shallow copy of the original dictionary\n",
    "  ```\n",
    "- **Details**:\n",
    "  - **Shallow Copy**: The new dictionary contains references to the same objects as the original.\n",
    "  - **Use Cases**: Creating a backup of a dictionary before making changes."
   ]
  },
  {
   "cell_type": "markdown",
   "id": "2b26c050-c077-4f58-8224-645ee9da1f6c",
   "metadata": {
    "jp-MarkdownHeadingCollapsed": true
   },
   "source": [
    "##### Updating"
   ]
  },
  {
   "cell_type": "markdown",
   "id": "a7683463-692f-43a2-87ae-4c6c0463f074",
   "metadata": {},
   "source": [
    "- **Description**: Add or modify elements using the `update()` method, which can accept another dictionary or an iterable of key-value pairs.\n",
    "- **Syntax**:\n",
    "  ```python\n",
    "  dictionary.update(other_dictionary)\n",
    "  dictionary.update(iterable_of_pairs)\n",
    "  ```\n",
    "- **Example**:\n",
    "  ```python\n",
    "  person = {'name': 'Alice', 'age': 30}\n",
    "  person.update({'city': 'New York', 'age': 31})  # Adds 'city' and updates 'age'\n",
    "  ```\n",
    "- **Details**:\n",
    "  - **Iterable of Pairs**: The method can accept an iterable of key-value pairs (e.g., list of tuples).\n",
    "  - **Use Cases**: Efficiently adding or modifying multiple elements in a dictionary."
   ]
  },
  {
   "cell_type": "markdown",
   "id": "a7d6787a-88b2-4803-80e4-fbd843c5c137",
   "metadata": {
    "jp-MarkdownHeadingCollapsed": true
   },
   "source": [
    "### Functions in format `function(dict)`"
   ]
  },
  {
   "cell_type": "markdown",
   "id": "74b69711-cd81-48b0-a6ed-f3d6bc4f5a4e",
   "metadata": {
    "jp-MarkdownHeadingCollapsed": true
   },
   "source": [
    "#### Dictionary Construction and Conversion"
   ]
  },
  {
   "cell_type": "markdown",
   "id": "1f32515f-f044-4bd4-a4e2-c14b99069858",
   "metadata": {},
   "source": [
    "| Function | Description                          | Example                    |\n",
    "|----------|--------------------------------------|----------------------------|\n",
    "| `dict()` | Creates a new dictionary.            | `d = dict([('a', 1), ('b', 2)])`       |\n",
    "| `list()` | Converts dictionary keys to a list.  | `keys_list = list(d)`      |\n",
    "| `tuple()`| Converts dictionary keys to a tuple. | `keys_tuple = tuple(d)`    |\n",
    "\n",
    "- **Description**: Create and convert dictionaries using various functions.\n",
    "\n",
    "- **Details**:\n",
    "  - **Conversion**: These functions help in converting dictionaries to other types or creating new dictionaries from various inputs.\n",
    "  - **Use Cases**: Initializing dictionaries, converting dictionary keys to lists or tuples for further processing."
   ]
  },
  {
   "cell_type": "markdown",
   "id": "2c86d458-e567-4f84-bf1e-f242e1a34795",
   "metadata": {
    "jp-MarkdownHeadingCollapsed": true
   },
   "source": [
    "#### Dictionary Size and Summarization"
   ]
  },
  {
   "cell_type": "markdown",
   "id": "7706c04d-3692-4845-ada7-93160f7f6725",
   "metadata": {},
   "source": [
    "| Function | Description                                    | Example                   |\n",
    "|----------|------------------------------------------------|---------------------------|\n",
    "| `len()`  | Returns the number of key-value pairs.         | `size = len(d)`           |\n",
    "| `keys()` | Returns a view object of all keys.             | `keys = d.keys()`         |\n",
    "| `values()`| Returns a view object of all values.          | `values = d.values()`     |\n",
    "| `items()`| Returns a view object of all key-value pairs.  | `items = d.items()`       |\n",
    "\n",
    "- **Description**: Get the size of a dictionary and summarize its contents.\n",
    "\n",
    "- **Details**:\n",
    "  - **View Objects**: `keys()`, `values()`, and `items()` return dynamic views, reflecting changes in the dictionary.\n",
    "  - **Use Cases**: Getting the number of elements, accessing keys, values, or key-value pairs for iteration or processing."
   ]
  },
  {
   "cell_type": "markdown",
   "id": "8a361d09-51d9-4bb8-a259-5a38ddc88159",
   "metadata": {
    "jp-MarkdownHeadingCollapsed": true
   },
   "source": [
    "#### Dictionary Sorting and Reordering"
   ]
  },
  {
   "cell_type": "markdown",
   "id": "c21f1a5c-3c86-4d9d-b22f-0a0bd507f5aa",
   "metadata": {},
   "source": [
    "| Function         | Description                              | Example                    |\n",
    "|------------------|------------------------------------------|----------------------------|\n",
    "| `sorted()`       | Returns a sorted list of dictionary keys.| `sorted_keys = sorted(d)`  |\n",
    "| `sorted()` with `items()` | Returns a sorted list of key-value pairs. | `sorted_items = sorted(d.items())` |\n",
    "\n",
    "- **Description**: Sort dictionary keys and values.\n",
    "  \n",
    "- **Details**:\n",
    "  - **Sorting Keys**: `sorted(d)` sorts the dictionary keys.\n",
    "  - **Sorting Items**: `sorted(d.items())` sorts the key-value pairs.\n",
    "  - **Use Cases**: Sorting keys for ordered access or sorting key-value pairs for display or processing."
   ]
  },
  {
   "cell_type": "markdown",
   "id": "8036d178-3eb3-4028-8cfe-9d423dbba92d",
   "metadata": {
    "jp-MarkdownHeadingCollapsed": true
   },
   "source": [
    "#### Boolean and Filtering Operations"
   ]
  },
  {
   "cell_type": "markdown",
   "id": "fe79734d-b70c-4d98-a10b-1d80a723da22",
   "metadata": {},
   "source": [
    "| Function  | Description                                       | Example                                  |\n",
    "|-----------|---------------------------------------------------|------------------------------------------|\n",
    "| `any()`   | Returns `True` if any key is `True`.              | `any_true = any(d)`                      |\n",
    "| `all()`   | Returns `True` if all keys are `True`.            | `all_true = all(d)`                      |\n",
    "| `filter()`| Filters keys based on a condition.                | `filtered_keys = filter(condition, d)`   |\n",
    "\n",
    "- **Description**: Perform boolean and filtering operations on dictionaries.\n",
    "\n",
    "- **Details**:\n",
    "  - **Boolean Checks**: `any()` and `all()` check conditions across dictionary keys.\n",
    "  - **Filtering**: `filter()` is used for custom filtering conditions.\n",
    "  - **Use Cases**: Checking if any or all keys meet a condition, filtering keys based on custom logic."
   ]
  },
  {
   "cell_type": "markdown",
   "id": "0963a646-0a32-414f-9bd3-1bb76a9dac19",
   "metadata": {
    "jp-MarkdownHeadingCollapsed": true
   },
   "source": [
    "#### Mapping and Aggregation"
   ]
  },
  {
   "cell_type": "markdown",
   "id": "414f9763-06b6-4f0f-b9e7-9f2c91fcf2ab",
   "metadata": {},
   "source": [
    "| Function         | Description                                               | Example                                              |\n",
    "|------------------|-----------------------------------------------------------|------------------------------------------------------|\n",
    "| `map()`          | Applies a function to all dictionary keys.                | `mapped_keys = map(func, d)`                         |\n",
    "| `reduce()`       | Aggregates dictionary keys using a function.              | `from functools import reduce`<br>`aggregated_value = reduce(func, d)` |\n",
    "\n",
    "- **Description**: Apply functions to dictionary elements or aggregate results.\n",
    "\n",
    "- **Details**:\n",
    "  - **Mapping**: `map()` is used to apply a function to each key.\n",
    "  - **Aggregation**: `reduce()` is used to combine keys into a single result.\n",
    "  - **Use Cases**: Transforming keys, computing aggregate values from keys."
   ]
  },
  {
   "cell_type": "markdown",
   "id": "fdb46f96-5ef4-421a-8c77-17a7f982013c",
   "metadata": {
    "jp-MarkdownHeadingCollapsed": true
   },
   "source": [
    "#### Combining Iterables"
   ]
  },
  {
   "cell_type": "markdown",
   "id": "13fbb3dc-e374-4be7-b4b3-7073813a0347",
   "metadata": {},
   "source": [
    "| Function         | Description                                                   | Example                                                     |\n",
    "|------------------|---------------------------------------------------------------|-------------------------------------------------------------|\n",
    "| `zip()`          | Combines two iterables into a dictionary.                     | `keys = ['a', 'b', 'c']`<br>`values = [1, 2, 3]`<br>`combined_dict = dict(zip(keys, values))` |\n",
    "| `chain()`        | Combines multiple iterables (requires `itertools` module).    | `from itertools import chain`<br>`combined = chain(d1, d2)` |\n",
    "\n",
    "- **Description**: Combine multiple iterables into a dictionary.\n",
    "\n",
    "- **Details**:\n",
    "  - **Zipping**: `zip()` pairs elements from two iterables.\n",
    "  - **Chaining**: `chain()` combines multiple iterables into a single sequence.\n",
    "  - **Use Cases**: Creating dictionaries from paired data, merging multiple sequences."
   ]
  },
  {
   "cell_type": "markdown",
   "id": "51b5c090-b141-4f6a-a265-3efd99dbfe02",
   "metadata": {
    "jp-MarkdownHeadingCollapsed": true
   },
   "source": [
    "#### Copying"
   ]
  },
  {
   "cell_type": "markdown",
   "id": "8967aeb9-7c5d-44d1-86ca-88f69d534203",
   "metadata": {},
   "source": [
    "| Function | Description                           | Example                 |\n",
    "|----------|---------------------------------------|-------------------------|\n",
    "| `copy()` | Returns a shallow copy of the dictionary. | `new_dict = d.copy()`   |\n",
    "\n",
    "- **Description**: Create a copy of the dictionary.\n",
    "\n",
    "- **Details**:\n",
    "  - **Shallow Copy**: The new dictionary contains references to the same objects as the original.\n",
    "  - **Use Cases**: Creating a backup of a dictionary before making changes."
   ]
  },
  {
   "cell_type": "markdown",
   "id": "f22bcbd3-a63b-48a5-aae4-a6f04c14f011",
   "metadata": {
    "jp-MarkdownHeadingCollapsed": true
   },
   "source": [
    "#### Memory Considerations"
   ]
  },
  {
   "cell_type": "markdown",
   "id": "6636fdd7-3ef6-4a23-9371-ac14691fb43d",
   "metadata": {},
   "source": [
    "- **Description**: Consider memory usage and optimization when working with large dictionaries.\n",
    "- **Concepts**:\n",
    "  - **Dynamic Size**: Dictionaries grow dynamically, which may increase memory usage.\n",
    "  - **Optimization Tips**:\n",
    "    - **Efficient Data Structures**: Use more efficient data structures or libraries for large datasets.\n",
    "    - **Avoid Unnecessary Copies**: Minimize the use of copying to save memory.\n",
    "- **Details**:\n",
    "  - **Dynamic Growth**: As dictionaries grow, they allocate more memory to accommodate new elements.\n",
    "  - **Efficiency**: Choose appropriate data structures for specific use cases, such as using sets for membership testing.\n",
    "  - **Use Cases**: Handling large datasets efficiently, optimizing memory usage."
   ]
  },
  {
   "cell_type": "markdown",
   "id": "e1051a1c-eaaa-4b72-97a0-71a216b0b14f",
   "metadata": {
    "jp-MarkdownHeadingCollapsed": true
   },
   "source": [
    "### Methods in Format `dict.method()`"
   ]
  },
  {
   "cell_type": "markdown",
   "id": "17463398-9750-4dda-a8ff-7e4d2037e250",
   "metadata": {
    "jp-MarkdownHeadingCollapsed": true
   },
   "source": [
    "#### Modification"
   ]
  },
  {
   "cell_type": "markdown",
   "id": "a827f3a6-86e9-4277-9597-d64f3aafeeb0",
   "metadata": {},
   "source": [
    "These methods are used to modify the dictionary by adding, updating, or removing key-value pairs.\n",
    "\n",
    "| Method       | Description                                       | Example                          |\n",
    "|--------------|---------------------------------------------------|----------------------------------|\n",
    "| `update()`   | Updates the dictionary with key-value pairs from another dictionary or iterable. | `d.update({'key': 'value'})`     |\n",
    "| `setdefault()`| Inserts a key with a specified value if the key is not already present. | `d.setdefault('key', 'default')`|\n",
    "| `pop()`      | Removes a key and returns its value. Raises a KeyError if the key is not found. | `value = d.pop('key')`           |\n",
    "| `popitem()`  | Removes and returns the last key-value pair inserted into the dictionary. | `key, value = d.popitem()`       |\n",
    "| `clear()`    | Removes all items from the dictionary.            | `d.clear()`                      |\n",
    "\n",
    "- **Modification**: These methods are used to alter the dictionary's contents. `update()` merges another dictionary or iterable, `setdefault()` adds a key if it doesn’t exist, `pop()` removes a specified key, `popitem()` removes the last inserted item, and `clear()` empties the dictionary."
   ]
  },
  {
   "cell_type": "markdown",
   "id": "8bfaa97d-c0f3-4ca4-923f-a1765cf94c7e",
   "metadata": {
    "jp-MarkdownHeadingCollapsed": true
   },
   "source": [
    "#### Searching and Counting"
   ]
  },
  {
   "cell_type": "markdown",
   "id": "5dee6bc6-b7a9-4984-96b1-664fb2a0f876",
   "metadata": {},
   "source": [
    "These methods help in searching for keys or values and counting occurrences.\n",
    "\n",
    "| Method       | Description                                   | Example                         |\n",
    "|--------------|-----------------------------------------------|---------------------------------|\n",
    "| `get()`      | Returns the value for a key if it exists, or a default value if the key is not found. | `value = d.get('key', 'default')`|\n",
    "| `keys()`     | Returns a view object of all keys in the dictionary. | `keys = d.keys()`              |\n",
    "| `values()`   | Returns a view object of all values in the dictionary. | `values = d.values()`          |\n",
    "| `items()`    | Returns a view object of all key-value pairs in the dictionary. | `items = d.items()`            |\n",
    "\n",
    "- **Searching and Counting**: These methods assist in retrieving values associated with keys and viewing the dictionary's contents. `get()` provides a value with an optional default, while `keys()`, `values()`, and `items()` provide views of the dictionary’s keys, values, and key-value pairs."
   ]
  },
  {
   "cell_type": "markdown",
   "id": "d8a1cbba-c932-4ad7-b63e-c067816e72a9",
   "metadata": {
    "jp-MarkdownHeadingCollapsed": true
   },
   "source": [
    "#### Dictionary Views"
   ]
  },
  {
   "cell_type": "markdown",
   "id": "6c8193bc-4704-4336-b570-de9ae9cc09df",
   "metadata": {},
   "source": [
    "These methods provide access to view objects that represent different parts of the dictionary.\n",
    "\n",
    "| Method       | Description                                      | Example                          |\n",
    "|--------------|--------------------------------------------------|----------------------------------|\n",
    "| `keys()`     | Returns a view object of the dictionary’s keys. | `keys = d.keys()`                |\n",
    "| `values()`   | Returns a view object of the dictionary’s values.| `values = d.values()`            |\n",
    "| `items()`    | Returns a view object of the dictionary’s key-value pairs. | `items = d.items()`              |\n",
    "\n",
    "- **Dictionary Views**: These methods return view objects that dynamically reflect changes in the dictionary. `keys()`, `values()`, and `items()` provide views of keys, values, and key-value pairs, respectively."
   ]
  },
  {
   "cell_type": "markdown",
   "id": "c54394c0-69e3-45f2-94c5-66d80fa4c059",
   "metadata": {
    "jp-MarkdownHeadingCollapsed": true
   },
   "source": [
    "#### Advanced Methods"
   ]
  },
  {
   "cell_type": "markdown",
   "id": "84c50985-ba74-4578-8c77-e7da0fb60881",
   "metadata": {},
   "source": [
    "These methods offer additional functionality for dictionary operations.\n",
    "\n",
    "| Method       | Description                                      | Example                          |\n",
    "|--------------|--------------------------------------------------|----------------------------------|\n",
    "| `fromkeys()` | Creates a new dictionary with keys from an iterable and values set to a specified value. | `d = dict.fromkeys(['a', 'b'], 0)` |\n",
    "\n",
    "- **Advanced Methods**: `fromkeys()` allows for creating a new dictionary with a specified set of keys and default values."
   ]
  },
  {
   "cell_type": "markdown",
   "id": "fb73d221-13ae-4e2d-9a62-97a650de065a",
   "metadata": {},
   "source": [
    "### Iteration"
   ]
  },
  {
   "cell_type": "markdown",
   "id": "c16956b9-7054-4e2a-88c9-7d911c274fbb",
   "metadata": {
    "jp-MarkdownHeadingCollapsed": true
   },
   "source": [
    "#### Iterating Over Keys"
   ]
  },
  {
   "cell_type": "markdown",
   "id": "ce0fdd37-4d60-4d8e-95ad-1912b7a1a737",
   "metadata": {},
   "source": [
    "Using loops to iterate through the dictionary keys.\n",
    "\n",
    "| Concept            | Description                                     | Example                              |\n",
    "|--------------------|-------------------------------------------------|--------------------------------------|\n",
    "| **For Loop Over Keys** | Iterate over dictionary keys using a `for` loop. | `for key in d:`<br>`print(key)`       |\n",
    "\n",
    "- **Iterating Over Keys**: Use a `for` loop to iterate over all the keys in the dictionary. Each iteration provides a single key from the dictionary."
   ]
  },
  {
   "cell_type": "markdown",
   "id": "088fd080-9773-45c8-9425-cf266fd10bc1",
   "metadata": {
    "jp-MarkdownHeadingCollapsed": true
   },
   "source": [
    "#### Iterating Over Values"
   ]
  },
  {
   "cell_type": "markdown",
   "id": "ee7341c5-e341-4d2d-a8bc-a6f703cc1bca",
   "metadata": {},
   "source": [
    "Iterating over the values in the dictionary.\n",
    "\n",
    "| Concept            | Description                                     | Example                              |\n",
    "|--------------------|-------------------------------------------------|--------------------------------------|\n",
    "| **For Loop Over Values** | Iterate over dictionary values using a `for` loop. | `for value in d.values():`<br>`print(value)` |\n",
    "\n",
    "- **Iterating Over Values**: Use `d.values()` to get a view of all values in the dictionary and iterate over them with a `for` loop."
   ]
  },
  {
   "cell_type": "markdown",
   "id": "b7cf9a5d-3c67-4655-82ba-10cf08563583",
   "metadata": {
    "jp-MarkdownHeadingCollapsed": true
   },
   "source": [
    "#### Iterating Over Key-Value Pairs"
   ]
  },
  {
   "cell_type": "markdown",
   "id": "d3757060-cb55-488e-9363-d7d1b74c8cde",
   "metadata": {},
   "source": [
    "Using the `items()` method to iterate over both keys and values.\n",
    "\n",
    "| Concept              | Description                                          | Example                                             |\n",
    "|----------------------|------------------------------------------------------|-----------------------------------------------------|\n",
    "| **For Loop Over Key-Value Pairs** | Iterate over key-value pairs using `items()`. | `for key, value in d.items():`<br>`print(key, value)` |\n",
    "\n",
    "- **Iterating Over Key-Value Pairs**: The `items()` method returns a view of the dictionary’s key-value pairs. Use a `for` loop to access both keys and values in each iteration."
   ]
  },
  {
   "cell_type": "markdown",
   "id": "78360614-0bb7-4b52-afdf-78dd8e79092e",
   "metadata": {
    "jp-MarkdownHeadingCollapsed": true
   },
   "source": [
    "#### Dictionary Comprehensions"
   ]
  },
  {
   "cell_type": "markdown",
   "id": "259ad452-0cf0-43b7-b28f-f45d782a3632",
   "metadata": {},
   "source": [
    "Creating new dictionaries by applying an expression to existing dictionaries.\n",
    "\n",
    "| Concept                     | Description                                            | Example                                                  |\n",
    "|-----------------------------|--------------------------------------------------------|----------------------------------------------------------|\n",
    "| **Dictionary Comprehensions** | Construct dictionaries in a single line using comprehension. | `new_dict = {key: value * 2 for key, value in d.items()}` |\n",
    "\n",
    "- **Dictionary Comprehensions**: Use dictionary comprehensions to create new dictionaries by applying an expression to each key-value pair in an existing dictionary. This is a concise way to transform or filter dictionaries."
   ]
  },
  {
   "cell_type": "markdown",
   "id": "54f008fa-1d9b-4834-8d57-0a4e4c434335",
   "metadata": {
    "jp-MarkdownHeadingCollapsed": true
   },
   "source": [
    "#### Iterating Over Nested Dictionaries"
   ]
  },
  {
   "cell_type": "markdown",
   "id": "91370bc9-d4fa-4171-b2c5-64744bd3332d",
   "metadata": {},
   "source": [
    "Handling dictionaries that contain other dictionaries.\n",
    "\n",
    "| Concept                     | Description                                           | Example                                                   |\n",
    "|-----------------------------|-------------------------------------------------------|-----------------------------------------------------------|\n",
    "| **Iterating Over Nested Dictionaries** | Use nested loops to access keys and values in nested dictionaries. | `for key, nested_dict in d.items():`<br>`for sub_key, value in nested_dict.items():`<br>`print(key, sub_key, value)` |\n",
    "\n",
    "- **Iterating Over Nested Dictionaries**: If dictionaries are nested within each other, use nested `for` loops to access elements at different levels. This allows iteration through outer and inner dictionaries."
   ]
  },
  {
   "cell_type": "markdown",
   "id": "077ac264-74fe-42b6-a032-5b5ddbcc8375",
   "metadata": {},
   "source": [
    "### Unpacking"
   ]
  },
  {
   "cell_type": "markdown",
   "id": "0a80dcf9-2250-4140-b4d3-fb5719e75a9f",
   "metadata": {},
   "source": [
    "#### Basic Unpacking"
   ]
  },
  {
   "cell_type": "markdown",
   "id": "ddbe204e-c36f-402d-9bdf-bbb06af79662",
   "metadata": {},
   "source": [
    "Extracting dictionary keys and values into variables.\n",
    "\n",
    "| Concept            | Description                                     | Example                                          |\n",
    "|--------------------|-------------------------------------------------|--------------------------------------------------|\n",
    "| **Basic Unpacking** | Extract dictionary items into separate variables. | `key, value = next(iter(d.items()))`<br>`print(key, value)` |\n",
    "\n",
    "- **Basic Unpacking**: Use unpacking to extract key-value pairs from a dictionary. This can be done by iterating over dictionary items and assigning them to variables."
   ]
  },
  {
   "cell_type": "markdown",
   "id": "58a09254-c120-41f7-b37c-f7d4256cae49",
   "metadata": {},
   "source": [
    "#### Unpacking with `**` Operator"
   ]
  },
  {
   "cell_type": "markdown",
   "id": "e5db94b1-e7eb-41b5-a2ca-ed5b04195ae7",
   "metadata": {},
   "source": [
    "Using `**` to unpack dictionary items into function arguments.\n",
    "\n",
    "| Concept            | Description                                     | Example                                               |\n",
    "|--------------------|-------------------------------------------------|-------------------------------------------------------|\n",
    "| **Unpacking with `**` Operator** | Pass dictionary items as keyword arguments to a function. | `def func(a, b):`<br>`print(a, b)`<br>`d = {'a': 1, 'b': 2}`<br>`func(**d)` |\n",
    "\n",
    "- **Unpacking with `**` Operator**: The `**` operator unpacks dictionary key-value pairs into keyword arguments for a function. This allows passing dictionaries directly as arguments."
   ]
  },
  {
   "cell_type": "markdown",
   "id": "6402e094-3e10-436c-81e0-b888e7161849",
   "metadata": {},
   "source": [
    "#### Nested Unpacking"
   ]
  },
  {
   "cell_type": "markdown",
   "id": "e40754a3-f97e-4247-8d01-de0924ef4b34",
   "metadata": {},
   "source": [
    "Unpacking nested dictionaries into variables.\n",
    "\n",
    "| Concept            | Description                                     | Example                                              |\n",
    "|--------------------|-------------------------------------------------|------------------------------------------------------|\n",
    "| **Nested Unpacking** | Extract keys and values from nested dictionaries. | `nested_dict = {'outer': {'inner1': 1, 'inner2': 2}}`<br>`for outer_key, inner_dict in nested_dict.items():`<br>`for inner_key, value in inner_dict.items():`<br>`print(outer_key, inner_key, value)` |\n",
    "\n",
    "- **Nested Unpacking**: Handle dictionaries with nested structures by using nested unpacking. This involves iterating through outer and inner dictionary levels to extract values."
   ]
  },
  {
   "cell_type": "markdown",
   "id": "62372a2f-cc9c-46cc-aa31-d649e5a2ec99",
   "metadata": {},
   "source": [
    "#### Unpacking with `**` in Nested Structures"
   ]
  },
  {
   "cell_type": "markdown",
   "id": "3fc25e86-e9fa-4930-9861-2e8231a93930",
   "metadata": {},
   "source": [
    "Combining `**` with nested dictionaries for unpacking.\n",
    "\n",
    "| Concept            | Description                                     | Example                                               |\n",
    "|--------------------|-------------------------------------------------|-------------------------------------------------------|\n",
    "| **Unpacking with `**` in Nested Structures** | Unpack nested dictionaries into functions or other structures. | `def func(outer, **kwargs):`<br>`print(outer, kwargs)`<br>`nested_dict = {'outer': 1, 'inner': {'a': 2, 'b': 3}}`<br>`func(**nested_dict)` |\n",
    "\n",
    "- **Unpacking with `**` in Nested Structures**: Use `**` to unpack nested dictionaries, combining outer and inner dictionary elements. This allows you to pass nested dictionary items flexibly."
   ]
  },
  {
   "cell_type": "markdown",
   "id": "fc02ad1f-b724-42ff-a7fb-5457b32226c3",
   "metadata": {},
   "source": [
    "#### Using `**` with Functions"
   ]
  },
  {
   "cell_type": "markdown",
   "id": "df2a359a-0bf8-479e-9337-88022f80b02e",
   "metadata": {},
   "source": [
    "Passing dictionaries as keyword arguments to functions.\n",
    "\n",
    "| Concept            | Description                                     | Example                                              |\n",
    "|--------------------|-------------------------------------------------|------------------------------------------------------|\n",
    "| **Using `**` with Functions** | Use the `**` operator to pass a dictionary as keyword arguments. | `def func(a, b):`<br>`print(a, b)`<br>`d = {'a': 1, 'b': 2}`<br>`func(**d)` |\n",
    "\n",
    "- **Using `**` with Functions**: The `**` operator can be used to unpack a dictionary into function parameters, making it easy to pass multiple keyword arguments from a dictionary."
   ]
  },
  {
   "cell_type": "markdown",
   "id": "51272f85-5183-4413-a087-2c28b2157a66",
   "metadata": {},
   "source": [
    "#### Dictionary Comprehensions with Unpacking"
   ]
  },
  {
   "cell_type": "markdown",
   "id": "445384c2-3f49-4047-b6d2-a572bdf182c6",
   "metadata": {},
   "source": [
    "Using unpacking within dictionary comprehensions.\n",
    "\n",
    "| Concept            | Description                                     | Example                                                |\n",
    "|--------------------|-------------------------------------------------|--------------------------------------------------------|\n",
    "| **Dictionary Comprehensions with Unpacking** | Apply unpacking in comprehensions to create new dictionaries. | `d = {'a': 1, 'b': 2}`<br>`new_dict = {key: value * 2 for key, value in d.items()}` |\n",
    "\n",
    "- **Dictionary Comprehensions with Unpacking**: Incorporate unpacking in dictionary comprehensions to create new dictionaries based on existing ones. This allows for transforming and filtering dictionary elements in a concise manner."
   ]
  },
  {
   "cell_type": "markdown",
   "id": "d1693212-61a7-4998-9e5c-93f6d959a0dc",
   "metadata": {
    "jp-MarkdownHeadingCollapsed": true
   },
   "source": [
    "## Tuple"
   ]
  },
  {
   "cell_type": "markdown",
   "id": "d0ae709e-5b9e-49a1-976d-4640b97fcb85",
   "metadata": {
    "jp-MarkdownHeadingCollapsed": true
   },
   "source": [
    "### Creation"
   ]
  },
  {
   "cell_type": "markdown",
   "id": "7ed2bfda-2290-4c11-879c-122796c6ec83",
   "metadata": {
    "jp-MarkdownHeadingCollapsed": true
   },
   "source": [
    "#### Manual Creation"
   ]
  },
  {
   "cell_type": "markdown",
   "id": "7d134dae-ced8-48f3-93dc-a2de9b97cda6",
   "metadata": {},
   "source": [
    "- **Description**: Create tuples by directly specifying values enclosed in parentheses.\n",
    "- **Example**:\n",
    "  ```python\n",
    "  t1 = (1, 2, 3)\n",
    "  t2 = ('a', 'b', 'c')\n",
    "  ```"
   ]
  },
  {
   "cell_type": "markdown",
   "id": "b3a4a1f5-84f9-4101-b41f-49949f99b2f9",
   "metadata": {
    "jp-MarkdownHeadingCollapsed": true
   },
   "source": [
    "#### Creation by Comprehension"
   ]
  },
  {
   "cell_type": "markdown",
   "id": "c6c7d183-4be3-46dd-8a10-94847790a53a",
   "metadata": {},
   "source": [
    "- **Description**: Create tuples using generator expressions. This approach generates tuples from an iterable.\n",
    "- **Example**:\n",
    "  ```python\n",
    "  t = tuple(x**2 for x in range(5))  # (0, 1, 4, 9, 16)\n",
    "  ```"
   ]
  },
  {
   "cell_type": "markdown",
   "id": "89e087f7-5c8e-403d-8b1a-f55599e7a9a5",
   "metadata": {
    "jp-MarkdownHeadingCollapsed": true
   },
   "source": [
    "#### Creation by Copying"
   ]
  },
  {
   "cell_type": "markdown",
   "id": "1eda2fee-e244-435d-825a-ae99efe64f67",
   "metadata": {},
   "source": [
    "- **Description**: Create new tuples by copying existing tuples.\n",
    "- **Example**:\n",
    "  ```python\n",
    "  t1 = (1, 2, 3)\n",
    "  t2 = t1[:]  # (1, 2, 3)\n",
    "  ```"
   ]
  },
  {
   "cell_type": "markdown",
   "id": "b45cdc53-f4cd-4294-868f-d6c6eb6b7df1",
   "metadata": {
    "jp-MarkdownHeadingCollapsed": true
   },
   "source": [
    "#### Creation from Lists"
   ]
  },
  {
   "cell_type": "markdown",
   "id": "d302349e-46ea-4860-9f20-27b3d741b0f4",
   "metadata": {},
   "source": [
    "- **Description**: Convert a list to a tuple using the `tuple()` function.\n",
    "- **Example**:\n",
    "  ```python\n",
    "  lst = [1, 2, 3]\n",
    "  t = tuple(lst)  # (1, 2, 3)\n",
    "  ```"
   ]
  },
  {
   "cell_type": "markdown",
   "id": "c335f707-6249-40a2-b703-d4383e898252",
   "metadata": {
    "jp-MarkdownHeadingCollapsed": true
   },
   "source": [
    "#### Creation from Other Iterable Types"
   ]
  },
  {
   "cell_type": "markdown",
   "id": "2b4ee2a4-c57f-4dbe-875a-b282deb8b169",
   "metadata": {},
   "source": [
    "- **Description**: Convert other iterable types, such as sets or strings, into tuples using the `tuple()` function.\n",
    "- **Example**:\n",
    "  ```python\n",
    "  s = {1, 2, 3}\n",
    "  t = tuple(s)  # (1, 2, 3) (order may vary)\n",
    "\n",
    "  st = \"hello\"\n",
    "  t = tuple(st)  # ('h', 'e', 'l', 'l', 'o')\n",
    "  ```"
   ]
  },
  {
   "cell_type": "markdown",
   "id": "62be2cf3-d7c8-4ea4-af80-4481b77aa4de",
   "metadata": {
    "jp-MarkdownHeadingCollapsed": true
   },
   "source": [
    "#### Tuple vs. List vs. Set"
   ]
  },
  {
   "cell_type": "markdown",
   "id": "65f4431c-b519-4c02-b735-c82da0c48532",
   "metadata": {},
   "source": [
    "- **Description**: \n",
    "  - **Tuple**: Ordered, immutable, and allows duplicate elements. Created with parentheses `()`.\n",
    "  - **List**: Ordered, mutable, and allows duplicate elements. Created with square brackets `[]`.\n",
    "  - **Set**: Unordered, mutable, and does not allow duplicate elements. Created with curly braces `{}` or `set()` function.\n",
    "\n",
    "- **Use Cases**:\n",
    "  - **Tuples**: Use when you need an immutable sequence of items. Useful for fixed collections of items.\n",
    "  - **Lists**: Use when you need a mutable sequence of items. Ideal for collections that may change.\n",
    "  - **Sets**: Use when you need a collection of unique items with no specific order."
   ]
  },
  {
   "cell_type": "markdown",
   "id": "e89b1e70-95b2-483d-8767-52201bb3a502",
   "metadata": {
    "jp-MarkdownHeadingCollapsed": true
   },
   "source": [
    "### Accessing Elements"
   ]
  },
  {
   "cell_type": "markdown",
   "id": "1b92a8b9-5956-4b84-a282-b96f603c9444",
   "metadata": {
    "jp-MarkdownHeadingCollapsed": true
   },
   "source": [
    "#### Indexing"
   ]
  },
  {
   "cell_type": "markdown",
   "id": "29fa6457-3f58-479b-8480-008392f97204",
   "metadata": {},
   "source": [
    "- **Description**: Access elements of a tuple using their index. Indexing starts from 0.\n",
    "- **Example**:\n",
    "  ```python\n",
    "  t = (10, 20, 30, 40)\n",
    "  first_element = t[0]  # 10\n",
    "  second_element = t[1]  # 20\n",
    "  ```"
   ]
  },
  {
   "cell_type": "markdown",
   "id": "0309e368-6af3-4665-8ae0-91559f1deb56",
   "metadata": {
    "jp-MarkdownHeadingCollapsed": true
   },
   "source": [
    "#### Basic Slicing"
   ]
  },
  {
   "cell_type": "markdown",
   "id": "543ee9e7-51c8-4551-9025-8e3931c34a45",
   "metadata": {},
   "source": [
    "- **Description**: Retrieve a subset of the tuple using slicing. Basic slicing is done with the syntax `tuple[start:stop]`.\n",
    "- **Example**:\n",
    "  ```python\n",
    "  t = (10, 20, 30, 40, 50)\n",
    "  subset = t[1:4]  # (20, 30, 40)\n",
    "  ```"
   ]
  },
  {
   "cell_type": "markdown",
   "id": "7183d1bb-e813-4901-94eb-8241805f87d1",
   "metadata": {
    "jp-MarkdownHeadingCollapsed": true
   },
   "source": [
    "#### Extended Slicing with Step"
   ]
  },
  {
   "cell_type": "markdown",
   "id": "97d4599d-02ae-4616-8e2c-67f2fca7f230",
   "metadata": {},
   "source": [
    "- **Description**: Retrieve a subset with a step value using slicing. The syntax is `tuple[start:stop:step]`.\n",
    "- **Example**:\n",
    "  ```python\n",
    "  t = (10, 20, 30, 40, 50, 60)\n",
    "  subset = t[::2]  # (10, 30, 50)\n",
    "  ```"
   ]
  },
  {
   "cell_type": "markdown",
   "id": "07fc5053-004b-4e18-9b4a-f23f6bf247e4",
   "metadata": {
    "jp-MarkdownHeadingCollapsed": true
   },
   "source": [
    "#### Reverse Extended Slicing with Step"
   ]
  },
  {
   "cell_type": "markdown",
   "id": "4152f687-dbdc-47bb-b255-b3ed468a9296",
   "metadata": {},
   "source": [
    "- **Description**: Slice the tuple with a negative step value to reverse the order of elements or select elements in reverse.\n",
    "- **Example**:\n",
    "  ```python\n",
    "  t = (10, 20, 30, 40, 50)\n",
    "  reversed_t = t[::-1]  # (50, 40, 30, 20, 10)\n",
    "  ```"
   ]
  },
  {
   "cell_type": "markdown",
   "id": "c88197a5-2529-40a7-a1d7-61309df29ee9",
   "metadata": {
    "jp-MarkdownHeadingCollapsed": true
   },
   "source": [
    "#### Membership Testing"
   ]
  },
  {
   "cell_type": "markdown",
   "id": "794505c6-c4e7-4da9-a24b-d9b37c746680",
   "metadata": {},
   "source": [
    "- **Description**: Check if an element exists in the tuple using the `in` operator.\n",
    "- **Example**:\n",
    "  ```python\n",
    "  t = (10, 20, 30, 40)\n",
    "  exists = 20 in t  # True\n",
    "  not_exists = 25 in t  # False\n",
    "  ```"
   ]
  },
  {
   "cell_type": "markdown",
   "id": "d1bbfa5e-3b68-464f-8bea-2159bd3c2d48",
   "metadata": {},
   "source": [
    "### Modifications"
   ]
  },
  {
   "cell_type": "markdown",
   "id": "52763288-7f41-44bd-9c14-d8d891e91079",
   "metadata": {
    "jp-MarkdownHeadingCollapsed": true
   },
   "source": [
    "#### Adding or Updating Elements"
   ]
  },
  {
   "cell_type": "markdown",
   "id": "0a0dca3e-3181-4e6d-a13a-233c838c000f",
   "metadata": {},
   "source": [
    "- **Description**: Tuples are immutable, so you cannot directly add or update elements within a tuple. Instead, you create a new tuple with the desired modifications.\n",
    "- **Example**:\n",
    "  ```python\n",
    "  t = (1, 2, 3)\n",
    "  # Adding or updating requires creating a new tuple\n",
    "  t_new = t + (4,)  # (1, 2, 3, 4)\n",
    "  ```"
   ]
  },
  {
   "cell_type": "markdown",
   "id": "85e38901-8835-4f52-9215-6b38e8db7ba9",
   "metadata": {
    "jp-MarkdownHeadingCollapsed": true
   },
   "source": [
    "#### Removing Elements"
   ]
  },
  {
   "cell_type": "markdown",
   "id": "71b703b2-93dc-4c57-bb70-f7e9fc583525",
   "metadata": {},
   "source": [
    "- **Description**: You cannot remove elements directly from a tuple. To \"remove\" elements, you create a new tuple that excludes the unwanted elements.\n",
    "- **Example**:\n",
    "  ```python\n",
    "  t = (1, 2, 3, 4)\n",
    "  t_new = t[:2] + t[3:]  # (1, 2, 4)\n",
    "  ```"
   ]
  },
  {
   "cell_type": "markdown",
   "id": "828531a0-2a30-491a-8923-1a864c65c3e4",
   "metadata": {
    "jp-MarkdownHeadingCollapsed": true
   },
   "source": [
    "#### Modifying Values"
   ]
  },
  {
   "cell_type": "markdown",
   "id": "7d044b1a-ddb1-43ed-85a0-c1d925f2af1b",
   "metadata": {},
   "source": [
    "- **Description**: Since tuples are immutable, you cannot modify existing values. To change a value, you need to create a new tuple with the desired values.\n",
    "- **Example**:\n",
    "  ```python\n",
    "  t = (1, 2, 3)\n",
    "  t_new = (t[0], 10, t[2])  # (1, 10, 3)\n",
    "  ```"
   ]
  },
  {
   "cell_type": "markdown",
   "id": "fb852057-6ef3-40ac-b9f3-757bf5ec640b",
   "metadata": {
    "jp-MarkdownHeadingCollapsed": true
   },
   "source": [
    "#### Tuple Operations"
   ]
  },
  {
   "cell_type": "markdown",
   "id": "55e7b742-ad4f-4b26-a42d-b68bdf2955a3",
   "metadata": {},
   "source": [
    "- **Description**: Operations such as concatenation and repetition can be used to create new tuples. These operations do not alter the original tuple but instead produce new tuples.\n",
    "- **Concatenation**: Combines tuples.\n",
    "  - **Example**:\n",
    "    ```python\n",
    "    t1 = (1, 2)\n",
    "    t2 = (3, 4)\n",
    "    t3 = t1 + t2  # (1, 2, 3, 4)\n",
    "    ```\n",
    "- **Repetition**: Repeats the tuple a specified number of times.\n",
    "  - **Example**:\n",
    "    ```python\n",
    "    t = (1, 2)\n",
    "    t_repeated = t * 3  # (1, 2, 1, 2, 1, 2)\n",
    "    ```"
   ]
  },
  {
   "cell_type": "markdown",
   "id": "001b70b3-1e73-4b40-9f0b-455390186b4d",
   "metadata": {
    "jp-MarkdownHeadingCollapsed": true
   },
   "source": [
    "### Functions in format `function(tuple)`"
   ]
  },
  {
   "cell_type": "markdown",
   "id": "2705d080-151e-42bb-9ffc-8b2b25a336a0",
   "metadata": {
    "jp-MarkdownHeadingCollapsed": true
   },
   "source": [
    "#### Tuple Construction and Conversion"
   ]
  },
  {
   "cell_type": "markdown",
   "id": "a0059a1a-d3dd-4d92-bbc9-6f0f6938bfcf",
   "metadata": {},
   "source": [
    "- **`tuple()`**: Converts other iterable types (like lists, sets, or strings) into a tuple.\n",
    "  - **Example**:\n",
    "    ```python\n",
    "    lst = [1, 2, 3]\n",
    "    t = tuple(lst)  # (1, 2, 3)\n",
    "    ```\n",
    "- **`list()`**: Converts a tuple into a list.\n",
    "  - **Example**:\n",
    "    ```python\n",
    "    t = (1, 2, 3)\n",
    "    lst = list(t)  # [1, 2, 3]\n",
    "    ```\n",
    "- **`set()`**: Converts a tuple into a set, which removes any duplicate elements.\n",
    "  - **Example**:\n",
    "    ```python\n",
    "    t = (1, 2, 2, 3)\n",
    "    s = set(t)  # {1, 2, 3}\n",
    "    ```"
   ]
  },
  {
   "cell_type": "markdown",
   "id": "a292e291-df17-4147-886b-c84e3e0c004c",
   "metadata": {
    "jp-MarkdownHeadingCollapsed": true
   },
   "source": [
    "#### Tuple Size and Summarization"
   ]
  },
  {
   "cell_type": "markdown",
   "id": "3c254b6c-2677-44ba-aef3-81d6468a0791",
   "metadata": {},
   "source": [
    "- **`len()`**: Returns the number of elements in the tuple.\n",
    "  - **Example**:\n",
    "    ```python\n",
    "    t = (1, 2, 3)\n",
    "    size = len(t)  # 3\n",
    "    ```\n",
    "- **`count()`**: Returns the number of times a specified value occurs in the tuple.\n",
    "  - **Example**:\n",
    "    ```python\n",
    "    t = (1, 2, 2, 3)\n",
    "    count_of_2 = t.count(2)  # 2\n",
    "    ```\n",
    "- **`index()`**: Returns the index of the first occurrence of a specified value.\n",
    "  - **Example**:\n",
    "    ```python\n",
    "    t = (1, 2, 3)\n",
    "    index_of_2 = t.index(2)  # 1\n",
    "    ```"
   ]
  },
  {
   "cell_type": "markdown",
   "id": "af8a3aa9-aaaa-49f6-9c1e-c6aa106c6633",
   "metadata": {
    "jp-MarkdownHeadingCollapsed": true
   },
   "source": [
    "#### Sorting and Reordering"
   ]
  },
  {
   "cell_type": "markdown",
   "id": "d087955b-7a40-4a19-b4a9-2da59efc88bd",
   "metadata": {},
   "source": [
    "- **`sorted()`**: Returns a new list containing all items from the tuple in ascending order. Does not modify the original tuple.\n",
    "  - **Example**:\n",
    "    ```python\n",
    "    t = (3, 1, 2)\n",
    "    sorted_t = sorted(t)  # [1, 2, 3]\n",
    "    ```"
   ]
  },
  {
   "cell_type": "markdown",
   "id": "fc24ebe9-549b-424c-9dc6-356148aaaa94",
   "metadata": {
    "jp-MarkdownHeadingCollapsed": true
   },
   "source": [
    "#### Boolean and Filtering Operations"
   ]
  },
  {
   "cell_type": "markdown",
   "id": "effb3165-2306-4074-8500-00e28546c472",
   "metadata": {},
   "source": [
    "- **`any()`**: Returns `True` if at least one element in the tuple is true. Otherwise, returns `False`.\n",
    "  - **Example**:\n",
    "    ```python\n",
    "    t = (0, 1, 2)\n",
    "    result = any(t)  # True\n",
    "    ```\n",
    "- **`all()`**: Returns `True` if all elements in the tuple are true. Otherwise, returns `False`.\n",
    "  - **Example**:\n",
    "    ```python\n",
    "    t = (1, 2, 3)\n",
    "    result = all(t)  # True\n",
    "    ```\n",
    "- **`filter()`**: Filters elements of the tuple based on a function. Returns an iterator which can be converted to a tuple.\n",
    "  - **Example**:\n",
    "    ```python\n",
    "    t = (1, 2, 3, 4)\n",
    "    filtered = tuple(filter(lambda x: x > 2, t))  # (3, 4)\n",
    "    ```"
   ]
  },
  {
   "cell_type": "markdown",
   "id": "45a9d432-d7d7-4bdc-a60d-3932a89a4a55",
   "metadata": {
    "jp-MarkdownHeadingCollapsed": true
   },
   "source": [
    "#### Mapping and Aggregation"
   ]
  },
  {
   "cell_type": "markdown",
   "id": "0a144372-4c62-458f-8c41-ac7e7ae8c9a5",
   "metadata": {},
   "source": [
    "- **`map()`**: Applies a function to each item of the tuple and returns an iterator which can be converted to a tuple.\n",
    "  - **Example**:\n",
    "    ```python\n",
    "    t = (1, 2, 3)\n",
    "    mapped = tuple(map(lambda x: x * 2, t))  # (2, 4, 6)\n",
    "    ```\n",
    "- **`reduce()`**: (Requires importing from `functools`) Applies a function cumulatively to the items of the tuple, reducing it to a single value.\n",
    "  - **Example**:\n",
    "    ```python\n",
    "    from functools import reduce\n",
    "    t = (1, 2, 3)\n",
    "    reduced = reduce(lambda x, y: x + y, t)  # 6\n",
    "    ```"
   ]
  },
  {
   "cell_type": "markdown",
   "id": "ef8ff8d6-8ece-42eb-94d4-1dd22d14594e",
   "metadata": {
    "jp-MarkdownHeadingCollapsed": true
   },
   "source": [
    "#### Combining Iterables"
   ]
  },
  {
   "cell_type": "markdown",
   "id": "e6e02d3c-f3ee-4899-8bc9-9650d897273c",
   "metadata": {},
   "source": [
    "- **`zip()`**: Combines multiple iterables (including tuples) into tuples of corresponding elements.\n",
    "  - **Example**:\n",
    "    ```python\n",
    "    t1 = (1, 2, 3)\n",
    "    t2 = (4, 5, 6)\n",
    "    combined = tuple(zip(t1, t2))  # ((1, 4), (2, 5), (3, 6))\n",
    "    ```\n",
    "- **`chain()`**: (Requires importing from `itertools`) Combines multiple iterables into a single iterable.\n",
    "  - **Example**:\n",
    "    ```python\n",
    "    from itertools import chain\n",
    "    t1 = (1, 2)\n",
    "    t2 = (3, 4)\n",
    "    combined = tuple(chain(t1, t2))  # (1, 2, 3, 4)\n",
    "    ```"
   ]
  },
  {
   "cell_type": "markdown",
   "id": "aa6c6387-72b6-4c5f-b455-d71939fdd6dc",
   "metadata": {
    "jp-MarkdownHeadingCollapsed": true
   },
   "source": [
    "#### Memory Considerations"
   ]
  },
  {
   "cell_type": "markdown",
   "id": "d0728099-e358-4394-94ef-46b659cbb92b",
   "metadata": {},
   "source": [
    "- **Dynamic Size**: Tuples are fixed-size once created, which can be more memory-efficient compared to lists that are dynamic in size.\n",
    "- **Optimization Tips**: Use tuples for fixed collections of items where immutability is beneficial. For large datasets, consider memory-efficient data structures."
   ]
  },
  {
   "cell_type": "markdown",
   "id": "01b452e4-5ede-4e1f-8822-1779f75210f7",
   "metadata": {
    "jp-MarkdownHeadingCollapsed": true
   },
   "source": [
    "### Iteration"
   ]
  },
  {
   "cell_type": "markdown",
   "id": "e769d498-0c94-4856-afbe-e8596da17d56",
   "metadata": {
    "jp-MarkdownHeadingCollapsed": true
   },
   "source": [
    "#### Iterating Over Elements"
   ]
  },
  {
   "cell_type": "markdown",
   "id": "3a00c57f-c27e-460e-9f40-dd73e35ae53e",
   "metadata": {},
   "source": [
    "- **Description**: Use a `for` loop to iterate over each element in the tuple.\n",
    "- **Example**:\n",
    "  ```python\n",
    "  t = (1, 2, 3)\n",
    "  for item in t:\n",
    "      print(item)  # Prints 1, 2, 3\n",
    "  ```"
   ]
  },
  {
   "cell_type": "markdown",
   "id": "a70c2462-18a5-4013-8147-39850092ef68",
   "metadata": {
    "jp-MarkdownHeadingCollapsed": true
   },
   "source": [
    "#### Iterating with Indexes"
   ]
  },
  {
   "cell_type": "markdown",
   "id": "0ec0d6a3-344e-4a6e-98a1-ecd7710926df",
   "metadata": {},
   "source": [
    "- **Description**: Use `range()` in combination with `len()` to iterate over the indices of the tuple.\n",
    "- **Example**:\n",
    "  ```python\n",
    "  t = (10, 20, 30)\n",
    "  for i in range(len(t)):\n",
    "      print(t[i])  # Prints 10, 20, 30\n",
    "  ```"
   ]
  },
  {
   "cell_type": "markdown",
   "id": "df188471-7791-46ec-97fd-da14fe1221ce",
   "metadata": {
    "jp-MarkdownHeadingCollapsed": true
   },
   "source": [
    "#### Using `enumerate()`"
   ]
  },
  {
   "cell_type": "markdown",
   "id": "b4546708-31ef-4c6c-833c-2061741775e9",
   "metadata": {},
   "source": [
    "- **Description**: Use `enumerate()` to iterate over both elements and their indices.\n",
    "- **Example**:\n",
    "  ```python\n",
    "  t = (10, 20, 30)\n",
    "  for index, value in enumerate(t):\n",
    "      print(index, value)  # Prints (0, 10), (1, 20), (2, 30)\n",
    "  ```"
   ]
  },
  {
   "cell_type": "markdown",
   "id": "ba8053f6-e344-4053-bc0e-805d033d245a",
   "metadata": {
    "jp-MarkdownHeadingCollapsed": true
   },
   "source": [
    "#### Tuple Comprehensions"
   ]
  },
  {
   "cell_type": "markdown",
   "id": "1cc623b4-ea61-481b-95ac-dbf345829e50",
   "metadata": {},
   "source": [
    "- **Description**: Use a comprehension to create a new tuple by applying an expression to each element of an existing tuple.\n",
    "- **Example**:\n",
    "  ```python\n",
    "  t = (1, 2, 3)\n",
    "  t_squared = tuple(x ** 2 for x in t)  # (1, 4, 9)\n",
    "  ```"
   ]
  },
  {
   "cell_type": "markdown",
   "id": "88a1b6d1-3238-4867-ad7f-85c86ad75bb0",
   "metadata": {
    "jp-MarkdownHeadingCollapsed": true
   },
   "source": [
    "#### Iterating Over Nested Tuples"
   ]
  },
  {
   "cell_type": "markdown",
   "id": "d63c1d25-d53f-4ea4-81e7-6289a5e80403",
   "metadata": {},
   "source": [
    "- **Description**: Use nested loops to iterate over elements in nested tuples.\n",
    "- **Example**:\n",
    "  ```python\n",
    "  t = ((1, 2), (3, 4))\n",
    "  for sub_tuple in t:\n",
    "      for item in sub_tuple:\n",
    "          print(item)  # Prints 1, 2, 3, 4\n",
    "  ```"
   ]
  },
  {
   "cell_type": "markdown",
   "id": "0a46d3d7-d22b-4a99-93c4-1c8720a51bab",
   "metadata": {
    "jp-MarkdownHeadingCollapsed": true
   },
   "source": [
    "### Unpacking Elements"
   ]
  },
  {
   "cell_type": "markdown",
   "id": "dda8e5b5-c1f0-48ed-921f-27fcf4a29e88",
   "metadata": {
    "jp-MarkdownHeadingCollapsed": true
   },
   "source": [
    "#### Basic Unpacking"
   ]
  },
  {
   "cell_type": "markdown",
   "id": "5ce07dc7-ad3e-411b-8152-6270c92bbb2c",
   "metadata": {},
   "source": [
    "- **Description**: Extracts individual elements from a tuple and assigns them to separate variables.\n",
    "- **Example**:\n",
    "  ```python\n",
    "  t = (1, 2, 3)\n",
    "  a, b, c = t  # a = 1, b = 2, c = 3\n",
    "  ```"
   ]
  },
  {
   "cell_type": "markdown",
   "id": "93973c38-0a49-4388-9075-8860728cc81c",
   "metadata": {
    "jp-MarkdownHeadingCollapsed": true
   },
   "source": [
    "#### Unpacking with `*` Operator"
   ]
  },
  {
   "cell_type": "markdown",
   "id": "707a2f98-c970-474a-82d7-1ed1b303455e",
   "metadata": {},
   "source": [
    "- **Description**: Uses the `*` operator to capture multiple elements from a tuple into a list-like variable. This is known as extended unpacking.\n",
    "- **Example**:\n",
    "  ```python\n",
    "  t = (1, 2, 3, 4, 5)\n",
    "  a, *b, c = t  # a = 1, b = [2, 3, 4], c = 5\n",
    "  ```"
   ]
  },
  {
   "cell_type": "markdown",
   "id": "dd11929e-9c8e-458c-8d70-355ac117c890",
   "metadata": {
    "jp-MarkdownHeadingCollapsed": true
   },
   "source": [
    "#### Nested Unpacking"
   ]
  },
  {
   "cell_type": "markdown",
   "id": "2915960c-227c-42de-b7b3-a1099732824b",
   "metadata": {},
   "source": [
    "- **Description**: Unpacks elements from tuples that are nested within other tuples.\n",
    "- **Example**:\n",
    "  ```python\n",
    "  t = ((1, 2), (3, 4))\n",
    "  (a, b), (c, d) = t  # a = 1, b = 2, c = 3, d = 4\n",
    "  ```"
   ]
  },
  {
   "cell_type": "markdown",
   "id": "06fa2681-f1f2-4549-b442-1e54d4cbd289",
   "metadata": {
    "jp-MarkdownHeadingCollapsed": true
   },
   "source": [
    "#### Unpacking with `*` in Nested Structures"
   ]
  },
  {
   "cell_type": "markdown",
   "id": "99c9e497-2e49-412d-9cc0-07302f08b580",
   "metadata": {},
   "source": [
    "- **Description**: Uses the `*` operator within nested tuples to capture multiple elements.\n",
    "- **Example**:\n",
    "  ```python\n",
    "  t = ((1, 2, 3), (4, 5, 6))\n",
    "  (a, *b), (c, *d) = t  # a = 1, b = [2, 3], c = 4, d = [5, 6]\n",
    "  ```"
   ]
  },
  {
   "cell_type": "markdown",
   "id": "bf8e0d13-d065-4cb4-9bab-c72841992515",
   "metadata": {
    "jp-MarkdownHeadingCollapsed": true
   },
   "source": [
    "#### Using `*` with Functions"
   ]
  },
  {
   "cell_type": "markdown",
   "id": "16cc790d-e2d9-4da5-97ea-621014fea926",
   "metadata": {},
   "source": [
    "- **Description**: Passes elements of a tuple as keyword arguments to functions using the `**` operator for unpacking into dictionary arguments.\n",
    "- **Example**:\n",
    "  ```python\n",
    "  def func(a, b, c):\n",
    "      print(a, b, c)\n",
    "\n",
    "  t = (1, 2, 3)\n",
    "  func(*t)  # Outputs: 1 2 3\n",
    "  ```"
   ]
  },
  {
   "cell_type": "markdown",
   "id": "edd5c376-63f7-42e6-8a7a-8d71b1e6a9ad",
   "metadata": {
    "jp-MarkdownHeadingCollapsed": true
   },
   "source": [
    "#### Dictionary Comprehensions with Unpacking"
   ]
  },
  {
   "cell_type": "markdown",
   "id": "f273972d-9d41-46f5-bded-4693c2b72939",
   "metadata": {},
   "source": [
    "- **Description**: Creates dictionaries using comprehensions with unpacked tuples.\n",
    "- **Example**:\n",
    "  ```python\n",
    "  t = (('a', 1), ('b', 2), ('c', 3))\n",
    "  d = {k: v for k, v in t}  # {'a': 1, 'b': 2, 'c': 3}\n",
    "  ```"
   ]
  },
  {
   "cell_type": "markdown",
   "id": "ea342452-611d-4779-b1e1-1aeb6301c38a",
   "metadata": {
    "jp-MarkdownHeadingCollapsed": true
   },
   "source": [
    "## Set"
   ]
  },
  {
   "cell_type": "markdown",
   "id": "74517441-1a03-4c96-b316-00a655a0dbab",
   "metadata": {
    "jp-MarkdownHeadingCollapsed": true
   },
   "source": [
    "### Creation"
   ]
  },
  {
   "cell_type": "markdown",
   "id": "a9461fad-ff86-4850-bb6e-038fbb80343f",
   "metadata": {
    "jp-MarkdownHeadingCollapsed": true
   },
   "source": [
    "#### Manual Creation"
   ]
  },
  {
   "cell_type": "markdown",
   "id": "9c89826d-c15d-4e35-ab59-ff9132d11218",
   "metadata": {},
   "source": [
    "- **Description**: Creating sets by specifying elements directly within curly braces `{}`. Note that sets are unordered and do not allow duplicate elements.\n",
    "- **Example**:\n",
    "  ```python\n",
    "  # Creating a set with manual elements\n",
    "  s = {1, 2, 3, 4}\n",
    "  ```"
   ]
  },
  {
   "cell_type": "markdown",
   "id": "78e6ef57-a657-4361-8898-0049db013374",
   "metadata": {
    "jp-MarkdownHeadingCollapsed": true
   },
   "source": [
    "#### Creation from Lists"
   ]
  },
  {
   "cell_type": "markdown",
   "id": "4013719d-6c6f-4cff-8a8a-2d1da87e7c8f",
   "metadata": {},
   "source": [
    "- **Description**: Converting a list (or any iterable) to a set using the `set()` constructor. This removes any duplicate elements and creates a set.\n",
    "- **Example**:\n",
    "  ```python\n",
    "  # Creating a set from a list\n",
    "  lst = [1, 2, 2, 3, 4]\n",
    "  s = set(lst)  # {1, 2, 3, 4}\n",
    "  ```"
   ]
  },
  {
   "cell_type": "markdown",
   "id": "8ed528ad-f5ab-4149-8f18-fbb31762f6ea",
   "metadata": {
    "jp-MarkdownHeadingCollapsed": true
   },
   "source": [
    "#### Creation from Comprehension"
   ]
  },
  {
   "cell_type": "markdown",
   "id": "65392cbf-c8ee-49b2-9d6e-b9568364c6f3",
   "metadata": {},
   "source": [
    "- **Description**: Using set comprehensions to create sets from iterables. This allows for more complex constructions and filtering of elements.\n",
    "- **Example**:\n",
    "  ```python\n",
    "  # Creating a set using a set comprehension\n",
    "  s = {x * 2 for x in range(5)}  # {0, 2, 4, 6, 8}\n",
    "  ```"
   ]
  },
  {
   "cell_type": "markdown",
   "id": "ed45f664-9715-4807-aad5-d5492cde686f",
   "metadata": {
    "jp-MarkdownHeadingCollapsed": true
   },
   "source": [
    "#### Empty Set Creation"
   ]
  },
  {
   "cell_type": "markdown",
   "id": "ddedba89-563c-4758-94cd-c84343d92249",
   "metadata": {},
   "source": [
    "- **Description**: Creating an empty set using `set()`. Using `{}` creates an empty dictionary, not a set.\n",
    "- **Example**:\n",
    "  ```python\n",
    "  # Creating an empty set\n",
    "  empty_set = set()  # set()\n",
    "  ```"
   ]
  },
  {
   "cell_type": "markdown",
   "id": "ca011b52-cafc-4f41-b8f6-de099d715813",
   "metadata": {
    "jp-MarkdownHeadingCollapsed": true
   },
   "source": [
    "### Accessing Elements"
   ]
  },
  {
   "cell_type": "markdown",
   "id": "ba9d04e5-63c9-493b-a8b5-4e8eaa993494",
   "metadata": {
    "jp-MarkdownHeadingCollapsed": true
   },
   "source": [
    "#### Membership Testing"
   ]
  },
  {
   "cell_type": "markdown",
   "id": "eafce11c-17a6-49d2-b919-d5b03731836b",
   "metadata": {},
   "source": [
    "- **Description**: Checking if an element is present in a set using the `in` or `not in` operators. Sets provide efficient membership testing.\n",
    "- **Example**:\n",
    "  ```python\n",
    "  s = {1, 2, 3, 4}\n",
    "  is_present = 3 in s      # True\n",
    "  is_not_present = 5 not in s  # True\n",
    "  ```"
   ]
  },
  {
   "cell_type": "markdown",
   "id": "ad48ff0c-8e18-4d2f-8a11-f86715ed2e7d",
   "metadata": {
    "jp-MarkdownHeadingCollapsed": true
   },
   "source": [
    "#### Accessing Elements"
   ]
  },
  {
   "cell_type": "markdown",
   "id": "cf230bfb-e758-43e8-9ac7-574a4662b669",
   "metadata": {},
   "source": [
    "- **Description**: Sets are unordered collections, meaning you cannot access individual elements by index. You must use iteration to access elements.\n",
    "- **Example**:\n",
    "  ```python\n",
    "  s = {1, 2, 3, 4}\n",
    "  # Direct indexing is not possible with sets:\n",
    "  # element = s[0]  # Raises TypeError\n",
    "  ```"
   ]
  },
  {
   "cell_type": "markdown",
   "id": "305353a6-19a5-44ac-b19d-a525b5e60e09",
   "metadata": {
    "jp-MarkdownHeadingCollapsed": true
   },
   "source": [
    "### Modifications"
   ]
  },
  {
   "cell_type": "markdown",
   "id": "d57ec85f-caae-41ef-9d6e-4c29901d94cd",
   "metadata": {
    "jp-MarkdownHeadingCollapsed": true
   },
   "source": [
    "#### Adding Elements"
   ]
  },
  {
   "cell_type": "markdown",
   "id": "ddde0429-a95d-4e39-bec4-1657491df458",
   "metadata": {},
   "source": [
    "- **Description**: Add a new element to a set using the `add()` method. Sets automatically handle duplicates, so adding an existing element has no effect.\n",
    "- **Example**:\n",
    "  ```python\n",
    "  s = {1, 2, 3}\n",
    "  s.add(4)  # s becomes {1, 2, 3, 4}\n",
    "  s.add(2)  # s remains {1, 2, 3, 4}\n",
    "  ```"
   ]
  },
  {
   "cell_type": "markdown",
   "id": "9414ee71-3907-448f-b90a-5767aa89519c",
   "metadata": {
    "jp-MarkdownHeadingCollapsed": true
   },
   "source": [
    "#### Removing Elements"
   ]
  },
  {
   "cell_type": "markdown",
   "id": "2b67bc93-66e6-4041-8e11-364b7c575bf3",
   "metadata": {},
   "source": [
    "- **Description**: Remove elements using the `remove()` or `discard()` methods. The `remove()` method raises a `KeyError` if the element is not found, whereas `discard()` does not raise an error.\n",
    "- **Example**:\n",
    "  ```python\n",
    "  s = {1, 2, 3, 4}\n",
    "  s.remove(3)  # s becomes {1, 2, 4}\n",
    "  s.discard(4)  # s becomes {1, 2}\n",
    "  s.discard(5)  # No error, s remains {1, 2}\n",
    "  ```"
   ]
  },
  {
   "cell_type": "markdown",
   "id": "ecfcec3d-dd8c-4f93-b04e-6457386a097e",
   "metadata": {
    "jp-MarkdownHeadingCollapsed": true
   },
   "source": [
    "#### Clearing Set"
   ]
  },
  {
   "cell_type": "markdown",
   "id": "e73b1c85-1e6b-43ca-8db3-a847341f2117",
   "metadata": {},
   "source": [
    "- **Description**: Remove all elements from the set using the `clear()` method, leaving an empty set.\n",
    "- **Example**:\n",
    "  ```python\n",
    "  s = {1, 2, 3}\n",
    "  s.clear()  # s becomes set()\n",
    "  ```"
   ]
  },
  {
   "cell_type": "markdown",
   "id": "ec85ef9c-a82c-47d2-bb12-3895a3a6052b",
   "metadata": {
    "jp-MarkdownHeadingCollapsed": true
   },
   "source": [
    "#### Updating Sets"
   ]
  },
  {
   "cell_type": "markdown",
   "id": "24451206-5c31-4077-b22b-1cc7872869a9",
   "metadata": {},
   "source": [
    "- **Description**: Add multiple elements to a set from another set or iterable using the `update()` method. This method also handles duplicates.\n",
    "- **Example**:\n",
    "  ```python\n",
    "  s = {1, 2, 3}\n",
    "  s.update([3, 4, 5])  # s becomes {1, 2, 3, 4, 5}\n",
    "  ```"
   ]
  },
  {
   "cell_type": "markdown",
   "id": "f1b8ffd6-2a60-4090-bd0f-57ca5c0a0737",
   "metadata": {
    "jp-MarkdownHeadingCollapsed": true
   },
   "source": [
    "#### Set Operations"
   ]
  },
  {
   "cell_type": "markdown",
   "id": "3bb62f87-f151-4206-98c1-6ad1855531d5",
   "metadata": {},
   "source": [
    "- **Description**: Perform operations like union, intersection, difference, and symmetric difference to combine or compare sets.\n",
    "  - **Union**: Combine elements from multiple sets using `union()` or `|`.\n",
    "  - **Intersection**: Find common elements using `intersection()` or `&`.\n",
    "  - **Difference**: Find elements in one set but not another using `difference()` or `-`.\n",
    "  - **Symmetric Difference**: Find elements in either set but not in both using `symmetric_difference()` or `^`.\n",
    "- **Example**:\n",
    "  ```python\n",
    "  a = {1, 2, 3}\n",
    "  b = {3, 4, 5}\n",
    "  union_set = a.union(b)  # {1, 2, 3, 4, 5}\n",
    "  intersection_set = a.intersection(b)  # {3}\n",
    "  difference_set = a.difference(b)  # {1, 2}\n",
    "  symmetric_difference_set = a.symmetric_difference(b)  # {1, 2, 4, 5}\n",
    "  ```"
   ]
  },
  {
   "cell_type": "markdown",
   "id": "203dda30-6ebf-4231-9426-813aa7d85175",
   "metadata": {
    "jp-MarkdownHeadingCollapsed": true
   },
   "source": [
    "### Functions in format `function(set)`"
   ]
  },
  {
   "cell_type": "markdown",
   "id": "d8d69e87-62b6-464e-9601-4892f95b71d3",
   "metadata": {
    "jp-MarkdownHeadingCollapsed": true
   },
   "source": [
    "#### Set Construction and Conversion"
   ]
  },
  {
   "cell_type": "markdown",
   "id": "75f78925-ceac-4d3a-a762-00c8be841fa2",
   "metadata": {},
   "source": [
    "- **`set()`**: Creates a new set from an iterable or from scratch (empty set).\n",
    "  - **Description**: Converts an iterable to a set, removing duplicates.\n",
    "  - **Example**:\n",
    "    ```python\n",
    "    lst = [1, 2, 2, 3]\n",
    "    s = set(lst)  # {1, 2, 3}\n",
    "    ```\n",
    "- **`frozenset()`**: Creates an immutable version of a set.\n",
    "  - **Description**: Similar to a set, but immutable; cannot be modified after creation.\n",
    "  - **Example**:\n",
    "    ```python\n",
    "    s = frozenset([1, 2, 3])  # frozenset({1, 2, 3})\n",
    "    ```"
   ]
  },
  {
   "cell_type": "markdown",
   "id": "5dbb051e-eb69-4fb6-b47b-118d97adb839",
   "metadata": {
    "jp-MarkdownHeadingCollapsed": true
   },
   "source": [
    "#### Set Size and Summarization"
   ]
  },
  {
   "cell_type": "markdown",
   "id": "520a7dac-5002-40c6-89a5-295bf6582d3d",
   "metadata": {},
   "source": [
    "- **`len()`**: Returns the number of elements in a set.\n",
    "  - **Description**: Provides the count of unique elements in the set.\n",
    "  - **Example**:\n",
    "    ```python\n",
    "    s = {1, 2, 3}\n",
    "    size = len(s)  # 3\n",
    "    ```\n",
    "- **`copy()`**: Creates a shallow copy of the set.\n",
    "  - **Description**: Returns a new set with the same elements.\n",
    "  - **Example**:\n",
    "    ```python\n",
    "    s = {1, 2, 3}\n",
    "    s_copy = s.copy()  # {1, 2, 3}\n",
    "    ```"
   ]
  },
  {
   "cell_type": "markdown",
   "id": "5fd1910c-10b2-4566-ab8d-e8a55d3c2cc4",
   "metadata": {
    "jp-MarkdownHeadingCollapsed": true
   },
   "source": [
    "#### Set Operations"
   ]
  },
  {
   "cell_type": "markdown",
   "id": "f86f11d3-5b8a-421c-9e99-4d1623cfbffd",
   "metadata": {},
   "source": [
    "| Function                          | Description                                             | Example                                    |\n",
    "|-----------------------------------|---------------------------------------------------------|--------------------------------------------|\n",
    "| **`set()`**                       | Creates a new set from an iterable or empty set.       | `s = set([1, 2, 2])` results in `{1, 2}`   |\n",
    "| **`frozenset()`**                 | Creates an immutable version of a set.                 | `s = frozenset([1, 2, 3])` results in `frozenset({1, 2, 3})` |\n",
    "| **`len()`**                       | Returns the number of elements in a set.               | `size = len(s)` results in `3`             |\n",
    "| **`copy()`**                     | Creates a shallow copy of the set.                     | `s_copy = s.copy()` results in `{1, 2, 3}` |\n",
    "| **`union()`**                    | Returns a set with all elements from multiple sets.    | `a.union(b)` results in `{1, 2, 3}`       |\n",
    "| **`intersection()`**             | Returns a set with common elements between sets.       | `a.intersection(b)` results in `{2, 3}`    |\n",
    "| **`difference()`**               | Returns a set with elements in the first set but not in the second. | `a.difference(b)` results in `{1}`       |\n",
    "| **`symmetric_difference()`**      | Returns a set with elements in either set but not in both. | `a.symmetric_difference(b)` results in `{1, 4}` |\n",
    "| **`issubset()`**                 | Checks if the set is a subset of another set.          | `a.issubset(b)` results in `True`          |\n",
    "| **`issuperset()`**               | Checks if the set is a superset of another set.        | `a.issuperset(b)` results in `True`        |\n",
    "| **`isdisjoint()`**               | Checks if two sets are disjoint.                       | `a.isdisjoint(b)` results in `True`        |"
   ]
  },
  {
   "cell_type": "markdown",
   "id": "d66919bc-4b8b-489c-8a0f-6c67234f27f6",
   "metadata": {},
   "source": [
    "- **`union()`**: Returns a new set with all elements from the original set and another set or iterable.\n",
    "  - **Description**: Combines elements from multiple sets, removing duplicates.\n",
    "  - **Example**:\n",
    "    ```python\n",
    "    a = {1, 2}\n",
    "    b = {2, 3}\n",
    "    result = a.union(b)  # {1, 2, 3}\n",
    "    ```\n",
    "- **`intersection()`**: Returns a new set with elements that are common to both sets.\n",
    "  - **Description**: Finds common elements between sets.\n",
    "  - **Example**:\n",
    "    ```python\n",
    "    a = {1, 2, 3}\n",
    "    b = {2, 3, 4}\n",
    "    result = a.intersection(b)  # {2, 3}\n",
    "    ```\n",
    "- **`difference()`**: Returns a new set with elements in the original set that are not in the other set.\n",
    "  - **Description**: Finds elements in the first set but not in the second.\n",
    "  - **Example**:\n",
    "    ```python\n",
    "    a = {1, 2, 3}\n",
    "    b = {2, 3, 4}\n",
    "    result = a.difference(b)  # {1}\n",
    "    ```\n",
    "\n",
    "- **`symmetric_difference()`**: Returns a new set with elements in either set but not in both.\n",
    "  - **Description**: Finds elements in either set but not in both.\n",
    "  - **Example**:\n",
    "    ```python\n",
    "    a = {1, 2, 3}\n",
    "    b = {2, 3, 4}\n",
    "    result = a.symmetric_difference(b)  # {1, 4}\n",
    "    ```\n",
    "\n",
    "- **`issubset()`**: Checks if all elements of the set are in another set.\n",
    "  - **Description**: Returns `True` if the set is a subset of another set.\n",
    "  - **Example**:\n",
    "    ```python\n",
    "    a = {1, 2}\n",
    "    b = {1, 2, 3}\n",
    "    result = a.issubset(b)  # True\n",
    "    ```\n",
    "\n",
    "- **`issuperset()`**: Checks if the set contains all elements of another set.\n",
    "  - **Description**: Returns `True` if the set is a superset of another set.\n",
    "  - **Example**:\n",
    "    ```python\n",
    "    a = {1, 2, 3}\n",
    "    b = {1, 2}\n",
    "    result = a.issuperset(b)  # True\n",
    "    ```\n",
    "\n",
    "- **`isdisjoint()`**: Checks if two sets have no elements in common.\n",
    "  - **Description**: Returns `True` if the sets are disjoint.\n",
    "  - **Example**:\n",
    "    ```python\n",
    "    a = {1, 2}\n",
    "    b = {3, 4}\n",
    "    result = a.isdisjoint(b)  # True\n",
    "    ```"
   ]
  },
  {
   "cell_type": "markdown",
   "id": "5118afd8-5370-41e1-93c6-beaf772f8820",
   "metadata": {
    "jp-MarkdownHeadingCollapsed": true
   },
   "source": [
    "### Methods in format `set.method()`"
   ]
  },
  {
   "cell_type": "markdown",
   "id": "a169b866-5215-477d-81a4-5570195b6127",
   "metadata": {
    "jp-MarkdownHeadingCollapsed": true
   },
   "source": [
    "#### Modification"
   ]
  },
  {
   "cell_type": "markdown",
   "id": "639c18f6-a212-4908-9bc7-3707d966a8e0",
   "metadata": {},
   "source": [
    "- **`add(element)`**: Adds an element to the set.\n",
    "  - **Description**: Adds a single element to the set. If the element already exists, the set remains unchanged.\n",
    "  - **Example**:\n",
    "    ```python\n",
    "    s = {1, 2, 3}\n",
    "    s.add(4)  # {1, 2, 3, 4}\n",
    "    ```\n",
    "\n",
    "- **`remove(element)`**: Removes a specific element from the set. Raises `KeyError` if the element is not found.\n",
    "  - **Description**: Removes the specified element from the set.\n",
    "  - **Example**:\n",
    "    ```python\n",
    "    s = {1, 2, 3}\n",
    "    s.remove(2)  # {1, 3}\n",
    "    ```\n",
    "\n",
    "- **`discard(element)`**: Removes a specific element from the set. Does nothing if the element is not found.\n",
    "  - **Description**: Removes the specified element from the set without raising an error if the element is not found.\n",
    "  - **Example**:\n",
    "    ```python\n",
    "    s = {1, 2, 3}\n",
    "    s.discard(2)  # {1, 3}\n",
    "    s.discard(4)  # {1, 3}\n",
    "    ```\n",
    "\n",
    "- **`pop()`**: Removes and returns an arbitrary element from the set. Raises `KeyError` if the set is empty.\n",
    "  - **Description**: Removes a random element from the set and returns it.\n",
    "  - **Example**:\n",
    "    ```python\n",
    "    s = {1, 2, 3}\n",
    "    element = s.pop()  # element could be 1, 2, or 3\n",
    "    ```\n",
    "\n",
    "- **`clear()`**: Removes all elements from the set.\n",
    "  - **Description**: Empties the set.\n",
    "  - **Example**:\n",
    "    ```python\n",
    "    s = {1, 2, 3}\n",
    "    s.clear()  # set() or {}\n",
    "    ```"
   ]
  },
  {
   "cell_type": "markdown",
   "id": "36fd96a7-842f-4ab0-adb1-cf3dabfd9542",
   "metadata": {
    "jp-MarkdownHeadingCollapsed": true
   },
   "source": [
    "#### Set Operations"
   ]
  },
  {
   "cell_type": "markdown",
   "id": "1b1ff088-6f6a-412c-8540-4554bdce4c42",
   "metadata": {},
   "source": [
    "- **`update(*others)`**: Updates the set with elements from other sets or iterables.\n",
    "  - **Description**: Adds elements from other sets or iterables to the set.\n",
    "  - **Example**:\n",
    "    ```python\n",
    "    s = {1, 2}\n",
    "    s.update({3, 4})  # {1, 2, 3, 4}\n",
    "    ```\n",
    "\n",
    "- **`intersection_update(*others)`**: Updates the set with the intersection of itself and other sets.\n",
    "  - **Description**: Modifies the set to contain only elements present in both sets.\n",
    "  - **Example**:\n",
    "    ```python\n",
    "    s = {1, 2, 3}\n",
    "    s.intersection_update({2, 3, 4})  # {2, 3}\n",
    "    ```\n",
    "\n",
    "- **`difference_update(*others)`**: Updates the set by removing elements found in other sets.\n",
    "  - **Description**: Removes elements that are present in other sets.\n",
    "  - **Example**:\n",
    "    ```python\n",
    "    s = {1, 2, 3}\n",
    "    s.difference_update({2, 3, 4})  # {1}\n",
    "    ```\n",
    "\n",
    "- **`symmetric_difference_update(other)`**: Updates the set with the symmetric difference of itself and another set.\n",
    "  - **Description**: Modifies the set to contain elements that are in either set, but not in both.\n",
    "  - **Example**:\n",
    "    ```python\n",
    "    s = {1, 2, 3}\n",
    "    s.symmetric_difference_update({2, 3, 4})  # {1, 4}\n",
    "    ```"
   ]
  },
  {
   "cell_type": "markdown",
   "id": "5cc000b9-f3ab-49a4-9d4e-7e5810483694",
   "metadata": {
    "jp-MarkdownHeadingCollapsed": true
   },
   "source": [
    "### Iteration"
   ]
  },
  {
   "cell_type": "markdown",
   "id": "b6568641-ea0c-4d45-9b3a-3481449e9b16",
   "metadata": {
    "jp-MarkdownHeadingCollapsed": true
   },
   "source": [
    "#### Iterating Over Elements\n",
    "- **Basic Iteration with `for` Loop**: Iterating through all elements in a set.\n",
    "  - **Description**: A simple loop to access each element in the set.\n",
    "  - **Example**:\n",
    "    ```python\n",
    "    s = {1, 2, 3}\n",
    "    for element in s:\n",
    "        print(element)\n",
    "    # Output: 1, 2, 3 (order may vary)\n",
    "    ```\n",
    "\n",
    "- **Iterating with `enumerate()`**: Using `enumerate()` to get both index and value.\n",
    "  - **Description**: Although `enumerate()` provides indexes, set elements do not have a fixed order, so this is less common.\n",
    "  - **Example**:\n",
    "    ```python\n",
    "    s = {1, 2, 3}\n",
    "    for index, element in enumerate(s):\n",
    "        print(index, element)\n",
    "    # Output: 0 1, 1 2, 2 3 (order may vary)\n",
    "    ```\n",
    "\n",
    "- **Iterating with `while` Loop**: Using a while loop to iterate until the set is empty.\n",
    "  - **Description**: Continuously removing and processing elements until the set is empty.\n",
    "  - **Example**:\n",
    "    ```python\n",
    "    s = {1, 2, 3}\n",
    "    while s:\n",
    "        element = s.pop()\n",
    "        print(element)\n",
    "    # Output: 1, 2, 3 (order may vary)\n",
    "    ```\n",
    "\n",
    "- **Set Comprehensions**: Creating new sets based on existing sets using comprehensions.\n",
    "  - **Description**: A concise way to generate sets by applying an expression to each element in an existing set.\n",
    "  - **Example**:\n",
    "    ```python\n",
    "    s = {1, 2, 3}\n",
    "    new_set = {x * 2 for x in s}\n",
    "    print(new_set)  # {2, 4, 6} (order may vary)\n",
    "    ```\n",
    "\n",
    "- **Iterating Over Nested Sets**: Handling sets of sets or nested structures.\n",
    "  - **Description**: Iterating through each element in nested sets using nested loops.\n",
    "  - **Example**:\n",
    "    ```python\n",
    "    nested_set = {{1, 2}, {3, 4}}\n",
    "    for inner_set in nested_set:\n",
    "        for element in inner_set:\n",
    "            print(element)\n",
    "    # Output: 1, 2, 3, 4 (order may vary)\n",
    "    ```"
   ]
  },
  {
   "cell_type": "markdown",
   "id": "03d029e6-94dd-49a1-bb84-53a68214baa5",
   "metadata": {
    "jp-MarkdownHeadingCollapsed": true
   },
   "source": [
    "### Unpacking Elements"
   ]
  },
  {
   "cell_type": "markdown",
   "id": "1e4ec494-b47c-4763-8212-9a10433f60f0",
   "metadata": {
    "jp-MarkdownHeadingCollapsed": true
   },
   "source": [
    "#### Basic Unpacking"
   ]
  },
  {
   "cell_type": "markdown",
   "id": "8a6047b4-27b7-499d-8090-a2ffdad5fb02",
   "metadata": {},
   "source": [
    "- **Extracting Elements into Variables**: Assigning elements of a set to individual variables.\n",
    "  - **Description**: This is not directly supported for sets since they are unordered and do not have indexing. Instead, you can convert the set to a list or tuple for unpacking.\n",
    "  - **Example**:\n",
    "    ```python\n",
    "    s = {1, 2, 3}\n",
    "    a, b, c = list(s)\n",
    "    print(a, b, c)  # Output could be: 1 2 3 (order may vary)\n",
    "    ```"
   ]
  },
  {
   "cell_type": "markdown",
   "id": "66dbba65-5ea7-43a1-a687-361e259d780e",
   "metadata": {
    "jp-MarkdownHeadingCollapsed": true
   },
   "source": [
    "#### Unpacking with `*` Operator"
   ]
  },
  {
   "cell_type": "markdown",
   "id": "5f4c7783-9040-492b-9a06-d29bc85aa185",
   "metadata": {},
   "source": [
    "- **Using `*` to Unpack**: Using the `*` operator to unpack all elements of a set into function arguments or another collection.\n",
    "  - **Description**: Unpacking elements of a set into another data structure using the `*` operator.\n",
    "  - **Example**:\n",
    "    ```python\n",
    "    s = {1, 2, 3}\n",
    "    print(*s)  # Output: 1 2 3 (order may vary)\n",
    "    ```"
   ]
  },
  {
   "cell_type": "markdown",
   "id": "63310238-d7c6-494c-92ce-0f25b5124ab3",
   "metadata": {
    "jp-MarkdownHeadingCollapsed": true
   },
   "source": [
    "#### Nested Unpacking"
   ]
  },
  {
   "cell_type": "markdown",
   "id": "98dddb5a-ba6f-43bf-b5f7-0d4366174939",
   "metadata": {},
   "source": [
    "- **Unpacking Nested Structures**: Extracting elements from nested sets.\n",
    "  - **Description**: Nested unpacking is not directly applicable to sets due to their unordered nature. You can convert sets to lists or tuples first.\n",
    "  - **Example**:\n",
    "    ```python\n",
    "    nested_set = {frozenset({1, 2}), frozenset({3, 4})}\n",
    "    (a, b), (c, d) = [list(inner_set) for inner_set in nested_set]\n",
    "    print(a, b, c, d)  # Output could be: 1 2 3 4 (order may vary)\n",
    "    ```"
   ]
  },
  {
   "cell_type": "markdown",
   "id": "67dc483d-ebcc-4c9e-9c45-603d737d23a7",
   "metadata": {
    "jp-MarkdownHeadingCollapsed": true
   },
   "source": [
    "#### Unpacking with `*` in Nested Structures"
   ]
  },
  {
   "cell_type": "markdown",
   "id": "46d3d48f-7026-41f4-91e3-8df7d95fe8ed",
   "metadata": {},
   "source": [
    "- **Combining `*` with Nested Sets**: Using the `*` operator to unpack elements within nested data structures.\n",
    "  - **Description**: Similar to basic unpacking but applied to nested structures, usually after conversion to lists or tuples.\n",
    "  - **Example**:\n",
    "    ```python\n",
    "    nested_set = {frozenset({1, 2}), frozenset({3, 4})}\n",
    "    for inner_set in nested_set:\n",
    "        print(*inner_set)\n",
    "    # Output: 1 2 3 4 (order may vary)\n",
    "    ```"
   ]
  },
  {
   "cell_type": "markdown",
   "id": "b86f11a4-dd8e-4b2b-8296-4b86b5560c87",
   "metadata": {
    "jp-MarkdownHeadingCollapsed": true
   },
   "source": [
    "#### Using `*` with Functions"
   ]
  },
  {
   "cell_type": "markdown",
   "id": "dae059db-baa0-48db-bea0-79384a6dfd74",
   "metadata": {},
   "source": [
    "- **Passing Sets as Function Arguments**: Using `*` to pass all elements of a set as arguments to a function.\n",
    "  - **Description**: Unpacking set elements into individual arguments for a function call.\n",
    "  - **Example**:\n",
    "    ```python\n",
    "    def func(a, b, c):\n",
    "        print(a, b, c)\n",
    "\n",
    "    s = {1, 2, 3}\n",
    "    func(*s)  # Output could be: 1 2 3 (order may vary)\n",
    "    ```"
   ]
  },
  {
   "cell_type": "markdown",
   "id": "c7540666-6a7c-498c-adce-c4624ec65cc1",
   "metadata": {
    "jp-MarkdownHeadingCollapsed": true
   },
   "source": [
    "#### Set Comprehensions with Unpacking"
   ]
  },
  {
   "cell_type": "markdown",
   "id": "617153d1-4956-40e3-be29-641153168c65",
   "metadata": {},
   "source": [
    "- **Using Unpacking in Set Comprehensions**: Applying unpacking techniques within set comprehensions.\n",
    "  - **Description**: Generating new sets using comprehensions and unpacking elements.\n",
    "  - **Example**:\n",
    "    ```python\n",
    "    s = {1, 2, 3}\n",
    "    new_set = {x for x in {*s, 4, 5}}\n",
    "    print(new_set)  # Output: {1, 2, 3, 4, 5}\n",
    "    ```"
   ]
  },
  {
   "cell_type": "markdown",
   "id": "ed0fdf59-1aa3-4213-b6f3-319f275793fd",
   "metadata": {
    "jp-MarkdownHeadingCollapsed": true
   },
   "source": [
    "# Iteration"
   ]
  },
  {
   "cell_type": "markdown",
   "id": "cd59b2af-08ec-4601-880f-9ca931c9cf31",
   "metadata": {
    "jp-MarkdownHeadingCollapsed": true
   },
   "source": [
    "## Iteration Process and Conditional Statements"
   ]
  },
  {
   "cell_type": "markdown",
   "id": "cc902a9d-c2f8-4fa0-9246-aa033d5c7d92",
   "metadata": {
    "jp-MarkdownHeadingCollapsed": true
   },
   "source": [
    "### Iteration Process"
   ]
  },
  {
   "cell_type": "markdown",
   "id": "e8055651-c706-4e00-8a61-166526056f5a",
   "metadata": {
    "jp-MarkdownHeadingCollapsed": true
   },
   "source": [
    "#### Overview"
   ]
  },
  {
   "cell_type": "markdown",
   "id": "f0f1cce4-e323-4017-8f83-6edbb1b40401",
   "metadata": {},
   "source": [
    "Iteration refers to repeating a block of code multiple times, typically to process elements in a collection or to execute a task multiple times. In Python, iteration is commonly done using `for` and `while` loops."
   ]
  },
  {
   "cell_type": "markdown",
   "id": "805a3e5d-87f7-45a7-a8f8-36125568f3d0",
   "metadata": {
    "jp-MarkdownHeadingCollapsed": true
   },
   "source": [
    "#### Basic Process"
   ]
  },
  {
   "cell_type": "markdown",
   "id": "1465b3bd-3370-4fd3-80a1-9bc2e9df5801",
   "metadata": {},
   "source": [
    "1. **Initialization**: Setting up the loop variable or condition. In `for` loops, the initialization happens automatically. In `while` loops, you need to explicitly initialize the loop condition.\n",
    "2. **Condition Checking**: For `for` loops, Python automatically handles this by iterating over items. For `while` loops, you need to check if the loop condition is `True` before executing the loop body.\n",
    "3. **Execution**: The code inside the loop body executes for each item or while the condition is `True`.\n",
    "4. **Update**: In `for` loops, the loop variable is updated automatically. In `while` loops, you need to manually update the condition or variables to eventually terminate the loop.\n",
    "5. **Termination**: The loop terminates when the iteration is complete or when the loop condition becomes `False`."
   ]
  },
  {
   "cell_type": "markdown",
   "id": "d2b2f7e9-3061-4723-8b6e-1269d7c69cd8",
   "metadata": {
    "jp-MarkdownHeadingCollapsed": true
   },
   "source": [
    "#### Examples"
   ]
  },
  {
   "cell_type": "markdown",
   "id": "869e2f3f-33b1-4226-bb62-9ffd4aac1232",
   "metadata": {},
   "source": [
    "1. **Simple `for` Loop**:\n",
    "   ```python\n",
    "   fruits = ['apple', 'banana', 'cherry']\n",
    "   for fruit in fruits:\n",
    "       print(fruit)\n",
    "   ```\n",
    "   **Explanation**: This loop iterates over each item in the `fruits` list and prints it.\n",
    "\n",
    "2. **Simple `while` Loop**:\n",
    "   ```python\n",
    "   count = 0\n",
    "   while count < 3:\n",
    "       print(count)\n",
    "       count += 1\n",
    "   ```\n",
    "   **Explanation**: This loop prints numbers from 0 to 2. The condition `count < 3` is checked before each iteration."
   ]
  },
  {
   "cell_type": "markdown",
   "id": "363981d7-13cb-4bdd-8276-9e6ad053245e",
   "metadata": {
    "jp-MarkdownHeadingCollapsed": true
   },
   "source": [
    "### Conditional Statements in Loops"
   ]
  },
  {
   "cell_type": "markdown",
   "id": "ba25fcfc-0641-4c60-92b1-dd4f2c0c17e4",
   "metadata": {},
   "source": [
    "Conditional statements control the flow of execution based on certain conditions. They are used within loops to perform different actions based on the current state or value of variables."
   ]
  },
  {
   "cell_type": "markdown",
   "id": "c4f025be-0d7b-4c20-895a-696734001110",
   "metadata": {
    "jp-MarkdownHeadingCollapsed": true
   },
   "source": [
    "#### `if` Statement"
   ]
  },
  {
   "cell_type": "markdown",
   "id": "abc6b06f-2dc1-49c0-9b6b-d836d953d637",
   "metadata": {},
   "source": [
    "- **Usage**: Executes a block of code if a condition evaluates to `True`.\n",
    "- **Syntax**:\n",
    "  ```python\n",
    "  if condition:\n",
    "      # Code to execute if condition is True\n",
    "  ```\n",
    "- **Example**:\n",
    "  ```python\n",
    "  for i in range(5):\n",
    "      if i % 2 == 0:\n",
    "          print(f\"{i} is even\")\n",
    "  ```\n",
    "  **Explanation**: Prints only the even numbers in the range 0 to 4."
   ]
  },
  {
   "cell_type": "markdown",
   "id": "3ced3bb1-7586-4c50-b40d-715f2dc78af7",
   "metadata": {
    "jp-MarkdownHeadingCollapsed": true
   },
   "source": [
    "#### `elif` Statement"
   ]
  },
  {
   "cell_type": "markdown",
   "id": "8f6ac2fc-e060-4d16-b34e-10e8c1124da4",
   "metadata": {},
   "source": [
    "- **Usage**: Provides additional conditions to test if the previous `if` condition was `False`.\n",
    "- **Syntax**:\n",
    "  ```python\n",
    "  if condition1:\n",
    "      # Code if condition1 is True\n",
    "  elif condition2:\n",
    "      # Code if condition2 is True\n",
    "  ```\n",
    "- **Example**:\n",
    "  ```python\n",
    "  for i in range(5):\n",
    "      if i % 2 == 0:\n",
    "          print(f\"{i} is even\")\n",
    "      elif i % 2 != 0:\n",
    "          print(f\"{i} is odd\")\n",
    "  ```\n",
    "  **Explanation**: Differentiates between even and odd numbers."
   ]
  },
  {
   "cell_type": "markdown",
   "id": "a7b595f5-cc5d-4034-8be6-95f9e42fc6a6",
   "metadata": {
    "jp-MarkdownHeadingCollapsed": true
   },
   "source": [
    "#### `else` Statement"
   ]
  },
  {
   "cell_type": "markdown",
   "id": "0e7c02bc-3a48-4fbd-b67f-b0944dce52a9",
   "metadata": {},
   "source": [
    "- **Usage**: Executes a block of code if none of the preceding `if` or `elif` conditions are `True`.\n",
    "- **Syntax**:\n",
    "  ```python\n",
    "  if condition1:\n",
    "      # Code if condition1 is True\n",
    "  elif condition2:\n",
    "      # Code if condition2 is True\n",
    "  else:\n",
    "      # Code if none of the above conditions are True\n",
    "  ```\n",
    "- **Example**:\n",
    "  ```python\n",
    "  for i in range(5):\n",
    "      if i == 2:\n",
    "          print(f\"{i} is the special number\")\n",
    "      else:\n",
    "          print(f\"{i} is just a number\")\n",
    "  ```\n",
    "  **Explanation**: Identifies a special number (2) and prints a different message for all other numbers."
   ]
  },
  {
   "cell_type": "markdown",
   "id": "a95c6559-c3a1-46ab-8174-92b99e658ebb",
   "metadata": {
    "jp-MarkdownHeadingCollapsed": true
   },
   "source": [
    "### Control Statements in Loops"
   ]
  },
  {
   "cell_type": "markdown",
   "id": "7b37127c-5ab5-4a3b-80d3-4655c1e4d276",
   "metadata": {},
   "source": [
    "Control statements alter the normal flow of execution within loops."
   ]
  },
  {
   "cell_type": "markdown",
   "id": "a323efbe-19bd-4caf-856d-715b47599e58",
   "metadata": {
    "jp-MarkdownHeadingCollapsed": true
   },
   "source": [
    "#### `break` Statement"
   ]
  },
  {
   "cell_type": "markdown",
   "id": "8096f034-74a8-4763-a2af-b24ac2db4932",
   "metadata": {},
   "source": [
    "- **Usage**: Exits the nearest enclosing loop.\n",
    "- **Syntax**:\n",
    "  ```python\n",
    "  for item in iterable:\n",
    "      if condition:\n",
    "          break\n",
    "      # More code\n",
    "  ```\n",
    "- **Example**:\n",
    "  ```python\n",
    "  for i in range(10):\n",
    "      if i == 5:\n",
    "          break\n",
    "      print(i)\n",
    "  ```\n",
    "  **Explanation**: Prints numbers from 0 to 4, and then exits the loop when `i` equals 5."
   ]
  },
  {
   "cell_type": "markdown",
   "id": "daa37482-7543-4d33-bbf5-d1dd1fc21688",
   "metadata": {
    "jp-MarkdownHeadingCollapsed": true
   },
   "source": [
    "#### `continue` Statement"
   ]
  },
  {
   "cell_type": "markdown",
   "id": "457592c1-a885-4136-94e7-6b6011efd514",
   "metadata": {},
   "source": [
    "- **Usage**: Skips the rest of the code inside the current loop iteration and proceeds to the next iteration.\n",
    "- **Syntax**:\n",
    "  ```python\n",
    "  for item in iterable:\n",
    "      if condition:\n",
    "          continue\n",
    "      # More code\n",
    "  ```\n",
    "- **Example**:\n",
    "  ```python\n",
    "  for i in range(10):\n",
    "      if i % 2 == 0:\n",
    "          continue\n",
    "      print(i)\n",
    "  ```\n",
    "  **Explanation**: Skips printing for even numbers and prints only the odd numbers."
   ]
  },
  {
   "cell_type": "markdown",
   "id": "b11e9ed9-f1f5-40b9-8dcb-94170fa2d24a",
   "metadata": {
    "jp-MarkdownHeadingCollapsed": true
   },
   "source": [
    "#### `pass` Statement"
   ]
  },
  {
   "cell_type": "markdown",
   "id": "04a9fe1e-ba63-4bd5-ac4e-54f376a38513",
   "metadata": {},
   "source": [
    "- **Usage**: A placeholder that does nothing and is used where a statement is required syntactically but no code needs to be executed.\n",
    "- **Syntax**:\n",
    "  ```python\n",
    "  for item in iterable:\n",
    "      if condition:\n",
    "          pass  # No action taken\n",
    "      # More code\n",
    "  ```\n",
    "- **Example**:\n",
    "  ```python\n",
    "  for i in range(5):\n",
    "      if i == 3:\n",
    "          pass  # Placeholder for future code\n",
    "      print(i)\n",
    "  ```\n",
    "  **Explanation**: The `pass` statement does nothing when `i` equals 3, but still prints all numbers."
   ]
  },
  {
   "cell_type": "markdown",
   "id": "ec6dc7b8-dd10-4755-9a31-26a8ce23e257",
   "metadata": {
    "jp-MarkdownHeadingCollapsed": true
   },
   "source": [
    "### Additional Concepts"
   ]
  },
  {
   "cell_type": "markdown",
   "id": "437517d1-1e29-4dd7-9076-d1e365a61e82",
   "metadata": {},
   "source": [
    "#### Combining Iteration with Conditional Statements"
   ]
  },
  {
   "cell_type": "markdown",
   "id": "f1f4eb5a-cefc-405d-a425-741fa18da30a",
   "metadata": {},
   "source": [
    "- **Example**: Filtering items\n",
    "  ```python\n",
    "  numbers = [1, 2, 3, 4, 5, 6]\n",
    "  for number in numbers:\n",
    "      if number % 2 == 0:\n",
    "          print(f\"{number} is even\")\n",
    "      else:\n",
    "          print(f\"{number} is odd\")\n",
    "  ```\n",
    "  **Explanation**: Uses `if` and `else` to filter and classify numbers as even or odd.\n",
    "\n",
    "- **Example**: Nested conditions\n",
    "  ```python\n",
    "  for i in range(10):\n",
    "      if i < 5:\n",
    "          if i % 2 == 0:\n",
    "              print(f\"{i} is an even number less than 5\")\n",
    "          else:\n",
    "              print(f\"{i} is an odd number less than 5\")\n",
    "      else:\n",
    "          print(f\"{i} is 5 or greater\")\n",
    "  ```\n",
    "  **Explanation**: Uses nested `if` statements to classify numbers based on multiple conditions."
   ]
  },
  {
   "cell_type": "markdown",
   "id": "4ccd4573-944f-4942-9f61-ae4a55221a9d",
   "metadata": {
    "jp-MarkdownHeadingCollapsed": true
   },
   "source": [
    "## For Loops"
   ]
  },
  {
   "cell_type": "markdown",
   "id": "767d9ec5-7e23-4e71-bf02-0a7cd14b43c3",
   "metadata": {
    "jp-MarkdownHeadingCollapsed": true
   },
   "source": [
    "### Overview"
   ]
  },
  {
   "cell_type": "markdown",
   "id": "de195eb6-727d-415c-81c9-a27198f93a99",
   "metadata": {},
   "source": [
    "A `for` loop is a control flow statement that allows code to be executed repeatedly over a sequence of items, such as a list, tuple, string, or other iterable objects. Python’s `for` loops are particularly versatile and can iterate over a variety of data structures."
   ]
  },
  {
   "cell_type": "markdown",
   "id": "f2f74a18-5e89-49af-a1de-d9c9ae8ed0ff",
   "metadata": {
    "jp-MarkdownHeadingCollapsed": true
   },
   "source": [
    "### Syntax"
   ]
  },
  {
   "cell_type": "markdown",
   "id": "7fe07f4a-7315-4d80-ae8d-e98ed3117dfa",
   "metadata": {},
   "source": [
    "```python\n",
    "for variable in iterable:\n",
    "    # Code to execute for each item in the iterable\n",
    "```\n",
    "\n",
    "- **`variable`**: Takes the value of each item in the `iterable` during each iteration.\n",
    "- **`iterable`**: An object capable of returning its members one at a time, such as a list, tuple, dictionary, or string."
   ]
  },
  {
   "cell_type": "markdown",
   "id": "b21f9e76-992e-4738-8b4d-92653cb5b806",
   "metadata": {
    "jp-MarkdownHeadingCollapsed": true
   },
   "source": [
    "### Examples"
   ]
  },
  {
   "cell_type": "markdown",
   "id": "dafef536-f87e-4a19-aca8-fc379d552e43",
   "metadata": {
    "jp-MarkdownHeadingCollapsed": true
   },
   "source": [
    "#### Iterating Over Lists"
   ]
  },
  {
   "cell_type": "markdown",
   "id": "b2433690-e738-440a-a439-c73fb73d1830",
   "metadata": {},
   "source": [
    "```python\n",
    "fruits = ['apple', 'banana', 'cherry']\n",
    "for fruit in fruits:\n",
    "    print(fruit)\n",
    "```\n",
    "**Explanation**: Iterates over each item in the `fruits` list and prints it."
   ]
  },
  {
   "cell_type": "markdown",
   "id": "09f721a9-da8a-49a6-9c08-8b1d3389a2d3",
   "metadata": {
    "jp-MarkdownHeadingCollapsed": true
   },
   "source": [
    "#### Iterating Over Tuples"
   ]
  },
  {
   "cell_type": "markdown",
   "id": "9b6c35f3-8d17-47e5-854d-a2604153905c",
   "metadata": {},
   "source": [
    "```python\n",
    "coordinates = (10.0, 20.0)\n",
    "for coord in coordinates:\n",
    "    print(coord)\n",
    "```\n",
    "**Explanation**: Iterates over each item in the `coordinates` tuple and prints it."
   ]
  },
  {
   "cell_type": "markdown",
   "id": "830d189e-0f73-49b4-a5c1-dfea9de2cd9a",
   "metadata": {
    "jp-MarkdownHeadingCollapsed": true
   },
   "source": [
    "#### Iterating Over Strings"
   ]
  },
  {
   "cell_type": "markdown",
   "id": "f7d2f557-5aed-4d27-a8f2-19a8ef8a286e",
   "metadata": {},
   "source": [
    "```python\n",
    "text = \"hello\"\n",
    "for char in text:\n",
    "    print(char)\n",
    "```\n",
    "**Explanation**: Iterates over each character in the `text` string and prints it."
   ]
  },
  {
   "cell_type": "markdown",
   "id": "ac704cb9-aa8d-49d4-b926-8f5af4f215f0",
   "metadata": {
    "jp-MarkdownHeadingCollapsed": true
   },
   "source": [
    "#### Iterating Over Dictionaries"
   ]
  },
  {
   "cell_type": "markdown",
   "id": "d1a58222-1634-4e0f-903c-9a6d6d506862",
   "metadata": {},
   "source": [
    "- **Keys**:\n",
    "  ```python\n",
    "  person = {'name': 'Alice', 'age': 25}\n",
    "  for key in person:\n",
    "      print(key)\n",
    "  ```\n",
    "  **Explanation**: Iterates over the keys of the `person` dictionary and prints each key.\n",
    "\n",
    "- **Values**:\n",
    "  ```python\n",
    "  for value in person.values():\n",
    "      print(value)\n",
    "  ```\n",
    "  **Explanation**: Iterates over the values of the `person` dictionary and prints each value.\n",
    "\n",
    "- **Key-Value Pairs**:\n",
    "  ```python\n",
    "  for key, value in person.items():\n",
    "      print(key, value)\n",
    "  ```\n",
    "  **Explanation**: Iterates over key-value pairs of the `person` dictionary and prints each pair."
   ]
  },
  {
   "cell_type": "markdown",
   "id": "38ab6b1e-447b-4d00-b1f2-884ae4d30995",
   "metadata": {
    "jp-MarkdownHeadingCollapsed": true
   },
   "source": [
    "#### Iterating Over Sets"
   ]
  },
  {
   "cell_type": "markdown",
   "id": "0f21e1c8-63c0-4cb6-b1f9-d9fc2b349ca1",
   "metadata": {},
   "source": [
    "```python\n",
    "unique_numbers = {1, 2, 3, 4, 5}\n",
    "for number in unique_numbers:\n",
    "    print(number)\n",
    "```\n",
    "**Explanation**: Iterates over each item in the `unique_numbers` set and prints it. Note that the order of elements in a set is not guaranteed."
   ]
  },
  {
   "cell_type": "markdown",
   "id": "669f3a73-443e-454d-b486-87a30ef56177",
   "metadata": {
    "jp-MarkdownHeadingCollapsed": true
   },
   "source": [
    "### Techniques"
   ]
  },
  {
   "cell_type": "markdown",
   "id": "d71ece4a-799e-4af1-a5de-b3b312ea27aa",
   "metadata": {
    "jp-MarkdownHeadingCollapsed": true
   },
   "source": [
    "#### List Comprehensions"
   ]
  },
  {
   "cell_type": "markdown",
   "id": "7e10d8bc-7516-487f-97b2-5a2ed60b4e3d",
   "metadata": {},
   "source": [
    "List comprehensions provide a concise way to create lists. They are generally more compact and faster than traditional loops.\n",
    "\n",
    "- **Syntax**:\n",
    "  ```python\n",
    "  [expression for item in iterable if condition]\n",
    "  ```\n",
    "- **Example**:\n",
    "  ```python\n",
    "  squares = [x**2 for x in range(10)]\n",
    "  print(squares)  # [0, 1, 4, 9, 16, 25, 36, 49, 64, 81]\n",
    "  ```\n",
    "  **Explanation**: Creates a list of squares of numbers from 0 to 9."
   ]
  },
  {
   "cell_type": "markdown",
   "id": "50fa629e-7951-4c1b-9cb7-fe40cf2988e1",
   "metadata": {
    "jp-MarkdownHeadingCollapsed": true
   },
   "source": [
    "#### Enumerate Function"
   ]
  },
  {
   "cell_type": "markdown",
   "id": "4ca34f5e-37d3-48b3-a11c-3c2f4743a329",
   "metadata": {},
   "source": [
    "The `enumerate()` function adds a counter to an iterable and returns it in the form of an enumerate object.\n",
    "\n",
    "- **Syntax**:\n",
    "  ```python\n",
    "  enumerate(iterable, start=0)\n",
    "  ```\n",
    "- **Example**:\n",
    "  ```python\n",
    "  fruits = ['apple', 'banana', 'cherry']\n",
    "  for index, fruit in enumerate(fruits):\n",
    "      print(index, fruit)\n",
    "  ```\n",
    "  **Explanation**: Iterates over the `fruits` list, providing both the index and the item."
   ]
  },
  {
   "cell_type": "markdown",
   "id": "ee3d9fc9-0519-4a6d-ad2b-0d680f5e4628",
   "metadata": {
    "jp-MarkdownHeadingCollapsed": true
   },
   "source": [
    "#### Zip Function"
   ]
  },
  {
   "cell_type": "markdown",
   "id": "33d57789-db5d-4d95-bb75-55de48b9656b",
   "metadata": {},
   "source": [
    "The `zip()` function combines two or more iterables into a single iterable of tuples.\n",
    "\n",
    "- **Syntax**:\n",
    "  ```python\n",
    "  zip(iterable1, iterable2, ...)\n",
    "  ```\n",
    "- **Example**:\n",
    "  ```python\n",
    "  names = ['Alice', 'Bob']\n",
    "  scores = [85, 90]\n",
    "  for name, score in zip(names, scores):\n",
    "      print(name, score)\n",
    "  ```\n",
    "  **Explanation**: Iterates over pairs of items from `names` and `scores` lists."
   ]
  },
  {
   "cell_type": "markdown",
   "id": "d6c7915d-30b1-4680-9c6b-c47df47a60dd",
   "metadata": {
    "jp-MarkdownHeadingCollapsed": true
   },
   "source": [
    "### Special Considerations"
   ]
  },
  {
   "cell_type": "markdown",
   "id": "bf5e27fd-db42-464d-833f-92e50fc39c9a",
   "metadata": {
    "jp-MarkdownHeadingCollapsed": true
   },
   "source": [
    "#### Nested Loops"
   ]
  },
  {
   "cell_type": "markdown",
   "id": "227b1344-2b38-4f27-985c-665039e0fadf",
   "metadata": {},
   "source": [
    "A nested loop is a loop inside another loop. It can be used to handle more complex data structures or to perform multiple levels of iteration.\n",
    "\n",
    "- **Example**:\n",
    "  ```python\n",
    "  for i in range(3):\n",
    "      for j in range(3):\n",
    "          print(i, j)\n",
    "  ```\n",
    "  **Explanation**: Prints coordinates in a 3x3 grid."
   ]
  },
  {
   "cell_type": "markdown",
   "id": "6f60db2f-4e65-49ea-b728-a7e766e53abd",
   "metadata": {
    "jp-MarkdownHeadingCollapsed": true
   },
   "source": [
    "#### Using `break`, `continue`, and `pass` in `for` Loops"
   ]
  },
  {
   "cell_type": "markdown",
   "id": "c96d6924-f43b-4f99-ba22-4f0dd3796938",
   "metadata": {},
   "source": [
    "- **`break`**:\n",
    "  ```python\n",
    "  for i in range(10):\n",
    "      if i == 5:\n",
    "          break\n",
    "      print(i)\n",
    "  ```\n",
    "  **Explanation**: Exits the loop when `i` equals 5.\n",
    "\n",
    "- **`continue`**:\n",
    "  ```python\n",
    "  for i in range(10):\n",
    "      if i % 2 == 0:\n",
    "          continue\n",
    "      print(i)\n",
    "  ```\n",
    "  **Explanation**: Skips the rest of the loop body for even numbers and prints only odd numbers.\n",
    "\n",
    "- **`pass`**:\n",
    "  ```python\n",
    "  for i in range(10):\n",
    "      if i == 5:\n",
    "          pass  # Placeholder for future code\n",
    "      print(i)\n",
    "  ```\n",
    "  **Explanation**: Does nothing when `i` equals 5 but still prints all numbers."
   ]
  },
  {
   "cell_type": "markdown",
   "id": "a1d05eb1-50a8-4394-83e0-c9d2846d6cd7",
   "metadata": {
    "jp-MarkdownHeadingCollapsed": true
   },
   "source": [
    "### Performance Considerations"
   ]
  },
  {
   "cell_type": "markdown",
   "id": "25fc6bbe-d6b7-4076-a79c-cd4a653e720e",
   "metadata": {},
   "source": [
    "- **Efficiency**: Use list comprehensions and built-in functions like `enumerate` and `zip` for better performance and readability.\n",
    "- **Avoid Unnecessary Iterations**: Optimize loops to avoid redundant operations and reduce execution time."
   ]
  },
  {
   "cell_type": "markdown",
   "id": "ef0d643b-0f4f-4c38-8699-f766ec649ca0",
   "metadata": {
    "jp-MarkdownHeadingCollapsed": true
   },
   "source": [
    "## While Loops"
   ]
  },
  {
   "cell_type": "markdown",
   "id": "9c1e6445-e0cc-45ae-a566-ca5c106ba674",
   "metadata": {
    "jp-MarkdownHeadingCollapsed": true
   },
   "source": [
    "### Overview"
   ]
  },
  {
   "cell_type": "markdown",
   "id": "506bca51-4c0e-4041-a406-fb2bf895bbe8",
   "metadata": {},
   "source": [
    "A `while` loop repeatedly executes a block of code as long as a specified condition evaluates to `True`. It's useful when you don't know in advance how many times you need to iterate and instead want to loop until a certain condition is met."
   ]
  },
  {
   "cell_type": "markdown",
   "id": "fe2a651b-1949-4d15-9ee6-5631fa81669b",
   "metadata": {
    "jp-MarkdownHeadingCollapsed": true
   },
   "source": [
    "### Syntax"
   ]
  },
  {
   "cell_type": "markdown",
   "id": "93782820-71d4-4a1e-b945-bba2ceaf4104",
   "metadata": {},
   "source": [
    "```python\n",
    "while condition:\n",
    "    # Code to execute as long as the condition is True\n",
    "```\n",
    "\n",
    "- **`condition`**: An expression that is evaluated before each iteration. The loop continues to execute as long as this condition is `True`."
   ]
  },
  {
   "cell_type": "markdown",
   "id": "0963ede0-9f19-4c63-b51d-86466a91a5f8",
   "metadata": {
    "jp-MarkdownHeadingCollapsed": true
   },
   "source": [
    "### Examples"
   ]
  },
  {
   "cell_type": "markdown",
   "id": "41028ef3-71ee-4988-b55c-0e97d80d9b41",
   "metadata": {
    "jp-MarkdownHeadingCollapsed": true
   },
   "source": [
    "#### Basic `while` Loop"
   ]
  },
  {
   "cell_type": "markdown",
   "id": "cdb12c96-33af-4553-a9d3-921506c69c03",
   "metadata": {},
   "source": [
    "```python\n",
    "count = 0\n",
    "while count < 5:\n",
    "    print(count)\n",
    "    count += 1\n",
    "```\n",
    "**Explanation**: This loop prints numbers from 0 to 4. The loop continues as long as `count` is less than 5, and `count` is incremented in each iteration."
   ]
  },
  {
   "cell_type": "markdown",
   "id": "8cd3bdb1-3b0c-4893-b9de-f9ab7b028517",
   "metadata": {
    "jp-MarkdownHeadingCollapsed": true
   },
   "source": [
    "#### Infinite Loop with `break`"
   ]
  },
  {
   "cell_type": "markdown",
   "id": "e23d6a6e-21f4-44b8-8b30-4dbe5b9bf56e",
   "metadata": {},
   "source": [
    "An infinite loop runs indefinitely until a `break` statement is encountered.\n",
    "\n",
    "```python\n",
    "while True:\n",
    "    response = input(\"Type 'exit' to end the loop: \")\n",
    "    if response == 'exit':\n",
    "        break\n",
    "    print(\"You typed:\", response)\n",
    "```\n",
    "**Explanation**: This loop repeatedly prompts the user for input and exits when the user types 'exit'."
   ]
  },
  {
   "cell_type": "markdown",
   "id": "03d387d3-ed7b-4dbe-8767-178448d39ddc",
   "metadata": {
    "jp-MarkdownHeadingCollapsed": true
   },
   "source": [
    "#### Using `continue` to Skip Iterations"
   ]
  },
  {
   "cell_type": "markdown",
   "id": "d7ffb061-12a1-43c3-843c-384b0794e06e",
   "metadata": {},
   "source": [
    "The `continue` statement skips the rest of the code inside the current loop iteration and proceeds to the next iteration.\n",
    "\n",
    "```python\n",
    "count = 0\n",
    "while count < 5:\n",
    "    count += 1\n",
    "    if count % 2 == 0:\n",
    "        continue\n",
    "    print(count)\n",
    "```\n",
    "**Explanation**: This loop prints only odd numbers between 1 and 5. When `count` is even, the `continue` statement skips the print statement."
   ]
  },
  {
   "cell_type": "markdown",
   "id": "d5729c86-7247-46f3-a7b0-ec2661b2f99b",
   "metadata": {
    "jp-MarkdownHeadingCollapsed": true
   },
   "source": [
    "### Techniques"
   ]
  },
  {
   "cell_type": "markdown",
   "id": "37a64e8d-4838-4e86-adc5-7d30f4b193d5",
   "metadata": {
    "jp-MarkdownHeadingCollapsed": true
   },
   "source": [
    "#### Combining `while` Loops with Conditional Statements"
   ]
  },
  {
   "cell_type": "markdown",
   "id": "fa146e0c-08a9-4037-aca7-9b97aa27ee4d",
   "metadata": {},
   "source": [
    "You can combine `while` loops with `if`, `elif`, and `else` statements to handle more complex conditions.\n",
    "\n",
    "- **Example**:\n",
    "  ```python\n",
    "  count = 0\n",
    "  while count < 10:\n",
    "      if count < 5:\n",
    "          print(f\"{count} is less than 5\")\n",
    "      elif count == 5:\n",
    "          print(f\"{count} is exactly 5\")\n",
    "      else:\n",
    "          print(f\"{count} is greater than 5\")\n",
    "      count += 1\n",
    "  ```\n",
    "  **Explanation**: This loop prints different messages based on the value of `count`."
   ]
  },
  {
   "cell_type": "markdown",
   "id": "d30f683e-e6cd-4aa2-89c5-593e4cf93ef3",
   "metadata": {
    "jp-MarkdownHeadingCollapsed": true
   },
   "source": [
    "#### Using `else` with `while` Loops"
   ]
  },
  {
   "cell_type": "markdown",
   "id": "0ae14140-afd2-48ee-a8b8-1a0dc0e8bd08",
   "metadata": {},
   "source": [
    "The `else` block in a `while` loop executes when the loop condition becomes `False`, but it will not execute if the loop is terminated by a `break` statement.\n",
    "\n",
    "- **Example**:\n",
    "  ```python\n",
    "  count = 0\n",
    "  while count < 5:\n",
    "      print(count)\n",
    "      count += 1\n",
    "  else:\n",
    "      print(\"Loop completed without interruption\")\n",
    "  ```\n",
    "  **Explanation**: Prints numbers from 0 to 4 and then prints a message when the loop terminates normally."
   ]
  },
  {
   "cell_type": "markdown",
   "id": "1b6a34b6-7f6b-43bd-b46d-2a068187ba95",
   "metadata": {
    "jp-MarkdownHeadingCollapsed": true
   },
   "source": [
    "### Special Considerations"
   ]
  },
  {
   "cell_type": "markdown",
   "id": "1d2670bd-9a5e-42e1-a752-8887f4c09c9c",
   "metadata": {
    "jp-MarkdownHeadingCollapsed": true
   },
   "source": [
    "#### Ensuring Termination"
   ]
  },
  {
   "cell_type": "markdown",
   "id": "bb468898-a3b1-4a61-a496-ce59598e779e",
   "metadata": {},
   "source": [
    "Ensure that the loop condition will eventually become `False` to avoid creating an infinite loop. This typically involves updating variables within the loop to change the condition.\n",
    "\n",
    "- **Example**:\n",
    "  ```python\n",
    "  count = 0\n",
    "  while count < 10:\n",
    "      print(count)\n",
    "      count += 1\n",
    "      # Ensure count is updated to eventually stop the loop\n",
    "  ```"
   ]
  },
  {
   "cell_type": "markdown",
   "id": "c071aec1-c8df-4a3e-a141-121334e439b2",
   "metadata": {
    "jp-MarkdownHeadingCollapsed": true
   },
   "source": [
    "#### Avoiding Infinite Loops"
   ]
  },
  {
   "cell_type": "markdown",
   "id": "1604f03e-daa9-41f0-bd8b-d8030eb3c657",
   "metadata": {},
   "source": [
    "Be cautious with `while` loops to avoid infinite loops. Ensure that the loop condition is properly updated to eventually become `False`.\n",
    "\n",
    "- **Example of Infinite Loop**:\n",
    "  ```python\n",
    "  while True:\n",
    "      print(\"This will run forever\")\n",
    "      # No condition to break the loop\n",
    "  ```"
   ]
  },
  {
   "cell_type": "markdown",
   "id": "e5213f65-4942-4590-9f12-5ed686d98444",
   "metadata": {
    "jp-MarkdownHeadingCollapsed": true
   },
   "source": [
    "### Performance Considerations"
   ]
  },
  {
   "cell_type": "markdown",
   "id": "935eda3a-08a5-4d0e-af06-a9e0a6becc9f",
   "metadata": {},
   "source": [
    "- **Efficiency**: Avoid unnecessary computations inside the loop to improve performance.\n",
    "- **Termination**: Ensure the loop condition is correctly designed to prevent endless execution."
   ]
  },
  {
   "cell_type": "markdown",
   "id": "f98dce5a-74f3-4aad-9773-90f93361f6d7",
   "metadata": {
    "jp-MarkdownHeadingCollapsed": true
   },
   "source": [
    "# Classes"
   ]
  },
  {
   "cell_type": "markdown",
   "id": "8e4ada13-c01e-42e6-8104-1c9fa1172814",
   "metadata": {
    "jp-MarkdownHeadingCollapsed": true
   },
   "source": [
    "## Introduction to Classes"
   ]
  },
  {
   "cell_type": "markdown",
   "id": "995265ec-5e89-416e-b9ba-b2bcefda1d1b",
   "metadata": {
    "jp-MarkdownHeadingCollapsed": true
   },
   "source": [
    "### What is a Class?"
   ]
  },
  {
   "cell_type": "markdown",
   "id": "83d05d9b-b06a-442f-baf8-12aa515d4454",
   "metadata": {},
   "source": [
    "A class in Python is a blueprint for creating objects, defining a set of attributes and methods that the objects will have. It encapsulates data and functionality together.\n",
    "\n",
    "- **Definition and Purpose**: Classes help organize code by grouping related data and functions. This encapsulation aids in modeling real-world entities and behaviors.\n",
    "\n",
    "- **Real-world Analogies**: Consider a class as a template for an object. For instance, a `Car` class could have attributes like `color`, `make`, and `model`, and methods like `drive()` and `brake()`. Each instance of the `Car` class represents a specific car with these attributes and behaviors."
   ]
  },
  {
   "cell_type": "markdown",
   "id": "5c8ec24d-dd27-4c9a-88f3-9ab9f2056f5f",
   "metadata": {
    "jp-MarkdownHeadingCollapsed": true
   },
   "source": [
    "### Syntax of a Class"
   ]
  },
  {
   "cell_type": "markdown",
   "id": "d4e92e2c-1142-4d58-9c03-ddceddc1a80a",
   "metadata": {},
   "source": [
    "Here is the basic syntax for defining a class in Python:\n",
    "\n",
    "```python\n",
    "class ClassName:\n",
    "    def __init__(self, attribute1, attribute2):\n",
    "        self.attribute1 = attribute1\n",
    "        self.attribute2 = attribute2\n",
    "\n",
    "    def method1(self):\n",
    "        # Code for method1\n",
    "        pass\n",
    "\n",
    "    def method2(self):\n",
    "        # Code for method2\n",
    "        pass\n",
    "```\n",
    "\n",
    "- **`class ClassName:`** - This keyword defines a new class with the name `ClassName`.\n",
    "- **`def __init__(self, ...)`** - The constructor method is called when an object is created. It initializes the object's attributes.\n",
    "- **`self`** - Refers to the instance of the class and is used to access attributes and methods within the class.\n",
    "\n",
    "**Example:**\n",
    "\n",
    "```python\n",
    "class Car:\n",
    "    def __init__(self, make, model, year):\n",
    "        self.make = make\n",
    "        self.model = model\n",
    "        self.year = year\n",
    "\n",
    "    def display_info(self):\n",
    "        return f\"{self.year} {self.make} {self.model}\"\n",
    "```\n",
    "\n",
    "In this example:\n",
    "- `Car` is the class name.\n",
    "- `__init__` initializes attributes `make`, `model`, and `year`.\n",
    "- `display_info` is a method that returns a formatted string with the car’s details."
   ]
  },
  {
   "cell_type": "markdown",
   "id": "7b22a36e-8005-4099-b319-6f599562c913",
   "metadata": {
    "jp-MarkdownHeadingCollapsed": true
   },
   "source": [
    "## Creating a Class"
   ]
  },
  {
   "cell_type": "markdown",
   "id": "8272b246-0c26-47e6-91b9-3082417ec164",
   "metadata": {
    "jp-MarkdownHeadingCollapsed": true
   },
   "source": [
    "### Basic Class Definition"
   ]
  },
  {
   "cell_type": "markdown",
   "id": "51fef773-41d7-4973-85dd-7ee47e8e8212",
   "metadata": {},
   "source": [
    "To create a class, you define it using the `class` keyword followed by the class name and a colon. The class body contains attributes and methods.\n",
    "\n",
    "**Example:**\n",
    "\n",
    "```python\n",
    "class Dog:\n",
    "    def __init__(self, name, age):\n",
    "        self.name = name\n",
    "        self.age = age\n",
    "\n",
    "    def bark(self):\n",
    "        return f\"{self.name} says woof!\"\n",
    "```"
   ]
  },
  {
   "cell_type": "markdown",
   "id": "51f82f37-91bd-4a1e-b350-964102407563",
   "metadata": {
    "jp-MarkdownHeadingCollapsed": true
   },
   "source": [
    "### Constructor Method (`__init__`)"
   ]
  },
  {
   "cell_type": "markdown",
   "id": "87b111a4-ccee-4c99-9bf0-05cb68577585",
   "metadata": {},
   "source": [
    "The `__init__` method is a special method called the constructor. It is executed when a new instance of the class is created. It initializes the instance attributes.\n",
    "\n",
    "**Example:**\n",
    "\n",
    "```python\n",
    "class Person:\n",
    "    def __init__(self, name, age):\n",
    "        self.name = name\n",
    "        self.age = age\n",
    "```\n",
    "\n",
    "In this example:\n",
    "- `__init__` initializes `name` and `age` attributes for a `Person` object."
   ]
  },
  {
   "cell_type": "markdown",
   "id": "59a2c6d0-9c9d-459a-ad70-c28b738eda31",
   "metadata": {
    "jp-MarkdownHeadingCollapsed": true
   },
   "source": [
    "### Instance Attributes"
   ]
  },
  {
   "cell_type": "markdown",
   "id": "e99888db-d498-4698-b824-05dc69e20fd9",
   "metadata": {},
   "source": [
    "Instance attributes are variables that belong to the instance of the class. They are defined in the `__init__` method and are accessed using `self`.\n",
    "\n",
    "**Example:**\n",
    "\n",
    "```python\n",
    "class Car:\n",
    "    def __init__(self, make, model):\n",
    "        self.make = make\n",
    "        self.model = model\n",
    "```\n",
    "\n",
    "Here, `make` and `model` are instance attributes of the `Car` class."
   ]
  },
  {
   "cell_type": "markdown",
   "id": "a0212146-8646-4f0b-9649-26b0e37bfccf",
   "metadata": {
    "jp-MarkdownHeadingCollapsed": true
   },
   "source": [
    "### Instance Methods"
   ]
  },
  {
   "cell_type": "markdown",
   "id": "61cfa29c-da6b-4c80-9e1b-74999b495293",
   "metadata": {},
   "source": [
    "Instance methods are functions defined inside a class that operate on instances of the class. They use `self` to access instance attributes and other methods.\n",
    "\n",
    "**Example:**\n",
    "\n",
    "```python\n",
    "class Calculator:\n",
    "    def __init__(self, value):\n",
    "        self.value = value\n",
    "\n",
    "    def add(self, number):\n",
    "        self.value += number\n",
    "        return self.value\n",
    "\n",
    "    def subtract(self, number):\n",
    "        self.value -= number\n",
    "        return self.value\n",
    "```\n",
    "\n",
    "In this example:\n",
    "- `add` and `subtract` are instance methods that modify the `value` attribute."
   ]
  },
  {
   "cell_type": "markdown",
   "id": "b8ed48b4-ec36-4457-8bee-68353035f0f7",
   "metadata": {
    "jp-MarkdownHeadingCollapsed": true
   },
   "source": [
    "### The `self` Keyword"
   ]
  },
  {
   "cell_type": "markdown",
   "id": "014c3e22-e0e6-4ffd-9066-cab5fc226dc0",
   "metadata": {},
   "source": [
    "The `self` keyword represents the instance of the class. It is used to access instance attributes and methods. It is the first parameter of any instance method.\n",
    "\n",
    "**Example:**\n",
    "\n",
    "```python\n",
    "class Cat:\n",
    "    def __init__(self, name):\n",
    "        self.name = name\n",
    "\n",
    "    def meow(self):\n",
    "        return f\"{self.name} says meow!\"\n",
    "```\n",
    "\n",
    "In this example, `self.name` refers to the `name` attribute of the instance of `Cat`."
   ]
  },
  {
   "cell_type": "markdown",
   "id": "e0d4a3e8-7f43-41f8-b9a9-42f63cfde188",
   "metadata": {
    "jp-MarkdownHeadingCollapsed": true
   },
   "source": [
    "## Class Attributes and Methods"
   ]
  },
  {
   "cell_type": "markdown",
   "id": "31fd97b8-87cb-429e-982a-8e85681a119b",
   "metadata": {
    "jp-MarkdownHeadingCollapsed": true
   },
   "source": [
    "### Class Attributes"
   ]
  },
  {
   "cell_type": "markdown",
   "id": "5ee5f21f-9b03-4288-b86b-e8f6827d3cf6",
   "metadata": {},
   "source": [
    "Class attributes are variables that are shared among all instances of a class. They are defined directly within the class but outside of any methods. They are accessed using the class name or an instance of the class.\n",
    "\n",
    "**Example:**\n",
    "\n",
    "```python\n",
    "class Dog:\n",
    "    species = \"Canis familiaris\"  # Class attribute\n",
    "\n",
    "    def __init__(self, name, age):\n",
    "        self.name = name\n",
    "        self.age = age\n",
    "\n",
    "    def bark(self):\n",
    "        return f\"{self.name} says woof!\"\n",
    "```\n",
    "\n",
    "In this example, `species` is a class attribute that is shared by all instances of the `Dog` class.\n",
    "\n",
    "**Accessing Class Attributes:**\n",
    "\n",
    "```python\n",
    "print(Dog.species)  # Accessing via class name\n",
    "dog = Dog(\"Buddy\", 4)\n",
    "print(dog.species)  # Accessing via instance\n",
    "```"
   ]
  },
  {
   "cell_type": "markdown",
   "id": "7261a4ad-90ab-4418-9d66-4a4f70e19baa",
   "metadata": {
    "jp-MarkdownHeadingCollapsed": true
   },
   "source": [
    "### Class Methods"
   ]
  },
  {
   "cell_type": "markdown",
   "id": "c162ee46-e6e6-49b3-90f7-01e24e4d5f4e",
   "metadata": {},
   "source": [
    "Class methods are methods that operate on the class itself rather than instances of the class. They are defined using the `@classmethod` decorator and take `cls` as their first parameter.\n",
    "\n",
    "**Example:**\n",
    "\n",
    "```python\n",
    "class Employee:\n",
    "    company = \"Tech Solutions\"  # Class attribute\n",
    "\n",
    "    def __init__(self, name, position):\n",
    "        self.name = name\n",
    "        self.position = position\n",
    "\n",
    "    @classmethod\n",
    "    def company_info(cls):\n",
    "        return f\"Company: {cls.company}\"\n",
    "```\n",
    "\n",
    "In this example:\n",
    "- `company_info` is a class method that returns the class attribute `company`.\n",
    "\n",
    "**Accessing Class Methods:**\n",
    "\n",
    "```python\n",
    "print(Employee.company_info())  # Calling via class name\n",
    "```"
   ]
  },
  {
   "cell_type": "markdown",
   "id": "790dbd0a-6293-4230-83a3-b650579c6a88",
   "metadata": {
    "jp-MarkdownHeadingCollapsed": true
   },
   "source": [
    "### Static Methods"
   ]
  },
  {
   "cell_type": "markdown",
   "id": "5c1886b1-6dbb-4e46-a56c-3a84f97197bd",
   "metadata": {},
   "source": [
    "Static methods are methods that do not modify or access the class or instance attributes. They are defined using the `@staticmethod` decorator and do not take `self` or `cls` as their first parameter.\n",
    "\n",
    "**Example:**\n",
    "\n",
    "```python\n",
    "class MathUtils:\n",
    "    @staticmethod\n",
    "    def add(x, y):\n",
    "        return x + y\n",
    "\n",
    "    @staticmethod\n",
    "    def subtract(x, y):\n",
    "        return x - y\n",
    "```\n",
    "\n",
    "In this example:\n",
    "- `add` and `subtract` are static methods that perform basic arithmetic operations.\n",
    "\n",
    "**Accessing Static Methods:**\n",
    "\n",
    "```python\n",
    "print(MathUtils.add(5, 3))  # Calling via class name\n",
    "print(MathUtils.subtract(10, 4))  # Calling via class name\n",
    "```"
   ]
  },
  {
   "cell_type": "markdown",
   "id": "791234f4-a786-4915-ac12-d88e166a3923",
   "metadata": {
    "jp-MarkdownHeadingCollapsed": true
   },
   "source": [
    "## Inheritance"
   ]
  },
  {
   "cell_type": "markdown",
   "id": "e4566a2a-aaa7-4a2b-bf23-515e0af64f17",
   "metadata": {
    "jp-MarkdownHeadingCollapsed": true
   },
   "source": [
    "### Single Inheritance"
   ]
  },
  {
   "cell_type": "markdown",
   "id": "2fcfa57c-4d6f-4fc8-b2b1-4d4354883f80",
   "metadata": {},
   "source": [
    "Single inheritance allows a class (child class) to inherit attributes and methods from another class (parent class). The child class inherits everything from the parent class and can add or override methods and attributes.\n",
    "\n",
    "**Example:**\n",
    "\n",
    "```python\n",
    "class Animal:\n",
    "    def __init__(self, name):\n",
    "        self.name = name\n",
    "\n",
    "    def speak(self):\n",
    "        return f\"{self.name} makes a sound\"\n",
    "\n",
    "class Dog(Animal):\n",
    "    def bark(self):\n",
    "        return f\"{self.name} barks\"\n",
    "\n",
    "# Usage\n",
    "dog = Dog(\"Buddy\")\n",
    "print(dog.speak())  # Inherited method\n",
    "print(dog.bark())   # Child class method\n",
    "```\n",
    "\n",
    "In this example:\n",
    "- `Dog` inherits from `Animal`.\n",
    "- `Dog` can use the `speak` method from `Animal` and also has its own `bark` method."
   ]
  },
  {
   "cell_type": "markdown",
   "id": "bb601645-4914-4529-a28f-0cd38cb547c4",
   "metadata": {
    "jp-MarkdownHeadingCollapsed": true
   },
   "source": [
    "### Multiple Inheritance"
   ]
  },
  {
   "cell_type": "markdown",
   "id": "8c58829c-1327-43d1-8716-a0a798b5fd18",
   "metadata": {},
   "source": [
    "Multiple inheritance allows a class to inherit from more than one parent class. This can be useful for combining functionalities from multiple sources but can also lead to complexity and ambiguity.\n",
    "\n",
    "**Example:**\n",
    "\n",
    "```python\n",
    "class Flyer:\n",
    "    def fly(self):\n",
    "        return \"Flying\"\n",
    "\n",
    "class Swimmer:\n",
    "    def swim(self):\n",
    "        return \"Swimming\"\n",
    "\n",
    "class Duck(Flyer, Swimmer):\n",
    "    def quack(self):\n",
    "        return \"Quacking\"\n",
    "\n",
    "# Usage\n",
    "duck = Duck()\n",
    "print(duck.fly())    # Method from Flyer\n",
    "print(duck.swim())   # Method from Swimmer\n",
    "print(duck.quack())  # Method from Duck\n",
    "```\n",
    "\n",
    "In this example:\n",
    "- `Duck` inherits from both `Flyer` and `Swimmer`."
   ]
  },
  {
   "cell_type": "markdown",
   "id": "77d0af58-7104-4bc9-95ec-802e6c5531b9",
   "metadata": {
    "jp-MarkdownHeadingCollapsed": true
   },
   "source": [
    "### Overriding Methods"
   ]
  },
  {
   "cell_type": "markdown",
   "id": "43baab77-883d-4231-8d19-dced4ebf4381",
   "metadata": {},
   "source": [
    "Child classes can override methods from parent classes to provide specific functionality. The child class defines a method with the same name as the parent class, and this method will be used instead of the parent’s method.\n",
    "\n",
    "**Example:**\n",
    "\n",
    "```python\n",
    "class Animal:\n",
    "    def speak(self):\n",
    "        return \"Animal sound\"\n",
    "\n",
    "class Cat(Animal):\n",
    "    def speak(self):\n",
    "        return \"Meow\"\n",
    "\n",
    "# Usage\n",
    "cat = Cat()\n",
    "print(cat.speak())  # Overridden method\n",
    "```\n",
    "\n",
    "In this example:\n",
    "- `Cat` overrides the `speak` method of `Animal` to provide a specific implementation."
   ]
  },
  {
   "cell_type": "markdown",
   "id": "5fe5f37f-4501-4ed5-912c-627af62340de",
   "metadata": {
    "jp-MarkdownHeadingCollapsed": true
   },
   "source": [
    "### The `super()` Function"
   ]
  },
  {
   "cell_type": "markdown",
   "id": "ec1eab09-0f58-4f17-859d-0a5577cdbc7d",
   "metadata": {},
   "source": [
    "The `super()` function is used to call methods from the parent class. It is often used in the constructor of a child class to ensure that the parent class is properly initialized.\n",
    "\n",
    "**Example:**\n",
    "\n",
    "```python\n",
    "class Animal:\n",
    "    def __init__(self, name):\n",
    "        self.name = name\n",
    "\n",
    "class Dog(Animal):\n",
    "    def __init__(self, name, breed):\n",
    "        super().__init__(name)  # Calls the __init__ method of Animal\n",
    "        self.breed = breed\n",
    "\n",
    "# Usage\n",
    "dog = Dog(\"Buddy\", \"Golden Retriever\")\n",
    "print(dog.name)  # Inherited attribute\n",
    "print(dog.breed) # Child class attribute\n",
    "```\n",
    "\n",
    "In this example:\n",
    "- `super().__init__(name)` ensures that the `name` attribute is initialized by the `Animal` class's `__init__` method."
   ]
  },
  {
   "cell_type": "markdown",
   "id": "c4954f0e-0074-4b44-83a0-a6d6faaf18f4",
   "metadata": {
    "jp-MarkdownHeadingCollapsed": true
   },
   "source": [
    "## Encapsulation"
   ]
  },
  {
   "cell_type": "markdown",
   "id": "5f1b2b65-ac4d-46e2-a9dc-9c304c320cfb",
   "metadata": {
    "jp-MarkdownHeadingCollapsed": true
   },
   "source": [
    "### Private Attributes and Methods"
   ]
  },
  {
   "cell_type": "markdown",
   "id": "794e6cf1-0063-4992-b869-62a1e4746745",
   "metadata": {},
   "source": [
    "Encapsulation is a principle of object-oriented programming that restricts access to certain details of an object, hiding its internal state and requiring all interaction to be performed through an object's methods. In Python, private attributes and methods are indicated by a leading double underscore (`__`). This makes them less accessible from outside the class.\n",
    "\n",
    "**Example:**\n",
    "\n",
    "```python\n",
    "class Person:\n",
    "    def __init__(self, name, age):\n",
    "        self.__name = name  # Private attribute\n",
    "        self.__age = age  # Private attribute\n",
    "\n",
    "    def get_name(self):\n",
    "        return self.__name\n",
    "\n",
    "    def set_name(self, name):\n",
    "        self.__name = name\n",
    "\n",
    "    def get_age(self):\n",
    "        return self.__age\n",
    "\n",
    "    def set_age(self, age):\n",
    "        self.__age = age\n",
    "```\n",
    "\n",
    "In this example:\n",
    "- `__name` and `__age` are private attributes.\n",
    "- `get_name`, `set_name`, `get_age`, and `set_age` are public methods that provide controlled access to the private attributes.\n",
    "\n",
    "**Accessing Private Attributes:**\n",
    "\n",
    "```python\n",
    "person = Person(\"Alice\", 30)\n",
    "print(person.get_name())  # Accessing via method\n",
    "person.set_name(\"Bob\")\n",
    "print(person.get_name())\n",
    "```"
   ]
  },
  {
   "cell_type": "markdown",
   "id": "ecd037a2-9177-4c71-abdb-1348f40916ef",
   "metadata": {
    "jp-MarkdownHeadingCollapsed": true
   },
   "source": [
    "### Public vs. Private Access Modifiers"
   ]
  },
  {
   "cell_type": "markdown",
   "id": "f752646d-67ce-4f50-a381-2768f2b2ad9d",
   "metadata": {},
   "source": [
    "- **Public Attributes/Methods**: Accessible from anywhere outside the class. They are defined without leading underscores.\n",
    "  \n",
    "  **Example:**\n",
    "  \n",
    "  ```python\n",
    "  class Example:\n",
    "      def __init__(self, value):\n",
    "          self.value = value  # Public attribute\n",
    "          \n",
    "      def display(self):\n",
    "          return f\"Value is {self.value}\"  # Public method\n",
    "  ```\n",
    "\n",
    "- **Private Attributes/Methods**: Intended to be inaccessible from outside the class. They are defined with leading double underscores (`__`).\n",
    "\n",
    "  **Example:**\n",
    "  \n",
    "  ```python\n",
    "  class Example:\n",
    "      def __init__(self, value):\n",
    "          self.__value = value  # Private attribute\n",
    "          \n",
    "      def __hidden_method(self):\n",
    "          return f\"Hidden value is {self.__value}\"  # Private method\n",
    "          \n",
    "      def public_method(self):\n",
    "          return self.__hidden_method()  # Public method accessing private method\n",
    "  ```"
   ]
  },
  {
   "cell_type": "markdown",
   "id": "ba0add9b-21b4-4977-b4af-5ddf9ec8e80d",
   "metadata": {
    "jp-MarkdownHeadingCollapsed": true
   },
   "source": [
    "### Getters and Setters"
   ]
  },
  {
   "cell_type": "markdown",
   "id": "f76b360b-7e37-49c4-977e-a2f7f3bba57b",
   "metadata": {},
   "source": [
    "Getters and setters are methods used to access and modify the private attributes of a class. They provide a controlled way to interact with private data, allowing validation or processing before setting or retrieving values.\n",
    "\n",
    "**Example:**\n",
    "\n",
    "```python\n",
    "class BankAccount:\n",
    "    def __init__(self, balance):\n",
    "        self.__balance = balance\n",
    "\n",
    "    def get_balance(self):\n",
    "        return self.__balance\n",
    "\n",
    "    def deposit(self, amount):\n",
    "        if amount > 0:\n",
    "            self.__balance += amount\n",
    "        else:\n",
    "            print(\"Deposit amount must be positive.\")\n",
    "\n",
    "    def withdraw(self, amount):\n",
    "        if 0 < amount <= self.__balance:\n",
    "            self.__balance -= amount\n",
    "        else:\n",
    "            print(\"Insufficient balance or invalid amount.\")\n",
    "```\n",
    "\n",
    "In this example:\n",
    "- `get_balance` is a getter method for the `__balance` attribute.\n",
    "- `deposit` and `withdraw` are setter methods that modify `__balance` with validation."
   ]
  },
  {
   "cell_type": "markdown",
   "id": "22e4cabc-163b-4afe-9241-a35d08dba835",
   "metadata": {
    "jp-MarkdownHeadingCollapsed": true
   },
   "source": [
    "## Polymorphism"
   ]
  },
  {
   "cell_type": "markdown",
   "id": "fc72a341-d38d-4cc6-bf83-64cfb0b67cee",
   "metadata": {
    "jp-MarkdownHeadingCollapsed": true
   },
   "source": [
    "### Method Overloading"
   ]
  },
  {
   "cell_type": "markdown",
   "id": "55604fcb-daf7-48c9-bae6-d8744188a307",
   "metadata": {},
   "source": [
    "In Python, method overloading refers to the ability of a method to operate in different ways based on the arguments passed. While Python does not support traditional method overloading found in some other languages, you can achieve similar behavior using default arguments and variable-length arguments.\n",
    "\n",
    "**Example:**\n",
    "\n",
    "```python\n",
    "class Calculator:\n",
    "    def add(self, a, b, c=0):\n",
    "        return a + b + c\n",
    "\n",
    "# Usage\n",
    "calc = Calculator()\n",
    "print(calc.add(1, 2))     # Output: 3\n",
    "print(calc.add(1, 2, 3))  # Output: 6\n",
    "```\n",
    "\n",
    "In this example:\n",
    "- The `add` method can operate with either two or three arguments."
   ]
  },
  {
   "cell_type": "markdown",
   "id": "6218e9e6-8005-434b-92fd-f4aec2851653",
   "metadata": {
    "jp-MarkdownHeadingCollapsed": true
   },
   "source": [
    "### Operator Overloading"
   ]
  },
  {
   "cell_type": "markdown",
   "id": "318cbe90-3385-40e2-be49-fc09167ecdae",
   "metadata": {},
   "source": [
    "Operator overloading allows you to define custom behavior for operators (+, -, *, etc.) for instances of your class by overriding special methods (also called magic methods or dunder methods).\n",
    "\n",
    "**Example:**\n",
    "\n",
    "```python\n",
    "class Vector:\n",
    "    def __init__(self, x, y):\n",
    "        self.x = x\n",
    "        self.y = y\n",
    "\n",
    "    def __add__(self, other):\n",
    "        return Vector(self.x + other.x, self.y + other.y)\n",
    "\n",
    "    def __str__(self):\n",
    "        return f\"Vector({self.x}, {self.y})\"\n",
    "\n",
    "# Usage\n",
    "v1 = Vector(2, 3)\n",
    "v2 = Vector(4, 5)\n",
    "v3 = v1 + v2\n",
    "print(v3)  # Output: Vector(6, 8)\n",
    "```\n",
    "\n",
    "In this example:\n",
    "- The `__add__` method defines how the `+` operator should behave for `Vector` objects."
   ]
  },
  {
   "cell_type": "markdown",
   "id": "5bc5c028-e397-4931-9057-c9f49cca1e6c",
   "metadata": {
    "jp-MarkdownHeadingCollapsed": true
   },
   "source": [
    "## Special Methods"
   ]
  },
  {
   "cell_type": "markdown",
   "id": "d8c64122-2b3e-48b7-ae8a-8e94288d7ded",
   "metadata": {
    "jp-MarkdownHeadingCollapsed": true
   },
   "source": [
    "### `__str__` and `__repr__`"
   ]
  },
  {
   "cell_type": "markdown",
   "id": "03e4cad4-51d2-49a5-8006-c71108bbd8a0",
   "metadata": {},
   "source": [
    "These methods are used to define how objects of your class are represented as strings. `__str__` is used for creating a readable string representation of an object (e.g., for printing), while `__repr__` is used to create an unambiguous string representation of an object (e.g., for debugging).\n",
    "\n",
    "**Example:**\n",
    "\n",
    "```python\n",
    "class Person:\n",
    "    def __init__(self, name, age):\n",
    "        self.name = name\n",
    "        self.age = age\n",
    "\n",
    "    def __str__(self):\n",
    "        return f\"{self.name}, {self.age} years old\"\n",
    "\n",
    "    def __repr__(self):\n",
    "        return f\"Person(name={self.name}, age={self.age})\"\n",
    "\n",
    "# Usage\n",
    "p = Person(\"Alice\", 30)\n",
    "print(str(p))  # Output: Alice, 30 years old\n",
    "print(repr(p)) # Output: Person(name=Alice, age=30)\n",
    "```"
   ]
  },
  {
   "cell_type": "markdown",
   "id": "d48acbf9-c93d-46df-9458-a371a53a963b",
   "metadata": {
    "jp-MarkdownHeadingCollapsed": true
   },
   "source": [
    "### `__eq__`, `__lt__`, etc."
   ]
  },
  {
   "cell_type": "markdown",
   "id": "24471b1b-c6aa-4ba9-9901-905e15563072",
   "metadata": {},
   "source": [
    "These methods allow you to define custom behavior for comparison operators. They include `__eq__` (==), `__ne__` (!=), `__lt__` (<), `__le__` (<=), `__gt__` (>), and `__ge__` (>=).\n",
    "\n",
    "**Example:**\n",
    "\n",
    "```python\n",
    "class Rectangle:\n",
    "    def __init__(self, width, height):\n",
    "        self.width = width\n",
    "        self.height = height\n",
    "\n",
    "    def area(self):\n",
    "        return self.width * self.height\n",
    "\n",
    "    def __eq__(self, other):\n",
    "        return self.area() == other.area()\n",
    "\n",
    "    def __lt__(self, other):\n",
    "        return self.area() < other.area()\n",
    "\n",
    "# Usage\n",
    "r1 = Rectangle(3, 4)\n",
    "r2 = Rectangle(2, 6)\n",
    "print(r1 == r2)  # Output: True\n",
    "print(r1 < r2)   # Output: False\n",
    "```"
   ]
  },
  {
   "cell_type": "markdown",
   "id": "2a4da54d-1b1d-4cb1-b925-86ba48fcc75d",
   "metadata": {
    "jp-MarkdownHeadingCollapsed": true
   },
   "source": [
    "### `__len__`, `__getitem__`, etc."
   ]
  },
  {
   "cell_type": "markdown",
   "id": "587f1a30-ddb0-47fe-9664-0978499c94d5",
   "metadata": {},
   "source": [
    "These methods allow objects of your class to behave like built-in collections (e.g., lists, dictionaries).\n",
    "\n",
    "- **`__len__`**: Defines the behavior of the `len()` function.\n",
    "- **`__getitem__`**: Defines the behavior of accessing an item using the indexing syntax (`[]`).\n",
    "- **`__setitem__`**: Defines the behavior of setting an item using the indexing syntax (`[]`).\n",
    "- **`__delitem__`**: Defines the behavior of deleting an item using the indexing syntax (`[]`).\n",
    "\n",
    "**Example:**\n",
    "\n",
    "```python\n",
    "class CustomList:\n",
    "    def __init__(self, elements):\n",
    "        self.elements = elements\n",
    "\n",
    "    def __len__(self):\n",
    "        return len(self.elements)\n",
    "\n",
    "    def __getitem__(self, index):\n",
    "        return self.elements[index]\n",
    "\n",
    "    def __setitem__(self, index, value):\n",
    "        self.elements[index] = value\n",
    "\n",
    "    def __delitem__(self, index):\n",
    "        del self.elements[index]\n",
    "\n",
    "# Usage\n",
    "clist = CustomList([1, 2, 3, 4])\n",
    "print(len(clist))      # Output: 4\n",
    "print(clist[2])        # Output: 3\n",
    "clist[2] = 10\n",
    "print(clist[2])        # Output: 10\n",
    "del clist[2]\n",
    "print(clist[2])        # Output: 4\n",
    "```"
   ]
  },
  {
   "cell_type": "markdown",
   "id": "5a74839d-5e24-4c76-b37a-523ba3743cbb",
   "metadata": {
    "jp-MarkdownHeadingCollapsed": true
   },
   "source": [
    "## Composition"
   ]
  },
  {
   "cell_type": "markdown",
   "id": "3c92091d-8a28-4de5-81ee-3689f8e12f3f",
   "metadata": {
    "jp-MarkdownHeadingCollapsed": true
   },
   "source": [
    "### Definition of Composition"
   ]
  },
  {
   "cell_type": "markdown",
   "id": "93e91099-dc40-4369-8b9a-f045469ca1cc",
   "metadata": {},
   "source": [
    "Composition is a design principle in which a class is composed of one or more objects from other classes, meaning that a class can be made up of other classes. This allows for more complex and modular designs, promoting code reuse and flexibility."
   ]
  },
  {
   "cell_type": "markdown",
   "id": "a9bf9d16-e340-4ab4-b364-43c853c39f0e",
   "metadata": {
    "jp-MarkdownHeadingCollapsed": true
   },
   "source": [
    "### Creating a Composite Class"
   ]
  },
  {
   "cell_type": "markdown",
   "id": "2874e909-0fdf-4ea2-b426-ccb8b2d5e34c",
   "metadata": {},
   "source": [
    "In composition, you include instances of other classes as attributes in your class. This way, your class can leverage the functionalities of the included classes.\n",
    "\n",
    "**Example:**\n",
    "\n",
    "```python\n",
    "class Engine:\n",
    "    def __init__(self, horsepower):\n",
    "        self.horsepower = horsepower\n",
    "\n",
    "    def start(self):\n",
    "        return \"Engine started\"\n",
    "\n",
    "class Wheels:\n",
    "    def __init__(self, size):\n",
    "        self.size = size\n",
    "\n",
    "    def rotate(self):\n",
    "        return \"Wheels are rotating\"\n",
    "\n",
    "class Car:\n",
    "    def __init__(self, make, model, horsepower, wheel_size):\n",
    "        self.make = make\n",
    "        self.model = model\n",
    "        self.engine = Engine(horsepower)  # Composition\n",
    "        self.wheels = Wheels(wheel_size)  # Composition\n",
    "\n",
    "    def drive(self):\n",
    "        return f\"{self.engine.start()} and {self.wheels.rotate()}\"\n",
    "\n",
    "# Usage\n",
    "car = Car(\"Toyota\", \"Camry\", 268, 17)\n",
    "print(car.drive())  # Output: Engine started and Wheels are rotating\n",
    "```\n",
    "\n",
    "In this example:\n",
    "- `Car` is composed of `Engine` and `Wheels` classes.\n",
    "- `Car` uses instances of `Engine` and `Wheels` to provide functionalities like `start` and `rotate`."
   ]
  },
  {
   "cell_type": "markdown",
   "id": "1100ac14-22de-4fd0-829c-22302ef5934e",
   "metadata": {
    "jp-MarkdownHeadingCollapsed": true
   },
   "source": [
    "### Advantages of Composition"
   ]
  },
  {
   "cell_type": "markdown",
   "id": "e2ca8022-2285-4296-981f-a9ab9b83adb4",
   "metadata": {},
   "source": [
    "1. **Code Reusability**: Composition promotes code reuse by allowing you to create complex types by combining simpler types.\n",
    "2. **Flexibility**: You can change the composed objects without modifying the class that uses them.\n",
    "3. **Encapsulation**: Composition helps in hiding the complexities of composed objects, providing a simpler interface."
   ]
  },
  {
   "cell_type": "markdown",
   "id": "80c61737-a5c0-4649-83d4-1eecc58e74b2",
   "metadata": {
    "jp-MarkdownHeadingCollapsed": true
   },
   "source": [
    "### Comparison with Inheritance"
   ]
  },
  {
   "cell_type": "markdown",
   "id": "9135d2a8-f25e-4da9-a92a-d7957339c1c2",
   "metadata": {},
   "source": [
    "- **Inheritance**: Establishes an \"is-a\" relationship. A subclass inherits properties and behaviors from a parent class.\n",
    "  - **Example**: A `Dog` class inherits from an `Animal` class (a dog is an animal).\n",
    "\n",
    "- **Composition**: Establishes a \"has-a\" relationship. A class contains objects of other classes.\n",
    "  - **Example**: A `Car` class has an `Engine` and `Wheels`."
   ]
  },
  {
   "cell_type": "markdown",
   "id": "2165f950-854a-4e67-bae4-745ce77b4d2c",
   "metadata": {
    "jp-MarkdownHeadingCollapsed": true
   },
   "source": [
    "### When to Use Composition Over Inheritance"
   ]
  },
  {
   "cell_type": "markdown",
   "id": "5c46481a-66b0-4300-a5f9-9d808cd709a7",
   "metadata": {},
   "source": [
    "1. **Flexibility**: Use composition if you need the flexibility to change behavior at runtime.\n",
    "2. **Complex Hierarchies**: Avoid deep and complex inheritance hierarchies by using composition.\n",
    "3. **Shared Functionality**: When different classes need to share functionality without a common ancestor."
   ]
  },
  {
   "cell_type": "markdown",
   "id": "7b32a30f-22c1-4ba4-9d45-c4e46de6b3f1",
   "metadata": {
    "jp-MarkdownHeadingCollapsed": true
   },
   "source": [
    "## Aggregation"
   ]
  },
  {
   "cell_type": "markdown",
   "id": "12f3cc4a-1ad4-4b67-ba7b-e924de08b05e",
   "metadata": {
    "jp-MarkdownHeadingCollapsed": true
   },
   "source": [
    "### Definition of Aggregation"
   ]
  },
  {
   "cell_type": "markdown",
   "id": "327ec8c0-d9e7-4e95-b370-32b3fdba5bf0",
   "metadata": {},
   "source": [
    "Aggregation is a design principle similar to composition but with a key difference: aggregation represents a \"whole-part\" relationship where the part can exist independently of the whole. In other words, the lifetime of the part is not managed by the whole. This contrasts with composition, where the part is typically owned by the whole and cannot exist independently."
   ]
  },
  {
   "cell_type": "markdown",
   "id": "0dbc34b5-33ca-4642-8db8-f33b7ad8ce7a",
   "metadata": {
    "jp-MarkdownHeadingCollapsed": true
   },
   "source": [
    "### Creating an Aggregated Class"
   ]
  },
  {
   "cell_type": "markdown",
   "id": "c07ae278-2d99-48d9-af91-d8a56b8ee2c4",
   "metadata": {},
   "source": [
    "In aggregation, one class contains a reference to another class, but the referenced class can exist independently.\n",
    "\n",
    "**Example:**\n",
    "\n",
    "```python\n",
    "class Employee:\n",
    "    def __init__(self, name, position):\n",
    "        self.name = name\n",
    "        self.position = position\n",
    "\n",
    "    def work(self):\n",
    "        return f\"{self.name} is working as a {self.position}\"\n",
    "\n",
    "class Department:\n",
    "    def __init__(self, name):\n",
    "        self.name = name\n",
    "        self.employees = []  # Aggregation\n",
    "\n",
    "    def add_employee(self, employee):\n",
    "        self.employees.append(employee)\n",
    "\n",
    "    def department_info(self):\n",
    "        return f\"Department {self.name} has employees: {[employee.name for employee in self.employees]}\"\n",
    "\n",
    "# Usage\n",
    "dept = Department(\"IT\")\n",
    "emp1 = Employee(\"Alice\", \"Developer\")\n",
    "emp2 = Employee(\"Bob\", \"Designer\")\n",
    "\n",
    "dept.add_employee(emp1)\n",
    "dept.add_employee(emp2)\n",
    "\n",
    "print(dept.department_info())  # Output: Department IT has employees: ['Alice', 'Bob']\n",
    "print(emp1.work())             # Output: Alice is working as a Developer\n",
    "```\n",
    "\n",
    "In this example:\n",
    "- `Department` contains a reference to `Employee` objects.\n",
    "- `Employee` objects can exist independently of the `Department`."
   ]
  },
  {
   "cell_type": "markdown",
   "id": "c633f96e-43c2-40a6-aecb-e8df3cc397c4",
   "metadata": {
    "jp-MarkdownHeadingCollapsed": true
   },
   "source": [
    "### Advantages of Aggregation"
   ]
  },
  {
   "cell_type": "markdown",
   "id": "40425f23-b764-4446-88f0-a2da962f9c5a",
   "metadata": {},
   "source": [
    "1. **Independence**: Parts can exist independently of the whole.\n",
    "2. **Flexibility**: Parts can be shared among different wholes.\n",
    "3. **Modularity**: Promotes modular design, making it easier to manage and extend."
   ]
  },
  {
   "cell_type": "markdown",
   "id": "b36622d5-8236-43b7-bba3-c67236d15899",
   "metadata": {
    "jp-MarkdownHeadingCollapsed": true
   },
   "source": [
    "### Comparison with Composition"
   ]
  },
  {
   "cell_type": "markdown",
   "id": "230612c9-4488-4cb7-98fa-fc7d78e87236",
   "metadata": {},
   "source": [
    "- **Composition**: Represents a strong \"has-a\" relationship where the part's lifecycle is managed by the whole.\n",
    "  - **Example**: A `Car` class has an `Engine` that cannot exist independently of the `Car`.\n",
    "\n",
    "- **Aggregation**: Represents a weaker \"has-a\" relationship where the part can exist independently of the whole.\n",
    "  - **Example**: A `Department` class has `Employee` objects that can exist independently of the `Department`."
   ]
  },
  {
   "cell_type": "markdown",
   "id": "7180f07c-fa36-44cf-8d29-8fb58bf3a7ff",
   "metadata": {
    "jp-MarkdownHeadingCollapsed": true
   },
   "source": [
    "### When to Use Aggregation Over Composition"
   ]
  },
  {
   "cell_type": "markdown",
   "id": "1e10ccbc-3c7b-4be4-8f0e-33e06f859552",
   "metadata": {},
   "source": [
    "1. **Independent Parts**: Use aggregation when parts can exist independently of the whole.\n",
    "2. **Shared Parts**: Use aggregation when parts need to be shared among different objects."
   ]
  },
  {
   "cell_type": "markdown",
   "id": "ae9c4837-0bfa-485f-812a-af57360da4c3",
   "metadata": {
    "jp-MarkdownHeadingCollapsed": true
   },
   "source": [
    "## Practice Problems"
   ]
  },
  {
   "cell_type": "markdown",
   "id": "6e08ea48-2cfe-4afe-965c-9b0e943bac2e",
   "metadata": {
    "jp-MarkdownHeadingCollapsed": true
   },
   "source": [
    "### Problem 1: Basic Class Creation"
   ]
  },
  {
   "cell_type": "markdown",
   "id": "f2f7dfb6-74e0-4acc-b79a-216d44d01811",
   "metadata": {},
   "source": [
    "Create a class `Book` with the following attributes and methods:\n",
    "\n",
    "- Attributes: `title`, `author`, `pages`\n",
    "- Methods:\n",
    "  - `__init__`: Initializes the attributes.\n",
    "  - `__str__`: Returns a string representation of the book in the format `\"Title by Author, pages pages\"`.\n",
    "\n",
    "**Example Usage:**\n",
    "\n",
    "```python\n",
    "book = Book(\"1984\", \"George Orwell\", 328)\n",
    "print(book)  # Output: 1984 by George Orwell, 328 pages\n",
    "```"
   ]
  },
  {
   "cell_type": "markdown",
   "id": "3b9e49e1-b590-4cfc-80d0-faeaf7d1826a",
   "metadata": {
    "jp-MarkdownHeadingCollapsed": true
   },
   "source": [
    "### Problem 2: Class Inheritance"
   ]
  },
  {
   "cell_type": "markdown",
   "id": "b854757a-b95d-431b-87b0-26479d6ae73b",
   "metadata": {},
   "source": [
    "Create a base class `Animal` with a method `speak` that returns `\"Some sound\"`. Create a subclass `Dog` that overrides the `speak` method to return `\"Woof\"` and a subclass `Cat` that overrides the `speak` method to return `\"Meow\"`.\n",
    "\n",
    "**Example Usage:**\n",
    "\n",
    "```python\n",
    "dog = Dog()\n",
    "cat = Cat()\n",
    "print(dog.speak())  # Output: Woof\n",
    "print(cat.speak())  # Output: Meow\n",
    "```"
   ]
  },
  {
   "cell_type": "markdown",
   "id": "0f8b58ac-2fb4-4ada-bc4d-259b87ce2431",
   "metadata": {
    "jp-MarkdownHeadingCollapsed": true
   },
   "source": [
    "### Problem 3: Encapsulation"
   ]
  },
  {
   "cell_type": "markdown",
   "id": "62d4cc85-a383-4048-a62a-785a6bdff26e",
   "metadata": {},
   "source": [
    "Create a class `BankAccount` with private attributes `__balance` and public methods `deposit`, `withdraw`, and `get_balance`. Ensure that `deposit` and `withdraw` validate the amount to be positive and within the available balance.\n",
    "\n",
    "**Example Usage:**\n",
    "\n",
    "```python\n",
    "account = BankAccount(100)\n",
    "account.deposit(50)\n",
    "account.withdraw(30)\n",
    "print(account.get_balance())  # Output: 120\n",
    "account.withdraw(200)         # Should print an error message\n",
    "```"
   ]
  },
  {
   "cell_type": "markdown",
   "id": "291798bc-675c-4b69-9944-6da32c3b7f71",
   "metadata": {
    "jp-MarkdownHeadingCollapsed": true
   },
   "source": [
    "### Problem 4: Composition"
   ]
  },
  {
   "cell_type": "markdown",
   "id": "3387deab-e262-4351-b6c2-19b54ff971ce",
   "metadata": {},
   "source": [
    "Create a class `Person` with attributes `name` and `age`. Create another class `Address` with attributes `street`, `city`, and `zipcode`. Use composition to include an `Address` object within the `Person` class.\n",
    "\n",
    "**Example Usage:**\n",
    "\n",
    "```python\n",
    "address = Address(\"123 Main St\", \"Anytown\", \"12345\")\n",
    "person = Person(\"John Doe\", 30, address)\n",
    "print(person.address.street)  # Output: 123 Main St\n",
    "```"
   ]
  },
  {
   "cell_type": "markdown",
   "id": "11d7589c-c2cb-4785-8fd5-d656185344e3",
   "metadata": {
    "jp-MarkdownHeadingCollapsed": true
   },
   "source": [
    "### Problem 5: Operator Overloading"
   ]
  },
  {
   "cell_type": "markdown",
   "id": "7e458f1e-ca8c-4784-9907-ed7a7dc203d7",
   "metadata": {},
   "source": [
    "Create a class `Point` that represents a point in 2D space with `x` and `y` coordinates. Overload the `+` operator to add two `Point` objects.\n",
    "\n",
    "**Example Usage:**\n",
    "\n",
    "```python\n",
    "p1 = Point(1, 2)\n",
    "p2 = Point(3, 4)\n",
    "p3 = p1 + p2\n",
    "print(p3)  # Output: Point(4, 6)\n",
    "```"
   ]
  },
  {
   "cell_type": "markdown",
   "id": "a8e65895-40f2-4644-af28-b185ba139c52",
   "metadata": {
    "jp-MarkdownHeadingCollapsed": true
   },
   "source": [
    "### Problem 6: Aggregation"
   ]
  },
  {
   "cell_type": "markdown",
   "id": "0c68b86d-1e4c-4caf-80f8-dd2b08597098",
   "metadata": {},
   "source": [
    "Create classes `Student` and `Course`. A `Course` can have multiple `Student` objects. Use aggregation to represent this relationship.\n",
    "\n",
    "**Example Usage:**\n",
    "\n",
    "```python\n",
    "student1 = Student(\"Alice\", \"001\")\n",
    "student2 = Student(\"Bob\", \"002\")\n",
    "course = Course(\"Math\")\n",
    "course.add_student(student1)\n",
    "course.add_student(student2)\n",
    "print(course.get_students())  # Output: ['Alice', 'Bob']\n",
    "```"
   ]
  },
  {
   "cell_type": "markdown",
   "id": "def0178e-bd0b-4662-87bf-ade23377523b",
   "metadata": {
    "jp-MarkdownHeadingCollapsed": true
   },
   "source": [
    "### Problem 7: Class Methods and Static Methods"
   ]
  },
  {
   "cell_type": "markdown",
   "id": "16d1bc28-e682-4445-9185-7fe5acd49353",
   "metadata": {},
   "source": [
    "Create a class `Temperature` with a static method `celsius_to_fahrenheit` and a class method `from_fahrenheit` that creates an instance of `Temperature` from a Fahrenheit value.\n",
    "\n",
    "**Example Usage:**\n",
    "\n",
    "```python\n",
    "temp = Temperature.from_fahrenheit(98.6)\n",
    "print(temp.celsius)  # Convert and print the temperature in Celsius\n",
    "print(Temperature.celsius_to_fahrenheit(37))  # Output: 98.6\n",
    "```"
   ]
  },
  {
   "cell_type": "markdown",
   "id": "37cad5bd-e16b-4093-9f39-c7b7a0ddb82c",
   "metadata": {
    "jp-MarkdownHeadingCollapsed": true
   },
   "source": [
    "### Problem 8: Polymorphism"
   ]
  },
  {
   "cell_type": "markdown",
   "id": "478946bb-338b-4993-9dda-e3cc04f8fab8",
   "metadata": {},
   "source": [
    "Create a function `describe_animal` that takes an `Animal` object and calls its `speak` method. Demonstrate polymorphism by passing different `Animal` subclasses to the function.\n",
    "\n",
    "**Example Usage:**\n",
    "\n",
    "```python\n",
    "def describe_animal(animal):\n",
    "    print(animal.speak())\n",
    "\n",
    "dog = Dog()\n",
    "cat = Cat()\n",
    "describe_animal(dog)  # Output: Woof\n",
    "describe_animal(cat)  # Output: Meow\n",
    "```"
   ]
  },
  {
   "cell_type": "markdown",
   "id": "e9cb5295-2e1e-47d0-be1b-c755029f9d2d",
   "metadata": {
    "jp-MarkdownHeadingCollapsed": true
   },
   "source": [
    "## Common Design Patterns"
   ]
  },
  {
   "cell_type": "markdown",
   "id": "49855f24-d862-4463-bfdf-86005d08073e",
   "metadata": {
    "jp-MarkdownHeadingCollapsed": true
   },
   "source": [
    "### Singleton Pattern"
   ]
  },
  {
   "cell_type": "markdown",
   "id": "989a3b37-99cc-4f8a-b96b-c2e7e25d2427",
   "metadata": {},
   "source": [
    "The Singleton pattern ensures that a class has only one instance and provides a global point of access to it. This can be useful when exactly one object is needed to coordinate actions across a system.\n",
    "\n",
    "**Example:**\n",
    "\n",
    "```python\n",
    "class Singleton:\n",
    "    _instance = None\n",
    "\n",
    "    def __new__(cls, *args, **kwargs):\n",
    "        if not cls._instance:\n",
    "            cls._instance = super(Singleton, cls).__new__(cls, *args, **kwargs)\n",
    "        return cls._instance\n",
    "\n",
    "# Usage\n",
    "singleton1 = Singleton()\n",
    "singleton2 = Singleton()\n",
    "print(singleton1 is singleton2)  # Output: True\n",
    "```"
   ]
  },
  {
   "cell_type": "markdown",
   "id": "24d0e65f-2dde-4294-b320-25c1ebfd38b3",
   "metadata": {
    "jp-MarkdownHeadingCollapsed": true
   },
   "source": [
    "### Factory Pattern"
   ]
  },
  {
   "cell_type": "markdown",
   "id": "939a0e53-cf74-4ff1-a398-acd43df1d4e2",
   "metadata": {},
   "source": [
    "The Factory pattern defines an interface for creating an object but lets subclasses alter the type of objects that will be created. This pattern is useful for creating objects in a way that does not expose the creation logic to the client.\n",
    "\n",
    "**Example:**\n",
    "\n",
    "```python\n",
    "class Animal:\n",
    "    def speak(self):\n",
    "        pass\n",
    "\n",
    "class Dog(Animal):\n",
    "    def speak(self):\n",
    "        return \"Woof\"\n",
    "\n",
    "class Cat(Animal):\n",
    "    def speak(self):\n",
    "        return \"Meow\"\n",
    "\n",
    "class AnimalFactory:\n",
    "    @staticmethod\n",
    "    def create_animal(animal_type):\n",
    "        if animal_type == \"Dog\":\n",
    "            return Dog()\n",
    "        elif animal_type == \"Cat\":\n",
    "            return Cat()\n",
    "\n",
    "# Usage\n",
    "factory = AnimalFactory()\n",
    "dog = factory.create_animal(\"Dog\")\n",
    "cat = factory.create_animal(\"Cat\")\n",
    "print(dog.speak())  # Output: Woof\n",
    "print(cat.speak())  # Output: Meow\n",
    "```"
   ]
  },
  {
   "cell_type": "markdown",
   "id": "8b491486-8ec2-4d71-aa84-06f2c81fe511",
   "metadata": {
    "jp-MarkdownHeadingCollapsed": true
   },
   "source": [
    "### Observer Pattern"
   ]
  },
  {
   "cell_type": "markdown",
   "id": "4cc8c9c7-9751-4c91-9939-17949facd171",
   "metadata": {},
   "source": [
    "The Observer pattern defines a one-to-many dependency between objects so that when one object changes state, all its dependents are notified and updated automatically. This pattern is often used in implementing distributed event-handling systems.\n",
    "\n",
    "**Example:**\n",
    "\n",
    "```python\n",
    "class Observer:\n",
    "    def update(self, message):\n",
    "        pass\n",
    "\n",
    "class ConcreteObserver(Observer):\n",
    "    def update(self, message):\n",
    "        print(f\"Received message: {message}\")\n",
    "\n",
    "class Subject:\n",
    "    def __init__(self):\n",
    "        self._observers = []\n",
    "\n",
    "    def add_observer(self, observer):\n",
    "        self._observers.append(observer)\n",
    "\n",
    "    def remove_observer(self, observer):\n",
    "        self._observers.remove(observer)\n",
    "\n",
    "    def notify_observers(self, message):\n",
    "        for observer in self._observers:\n",
    "            observer.update(message)\n",
    "\n",
    "# Usage\n",
    "subject = Subject()\n",
    "observer1 = ConcreteObserver()\n",
    "observer2 = ConcreteObserver()\n",
    "\n",
    "subject.add_observer(observer1)\n",
    "subject.add_observer(observer2)\n",
    "\n",
    "subject.notify_observers(\"Hello, Observers!\")  # Output: Received message: Hello, Observers! (twice)\n",
    "```"
   ]
  },
  {
   "cell_type": "markdown",
   "id": "ac40e5b8-ed1c-43eb-ae48-c8b8d8d4b682",
   "metadata": {
    "jp-MarkdownHeadingCollapsed": true
   },
   "source": [
    "### Decorator Pattern"
   ]
  },
  {
   "cell_type": "markdown",
   "id": "038eda04-43ef-4b25-8445-ea492ed159c4",
   "metadata": {},
   "source": [
    "The Decorator pattern allows behavior to be added to an individual object, dynamically, without affecting the behavior of other objects from the same class. This pattern is often used to adhere to the Single Responsibility Principle.\n",
    "\n",
    "**Example:**\n",
    "\n",
    "```python\n",
    "class Coffee:\n",
    "    def cost(self):\n",
    "        return 5\n",
    "\n",
    "class MilkDecorator:\n",
    "    def __init__(self, coffee):\n",
    "        self._coffee = coffee\n",
    "\n",
    "    def cost(self):\n",
    "        return self._coffee.cost() + 1\n",
    "\n",
    "class SugarDecorator:\n",
    "    def __init__(self, coffee):\n",
    "        self._coffee = coffee\n",
    "\n",
    "    def cost(self):\n",
    "        return self._coffee.cost() + 0.5\n",
    "\n",
    "# Usage\n",
    "coffee = Coffee()\n",
    "milk_coffee = MilkDecorator(coffee)\n",
    "sugar_milk_coffee = SugarDecorator(milk_coffee)\n",
    "print(sugar_milk_coffee.cost())  # Output: 6.5\n",
    "```"
   ]
  },
  {
   "cell_type": "markdown",
   "id": "b6650791-792f-461c-b106-1e6546157f31",
   "metadata": {
    "jp-MarkdownHeadingCollapsed": true
   },
   "source": [
    "## Advanced Topics"
   ]
  },
  {
   "cell_type": "markdown",
   "id": "40dd6c7a-4fa8-43ee-a43f-36ec69746f68",
   "metadata": {
    "jp-MarkdownHeadingCollapsed": true
   },
   "source": [
    "### Metaclasses"
   ]
  },
  {
   "cell_type": "markdown",
   "id": "b74a387b-d053-4a25-9cef-1c9547e14d6e",
   "metadata": {},
   "source": [
    "A metaclass is a class of a class that defines how a class behaves. A class is an instance of a metaclass. Metaclasses allow you to control the creation and behavior of classes in Python.\n",
    "\n",
    "**Example:**\n",
    "\n",
    "```python\n",
    "class Meta(type):\n",
    "    def __new__(cls, name, bases, dct):\n",
    "        print(f\"Creating class {name}\")\n",
    "        return super(Meta, cls).__new__(cls, name, bases, dct)\n",
    "\n",
    "class MyClass(metaclass=Meta):\n",
    "    pass\n",
    "\n",
    "# Usage\n",
    "instance = MyClass()\n",
    "# Output: Creating class MyClass\n",
    "```\n",
    "\n",
    "In this example:\n",
    "- `Meta` is a metaclass that customizes the class creation process by printing a message when a class is created."
   ]
  },
  {
   "cell_type": "markdown",
   "id": "cab7d15f-62d2-4eb6-b8d1-65514b07f6be",
   "metadata": {
    "jp-MarkdownHeadingCollapsed": true
   },
   "source": [
    "### Abstract Base Classes (ABC)"
   ]
  },
  {
   "cell_type": "markdown",
   "id": "3f335d5c-ae92-49a5-8c41-bd41050f6db2",
   "metadata": {},
   "source": [
    "Abstract Base Classes (ABC) are classes that cannot be instantiated and are used to define a common interface for a group of subclasses. They use the `abc` module and the `@abstractmethod` decorator to define abstract methods.\n",
    "\n",
    "**Example:**\n",
    "\n",
    "```python\n",
    "from abc import ABC, abstractmethod\n",
    "\n",
    "class Animal(ABC):\n",
    "    @abstractmethod\n",
    "    def speak(self):\n",
    "        pass\n",
    "\n",
    "class Dog(Animal):\n",
    "    def speak(self):\n",
    "        return \"Woof\"\n",
    "\n",
    "class Cat(Animal):\n",
    "    def speak(self):\n",
    "        return \"Meow\"\n",
    "\n",
    "# Usage\n",
    "dog = Dog()\n",
    "cat = Cat()\n",
    "print(dog.speak())  # Output: Woof\n",
    "print(cat.speak())  # Output: Meow\n",
    "# animal = Animal()  # Raises TypeError: Can't instantiate abstract class Animal with abstract methods speak\n",
    "```\n",
    "\n",
    "In this example:\n",
    "- `Animal` is an abstract base class with an abstract method `speak`.\n",
    "- `Dog` and `Cat` are concrete subclasses that implement the `speak` method."
   ]
  },
  {
   "cell_type": "markdown",
   "id": "f2465489-9dda-4dd6-bc11-4deae8c9df17",
   "metadata": {
    "jp-MarkdownHeadingCollapsed": true
   },
   "source": [
    "### Method Resolution Order (MRO)"
   ]
  },
  {
   "cell_type": "markdown",
   "id": "8a02989c-ddb8-488e-94d4-b30c2fe90596",
   "metadata": {},
   "source": [
    "Method Resolution Order (MRO) is the order in which Python looks for methods in a hierarchy of classes. The `super()` function and the `mro()` method help in understanding and utilizing MRO.\n",
    "\n",
    "**Example:**\n",
    "\n",
    "```python\n",
    "class A:\n",
    "    def method(self):\n",
    "        print(\"A method\")\n",
    "\n",
    "class B(A):\n",
    "    def method(self):\n",
    "        print(\"B method\")\n",
    "        super().method()\n",
    "\n",
    "class C(A):\n",
    "    def method(self):\n",
    "        print(\"C method\")\n",
    "        super().method()\n",
    "\n",
    "class D(B, C):\n",
    "    def method(self):\n",
    "        print(\"D method\")\n",
    "        super().method()\n",
    "\n",
    "# Usage\n",
    "d = D()\n",
    "d.method()\n",
    "# Output:\n",
    "# D method\n",
    "# B method\n",
    "# C method\n",
    "# A method\n",
    "\n",
    "print(D.mro())\n",
    "# Output: [<class '__main__.D'>, <class '__main__.B'>, <class '__main__.C'>, <class '__main__.A'>, <class 'object'>]\n",
    "```\n",
    "\n",
    "In this example:\n",
    "- `D` inherits from `B` and `C`, which both inherit from `A`.\n",
    "- The `super()` function follows the MRO to call the next method in the hierarchy."
   ]
  },
  {
   "cell_type": "markdown",
   "id": "370f8d8b-3e7d-4d08-acbd-cbfb5e8856e8",
   "metadata": {
    "jp-MarkdownHeadingCollapsed": true
   },
   "source": [
    "### Duck Typing"
   ]
  },
  {
   "cell_type": "markdown",
   "id": "a1627f09-e0dd-4d0d-b811-4efe6ef442cc",
   "metadata": {},
   "source": [
    "Duck typing is a concept where the type or the class of an object is less important than the methods it defines. If an object implements the methods required by a class or function, it can be used as an instance of that class or as an argument to that function.\n",
    "\n",
    "**Example:**\n",
    "\n",
    "```python\n",
    "class Bird:\n",
    "    def quack(self):\n",
    "        return \"Quack\"\n",
    "\n",
    "class Duck:\n",
    "    def quack(self):\n",
    "        return \"Quack\"\n",
    "\n",
    "def make_it_quack(duck):\n",
    "    return duck.quack()\n",
    "\n",
    "# Usage\n",
    "bird = Bird()\n",
    "duck = Duck()\n",
    "print(make_it_quack(bird))  # Output: Quack\n",
    "print(make_it_quack(duck))  # Output: Quack\n",
    "```\n",
    "\n",
    "In this example:\n",
    "- Both `Bird` and `Duck` have a `quack` method.\n",
    "- The `make_it_quack` function accepts any object that implements the `quack` method, demonstrating duck typing."
   ]
  }
 ],
 "metadata": {
  "kernelspec": {
   "display_name": "Python 3 (ipykernel)",
   "language": "python",
   "name": "python3"
  },
  "language_info": {
   "codemirror_mode": {
    "name": "ipython",
    "version": 3
   },
   "file_extension": ".py",
   "mimetype": "text/x-python",
   "name": "python",
   "nbconvert_exporter": "python",
   "pygments_lexer": "ipython3",
   "version": "3.12.4"
  }
 },
 "nbformat": 4,
 "nbformat_minor": 5
}
