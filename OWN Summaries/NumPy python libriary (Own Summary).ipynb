{
 "cells": [
  {
   "cell_type": "markdown",
   "id": "82d26ba4-cbc2-499b-9cb5-0cb8adfa87f4",
   "metadata": {
    "jp-MarkdownHeadingCollapsed": true
   },
   "source": [
    "# Introduction"
   ]
  },
  {
   "cell_type": "markdown",
   "id": "70adab34-45c2-4fc8-8da3-4f27f888ff23",
   "metadata": {
    "jp-MarkdownHeadingCollapsed": true
   },
   "source": [
    "## Overview"
   ]
  },
  {
   "cell_type": "markdown",
   "id": "97568d08-f754-4c99-9c18-435d78e46c3d",
   "metadata": {},
   "source": [
    "NumPy (Numerical Python) is a fundamental package for scientific computing in Python. It provides support for large multi-dimensional arrays and matrices, along with a collection of mathematical functions to operate on these arrays. NumPy forms the foundation for most scientific and analytic computing tasks in Python due to its efficiency and the extensive functionality it offers."
   ]
  },
  {
   "cell_type": "markdown",
   "id": "2808010f-c907-4e89-873c-96acd95e7ca9",
   "metadata": {
    "jp-MarkdownHeadingCollapsed": true
   },
   "source": [
    "## Purpose"
   ]
  },
  {
   "cell_type": "markdown",
   "id": "f5922f58-974f-46c5-8ce7-4fa34c2f7cc7",
   "metadata": {},
   "source": [
    "The primary purpose of NumPy is to offer a high-performance, multidimensional array object, as well as tools for working with these arrays. It enables efficient numerical computations, which are essential for a variety of applications, including:\n",
    "\n",
    "- **Data Analysis**: Handling and analyzing large datasets.\n",
    "- **Scientific Research**: Performing complex mathematical and statistical operations.\n",
    "- **Machine Learning**: Serving as the backbone for many machine learning libraries by providing essential array operations.\n",
    "\n",
    "NumPy's integration with other libraries, such as SciPy and Pandas, enhances its functionality and makes it a critical component of the scientific Python ecosystem."
   ]
  },
  {
   "cell_type": "markdown",
   "id": "3c7ee522-d6f5-4edb-8d30-9b3ffeb6ebf0",
   "metadata": {
    "jp-MarkdownHeadingCollapsed": true
   },
   "source": [
    "# Core Concepts"
   ]
  },
  {
   "cell_type": "markdown",
   "id": "6c8af925-119d-416a-baab-d3d62e631d23",
   "metadata": {
    "jp-MarkdownHeadingCollapsed": true
   },
   "source": [
    "## Arrays"
   ]
  },
  {
   "cell_type": "markdown",
   "id": "1e1dbfd1-8efb-4621-9cb0-29cc6ddf2aa6",
   "metadata": {
    "jp-MarkdownHeadingCollapsed": true
   },
   "source": [
    "### N-dimensional Arrays"
   ]
  },
  {
   "cell_type": "markdown",
   "id": "b25c3a39-1ae2-4b1a-b1e2-e02e9eca48f3",
   "metadata": {},
   "source": [
    "| **Concept**        | **Description**                                         | **Example**                                                                                       |\n",
    "|--------------------|---------------------------------------------------------|---------------------------------------------------------------------------------------------------|\n",
    "| **`ndarray`**      | Core object in NumPy, a multi-dimensional array.       | `np.array([1, 2, 3])` (1D)  <!-- 1D array with elements 1, 2, and 3 --> <br> `np.array([[1, 2], [3, 4]])` (2D) <!-- 2D array with 2 rows and 2 columns --> |\n",
    "| **Dimensions**     | Number of axes (or dimensions) in an array.             | 1D: `[1, 2, 3]` <!-- Single axis array --> <br> 2D: `[[1, 2], [3, 4]]` <!-- Two axes (rows and columns) --> <br> 3D: `[[[1, 2], [3, 4]], [[5, 6], [7, 8]]]` <!-- Three axes (depth, rows, columns) --> |\n",
    "| **Shape**          | Tuple representing the size of the array along each dimension. | `(2, 3)` <!-- 2 rows and 3 columns in the array --> |"
   ]
  },
  {
   "cell_type": "markdown",
   "id": "d3d2343d-c206-4d55-9346-dc6c9c92d255",
   "metadata": {
    "jp-MarkdownHeadingCollapsed": true
   },
   "source": [
    "### Array Creation"
   ]
  },
  {
   "cell_type": "markdown",
   "id": "0157772a-6317-49f4-b712-36725cb151df",
   "metadata": {},
   "source": [
    "| **Function**       | **Description**                                       | **Example**                                      |\n",
    "|--------------------|-------------------------------------------------------|--------------------------------------------------|\n",
    "| **`np.array`**     | Create an array from a list or tuple.                 | `np.array([1, 2, 3])` <!-- Creates a 1D array with elements 1, 2, and 3 --> |\n",
    "| **`np.zeros`**     | Create an array filled with zeros.                    | `np.zeros((2, 3))` <!-- Creates a 2x3 array with all elements set to 0 --> |\n",
    "| **`np.ones`**      | Create an array filled with ones.                     | `np.ones((3, 2))` <!-- Creates a 3x2 array with all elements set to 1 --> |\n",
    "| **`np.arange`**    | Create an array with regularly spaced values.         | `np.arange(0, 10, 2)` <!-- Creates an array from 0 to 10 (exclusive) with a step of 2: [0, 2, 4, 6, 8] --> |\n",
    "| **`np.linspace`**  | Create an array with a specified number of evenly spaced values. | `np.linspace(0, 1, 5)` <!-- Creates an array of 5 values evenly spaced between 0 and 1: [0., 0.25, 0.5, 0.75, 1.] --> |"
   ]
  },
  {
   "cell_type": "markdown",
   "id": "2f1066f0-d4b2-4e55-8f6b-f182a439a62e",
   "metadata": {
    "jp-MarkdownHeadingCollapsed": true
   },
   "source": [
    "### Array Attributes"
   ]
  },
  {
   "cell_type": "markdown",
   "id": "4ca0fb9a-86bd-4721-8d54-45e9999e69bb",
   "metadata": {},
   "source": [
    "| **Attribute**      | **Description**                                      | **Example**                                     |\n",
    "|--------------------|------------------------------------------------------|-------------------------------------------------|\n",
    "| **Shape**          | Dimensions of the array.                             | `array.shape` <!-- Returns the shape of the array, e.g., (2, 3) --> |\n",
    "| **Size**           | Total number of elements in the array.               | `array.size` <!-- Returns the total number of elements, e.g., 6 for a 2x3 array --> |\n",
    "| **dtype**          | Data type of the array elements.                     | `array.dtype` <!-- Returns the data type, e.g., int64, float64 --> |\n",
    "| **itemsize**       | Size in bytes of each element.                       | `array.itemsize` <!-- Returns the size in bytes of each element, e.g., 8 bytes for float64 --> |"
   ]
  },
  {
   "cell_type": "markdown",
   "id": "e3924920-9192-4106-945c-10f0a3dd0208",
   "metadata": {
    "jp-MarkdownHeadingCollapsed": true
   },
   "source": [
    "## Array Operations"
   ]
  },
  {
   "cell_type": "markdown",
   "id": "abced41e-cb23-4bbb-8404-3ca6b1c55249",
   "metadata": {
    "jp-MarkdownHeadingCollapsed": true
   },
   "source": [
    "### Indexing and Slicing"
   ]
  },
  {
   "cell_type": "markdown",
   "id": "ead8541e-572d-49ee-bf7b-11d31c6ab194",
   "metadata": {},
   "source": [
    "| **Technique**      | **Description**                                      | **Example**                                    |\n",
    "|--------------------|------------------------------------------------------|------------------------------------------------|\n",
    "| **Indexing**       | Access individual elements using indices.            | `array[0, 1]` <!-- Accesses the element at row 0, column 1 --> |\n",
    "| **Slicing**        | Access subarrays by specifying ranges of indices.     | `array[1:3, 2:4]` <!-- Extracts a subarray from rows 1 to 2 and columns 2 to 3 --> |\n",
    "| **Advanced Indexing** | Use boolean or integer arrays for complex indexing. | `array[array > 5]` <!-- Extracts elements greater than 5 from the array --> |"
   ]
  },
  {
   "cell_type": "markdown",
   "id": "7e5f5aa0-a0db-4300-9c4c-95ff13a87a2c",
   "metadata": {
    "jp-MarkdownHeadingCollapsed": true
   },
   "source": [
    "### Broadcasting"
   ]
  },
  {
   "cell_type": "markdown",
   "id": "ffab172b-b24b-4f36-a507-1759bf65b7b6",
   "metadata": {},
   "source": [
    "| **Rule**           | **Description**                                      | **Example**                                       |\n",
    "|--------------------|------------------------------------------------------|---------------------------------------------------|\n",
    "| **Rule 1**         | Smaller array shape is padded with ones on the left. | Adding scalar: `array + 5` <!-- Adds 5 to each element of the array --> |\n",
    "| **Rule 2**         | Arrays are compatible if shapes are the same or one is 1. | Adding 1D array to 2D array: `array + [1, 2, 3]` <!-- Broadcasts the 1D array across each row of the 2D array --> |"
   ]
  },
  {
   "cell_type": "markdown",
   "id": "f25dcc5a-a487-44bf-871f-9650803fd904",
   "metadata": {
    "jp-MarkdownHeadingCollapsed": true
   },
   "source": [
    "### Mathematical Operations"
   ]
  },
  {
   "cell_type": "markdown",
   "id": "055c281e-431e-4f6b-95d7-b3f1e338f11e",
   "metadata": {},
   "source": [
    "| **Operation**      | **Description**                                      | **Example**                                     |\n",
    "|--------------------|------------------------------------------------------|-------------------------------------------------|\n",
    "| **Basic Arithmetic** | Element-wise addition, subtraction, multiplication, division. | `array1 + array2` <!-- Adds corresponding elements of two arrays --> |\n",
    "| **Statistical Operations** | Mean, median, standard deviation, etc.              | `np.mean(array)` <!-- Computes the mean of the array elements --> |\n",
    "| **Aggregation Functions** | Sum, min, max, etc.                              | `np.sum(array)` <!-- Computes the sum of all elements in the array --> |"
   ]
  },
  {
   "cell_type": "markdown",
   "id": "492d4dca-283c-4b2b-8c68-b44547422eb2",
   "metadata": {},
   "source": []
  },
  {
   "cell_type": "markdown",
   "id": "5aaac6e0-7e47-4cf3-890c-4fe7f88be7ad",
   "metadata": {},
   "source": []
  },
  {
   "cell_type": "markdown",
   "id": "a8c3ebd6-fb03-4423-aaaa-10259c918c5c",
   "metadata": {},
   "source": []
  },
  {
   "cell_type": "markdown",
   "id": "cf3b51cd-b228-4bac-a233-cc975f2d6e67",
   "metadata": {},
   "source": []
  },
  {
   "cell_type": "markdown",
   "id": "4fb70fa9-a903-4fbf-bda1-b3fb04f2ff09",
   "metadata": {},
   "source": []
  },
  {
   "cell_type": "markdown",
   "id": "f4ae55bc-6f00-4ba9-ae53-433a3c940beb",
   "metadata": {},
   "source": []
  },
  {
   "cell_type": "markdown",
   "id": "546fe815-c7d5-4764-bf5e-ba67b29e6821",
   "metadata": {},
   "source": []
  },
  {
   "cell_type": "markdown",
   "id": "9156902d-1097-4a98-8557-8ae2a00ff825",
   "metadata": {},
   "source": []
  },
  {
   "cell_type": "markdown",
   "id": "36af8000-e27a-42e8-8877-8a0095019b00",
   "metadata": {},
   "source": []
  },
  {
   "cell_type": "markdown",
   "id": "6f53d509-3a81-4d90-9a12-d532c1246e69",
   "metadata": {},
   "source": []
  },
  {
   "cell_type": "markdown",
   "id": "060582f8-3e0f-4320-92fb-9ff0cf86fbb6",
   "metadata": {},
   "source": []
  },
  {
   "cell_type": "markdown",
   "id": "a4c61b49-7180-47fe-aa99-6da5b1a21160",
   "metadata": {},
   "source": []
  },
  {
   "cell_type": "markdown",
   "id": "52f69579-3a3a-454e-8228-5e5de675e595",
   "metadata": {},
   "source": []
  },
  {
   "cell_type": "markdown",
   "id": "56f77a32-a229-4a65-8bf9-fa8e53047e41",
   "metadata": {},
   "source": []
  },
  {
   "cell_type": "markdown",
   "id": "07c90a63-3312-41a7-9a60-2460face7de8",
   "metadata": {},
   "source": []
  },
  {
   "cell_type": "markdown",
   "id": "c3ef503d-4a31-4e93-9ca8-ca7f1cebb92f",
   "metadata": {},
   "source": []
  },
  {
   "cell_type": "markdown",
   "id": "a4446bc4-842e-47f8-92c9-aa5ec65dc2e5",
   "metadata": {},
   "source": []
  },
  {
   "cell_type": "markdown",
   "id": "0cd8869f-2065-49e7-bebb-2bf9d1c5ee75",
   "metadata": {
    "jp-MarkdownHeadingCollapsed": true
   },
   "source": [
    "# Advanced Features"
   ]
  },
  {
   "cell_type": "markdown",
   "id": "3de462da-a999-42d6-bc28-5d25ee721aa3",
   "metadata": {
    "jp-MarkdownHeadingCollapsed": true
   },
   "source": [
    "## Array Manipulation"
   ]
  },
  {
   "cell_type": "markdown",
   "id": "fad0fbde-78b2-448e-8e3c-79a8185f7048",
   "metadata": {
    "jp-MarkdownHeadingCollapsed": true
   },
   "source": [
    "### Reshaping"
   ]
  },
  {
   "cell_type": "markdown",
   "id": "927479ee-e3c8-44e4-b4ea-90b8b1410dea",
   "metadata": {},
   "source": [
    "| **Function**       | **Description**                                      | **Example**                                      |\n",
    "|--------------------|------------------------------------------------------|--------------------------------------------------|\n",
    "| **`reshape`**      | Change the shape of an array without changing its data. | `array.reshape((3, 4))` <!-- Reshapes a 1D array into a 3x4 2D array --> |\n",
    "| **`flatten`**      | Flatten a multi-dimensional array into a 1D array.   | `array.flatten()` <!-- Converts a 2D array into a 1D array --> |\n",
    "| **`ravel`**        | Flatten the array and return a contiguous 1D array.   | `array.ravel()` <!-- Similar to flatten, but may return a view --> |"
   ]
  },
  {
   "cell_type": "markdown",
   "id": "5a63633f-f606-45be-9299-c0d18b603c32",
   "metadata": {
    "jp-MarkdownHeadingCollapsed": true
   },
   "source": [
    "### Joining and Splitting"
   ]
  },
  {
   "cell_type": "markdown",
   "id": "ed2e20d7-b80d-4d1c-ae40-15b212ac309c",
   "metadata": {},
   "source": [
    "| **Function**       | **Description**                                      | **Example**                                      |\n",
    "|--------------------|------------------------------------------------------|--------------------------------------------------|\n",
    "| **`concatenate`**  | Join a sequence of arrays along an existing axis.     | `np.concatenate((array1, array2), axis=0)` <!-- Concatenates along rows (axis=0) --> |\n",
    "| **`vstack`**       | Stack arrays vertically (row-wise).                   | `np.vstack((array1, array2))` <!-- Stacks arrays vertically --> |\n",
    "| **`hstack`**       | Stack arrays horizontally (column-wise).              | `np.hstack((array1, array2))` <!-- Stacks arrays horizontally --> |\n",
    "| **`split`**        | Split an array into multiple sub-arrays.              | `np.split(array, 3)` <!-- Splits array into 3 equal parts --> |"
   ]
  },
  {
   "cell_type": "markdown",
   "id": "6f9ed47c-f00d-4760-8de5-f3e1c4153a32",
   "metadata": {
    "jp-MarkdownHeadingCollapsed": true
   },
   "source": [
    "## Linear Algebra"
   ]
  },
  {
   "cell_type": "markdown",
   "id": "cc138f6d-5441-40a5-8344-d643b5d0a4a9",
   "metadata": {
    "jp-MarkdownHeadingCollapsed": true
   },
   "source": [
    "### Matrix Operations"
   ]
  },
  {
   "cell_type": "markdown",
   "id": "8c6a094c-2d00-44ff-b0b2-ad01d6e5bc83",
   "metadata": {},
   "source": [
    "| **Operation**      | **Description**                                      | **Example**                                      |\n",
    "|--------------------|------------------------------------------------------|--------------------------------------------------|\n",
    "| **Matrix Multiplication** | Multiply two matrices.                              | `np.dot(matrix1, matrix2)` or `matrix1 @ matrix2` <!-- Performs matrix multiplication --> |\n",
    "| **Matrix Inversion**     | Compute the inverse of a matrix.                    | `np.linalg.inv(matrix)` <!-- Computes the inverse of a matrix --> |\n",
    "| **Eigenvalues**        | Compute eigenvalues and eigenvectors.                | `np.linalg.eig(matrix)` <!-- Returns eigenvalues and eigenvectors --> |"
   ]
  },
  {
   "cell_type": "markdown",
   "id": "cacaff7e-9d90-466c-81eb-aa7177957f04",
   "metadata": {
    "jp-MarkdownHeadingCollapsed": true
   },
   "source": [
    "### Solving Systems of Equations"
   ]
  },
  {
   "cell_type": "markdown",
   "id": "745623ee-1c14-4674-898f-3489aafcfe8b",
   "metadata": {},
   "source": [
    "| **Method**         | **Description**                                      | **Example**                                      |\n",
    "|--------------------|------------------------------------------------------|--------------------------------------------------|\n",
    "| **`np.linalg.solve`** | Solve a linear matrix equation, or system of linear scalar equations. | `np.linalg.solve(A, b)` <!-- Solves `Ax = b` for x --> |\n",
    "| **`np.linalg.lstsq`** | Compute the least-squares solution to a linear matrix equation. | `np.linalg.lstsq(A, b, rcond=None)` <!-- Computes the least-squares solution to `Ax = b` --> |"
   ]
  },
  {
   "cell_type": "markdown",
   "id": "92d833b1-9b4f-463d-bc1e-5c2b89e758f9",
   "metadata": {
    "jp-MarkdownHeadingCollapsed": true
   },
   "source": [
    "## Random Module"
   ]
  },
  {
   "cell_type": "markdown",
   "id": "9f379167-fa38-4a88-92bc-610062bb6117",
   "metadata": {
    "jp-MarkdownHeadingCollapsed": true
   },
   "source": [
    "### Generating Random Numbers"
   ]
  },
  {
   "cell_type": "markdown",
   "id": "51fe3352-a5c1-41d6-86d0-efd626823894",
   "metadata": {},
   "source": [
    "| **Function**       | **Description**                                      | **Example**                                      |\n",
    "|--------------------|------------------------------------------------------|--------------------------------------------------|\n",
    "| **`rand`**         | Generate random numbers from a uniform distribution. | `np.random.rand(3, 2)` <!-- Generates a 3x2 array with random numbers between 0 and 1 --> |\n",
    "| **`randint`**      | Generate random integers within a specified range.  | `np.random.randint(0, 10, size=(3, 2))` <!-- Generates a 3x2 array with random integers from 0 to 9 --> |\n",
    "| **`normal`**       | Generate random numbers from a normal distribution. | `np.random.normal(loc=0, scale=1, size=(3, 2))` <!-- Generates a 3x2 array with numbers from a normal distribution --> |"
   ]
  },
  {
   "cell_type": "markdown",
   "id": "efdc0b10-d04b-4752-934f-e74cf4d81ac3",
   "metadata": {
    "jp-MarkdownHeadingCollapsed": true
   },
   "source": [
    "### Seed Setting"
   ]
  },
  {
   "cell_type": "markdown",
   "id": "8a9399da-4db7-4209-8572-ded0a8dd3bc1",
   "metadata": {},
   "source": [
    "| **Function**       | **Description**                                      | **Example**                                      |\n",
    "|--------------------|------------------------------------------------------|--------------------------------------------------|\n",
    "| **`seed`**         | Seed the random number generator for reproducibility. | `np.random.seed(42)` <!-- Sets the seed for reproducibility --> |"
   ]
  },
  {
   "cell_type": "markdown",
   "id": "280fa6c9-2c09-4ca2-b20c-e9aaf32ead65",
   "metadata": {
    "jp-MarkdownHeadingCollapsed": true
   },
   "source": [
    "# Performance"
   ]
  },
  {
   "cell_type": "markdown",
   "id": "f21d6c19-b5f2-4514-835a-6b95102edc04",
   "metadata": {
    "jp-MarkdownHeadingCollapsed": true
   },
   "source": [
    "## Vectorization"
   ]
  },
  {
   "cell_type": "markdown",
   "id": "c01f98d0-9525-4264-a540-5fc0f029c09b",
   "metadata": {
    "jp-MarkdownHeadingCollapsed": true
   },
   "source": [
    "### Advantages"
   ]
  },
  {
   "cell_type": "markdown",
   "id": "81c855f0-95a5-47c6-a7a0-e692727bd217",
   "metadata": {},
   "source": [
    "| **Benefit**        | **Description**                                      |\n",
    "|--------------------|------------------------------------------------------|\n",
    "| **Efficiency**     | Vectorized operations are typically much faster than loops because they leverage optimized low-level implementations. |\n",
    "| **Readability**    | Code using vectorized operations is often more concise and easier to read compared to equivalent loop-based code. |\n",
    "| **Parallelism**    | Vectorized operations can take advantage of parallel processing capabilities of modern CPUs and GPUs. |"
   ]
  },
  {
   "cell_type": "markdown",
   "id": "8ac0c22d-f3bf-4919-9be1-67573def7069",
   "metadata": {
    "jp-MarkdownHeadingCollapsed": true
   },
   "source": [
    "### Examples"
   ]
  },
  {
   "cell_type": "markdown",
   "id": "19428949-f351-483d-ba1e-ff02713ef57e",
   "metadata": {},
   "source": [
    "| **Function**       | **Description**                                      | **Example**                                      |\n",
    "|--------------------|------------------------------------------------------|--------------------------------------------------|\n",
    "| **`np.sum`**       | Compute the sum of array elements.                   | `np.sum(array)` <!-- Sums all elements of the array --> |\n",
    "| **`np.mean`**      | Compute the mean of array elements.                  | `np.mean(array)` <!-- Calculates the mean of the array elements --> |\n",
    "| **`np.dot`**       | Perform matrix multiplication.                       | `np.dot(matrix1, matrix2)` <!-- Multiplies two matrices --> |"
   ]
  },
  {
   "cell_type": "markdown",
   "id": "e8a7c931-3dbb-46ea-b7cf-1cc733e4be60",
   "metadata": {
    "jp-MarkdownHeadingCollapsed": true
   },
   "source": [
    "## Integration with Other Libraries"
   ]
  },
  {
   "cell_type": "markdown",
   "id": "fb578914-945d-4e81-a590-db1d0cf87ff5",
   "metadata": {
    "jp-MarkdownHeadingCollapsed": true
   },
   "source": [
    "### SciPy"
   ]
  },
  {
   "cell_type": "markdown",
   "id": "fad02824-d589-43e5-964e-a2e2fbef0007",
   "metadata": {},
   "source": [
    "| **Library**        | **Description**                                      | **Example**                                      |\n",
    "|--------------------|------------------------------------------------------|--------------------------------------------------|\n",
    "| **SciPy**          | Provides additional functionality for scientific computations, building on top of NumPy. | `from scipy.optimize import minimize` <!-- Example of using SciPy for optimization tasks --> |"
   ]
  },
  {
   "cell_type": "markdown",
   "id": "3e7dfef3-9132-4165-944b-7221cf25317e",
   "metadata": {
    "jp-MarkdownHeadingCollapsed": true
   },
   "source": [
    "### Pandas"
   ]
  },
  {
   "cell_type": "markdown",
   "id": "72f815bd-daa6-4af6-a7f4-4c81b26353d8",
   "metadata": {},
   "source": [
    "| **Library**        | **Description**                                      | **Example**                                      |\n",
    "|--------------------|------------------------------------------------------|--------------------------------------------------|\n",
    "| **Pandas**         | Used for data manipulation and analysis, often in conjunction with NumPy arrays. | `import pandas as pd` <br> `df = pd.DataFrame(array)` <!-- Example of creating a DataFrame from a NumPy array --> |"
   ]
  },
  {
   "cell_type": "markdown",
   "id": "232d420a-e09f-43a8-b363-bfe0cc8620bf",
   "metadata": {
    "jp-MarkdownHeadingCollapsed": true
   },
   "source": [
    "# Best Practices"
   ]
  },
  {
   "cell_type": "markdown",
   "id": "92dadcf1-3464-4d2d-b589-023d4554f5f4",
   "metadata": {
    "jp-MarkdownHeadingCollapsed": true
   },
   "source": [
    "## Efficient Computation"
   ]
  },
  {
   "cell_type": "markdown",
   "id": "2bb25d63-aba0-4a41-bc8b-9c369c3c2f3b",
   "metadata": {},
   "source": [
    "| **Tip**               | **Description**                                      | **Example**                                      |\n",
    "|-----------------------|------------------------------------------------------|--------------------------------------------------|\n",
    "| **Use Vectorized Operations** | Replace Python loops with NumPy's vectorized functions for faster execution. | `np.sum(array)` <!-- Use `np.sum` instead of a loop to sum array elements --> |\n",
    "| **Preallocate Arrays** | Allocate memory for arrays in advance to avoid resizing during computation. | `array = np.zeros((1000, 1000))` <!-- Preallocate a large array instead of appending to it --> |\n",
    "| **Avoid Loops Where Possible** | Leverage NumPy's built-in functions and avoid Python loops for large datasets. | `np.mean(array)` <!-- Use `np.mean` to calculate the mean of the array directly --> |\n",
    "| **Use In-place Operations** | Modify arrays in place when possible to save memory and improve performance. | `array += 5` <!-- Adds 5 to each element of the array in place --> |\n",
    "| **Utilize Broadcasting** | Take advantage of NumPy's broadcasting rules to perform operations on arrays of different shapes efficiently. | `array + scalar` <!-- Adds a scalar to each element of the array efficiently using broadcasting --> |"
   ]
  },
  {
   "cell_type": "markdown",
   "id": "8e2b23ae-39ee-4f9a-b71a-8c4adfb60257",
   "metadata": {
    "jp-MarkdownHeadingCollapsed": true
   },
   "source": [
    "## Memory Management"
   ]
  },
  {
   "cell_type": "markdown",
   "id": "0a6db02b-9548-4b5f-a9be-ca53556cb777",
   "metadata": {},
   "source": [
    "| **Consideration**    | **Description**                                      | **Example**                                      |\n",
    "|----------------------|------------------------------------------------------|--------------------------------------------------|\n",
    "| **Use Data Types Wisely** | Choose appropriate data types to reduce memory usage. | `np.array(array, dtype=np.float32)` <!-- Use `float32` instead of `float64` if precision allows --> |\n",
    "| **Chunk Processing** | Process large datasets in chunks to avoid memory overflow. | `for chunk in np.array_split(large_array, num_chunks):` <!-- Split a large array into smaller chunks for processing --> |\n",
    "| **Delete Unused Variables** | Explicitly delete variables that are no longer needed to free up memory. | `del large_array` <!-- Deletes the variable `large_array` when it's no longer needed --> |\n",
    "| **Use Memory-Mapped Files** | Utilize memory-mapped files for large arrays that do not fit into memory. | `np.memmap('large_file.dat', dtype=np.float64, mode='r', shape=(10000, 10000))` <!-- Accesses large data files efficiently without loading them into memory --> |\n",
    "| **Monitor Memory Usage** | Regularly check memory usage during computations to prevent overuse. | `import resource` <br> `resource.getrusage(resource.RUSAGE_SELF).ru_maxrss` <!-- Monitors the maximum resident set size (memory usage) --> |"
   ]
  },
  {
   "cell_type": "markdown",
   "id": "da39cdcb-75de-47f7-bca6-0ed4d2030f2e",
   "metadata": {
    "jp-MarkdownHeadingCollapsed": true
   },
   "source": [
    "# Summary of Operations, Methods, and Functions"
   ]
  },
  {
   "cell_type": "markdown",
   "id": "b6b4678f-ab59-4370-93ec-24e3444beef8",
   "metadata": {
    "jp-MarkdownHeadingCollapsed": true
   },
   "source": [
    "## Array Creation"
   ]
  },
  {
   "cell_type": "markdown",
   "id": "e6356a7d-3e3b-496c-9f65-e895850057e6",
   "metadata": {},
   "source": [
    "| **Function**       | **Description**                                      | **Example**                                      |\n",
    "|--------------------|------------------------------------------------------|--------------------------------------------------|\n",
    "| **`np.array`**     | Create an array from a list or tuple.               | `np.array([1, 2, 3])` <!-- Creates a 1D array --> |\n",
    "| **`np.zeros`**     | Create an array filled with zeros.                  | `np.zeros((2, 3))` <!-- Creates a 2x3 array of zeros --> |\n",
    "| **`np.ones`**      | Create an array filled with ones.                   | `np.ones((3, 2))` <!-- Creates a 3x2 array of ones --> |\n",
    "| **`np.arange`**    | Create an array with regularly spaced values.       | `np.arange(0, 10, 2)` <!-- Creates an array from 0 to 10 with a step of 2 --> |\n",
    "| **`np.linspace`**  | Create an array with evenly spaced values.           | `np.linspace(0, 1, 5)` <!-- Creates an array of 5 values from 0 to 1 --> |"
   ]
  },
  {
   "cell_type": "markdown",
   "id": "51813ea9-1590-48ef-85fa-e93d301b1c2b",
   "metadata": {
    "jp-MarkdownHeadingCollapsed": true
   },
   "source": [
    "## Array Attributes"
   ]
  },
  {
   "cell_type": "markdown",
   "id": "aad0b3fc-47ca-436b-82cb-90fdac091e6e",
   "metadata": {},
   "source": [
    "| **Attribute**      | **Description**                                      | **Example**                                      |\n",
    "|--------------------|------------------------------------------------------|--------------------------------------------------|\n",
    "| **`shape`**        | Tuple representing the dimensions of the array.     | `array.shape` <!-- Returns (2, 3) for a 2x3 array --> |\n",
    "| **`size`**         | Total number of elements in the array.              | `array.size` <!-- Returns 6 for a 2x3 array --> |\n",
    "| **`dtype`**        | Data type of the array elements.                    | `array.dtype` <!-- Returns dtype('int64') for integer array --> |\n",
    "| **`itemsize`**     | Size in bytes of each element.                      | `array.itemsize` <!-- Returns 8 for dtype('float64') --> |"
   ]
  },
  {
   "cell_type": "markdown",
   "id": "64e5a5e3-d617-49ea-9420-9668ef0bed49",
   "metadata": {
    "jp-MarkdownHeadingCollapsed": true
   },
   "source": [
    "## Array Operations"
   ]
  },
  {
   "cell_type": "markdown",
   "id": "d44e2779-3101-49c0-9d6b-f7759522e874",
   "metadata": {},
   "source": [
    "| **Operation**      | **Description**                                      | **Example**                                      |\n",
    "|--------------------|------------------------------------------------------|--------------------------------------------------|\n",
    "| **Indexing**       | Access individual elements.                         | `array[0, 1]` <!-- Accesses the element at row 0, column 1 --> |\n",
    "| **Slicing**        | Access subarrays by specifying ranges.               | `array[1:3, 2:4]` <!-- Extracts a subarray from rows 1 to 2 and columns 2 to 3 --> |\n",
    "| **Broadcasting**   | Apply operations on arrays of different shapes.     | `array + scalar` <!-- Adds scalar to each element of the array --> |\n",
    "| **Arithmetic**     | Perform element-wise arithmetic operations.         | `array1 + array2` <!-- Adds corresponding elements of two arrays --> |\n",
    "| **Statistical**    | Compute statistics such as mean, median, etc.      | `np.mean(array)` <!-- Computes the mean of the array elements --> |\n",
    "| **Aggregation**    | Aggregate functions such as sum, min, max.         | `np.sum(array)` <!-- Computes the sum of all elements --> |"
   ]
  },
  {
   "cell_type": "markdown",
   "id": "17b18b8b-3a7e-400c-8e13-95cacc6d152b",
   "metadata": {
    "jp-MarkdownHeadingCollapsed": true
   },
   "source": [
    "## Array Manipulation"
   ]
  },
  {
   "cell_type": "markdown",
   "id": "ffe18635-cf85-400e-8918-44951cfe5342",
   "metadata": {},
   "source": [
    "| **Function**       | **Description**                                      | **Example**                                      |\n",
    "|--------------------|------------------------------------------------------|--------------------------------------------------|\n",
    "| **`reshape`**      | Change the shape of an array.                       | `array.reshape((3, 4))` <!-- Reshapes a 1D array to 3x4 2D array --> |\n",
    "| **`flatten`**      | Convert a multi-dimensional array to 1D.             | `array.flatten()` <!-- Flattens a 2D array to 1D array --> |\n",
    "| **`ravel`**        | Return a contiguous flattened array.                | `array.ravel()` <!-- Similar to flatten but may return a view --> |\n",
    "| **`concatenate`**  | Join arrays along an existing axis.                  | `np.concatenate((array1, array2), axis=0)` <!-- Concatenates arrays along rows --> |\n",
    "| **`vstack`**       | Stack arrays vertically.                             | `np.vstack((array1, array2))` <!-- Stacks arrays on top of each other --> |\n",
    "| **`hstack`**       | Stack arrays horizontally.                           | `np.hstack((array1, array2))` <!-- Stacks arrays side by side --> |\n",
    "| **`split`**        | Split an array into multiple sub-arrays.             | `np.split(array, 3)` <!-- Splits array into 3 parts --> |"
   ]
  },
  {
   "cell_type": "markdown",
   "id": "74d7fcb0-6a97-4c5b-aee4-44580328a40c",
   "metadata": {
    "jp-MarkdownHeadingCollapsed": true
   },
   "source": [
    "## Linear Algebra"
   ]
  },
  {
   "cell_type": "markdown",
   "id": "026acd08-110d-415c-ac58-a26e4836617c",
   "metadata": {},
   "source": [
    "| **Function**       | **Description**                                      | **Example**                                      |\n",
    "|--------------------|------------------------------------------------------|--------------------------------------------------|\n",
    "| **`np.dot`**       | Matrix multiplication.                              | `np.dot(matrix1, matrix2)` <!-- Performs matrix multiplication --> |\n",
    "| **`np.linalg.inv`**| Compute the inverse of a matrix.                    | `np.linalg.inv(matrix)` <!-- Computes the inverse of a matrix --> |\n",
    "| **`np.linalg.eig`**| Compute eigenvalues and eigenvectors.                | `np.linalg.eig(matrix)` <!-- Returns eigenvalues and eigenvectors --> |\n",
    "| **`np.linalg.solve`** | Solve linear matrix equations.                     | `np.linalg.solve(A, b)` <!-- Solves `Ax = b` for x --> |\n",
    "| **`np.linalg.lstsq`** | Least-squares solution to linear equations.        | `np.linalg.lstsq(A, b, rcond=None)` <!-- Computes least-squares solution to `Ax = b` --> |"
   ]
  },
  {
   "cell_type": "markdown",
   "id": "1a317f7a-0b81-472c-8ec2-baa966a02ac3",
   "metadata": {
    "jp-MarkdownHeadingCollapsed": true
   },
   "source": [
    "## Random Module"
   ]
  },
  {
   "cell_type": "markdown",
   "id": "08784775-0911-4993-a8cd-f327132db0c3",
   "metadata": {},
   "source": [
    "| **Function**       | **Description**                                      | **Example**                                      |\n",
    "|--------------------|------------------------------------------------------|--------------------------------------------------|\n",
    "| **`np.random.rand`** | Generate random numbers from a uniform distribution. | `np.random.rand(3, 2)` <!-- Generates 3x2 array with random values between 0 and 1 --> |\n",
    "| **`np.random.randint`** | Generate random integers within a specified range. | `np.random.randint(0, 10, size=(3, 2))` <!-- Generates 3x2 array with random integers from 0 to 9 --> |\n",
    "| **`np.random.normal`** | Generate random numbers from a normal distribution. | `np.random.normal(loc=0, scale=1, size=(3, 2))` <!-- Generates 3x2 array from a normal distribution --> |"
   ]
  },
  {
   "cell_type": "markdown",
   "id": "cb03c43a-3dd3-401b-b484-4fe59b122bb6",
   "metadata": {
    "jp-MarkdownHeadingCollapsed": true
   },
   "source": [
    "## Seed Setting"
   ]
  },
  {
   "cell_type": "markdown",
   "id": "b99ea2d4-884a-49c9-ba96-4134946d5774",
   "metadata": {},
   "source": [
    "| **Function**       | **Description**                                      | **Example**                                      |\n",
    "|--------------------|------------------------------------------------------|--------------------------------------------------|\n",
    "| **`np.random.seed`** | Seed the random number generator.                   | `np.random.seed(42)` <!-- Sets seed for reproducibility --> |"
   ]
  }
 ],
 "metadata": {
  "kernelspec": {
   "display_name": "Python 3 (ipykernel)",
   "language": "python",
   "name": "python3"
  },
  "language_info": {
   "codemirror_mode": {
    "name": "ipython",
    "version": 3
   },
   "file_extension": ".py",
   "mimetype": "text/x-python",
   "name": "python",
   "nbconvert_exporter": "python",
   "pygments_lexer": "ipython3",
   "version": "3.11.7"
  }
 },
 "nbformat": 4,
 "nbformat_minor": 5
}
